{
 "cells": [
  {
   "cell_type": "markdown",
   "id": "ecbdbcc5",
   "metadata": {},
   "source": [
    "### Now that we have a fully cleaned dataframe, we can start building out our model"
   ]
  },
  {
   "cell_type": "code",
   "execution_count": 309,
   "id": "1a0dbff2",
   "metadata": {},
   "outputs": [],
   "source": [
    "import numpy as np\n",
    "import pandas as pd\n",
    "from sklearn.linear_model import Ridge, LinearRegression\n",
    "from sklearn.metrics import mean_squared_error\n",
    "from sklearn.ensemble import RandomForestRegressor\n",
    "from sklearn.ensemble import GradientBoostingRegressor\n",
    "import xgboost as xgb\n",
    "from sklearn import svm\n",
    "import plotly.express as px\n",
    "import joblib\n",
    "import dill                            \n",
    "filepath = 'rf_session_7-7.pkl'\n",
    "dill.load_session(filepath)\n",
    "import joblib\n",
    "joblib_file = \"joblib_RF_Model.pkl\"  \n",
    "newest_rf = joblib.load(joblib_file) # This is with voter fatigue as well which has the lowest MSE and the highest APK"
   ]
  },
  {
   "cell_type": "code",
   "execution_count": 47,
   "id": "6461f8e9",
   "metadata": {},
   "outputs": [],
   "source": [
    "\"\"\"Imported functions from ml_metrics library\"\"\"\n",
    "\n",
    "def apk(actual, predicted, k=10):\n",
    "    \"\"\"\n",
    "    Computes the average precision at k.\n",
    "\n",
    "    This function computes the average prescision at k between two lists of\n",
    "    items.\n",
    "\n",
    "    Parameters\n",
    "    ----------\n",
    "    actual : list\n",
    "             A list of elements that are to be predicted (order doesn't matter)\n",
    "    predicted : list\n",
    "                A list of predicted elements (order does matter)\n",
    "    k : int, optional\n",
    "        The maximum number of predicted elements\n",
    "\n",
    "    Returns\n",
    "    -------\n",
    "    score : double\n",
    "            The average precision at k over the input lists\n",
    "\n",
    "    \"\"\"\n",
    "    if len(predicted)>k:\n",
    "        predicted = predicted[:k]\n",
    "\n",
    "    score = 0.0\n",
    "    num_hits = 0.0\n",
    "\n",
    "    for i,p in enumerate(predicted):\n",
    "        if p in actual and p not in predicted[:i]:\n",
    "            num_hits += 1.0\n",
    "            score += num_hits / (i+1.0)\n",
    "\n",
    "    if not actual:\n",
    "        return 0.0\n",
    "\n",
    "    return score / min(len(actual), k)\n",
    "\n",
    "def mapk(actual, predicted, k=10):\n",
    "    \"\"\"\n",
    "    Computes the mean average precision at k.\n",
    "\n",
    "    This function computes the mean average prescision at k between two lists\n",
    "    of lists of items.\n",
    "\n",
    "    Parameters\n",
    "    ----------\n",
    "    actual : list\n",
    "             A list of lists of elements that are to be predicted \n",
    "             (order doesn't matter in the lists)\n",
    "    predicted : list\n",
    "                A list of lists of predicted elements\n",
    "                (order matters in the lists)\n",
    "    k : int, optional\n",
    "        The maximum number of predicted elements\n",
    "\n",
    "    Returns\n",
    "    -------\n",
    "    score : double\n",
    "            The mean average precision at k over the input lists\n",
    "\n",
    "    \"\"\"\n",
    "    return np.mean([apk(a,p,k) for a,p in zip(actual, predicted)])"
   ]
  },
  {
   "cell_type": "code",
   "execution_count": 48,
   "id": "6f57325f",
   "metadata": {},
   "outputs": [],
   "source": [
    "mvp_df = pd.read_csv(\"all_player_mvp_stats.csv\")"
   ]
  },
  {
   "cell_type": "code",
   "execution_count": 49,
   "id": "2dbeccdf",
   "metadata": {},
   "outputs": [],
   "source": [
    "# Dropping previous index as well as Tm since redundant with Team and\n",
    "# Hornets have two different abbreviations\n",
    "mvp_df = mvp_df.drop([\"Unnamed: 0\", \"Tm\"], axis=1)"
   ]
  },
  {
   "cell_type": "code",
   "execution_count": 50,
   "id": "83a5d01d",
   "metadata": {},
   "outputs": [],
   "source": [
    "years = list(range(1980, 2024))"
   ]
  },
  {
   "cell_type": "code",
   "execution_count": null,
   "id": "61840a15",
   "metadata": {},
   "outputs": [],
   "source": [
    "\"\"\"\n",
    "Function in progress\n",
    "\n",
    "mvp_df[\"Previous MVP's Won\"] = 0\n",
    "for year in years:\n",
    "    year_winner = mvp_df[mvp_df[\"Year\"] == year].sort_values(\"Share\", ascending=False).iloc[:1][\"Player\"].item()\n",
    "    years_after_winning_for_player = mvp_df[(mvp_df[\"Player\"] == year_winner) & (mvp_df[\"Year\"] > year)]\n",
    "    years_after_index = years_after_winning_for_player.index.values.tolist()\n",
    "    mvp_df.loc[years_after_index, [\"Previous MVP's Won\"]] += 1\n",
    "    \n",
    "\"\"\""
   ]
  },
  {
   "cell_type": "code",
   "execution_count": null,
   "id": "464a7d2c",
   "metadata": {},
   "outputs": [],
   "source": [
    "# This in progress as well\n",
    "\"\"\"jordan = mvp_df[mvp_df[\"Player\"] == \"Michael Jordan\"]\n",
    "jordan[[\"Player\", \"Year\", \"Previous MVP's Won\"]]\"\"\""
   ]
  },
  {
   "cell_type": "code",
   "execution_count": 51,
   "id": "799407b4",
   "metadata": {},
   "outputs": [],
   "source": [
    "# setting up everything for our variables\n",
    "# Removed qualitative variables like Team as well as Year\n",
    "predictors = ['Age', 'G', 'GS', 'MP', 'FG', 'FGA', 'FG%', '3P',\n",
    "       '3PA', '3P%', '2P', '2PA', '2P%', 'eFG%', 'FT', 'FTA', 'FT%', 'ORB',\n",
    "       'DRB', 'TRB', 'AST', 'STL', 'BLK', 'TOV', 'PF', 'PTS', 'PER',\n",
    "       'TS%', '3PAr', 'FTr', 'ORB%', 'DRB%', 'TRB%', 'AST%', 'STL%', 'BLK%',\n",
    "       'TOV%', 'USG%', 'OWS', 'DWS', 'WS', 'WS/48', 'OBPM', 'DBPM', 'BPM',\n",
    "       'VORP', 'W', 'L', 'W/L%', 'GB',\n",
    "       'PS/G', 'PA/G', 'SRS']"
   ]
  },
  {
   "cell_type": "code",
   "execution_count": 52,
   "id": "eb96ccfa",
   "metadata": {},
   "outputs": [],
   "source": [
    "train = mvp_df[mvp_df[\"Year\"] < 2023]\n",
    "test = mvp_df[mvp_df[\"Year\"] == 2023]"
   ]
  },
  {
   "cell_type": "code",
   "execution_count": 53,
   "id": "8ecfe3c3",
   "metadata": {},
   "outputs": [],
   "source": [
    "X_train = train[predictors]\n",
    "y_train = train[\"Share\"]\n",
    "\n",
    "X_test = test[predictors]\n",
    "y_test = test[\"Share\"]"
   ]
  },
  {
   "cell_type": "code",
   "execution_count": 54,
   "id": "3968589f",
   "metadata": {},
   "outputs": [],
   "source": [
    "# Setting up first model (Ridge Regression)\n",
    "\n",
    "reg = Ridge(alpha=.1)\n",
    "reg.fit(X_train, y_train)\n",
    "ridge_predictions = reg.predict(X_test)"
   ]
  },
  {
   "cell_type": "code",
   "execution_count": 55,
   "id": "1b6fb67a",
   "metadata": {},
   "outputs": [
    {
     "data": {
      "text/html": [
       "<div>\n",
       "<style scoped>\n",
       "    .dataframe tbody tr th:only-of-type {\n",
       "        vertical-align: middle;\n",
       "    }\n",
       "\n",
       "    .dataframe tbody tr th {\n",
       "        vertical-align: top;\n",
       "    }\n",
       "\n",
       "    .dataframe thead th {\n",
       "        text-align: right;\n",
       "    }\n",
       "</style>\n",
       "<table border=\"1\" class=\"dataframe\">\n",
       "  <thead>\n",
       "    <tr style=\"text-align: right;\">\n",
       "      <th></th>\n",
       "      <th>MVP Share Predictions</th>\n",
       "    </tr>\n",
       "  </thead>\n",
       "  <tbody>\n",
       "    <tr>\n",
       "      <th>7312</th>\n",
       "      <td>0.018240</td>\n",
       "    </tr>\n",
       "    <tr>\n",
       "      <th>7313</th>\n",
       "      <td>0.029694</td>\n",
       "    </tr>\n",
       "    <tr>\n",
       "      <th>7314</th>\n",
       "      <td>0.029982</td>\n",
       "    </tr>\n",
       "    <tr>\n",
       "      <th>7315</th>\n",
       "      <td>0.223518</td>\n",
       "    </tr>\n",
       "    <tr>\n",
       "      <th>7316</th>\n",
       "      <td>-0.010886</td>\n",
       "    </tr>\n",
       "    <tr>\n",
       "      <th>...</th>\n",
       "      <td>...</td>\n",
       "    </tr>\n",
       "    <tr>\n",
       "      <th>18695</th>\n",
       "      <td>-0.017917</td>\n",
       "    </tr>\n",
       "    <tr>\n",
       "      <th>18696</th>\n",
       "      <td>0.005571</td>\n",
       "    </tr>\n",
       "    <tr>\n",
       "      <th>18697</th>\n",
       "      <td>-0.017361</td>\n",
       "    </tr>\n",
       "    <tr>\n",
       "      <th>18698</th>\n",
       "      <td>-0.021624</td>\n",
       "    </tr>\n",
       "    <tr>\n",
       "      <th>18699</th>\n",
       "      <td>-0.010540</td>\n",
       "    </tr>\n",
       "  </tbody>\n",
       "</table>\n",
       "<p>539 rows × 1 columns</p>\n",
       "</div>"
      ],
      "text/plain": [
       "       MVP Share Predictions\n",
       "7312                0.018240\n",
       "7313                0.029694\n",
       "7314                0.029982\n",
       "7315                0.223518\n",
       "7316               -0.010886\n",
       "...                      ...\n",
       "18695              -0.017917\n",
       "18696               0.005571\n",
       "18697              -0.017361\n",
       "18698              -0.021624\n",
       "18699              -0.010540\n",
       "\n",
       "[539 rows x 1 columns]"
      ]
     },
     "execution_count": 55,
     "metadata": {},
     "output_type": "execute_result"
    }
   ],
   "source": [
    "# Converting to df to be cleaner\n",
    "ridge_df = pd.DataFrame(ridge_predictions,\n",
    "                                 columns=[\"MVP Share Predictions\"],\n",
    "                                 index=X_test.index)\n",
    "ridge_df"
   ]
  },
  {
   "cell_type": "code",
   "execution_count": 56,
   "id": "2dbcf904",
   "metadata": {},
   "outputs": [
    {
     "data": {
      "text/html": [
       "<div>\n",
       "<style scoped>\n",
       "    .dataframe tbody tr th:only-of-type {\n",
       "        vertical-align: middle;\n",
       "    }\n",
       "\n",
       "    .dataframe tbody tr th {\n",
       "        vertical-align: top;\n",
       "    }\n",
       "\n",
       "    .dataframe thead th {\n",
       "        text-align: right;\n",
       "    }\n",
       "</style>\n",
       "<table border=\"1\" class=\"dataframe\">\n",
       "  <thead>\n",
       "    <tr style=\"text-align: right;\">\n",
       "      <th></th>\n",
       "      <th>Player</th>\n",
       "      <th>Share</th>\n",
       "      <th>MVP Share Predictions</th>\n",
       "    </tr>\n",
       "  </thead>\n",
       "  <tbody>\n",
       "    <tr>\n",
       "      <th>7315</th>\n",
       "      <td>Giannis Antetokounmpo</td>\n",
       "      <td>0.606</td>\n",
       "      <td>0.223518</td>\n",
       "    </tr>\n",
       "    <tr>\n",
       "      <th>7823</th>\n",
       "      <td>Nikola Jokić</td>\n",
       "      <td>0.674</td>\n",
       "      <td>0.223000</td>\n",
       "    </tr>\n",
       "    <tr>\n",
       "      <th>7407</th>\n",
       "      <td>Luka Dončić</td>\n",
       "      <td>0.010</td>\n",
       "      <td>0.193656</td>\n",
       "    </tr>\n",
       "    <tr>\n",
       "      <th>18517</th>\n",
       "      <td>Joel Embiid</td>\n",
       "      <td>0.915</td>\n",
       "      <td>0.174440</td>\n",
       "    </tr>\n",
       "    <tr>\n",
       "      <th>10690</th>\n",
       "      <td>Domantas Sabonis</td>\n",
       "      <td>0.027</td>\n",
       "      <td>0.130161</td>\n",
       "    </tr>\n",
       "    <tr>\n",
       "      <th>9535</th>\n",
       "      <td>Jayson Tatum</td>\n",
       "      <td>0.280</td>\n",
       "      <td>0.129465</td>\n",
       "    </tr>\n",
       "    <tr>\n",
       "      <th>8336</th>\n",
       "      <td>Shai Gilgeous-Alexander</td>\n",
       "      <td>0.046</td>\n",
       "      <td>0.120248</td>\n",
       "    </tr>\n",
       "    <tr>\n",
       "      <th>18693</th>\n",
       "      <td>Julius Randle</td>\n",
       "      <td>0.000</td>\n",
       "      <td>0.114498</td>\n",
       "    </tr>\n",
       "    <tr>\n",
       "      <th>13991</th>\n",
       "      <td>LeBron James</td>\n",
       "      <td>0.000</td>\n",
       "      <td>0.110243</td>\n",
       "    </tr>\n",
       "    <tr>\n",
       "      <th>16768</th>\n",
       "      <td>Ja Morant</td>\n",
       "      <td>0.001</td>\n",
       "      <td>0.107225</td>\n",
       "    </tr>\n",
       "    <tr>\n",
       "      <th>13681</th>\n",
       "      <td>Damian Lillard</td>\n",
       "      <td>0.000</td>\n",
       "      <td>0.100364</td>\n",
       "    </tr>\n",
       "    <tr>\n",
       "      <th>13984</th>\n",
       "      <td>Anthony Davis</td>\n",
       "      <td>0.000</td>\n",
       "      <td>0.094242</td>\n",
       "    </tr>\n",
       "    <tr>\n",
       "      <th>15559</th>\n",
       "      <td>Jimmy Butler</td>\n",
       "      <td>0.003</td>\n",
       "      <td>0.093691</td>\n",
       "    </tr>\n",
       "    <tr>\n",
       "      <th>12631</th>\n",
       "      <td>Stephen Curry</td>\n",
       "      <td>0.005</td>\n",
       "      <td>0.078849</td>\n",
       "    </tr>\n",
       "    <tr>\n",
       "      <th>17623</th>\n",
       "      <td>Donovan Mitchell</td>\n",
       "      <td>0.030</td>\n",
       "      <td>0.076788</td>\n",
       "    </tr>\n",
       "    <tr>\n",
       "      <th>15964</th>\n",
       "      <td>Kevin Durant</td>\n",
       "      <td>0.000</td>\n",
       "      <td>0.072739</td>\n",
       "    </tr>\n",
       "    <tr>\n",
       "      <th>17995</th>\n",
       "      <td>Pascal Siakam</td>\n",
       "      <td>0.000</td>\n",
       "      <td>0.069931</td>\n",
       "    </tr>\n",
       "    <tr>\n",
       "      <th>10557</th>\n",
       "      <td>Nikola Vučević</td>\n",
       "      <td>0.000</td>\n",
       "      <td>0.064673</td>\n",
       "    </tr>\n",
       "    <tr>\n",
       "      <th>14088</th>\n",
       "      <td>Kristaps Porziņģis</td>\n",
       "      <td>0.000</td>\n",
       "      <td>0.064496</td>\n",
       "    </tr>\n",
       "    <tr>\n",
       "      <th>18516</th>\n",
       "      <td>James Harden</td>\n",
       "      <td>0.000</td>\n",
       "      <td>0.062816</td>\n",
       "    </tr>\n",
       "  </tbody>\n",
       "</table>\n",
       "</div>"
      ],
      "text/plain": [
       "                        Player  Share  MVP Share Predictions\n",
       "7315     Giannis Antetokounmpo  0.606               0.223518\n",
       "7823              Nikola Jokić  0.674               0.223000\n",
       "7407               Luka Dončić  0.010               0.193656\n",
       "18517              Joel Embiid  0.915               0.174440\n",
       "10690         Domantas Sabonis  0.027               0.130161\n",
       "9535              Jayson Tatum  0.280               0.129465\n",
       "8336   Shai Gilgeous-Alexander  0.046               0.120248\n",
       "18693            Julius Randle  0.000               0.114498\n",
       "13991             LeBron James  0.000               0.110243\n",
       "16768                Ja Morant  0.001               0.107225\n",
       "13681           Damian Lillard  0.000               0.100364\n",
       "13984            Anthony Davis  0.000               0.094242\n",
       "15559             Jimmy Butler  0.003               0.093691\n",
       "12631            Stephen Curry  0.005               0.078849\n",
       "17623         Donovan Mitchell  0.030               0.076788\n",
       "15964             Kevin Durant  0.000               0.072739\n",
       "17995            Pascal Siakam  0.000               0.069931\n",
       "10557           Nikola Vučević  0.000               0.064673\n",
       "14088       Kristaps Porziņģis  0.000               0.064496\n",
       "18516             James Harden  0.000               0.062816"
      ]
     },
     "execution_count": 56,
     "metadata": {},
     "output_type": "execute_result"
    }
   ],
   "source": [
    "ridge_combination = pd.concat([test[[\"Player\", \"Share\"]], ridge_df], axis = 1)\n",
    "ridge_combination.sort_values(\"MVP Share Predictions\", ascending=False).head(20)"
   ]
  },
  {
   "cell_type": "code",
   "execution_count": 57,
   "id": "1d2e3c1e",
   "metadata": {},
   "outputs": [],
   "source": [
    "# generalize this later for all types of models\n",
    "# outputs two new columns: Rank and Predicted Rank\n",
    "\n",
    "def convert_to_ranks(df, actual_share_col, predicted_share_col):\n",
    "    ranked_df = df.copy(deep=True)\n",
    "    ranked_df[\"Rank\"] = df[actual_share_col].rank(method=\"min\", ascending=False)\n",
    "    ranked_df[\"Predicted Rank\"] = df[predicted_share_col].rank(method=\"min\", ascending=False)\n",
    "    return ranked_df.sort_values(\"Rank\")"
   ]
  },
  {
   "cell_type": "code",
   "execution_count": 58,
   "id": "ce156cc1",
   "metadata": {},
   "outputs": [],
   "source": [
    "# create an error metric function that is based on ranking since\n",
    "# most players' MVP share is 0\n",
    "# assumption is table looks like ridge_combination\n",
    "# with cols: Player, Share, MVP Share Predictions\n",
    "# outdated not using the convert_to_ranks function but not useful\n",
    "def find_ap(df, actual_share_col, predicted_share_col, num):\n",
    "    actual_ranking = df.sort_values(actual_share_col, ascending=False).head(num)\n",
    "    actual_ranking[\"Rank\"] = list(range(1, actual_ranking.shape[0] + 1))\n",
    "    predicted_ranking = df.sort_values(predicted_share_col, ascending=False)\n",
    "    predicted_ranking[\"Pred_Rank\"] = list(range(1, predicted_ranking.shape[0] + 1))\n",
    "    abs_diff = 0\n",
    "    for index, row in actual_ranking.iterrows():\n",
    "        player_name = row[\"Player\"]\n",
    "        predicted_player_row = predicted_ranking[\n",
    "            predicted_ranking[\"Player\"] == player_name]\n",
    "        abs_diff += abs(row[\"Rank\"] - predicted_player_row[\"Pred_Rank\"].values[0])\n",
    "    return abs_diff"
   ]
  },
  {
   "cell_type": "code",
   "execution_count": 59,
   "id": "2b5db605",
   "metadata": {},
   "outputs": [],
   "source": [
    "\"\"\"\n",
    "Finding mean square error\n",
    "\n",
    "This will give you a measure of the overall discrepancy or difference in ranks between the two for the top 10 MVP\n",
    "candidates.\n",
    "\n",
    "Input is a ranked dataframe after applying the convert_to_ranks function.\n",
    "\"\"\"\n",
    "\n",
    "def get_mse_top_10(ranked_df, num=10):\n",
    "    top_n_df = ranked_df.head(num)\n",
    "    return mean_squared_error(top_n_df[\"Rank\"].to_numpy(), top_n_df[\"Predicted Rank\"].to_numpy(), squared=True)"
   ]
  },
  {
   "cell_type": "code",
   "execution_count": 60,
   "id": "187d8f14",
   "metadata": {},
   "outputs": [],
   "source": [
    "\"\"\"\n",
    "Determine the AP@K (Average Precision at K) for your predicted ranking. \n",
    "\n",
    "Interested in top n since those are the MVP finalists. AP@K will provide an assessment\n",
    "of the precision and correctness of your predicted ranking for the top candidates.\n",
    "\n",
    "Input is a ranked dataframe after applying the convert_to_ranks function.\n",
    "\"\"\"\n",
    "\n",
    "def get_apk_n(ranked_df, k):\n",
    "    top_k_actual = ranked_df[\"Player\"][:k]\n",
    "    top_k_predicted = ranked_df.sort_values(\"Predicted Rank\")[\"Player\"][:k]\n",
    "    return apk(top_k_actual.tolist(), top_k_predicted.tolist(), 5)"
   ]
  },
  {
   "cell_type": "code",
   "execution_count": 61,
   "id": "a8d7d235",
   "metadata": {},
   "outputs": [],
   "source": [
    "\"\"\" \n",
    "Combines both of our metrics together to provide a clean look at how our model does \n",
    "in these two important criteria. \"\"\"\n",
    "\n",
    "def evaluate_model(df, actual_share_col, predicted_share_col, k):\n",
    "    combined_df = convert_to_ranks(df, actual_share_col, predicted_share_col)\n",
    "    \n",
    "    #return combined_df\n",
    "    mse = get_mse_top_10(combined_df)\n",
    "    apk = get_apk_n(combined_df, k)\n",
    "    \n",
    "    return [mse, apk]\n",
    "    "
   ]
  },
  {
   "cell_type": "code",
   "execution_count": 62,
   "id": "1d72d31b",
   "metadata": {},
   "outputs": [],
   "source": [
    "def print_model_results(mse, apk, k):\n",
    "    print(\"Mean Squared Error:\", mse)\n",
    "    print(\"Average Precision at\", str(k) + \":\", apk)"
   ]
  },
  {
   "cell_type": "code",
   "execution_count": 63,
   "id": "da108f6b",
   "metadata": {},
   "outputs": [
    {
     "name": "stdout",
     "output_type": "stream",
     "text": [
      "Mean Squared Error: 16.5\n",
      "Average Precision at 5: 0.55\n"
     ]
    }
   ],
   "source": [
    "# Final output for evaluating how our model did on the two key metrics\n",
    "naive_results = evaluate_model(ridge_combination, \"Share\", \"MVP Share Predictions\", 5)\n",
    "print_model_results(naive_results[0], naive_results[1], 5)"
   ]
  },
  {
   "cell_type": "markdown",
   "id": "f2f485c6",
   "metadata": {},
   "source": [
    "## Backtesting"
   ]
  },
  {
   "cell_type": "code",
   "execution_count": 64,
   "id": "e663be03",
   "metadata": {},
   "outputs": [],
   "source": [
    "# Following along, we make a function to find the biggest differences each year\n",
    "# inside code we run function of convert_to_ranks\n",
    "def difference_in_rank(ranked_df):\n",
    "    ranked_df[\"Difference\"] = ranked_df[\"Rank\"] - ranked_df[\"Predicted Rank\"]\n",
    "    return ranked_df"
   ]
  },
  {
   "cell_type": "code",
   "execution_count": 106,
   "id": "435a62ef",
   "metadata": {},
   "outputs": [],
   "source": [
    "def model_prediction(df, year, model, predictors):\n",
    "    train = df[df[\"Year\"] < year]\n",
    "    test = df[df[\"Year\"] == year]\n",
    "    \n",
    "    X_train = train[predictors]\n",
    "    y_train = train[\"Share\"]\n",
    "    X_test = test[predictors]\n",
    "    y_test = test[\"Share\"]\n",
    "    \n",
    "    model.fit(X_train, y_train)\n",
    "    model_predictions = model.predict(X_test) # predict for testing set (the current year starting w 2005)\n",
    "\n",
    "    model_df = pd.DataFrame(model_predictions,\n",
    "                                     columns=[\"MVP Share Predictions\"],\n",
    "                                     index=X_test.index) # putting predictions into a dataframe\n",
    "\n",
    "    model_combination = pd.concat([test[[\"Player\", \"Share\"]],\n",
    "                                          model_df], axis = 1) # concatenating predictions with the players and their MVP share\n",
    "    return model_combination"
   ]
  },
  {
   "cell_type": "code",
   "execution_count": 120,
   "id": "f5cdfc9a",
   "metadata": {},
   "outputs": [],
   "source": [
    "\"\"\"\n",
    "Creating a backtesting function to run all the code we did and put it in a loop\n",
    "\"\"\"\n",
    "def backtest(orig_df, model_bt, timeframe, predictors, normalizing=False, voteFatigue=True):\n",
    "    \"\"\"\n",
    "    Looping through years (starting with 2005 because we need at least 5 years of data to come up with a model)\n",
    "    Then making predictions for every year based off previous traine data\n",
    "    The more years we can train on, the more data our algorithm can build off to make accurate predictions\n",
    "    \"\"\"\n",
    "\n",
    "    all_predictions = [] # list of dataframes holding our predictions for every year\n",
    "    mse_ar = []\n",
    "    apk_ar = []\n",
    "    \n",
    "    df = orig_df.copy(deep=True)\n",
    "    \n",
    "    \n",
    "    if normalizing: # if our data needs to be normalized (for certain models where scaling is important)\n",
    "        predictors_plus_year = predictors.copy()\n",
    "        predictors_plus_year.append(\"Year\")\n",
    "        df[predictors] = df[predictors_plus_year].groupby(\"Year\").transform(lambda x: (x-np.mean(x, axis=0))/np.std(x, ddof=1))\n",
    "    \n",
    "    if voteFatigue:\n",
    "        df = add_previous_mvps(df, years)\n",
    "        predictors = add_previous_mvp_as_predictor(predictors)\n",
    "\n",
    "    for year in timeframe[5:]:\n",
    "        model_bt_combination = model_prediction(df, year, model_bt, predictors)\n",
    "\n",
    "        combined_bt_df = convert_to_ranks(model_bt_combination, \"Share\", \"MVP Share Predictions\") # adding actual and predicted rank into list\n",
    "        with_differences = difference_in_rank(combined_bt_df) # adding difference between actual and predicted rank\n",
    "        with_differences[\"Year\"] = year # adding year to add more information to overall dataframe\n",
    "        \n",
    "        all_predictions.append(with_differences) # appending predictions to outer list\n",
    "\n",
    "        mse_ar.append(get_mse_top_10(combined_bt_df))\n",
    "        apk_ar.append(get_apk_n(combined_bt_df, 5))\n",
    "        \n",
    "    return ((sum(mse_ar) / len(mse_ar)), mse_ar, (sum(apk_ar) / len(apk_ar)), apk_ar, pd.concat(all_predictions))"
   ]
  },
  {
   "cell_type": "code",
   "execution_count": 90,
   "id": "60c72671",
   "metadata": {},
   "outputs": [],
   "source": [
    "normalized_avg_mse, normalized_mse_ar, normalized_avg_apk, normalized_apk_ar, normalized_all_predictions = backtest(mvp_df, reg, years, predictors, normalizing=True)"
   ]
  },
  {
   "cell_type": "code",
   "execution_count": 68,
   "id": "37aa64f8",
   "metadata": {},
   "outputs": [],
   "source": [
    "avg_mse, mse_ar, avg_apk, apk_ar, all_predictions = backtest(mvp_df, reg, years, predictors)"
   ]
  },
  {
   "cell_type": "code",
   "execution_count": 73,
   "id": "c2fa809c",
   "metadata": {},
   "outputs": [
    {
     "data": {
      "text/html": [
       "<div>\n",
       "<style scoped>\n",
       "    .dataframe tbody tr th:only-of-type {\n",
       "        vertical-align: middle;\n",
       "    }\n",
       "\n",
       "    .dataframe tbody tr th {\n",
       "        vertical-align: top;\n",
       "    }\n",
       "\n",
       "    .dataframe thead th {\n",
       "        text-align: right;\n",
       "    }\n",
       "</style>\n",
       "<table border=\"1\" class=\"dataframe\">\n",
       "  <thead>\n",
       "    <tr style=\"text-align: right;\">\n",
       "      <th></th>\n",
       "      <th>Player</th>\n",
       "      <th>Share</th>\n",
       "      <th>MVP Share Predictions</th>\n",
       "      <th>Rank</th>\n",
       "      <th>Predicted Rank</th>\n",
       "      <th>Difference</th>\n",
       "      <th>Year</th>\n",
       "    </tr>\n",
       "  </thead>\n",
       "  <tbody>\n",
       "    <tr>\n",
       "      <th>11655</th>\n",
       "      <td>Steve Nash</td>\n",
       "      <td>0.739</td>\n",
       "      <td>0.063870</td>\n",
       "      <td>1.0</td>\n",
       "      <td>28.0</td>\n",
       "      <td>-27.0</td>\n",
       "      <td>2006</td>\n",
       "    </tr>\n",
       "    <tr>\n",
       "      <th>11637</th>\n",
       "      <td>Steve Nash</td>\n",
       "      <td>0.839</td>\n",
       "      <td>0.063994</td>\n",
       "      <td>1.0</td>\n",
       "      <td>26.0</td>\n",
       "      <td>-25.0</td>\n",
       "      <td>2005</td>\n",
       "    </tr>\n",
       "    <tr>\n",
       "      <th>13213</th>\n",
       "      <td>Kobe Bryant</td>\n",
       "      <td>0.873</td>\n",
       "      <td>0.134348</td>\n",
       "      <td>1.0</td>\n",
       "      <td>8.0</td>\n",
       "      <td>-7.0</td>\n",
       "      <td>2008</td>\n",
       "    </tr>\n",
       "    <tr>\n",
       "      <th>8117</th>\n",
       "      <td>Allen Iverson</td>\n",
       "      <td>0.904</td>\n",
       "      <td>0.158878</td>\n",
       "      <td>1.0</td>\n",
       "      <td>7.0</td>\n",
       "      <td>-6.0</td>\n",
       "      <td>2001</td>\n",
       "    </tr>\n",
       "    <tr>\n",
       "      <th>12546</th>\n",
       "      <td>Stephen Curry</td>\n",
       "      <td>0.922</td>\n",
       "      <td>0.155176</td>\n",
       "      <td>1.0</td>\n",
       "      <td>6.0</td>\n",
       "      <td>-5.0</td>\n",
       "      <td>2015</td>\n",
       "    </tr>\n",
       "    <tr>\n",
       "      <th>18517</th>\n",
       "      <td>Joel Embiid</td>\n",
       "      <td>0.915</td>\n",
       "      <td>0.191927</td>\n",
       "      <td>1.0</td>\n",
       "      <td>4.0</td>\n",
       "      <td>-3.0</td>\n",
       "      <td>2023</td>\n",
       "    </tr>\n",
       "    <tr>\n",
       "      <th>6518</th>\n",
       "      <td>Charles Barkley</td>\n",
       "      <td>0.852</td>\n",
       "      <td>0.209451</td>\n",
       "      <td>1.0</td>\n",
       "      <td>4.0</td>\n",
       "      <td>-3.0</td>\n",
       "      <td>1993</td>\n",
       "    </tr>\n",
       "    <tr>\n",
       "      <th>12059</th>\n",
       "      <td>Stephen Curry</td>\n",
       "      <td>1.000</td>\n",
       "      <td>0.187479</td>\n",
       "      <td>1.0</td>\n",
       "      <td>3.0</td>\n",
       "      <td>-2.0</td>\n",
       "      <td>2016</td>\n",
       "    </tr>\n",
       "    <tr>\n",
       "      <th>17262</th>\n",
       "      <td>Derrick Rose</td>\n",
       "      <td>0.977</td>\n",
       "      <td>0.172064</td>\n",
       "      <td>1.0</td>\n",
       "      <td>3.0</td>\n",
       "      <td>-2.0</td>\n",
       "      <td>2011</td>\n",
       "    </tr>\n",
       "    <tr>\n",
       "      <th>21</th>\n",
       "      <td>Magic Johnson</td>\n",
       "      <td>0.940</td>\n",
       "      <td>0.226794</td>\n",
       "      <td>1.0</td>\n",
       "      <td>3.0</td>\n",
       "      <td>-2.0</td>\n",
       "      <td>1987</td>\n",
       "    </tr>\n",
       "    <tr>\n",
       "      <th>6452</th>\n",
       "      <td>Hakeem Olajuwon</td>\n",
       "      <td>0.880</td>\n",
       "      <td>0.236836</td>\n",
       "      <td>1.0</td>\n",
       "      <td>2.0</td>\n",
       "      <td>-1.0</td>\n",
       "      <td>1994</td>\n",
       "    </tr>\n",
       "    <tr>\n",
       "      <th>16532</th>\n",
       "      <td>Giannis Antetokounmpo</td>\n",
       "      <td>0.932</td>\n",
       "      <td>0.241018</td>\n",
       "      <td>1.0</td>\n",
       "      <td>2.0</td>\n",
       "      <td>-1.0</td>\n",
       "      <td>2019</td>\n",
       "    </tr>\n",
       "    <tr>\n",
       "      <th>8089</th>\n",
       "      <td>James Harden</td>\n",
       "      <td>0.955</td>\n",
       "      <td>0.243929</td>\n",
       "      <td>1.0</td>\n",
       "      <td>2.0</td>\n",
       "      <td>-1.0</td>\n",
       "      <td>2018</td>\n",
       "    </tr>\n",
       "    <tr>\n",
       "      <th>5160</th>\n",
       "      <td>Larry Bird</td>\n",
       "      <td>0.981</td>\n",
       "      <td>0.310796</td>\n",
       "      <td>1.0</td>\n",
       "      <td>2.0</td>\n",
       "      <td>-1.0</td>\n",
       "      <td>1986</td>\n",
       "    </tr>\n",
       "    <tr>\n",
       "      <th>5227</th>\n",
       "      <td>Michael Jordan</td>\n",
       "      <td>0.934</td>\n",
       "      <td>0.242588</td>\n",
       "      <td>1.0</td>\n",
       "      <td>2.0</td>\n",
       "      <td>-1.0</td>\n",
       "      <td>1998</td>\n",
       "    </tr>\n",
       "  </tbody>\n",
       "</table>\n",
       "</div>"
      ],
      "text/plain": [
       "                      Player  Share  MVP Share Predictions  Rank  \\\n",
       "11655             Steve Nash  0.739               0.063870   1.0   \n",
       "11637             Steve Nash  0.839               0.063994   1.0   \n",
       "13213            Kobe Bryant  0.873               0.134348   1.0   \n",
       "8117           Allen Iverson  0.904               0.158878   1.0   \n",
       "12546          Stephen Curry  0.922               0.155176   1.0   \n",
       "18517            Joel Embiid  0.915               0.191927   1.0   \n",
       "6518         Charles Barkley  0.852               0.209451   1.0   \n",
       "12059          Stephen Curry  1.000               0.187479   1.0   \n",
       "17262           Derrick Rose  0.977               0.172064   1.0   \n",
       "21             Magic Johnson  0.940               0.226794   1.0   \n",
       "6452         Hakeem Olajuwon  0.880               0.236836   1.0   \n",
       "16532  Giannis Antetokounmpo  0.932               0.241018   1.0   \n",
       "8089            James Harden  0.955               0.243929   1.0   \n",
       "5160              Larry Bird  0.981               0.310796   1.0   \n",
       "5227          Michael Jordan  0.934               0.242588   1.0   \n",
       "\n",
       "       Predicted Rank  Difference  Year  \n",
       "11655            28.0       -27.0  2006  \n",
       "11637            26.0       -25.0  2005  \n",
       "13213             8.0        -7.0  2008  \n",
       "8117              7.0        -6.0  2001  \n",
       "12546             6.0        -5.0  2015  \n",
       "18517             4.0        -3.0  2023  \n",
       "6518              4.0        -3.0  1993  \n",
       "12059             3.0        -2.0  2016  \n",
       "17262             3.0        -2.0  2011  \n",
       "21                3.0        -2.0  1987  \n",
       "6452              2.0        -1.0  1994  \n",
       "16532             2.0        -1.0  2019  \n",
       "8089              2.0        -1.0  2018  \n",
       "5160              2.0        -1.0  1986  \n",
       "5227              2.0        -1.0  1998  "
      ]
     },
     "execution_count": 73,
     "metadata": {},
     "output_type": "execute_result"
    }
   ],
   "source": [
    "# Made it to 35:22 on Part 3\n",
    "normalized_all_predictions[normalized_all_predictions[\"Rank\"] <=1].sort_values(\"Difference\", ascending=True).head(15)"
   ]
  },
  {
   "cell_type": "code",
   "execution_count": 74,
   "id": "18cb75aa",
   "metadata": {},
   "outputs": [
    {
     "data": {
      "text/html": [
       "<div>\n",
       "<style scoped>\n",
       "    .dataframe tbody tr th:only-of-type {\n",
       "        vertical-align: middle;\n",
       "    }\n",
       "\n",
       "    .dataframe tbody tr th {\n",
       "        vertical-align: top;\n",
       "    }\n",
       "\n",
       "    .dataframe thead th {\n",
       "        text-align: right;\n",
       "    }\n",
       "</style>\n",
       "<table border=\"1\" class=\"dataframe\">\n",
       "  <thead>\n",
       "    <tr style=\"text-align: right;\">\n",
       "      <th></th>\n",
       "      <th>0</th>\n",
       "      <th>1</th>\n",
       "    </tr>\n",
       "  </thead>\n",
       "  <tbody>\n",
       "    <tr>\n",
       "      <th>13</th>\n",
       "      <td>0.175850</td>\n",
       "      <td>eFG%</td>\n",
       "    </tr>\n",
       "    <tr>\n",
       "      <th>48</th>\n",
       "      <td>0.063229</td>\n",
       "      <td>W/L%</td>\n",
       "    </tr>\n",
       "    <tr>\n",
       "      <th>18</th>\n",
       "      <td>0.026699</td>\n",
       "      <td>DRB</td>\n",
       "    </tr>\n",
       "    <tr>\n",
       "      <th>45</th>\n",
       "      <td>0.026132</td>\n",
       "      <td>VORP</td>\n",
       "    </tr>\n",
       "    <tr>\n",
       "      <th>16</th>\n",
       "      <td>0.020692</td>\n",
       "      <td>FT%</td>\n",
       "    </tr>\n",
       "    <tr>\n",
       "      <th>15</th>\n",
       "      <td>0.019090</td>\n",
       "      <td>FTA</td>\n",
       "    </tr>\n",
       "    <tr>\n",
       "      <th>41</th>\n",
       "      <td>0.018811</td>\n",
       "      <td>WS/48</td>\n",
       "    </tr>\n",
       "    <tr>\n",
       "      <th>10</th>\n",
       "      <td>0.015288</td>\n",
       "      <td>2P</td>\n",
       "    </tr>\n",
       "    <tr>\n",
       "      <th>5</th>\n",
       "      <td>0.014575</td>\n",
       "      <td>FGA</td>\n",
       "    </tr>\n",
       "    <tr>\n",
       "      <th>23</th>\n",
       "      <td>0.011459</td>\n",
       "      <td>TOV</td>\n",
       "    </tr>\n",
       "    <tr>\n",
       "      <th>32</th>\n",
       "      <td>0.008726</td>\n",
       "      <td>TRB%</td>\n",
       "    </tr>\n",
       "    <tr>\n",
       "      <th>38</th>\n",
       "      <td>0.008302</td>\n",
       "      <td>OWS</td>\n",
       "    </tr>\n",
       "    <tr>\n",
       "      <th>17</th>\n",
       "      <td>0.007321</td>\n",
       "      <td>ORB</td>\n",
       "    </tr>\n",
       "    <tr>\n",
       "      <th>44</th>\n",
       "      <td>0.005965</td>\n",
       "      <td>BPM</td>\n",
       "    </tr>\n",
       "    <tr>\n",
       "      <th>39</th>\n",
       "      <td>0.003375</td>\n",
       "      <td>DWS</td>\n",
       "    </tr>\n",
       "    <tr>\n",
       "      <th>24</th>\n",
       "      <td>0.002654</td>\n",
       "      <td>PF</td>\n",
       "    </tr>\n",
       "    <tr>\n",
       "      <th>8</th>\n",
       "      <td>0.000906</td>\n",
       "      <td>3PA</td>\n",
       "    </tr>\n",
       "    <tr>\n",
       "      <th>50</th>\n",
       "      <td>0.000369</td>\n",
       "      <td>PS/G</td>\n",
       "    </tr>\n",
       "    <tr>\n",
       "      <th>49</th>\n",
       "      <td>0.000304</td>\n",
       "      <td>GB</td>\n",
       "    </tr>\n",
       "    <tr>\n",
       "      <th>26</th>\n",
       "      <td>0.000084</td>\n",
       "      <td>PER</td>\n",
       "    </tr>\n",
       "    <tr>\n",
       "      <th>1</th>\n",
       "      <td>0.000051</td>\n",
       "      <td>G</td>\n",
       "    </tr>\n",
       "    <tr>\n",
       "      <th>36</th>\n",
       "      <td>0.000050</td>\n",
       "      <td>TOV%</td>\n",
       "    </tr>\n",
       "    <tr>\n",
       "      <th>0</th>\n",
       "      <td>0.000015</td>\n",
       "      <td>Age</td>\n",
       "    </tr>\n",
       "    <tr>\n",
       "      <th>2</th>\n",
       "      <td>-0.000044</td>\n",
       "      <td>GS</td>\n",
       "    </tr>\n",
       "    <tr>\n",
       "      <th>33</th>\n",
       "      <td>-0.000083</td>\n",
       "      <td>AST%</td>\n",
       "    </tr>\n",
       "    <tr>\n",
       "      <th>46</th>\n",
       "      <td>-0.000298</td>\n",
       "      <td>W</td>\n",
       "    </tr>\n",
       "    <tr>\n",
       "      <th>47</th>\n",
       "      <td>-0.000392</td>\n",
       "      <td>L</td>\n",
       "    </tr>\n",
       "    <tr>\n",
       "      <th>51</th>\n",
       "      <td>-0.000426</td>\n",
       "      <td>PA/G</td>\n",
       "    </tr>\n",
       "    <tr>\n",
       "      <th>34</th>\n",
       "      <td>-0.001037</td>\n",
       "      <td>STL%</td>\n",
       "    </tr>\n",
       "    <tr>\n",
       "      <th>37</th>\n",
       "      <td>-0.001057</td>\n",
       "      <td>USG%</td>\n",
       "    </tr>\n",
       "    <tr>\n",
       "      <th>22</th>\n",
       "      <td>-0.001083</td>\n",
       "      <td>BLK</td>\n",
       "    </tr>\n",
       "    <tr>\n",
       "      <th>35</th>\n",
       "      <td>-0.001211</td>\n",
       "      <td>BLK%</td>\n",
       "    </tr>\n",
       "    <tr>\n",
       "      <th>20</th>\n",
       "      <td>-0.001933</td>\n",
       "      <td>AST</td>\n",
       "    </tr>\n",
       "    <tr>\n",
       "      <th>52</th>\n",
       "      <td>-0.002636</td>\n",
       "      <td>SRS</td>\n",
       "    </tr>\n",
       "    <tr>\n",
       "      <th>12</th>\n",
       "      <td>-0.003075</td>\n",
       "      <td>2P%</td>\n",
       "    </tr>\n",
       "    <tr>\n",
       "      <th>4</th>\n",
       "      <td>-0.003330</td>\n",
       "      <td>FG</td>\n",
       "    </tr>\n",
       "    <tr>\n",
       "      <th>3</th>\n",
       "      <td>-0.003738</td>\n",
       "      <td>MP</td>\n",
       "    </tr>\n",
       "    <tr>\n",
       "      <th>7</th>\n",
       "      <td>-0.003827</td>\n",
       "      <td>3P</td>\n",
       "    </tr>\n",
       "    <tr>\n",
       "      <th>30</th>\n",
       "      <td>-0.003992</td>\n",
       "      <td>ORB%</td>\n",
       "    </tr>\n",
       "    <tr>\n",
       "      <th>43</th>\n",
       "      <td>-0.004709</td>\n",
       "      <td>DBPM</td>\n",
       "    </tr>\n",
       "    <tr>\n",
       "      <th>31</th>\n",
       "      <td>-0.005143</td>\n",
       "      <td>DRB%</td>\n",
       "    </tr>\n",
       "    <tr>\n",
       "      <th>40</th>\n",
       "      <td>-0.005385</td>\n",
       "      <td>WS</td>\n",
       "    </tr>\n",
       "    <tr>\n",
       "      <th>9</th>\n",
       "      <td>-0.006480</td>\n",
       "      <td>3P%</td>\n",
       "    </tr>\n",
       "    <tr>\n",
       "      <th>42</th>\n",
       "      <td>-0.007059</td>\n",
       "      <td>OBPM</td>\n",
       "    </tr>\n",
       "    <tr>\n",
       "      <th>11</th>\n",
       "      <td>-0.007764</td>\n",
       "      <td>2PA</td>\n",
       "    </tr>\n",
       "    <tr>\n",
       "      <th>25</th>\n",
       "      <td>-0.009764</td>\n",
       "      <td>PTS</td>\n",
       "    </tr>\n",
       "    <tr>\n",
       "      <th>14</th>\n",
       "      <td>-0.010272</td>\n",
       "      <td>FT</td>\n",
       "    </tr>\n",
       "    <tr>\n",
       "      <th>21</th>\n",
       "      <td>-0.012158</td>\n",
       "      <td>STL</td>\n",
       "    </tr>\n",
       "    <tr>\n",
       "      <th>29</th>\n",
       "      <td>-0.014527</td>\n",
       "      <td>FTr</td>\n",
       "    </tr>\n",
       "    <tr>\n",
       "      <th>28</th>\n",
       "      <td>-0.018213</td>\n",
       "      <td>3PAr</td>\n",
       "    </tr>\n",
       "    <tr>\n",
       "      <th>19</th>\n",
       "      <td>-0.018478</td>\n",
       "      <td>TRB</td>\n",
       "    </tr>\n",
       "    <tr>\n",
       "      <th>27</th>\n",
       "      <td>-0.059459</td>\n",
       "      <td>TS%</td>\n",
       "    </tr>\n",
       "    <tr>\n",
       "      <th>6</th>\n",
       "      <td>-0.122903</td>\n",
       "      <td>FG%</td>\n",
       "    </tr>\n",
       "  </tbody>\n",
       "</table>\n",
       "</div>"
      ],
      "text/plain": [
       "           0      1\n",
       "13  0.175850   eFG%\n",
       "48  0.063229   W/L%\n",
       "18  0.026699    DRB\n",
       "45  0.026132   VORP\n",
       "16  0.020692    FT%\n",
       "15  0.019090    FTA\n",
       "41  0.018811  WS/48\n",
       "10  0.015288     2P\n",
       "5   0.014575    FGA\n",
       "23  0.011459    TOV\n",
       "32  0.008726   TRB%\n",
       "38  0.008302    OWS\n",
       "17  0.007321    ORB\n",
       "44  0.005965    BPM\n",
       "39  0.003375    DWS\n",
       "24  0.002654     PF\n",
       "8   0.000906    3PA\n",
       "50  0.000369   PS/G\n",
       "49  0.000304     GB\n",
       "26  0.000084    PER\n",
       "1   0.000051      G\n",
       "36  0.000050   TOV%\n",
       "0   0.000015    Age\n",
       "2  -0.000044     GS\n",
       "33 -0.000083   AST%\n",
       "46 -0.000298      W\n",
       "47 -0.000392      L\n",
       "51 -0.000426   PA/G\n",
       "34 -0.001037   STL%\n",
       "37 -0.001057   USG%\n",
       "22 -0.001083    BLK\n",
       "35 -0.001211   BLK%\n",
       "20 -0.001933    AST\n",
       "52 -0.002636    SRS\n",
       "12 -0.003075    2P%\n",
       "4  -0.003330     FG\n",
       "3  -0.003738     MP\n",
       "7  -0.003827     3P\n",
       "30 -0.003992   ORB%\n",
       "43 -0.004709   DBPM\n",
       "31 -0.005143   DRB%\n",
       "40 -0.005385     WS\n",
       "9  -0.006480    3P%\n",
       "42 -0.007059   OBPM\n",
       "11 -0.007764    2PA\n",
       "25 -0.009764    PTS\n",
       "14 -0.010272     FT\n",
       "21 -0.012158    STL\n",
       "29 -0.014527    FTr\n",
       "28 -0.018213   3PAr\n",
       "19 -0.018478    TRB\n",
       "27 -0.059459    TS%\n",
       "6  -0.122903    FG%"
      ]
     },
     "execution_count": 74,
     "metadata": {},
     "output_type": "execute_result"
    }
   ],
   "source": [
    "pd.concat([pd.Series(reg.coef_), pd.Series(predictors)], axis=1).sort_values(0, ascending=False)"
   ]
  },
  {
   "cell_type": "markdown",
   "id": "c341588a",
   "metadata": {},
   "source": [
    "## Trying Random Forest"
   ]
  },
  {
   "cell_type": "code",
   "execution_count": 75,
   "id": "0afda769",
   "metadata": {},
   "outputs": [],
   "source": [
    "rf = RandomForestRegressor(n_estimators=100, random_state=42, min_samples_split=5)"
   ]
  },
  {
   "cell_type": "code",
   "execution_count": 68,
   "id": "e34758e2",
   "metadata": {},
   "outputs": [],
   "source": [
    "def add_previous_mvps(df, years):\n",
    "    mvp_with_previous_df = mvp_df.copy(deep=True)\n",
    "    mvp_with_previous_df[\"Previous MVP's Won\"] = 0\n",
    "    for year in years:\n",
    "        year_winner = mvp_with_previous_df[mvp_with_previous_df[\"Year\"] == year].sort_values(\"Share\", ascending=False).iloc[:1][\"Player\"].item()\n",
    "        years_after_winning_for_player = mvp_with_previous_df[(mvp_with_previous_df[\"Player\"] == year_winner) & (mvp_with_previous_df[\"Year\"] > year)]\n",
    "        years_after_index = years_after_winning_for_player.index.values.tolist()\n",
    "        mvp_with_previous_df.loc[years_after_index, [\"Previous MVP's Won\"]] += 1\n",
    "    return mvp_with_previous_df"
   ]
  },
  {
   "cell_type": "code",
   "execution_count": 69,
   "id": "289a919f",
   "metadata": {},
   "outputs": [],
   "source": [
    "def add_previous_mvp_as_predictor(predictors):\n",
    "    predictors_with_previous = predictors.copy()\n",
    "    predictors_with_previous.append(\"Previous MVP's Won\")\n",
    "    return predictors_with_previous"
   ]
  },
  {
   "cell_type": "code",
   "execution_count": 83,
   "id": "8d5b8d6c",
   "metadata": {},
   "outputs": [
    {
     "name": "stdout",
     "output_type": "stream",
     "text": [
      "CPU times: user 13min 15s, sys: 6.05 s, total: 13min 21s\n",
      "Wall time: 13min 45s\n"
     ]
    }
   ],
   "source": [
    "%%time\n",
    "avg_mse_rf, mse_ar_rf, avg_apk_rf, apk_ar_rf, all_predictions_rf = backtest(\n",
    "    mvp_df, rf, years, predictors)"
   ]
  },
  {
   "cell_type": "code",
   "execution_count": 84,
   "id": "22549319",
   "metadata": {},
   "outputs": [
    {
     "name": "stdout",
     "output_type": "stream",
     "text": [
      "CPU times: user 22min 30s, sys: 7.77 s, total: 22min 37s\n",
      "Wall time: 23min 1s\n"
     ]
    }
   ],
   "source": [
    "%%time\n",
    "avg_mse_rf_n, mse_ar_rf_n, avg_apk_rf_n, apk_ar_rf_n, all_predictions_rf_n = backtest(\n",
    "    mvp_df, rf, years, predictors, normalizing=True)"
   ]
  },
  {
   "cell_type": "code",
   "execution_count": 121,
   "id": "041f4ec8",
   "metadata": {},
   "outputs": [
    {
     "name": "stdout",
     "output_type": "stream",
     "text": [
      "CPU times: user 13min 33s, sys: 5.34 s, total: 13min 39s\n",
      "Wall time: 13min 59s\n"
     ]
    }
   ],
   "source": [
    "%%time\n",
    "avg_mse_rf_votefatigue, mse_ar_rf_votefatigue, avg_apk_rf_votefatigue, apk_ar_rf_votefatigue, all_predictions_rf_votefatigue = backtest(\n",
    "    mvp_with_previous_df, rf, years, predictors_with_previous)"
   ]
  },
  {
   "cell_type": "code",
   "execution_count": 30,
   "id": "c3710f10",
   "metadata": {},
   "outputs": [
    {
     "data": {
      "text/plain": [
       "(68.08947368421055, 78.3, 198.50000000000006)"
      ]
     },
     "execution_count": 30,
     "metadata": {},
     "output_type": "execute_result"
    }
   ],
   "source": [
    "avg_mse_rf, avg_mse_rf_n, avg_mse"
   ]
  },
  {
   "cell_type": "code",
   "execution_count": 31,
   "id": "040c3ab6",
   "metadata": {},
   "outputs": [
    {
     "data": {
      "text/plain": [
       "(0.672982456140351, 0.6380701754385965, 0.5857894736842105)"
      ]
     },
     "execution_count": 31,
     "metadata": {},
     "output_type": "execute_result"
    }
   ],
   "source": [
    "avg_apk_rf, avg_apk_rf_n, avg_apk"
   ]
  },
  {
   "cell_type": "code",
   "execution_count": 89,
   "id": "af238bc6",
   "metadata": {},
   "outputs": [
    {
     "data": {
      "text/html": [
       "<div>\n",
       "<style scoped>\n",
       "    .dataframe tbody tr th:only-of-type {\n",
       "        vertical-align: middle;\n",
       "    }\n",
       "\n",
       "    .dataframe tbody tr th {\n",
       "        vertical-align: top;\n",
       "    }\n",
       "\n",
       "    .dataframe thead th {\n",
       "        text-align: right;\n",
       "    }\n",
       "</style>\n",
       "<table border=\"1\" class=\"dataframe\">\n",
       "  <thead>\n",
       "    <tr style=\"text-align: right;\">\n",
       "      <th></th>\n",
       "      <th>Player</th>\n",
       "      <th>Share</th>\n",
       "      <th>MVP Share Predictions</th>\n",
       "      <th>Rank</th>\n",
       "      <th>Predicted Rank</th>\n",
       "      <th>Difference</th>\n",
       "      <th>Year</th>\n",
       "    </tr>\n",
       "  </thead>\n",
       "  <tbody>\n",
       "    <tr>\n",
       "      <th>18517</th>\n",
       "      <td>Joel Embiid</td>\n",
       "      <td>0.915</td>\n",
       "      <td>0.463297</td>\n",
       "      <td>1.0</td>\n",
       "      <td>2.0</td>\n",
       "      <td>-1.0</td>\n",
       "      <td>2023</td>\n",
       "    </tr>\n",
       "    <tr>\n",
       "      <th>7823</th>\n",
       "      <td>Nikola Jokić</td>\n",
       "      <td>0.674</td>\n",
       "      <td>0.633653</td>\n",
       "      <td>2.0</td>\n",
       "      <td>1.0</td>\n",
       "      <td>1.0</td>\n",
       "      <td>2023</td>\n",
       "    </tr>\n",
       "    <tr>\n",
       "      <th>7315</th>\n",
       "      <td>Giannis Antetokounmpo</td>\n",
       "      <td>0.606</td>\n",
       "      <td>0.412487</td>\n",
       "      <td>3.0</td>\n",
       "      <td>3.0</td>\n",
       "      <td>0.0</td>\n",
       "      <td>2023</td>\n",
       "    </tr>\n",
       "    <tr>\n",
       "      <th>9535</th>\n",
       "      <td>Jayson Tatum</td>\n",
       "      <td>0.280</td>\n",
       "      <td>0.196441</td>\n",
       "      <td>4.0</td>\n",
       "      <td>5.0</td>\n",
       "      <td>-1.0</td>\n",
       "      <td>2023</td>\n",
       "    </tr>\n",
       "    <tr>\n",
       "      <th>8336</th>\n",
       "      <td>Shai Gilgeous-Alexander</td>\n",
       "      <td>0.046</td>\n",
       "      <td>0.163479</td>\n",
       "      <td>5.0</td>\n",
       "      <td>6.0</td>\n",
       "      <td>-1.0</td>\n",
       "      <td>2023</td>\n",
       "    </tr>\n",
       "  </tbody>\n",
       "</table>\n",
       "</div>"
      ],
      "text/plain": [
       "                        Player  Share  MVP Share Predictions  Rank  \\\n",
       "18517              Joel Embiid  0.915               0.463297   1.0   \n",
       "7823              Nikola Jokić  0.674               0.633653   2.0   \n",
       "7315     Giannis Antetokounmpo  0.606               0.412487   3.0   \n",
       "9535              Jayson Tatum  0.280               0.196441   4.0   \n",
       "8336   Shai Gilgeous-Alexander  0.046               0.163479   5.0   \n",
       "\n",
       "       Predicted Rank  Difference  Year  \n",
       "18517             2.0        -1.0  2023  \n",
       "7823              1.0         1.0  2023  \n",
       "7315              3.0         0.0  2023  \n",
       "9535              5.0        -1.0  2023  \n",
       "8336              6.0        -1.0  2023  "
      ]
     },
     "execution_count": 89,
     "metadata": {},
     "output_type": "execute_result"
    }
   ],
   "source": [
    "all_predictions_rf[(all_predictions_rf[\"Rank\"] <= 5) & (all_predictions_rf[\"Year\"] == 2023)]"
   ]
  },
  {
   "cell_type": "code",
   "execution_count": 115,
   "id": "98dfe77c",
   "metadata": {},
   "outputs": [
    {
     "data": {
      "text/html": [
       "<div>\n",
       "<style scoped>\n",
       "    .dataframe tbody tr th:only-of-type {\n",
       "        vertical-align: middle;\n",
       "    }\n",
       "\n",
       "    .dataframe tbody tr th {\n",
       "        vertical-align: top;\n",
       "    }\n",
       "\n",
       "    .dataframe thead th {\n",
       "        text-align: right;\n",
       "    }\n",
       "</style>\n",
       "<table border=\"1\" class=\"dataframe\">\n",
       "  <thead>\n",
       "    <tr style=\"text-align: right;\">\n",
       "      <th></th>\n",
       "      <th>Player</th>\n",
       "      <th>Share</th>\n",
       "      <th>MVP Share Predictions</th>\n",
       "      <th>Rank</th>\n",
       "      <th>Predicted Rank</th>\n",
       "      <th>Difference</th>\n",
       "      <th>Year</th>\n",
       "    </tr>\n",
       "  </thead>\n",
       "  <tbody>\n",
       "    <tr>\n",
       "      <th>17925</th>\n",
       "      <td>LeBron James</td>\n",
       "      <td>0.431</td>\n",
       "      <td>0.500233</td>\n",
       "      <td>3.0</td>\n",
       "      <td>1.0</td>\n",
       "      <td>2.0</td>\n",
       "      <td>2011</td>\n",
       "    </tr>\n",
       "    <tr>\n",
       "      <th>17262</th>\n",
       "      <td>Derrick Rose</td>\n",
       "      <td>0.977</td>\n",
       "      <td>0.376813</td>\n",
       "      <td>1.0</td>\n",
       "      <td>2.0</td>\n",
       "      <td>-1.0</td>\n",
       "      <td>2011</td>\n",
       "    </tr>\n",
       "    <tr>\n",
       "      <th>17917</th>\n",
       "      <td>Dwyane Wade</td>\n",
       "      <td>0.020</td>\n",
       "      <td>0.364968</td>\n",
       "      <td>7.0</td>\n",
       "      <td>3.0</td>\n",
       "      <td>4.0</td>\n",
       "      <td>2011</td>\n",
       "    </tr>\n",
       "    <tr>\n",
       "      <th>16715</th>\n",
       "      <td>Dwight Howard</td>\n",
       "      <td>0.531</td>\n",
       "      <td>0.240136</td>\n",
       "      <td>2.0</td>\n",
       "      <td>4.0</td>\n",
       "      <td>-2.0</td>\n",
       "      <td>2011</td>\n",
       "    </tr>\n",
       "    <tr>\n",
       "      <th>13231</th>\n",
       "      <td>Pau Gasol</td>\n",
       "      <td>0.000</td>\n",
       "      <td>0.199064</td>\n",
       "      <td>14.0</td>\n",
       "      <td>5.0</td>\n",
       "      <td>9.0</td>\n",
       "      <td>2011</td>\n",
       "    </tr>\n",
       "    <tr>\n",
       "      <th>13226</th>\n",
       "      <td>Kobe Bryant</td>\n",
       "      <td>0.354</td>\n",
       "      <td>0.158925</td>\n",
       "      <td>4.0</td>\n",
       "      <td>6.0</td>\n",
       "      <td>-2.0</td>\n",
       "      <td>2011</td>\n",
       "    </tr>\n",
       "    <tr>\n",
       "      <th>17540</th>\n",
       "      <td>Kevin Durant</td>\n",
       "      <td>0.157</td>\n",
       "      <td>0.134221</td>\n",
       "      <td>5.0</td>\n",
       "      <td>7.0</td>\n",
       "      <td>-2.0</td>\n",
       "      <td>2011</td>\n",
       "    </tr>\n",
       "    <tr>\n",
       "      <th>7873</th>\n",
       "      <td>Chris Paul</td>\n",
       "      <td>0.002</td>\n",
       "      <td>0.071215</td>\n",
       "      <td>12.0</td>\n",
       "      <td>8.0</td>\n",
       "      <td>4.0</td>\n",
       "      <td>2011</td>\n",
       "    </tr>\n",
       "    <tr>\n",
       "      <th>14483</th>\n",
       "      <td>Kevin Love</td>\n",
       "      <td>0.000</td>\n",
       "      <td>0.059800</td>\n",
       "      <td>14.0</td>\n",
       "      <td>9.0</td>\n",
       "      <td>5.0</td>\n",
       "      <td>2011</td>\n",
       "    </tr>\n",
       "    <tr>\n",
       "      <th>17546</th>\n",
       "      <td>Russell Westbrook</td>\n",
       "      <td>0.000</td>\n",
       "      <td>0.052946</td>\n",
       "      <td>14.0</td>\n",
       "      <td>10.0</td>\n",
       "      <td>4.0</td>\n",
       "      <td>2011</td>\n",
       "    </tr>\n",
       "    <tr>\n",
       "      <th>17102</th>\n",
       "      <td>Dirk Nowitzki</td>\n",
       "      <td>0.093</td>\n",
       "      <td>0.044942</td>\n",
       "      <td>6.0</td>\n",
       "      <td>11.0</td>\n",
       "      <td>-5.0</td>\n",
       "      <td>2011</td>\n",
       "    </tr>\n",
       "    <tr>\n",
       "      <th>7581</th>\n",
       "      <td>Steve Nash</td>\n",
       "      <td>0.000</td>\n",
       "      <td>0.035190</td>\n",
       "      <td>14.0</td>\n",
       "      <td>12.0</td>\n",
       "      <td>2.0</td>\n",
       "      <td>2011</td>\n",
       "    </tr>\n",
       "    <tr>\n",
       "      <th>15335</th>\n",
       "      <td>Rajon Rondo</td>\n",
       "      <td>0.004</td>\n",
       "      <td>0.027740</td>\n",
       "      <td>10.0</td>\n",
       "      <td>13.0</td>\n",
       "      <td>-3.0</td>\n",
       "      <td>2011</td>\n",
       "    </tr>\n",
       "    <tr>\n",
       "      <th>11685</th>\n",
       "      <td>Amar'e Stoudemire</td>\n",
       "      <td>0.007</td>\n",
       "      <td>0.015068</td>\n",
       "      <td>9.0</td>\n",
       "      <td>14.0</td>\n",
       "      <td>-5.0</td>\n",
       "      <td>2011</td>\n",
       "    </tr>\n",
       "    <tr>\n",
       "      <th>18558</th>\n",
       "      <td>Zach Randolph</td>\n",
       "      <td>0.000</td>\n",
       "      <td>0.014774</td>\n",
       "      <td>14.0</td>\n",
       "      <td>15.0</td>\n",
       "      <td>-1.0</td>\n",
       "      <td>2011</td>\n",
       "    </tr>\n",
       "  </tbody>\n",
       "</table>\n",
       "</div>"
      ],
      "text/plain": [
       "                  Player  Share  MVP Share Predictions  Rank  Predicted Rank  \\\n",
       "17925       LeBron James  0.431               0.500233   3.0             1.0   \n",
       "17262       Derrick Rose  0.977               0.376813   1.0             2.0   \n",
       "17917        Dwyane Wade  0.020               0.364968   7.0             3.0   \n",
       "16715      Dwight Howard  0.531               0.240136   2.0             4.0   \n",
       "13231          Pau Gasol  0.000               0.199064  14.0             5.0   \n",
       "13226        Kobe Bryant  0.354               0.158925   4.0             6.0   \n",
       "17540       Kevin Durant  0.157               0.134221   5.0             7.0   \n",
       "7873          Chris Paul  0.002               0.071215  12.0             8.0   \n",
       "14483         Kevin Love  0.000               0.059800  14.0             9.0   \n",
       "17546  Russell Westbrook  0.000               0.052946  14.0            10.0   \n",
       "17102      Dirk Nowitzki  0.093               0.044942   6.0            11.0   \n",
       "7581          Steve Nash  0.000               0.035190  14.0            12.0   \n",
       "15335        Rajon Rondo  0.004               0.027740  10.0            13.0   \n",
       "11685  Amar'e Stoudemire  0.007               0.015068   9.0            14.0   \n",
       "18558      Zach Randolph  0.000               0.014774  14.0            15.0   \n",
       "\n",
       "       Difference  Year  \n",
       "17925         2.0  2011  \n",
       "17262        -1.0  2011  \n",
       "17917         4.0  2011  \n",
       "16715        -2.0  2011  \n",
       "13231         9.0  2011  \n",
       "13226        -2.0  2011  \n",
       "17540        -2.0  2011  \n",
       "7873          4.0  2011  \n",
       "14483         5.0  2011  \n",
       "17546         4.0  2011  \n",
       "17102        -5.0  2011  \n",
       "7581          2.0  2011  \n",
       "15335        -3.0  2011  \n",
       "11685        -5.0  2011  \n",
       "18558        -1.0  2011  "
      ]
     },
     "execution_count": 115,
     "metadata": {},
     "output_type": "execute_result"
    }
   ],
   "source": [
    "all_predictions_rf[all_predictions_rf[\"Year\"] == 2011].sort_values(\"Predicted Rank\").head(15)"
   ]
  },
  {
   "cell_type": "code",
   "execution_count": 2,
   "id": "b8a77287",
   "metadata": {},
   "outputs": [
    {
     "data": {
      "text/plain": [
       "(62.338461538461544, 69.35384615384616, 53.02564102564103, 236.84358974358975)"
      ]
     },
     "execution_count": 2,
     "metadata": {},
     "output_type": "execute_result"
    }
   ],
   "source": [
    "avg_mse_rf, avg_mse_rf_n, avg_mse_rf_votefatigue, avg_mse"
   ]
  },
  {
   "cell_type": "code",
   "execution_count": 3,
   "id": "1bead98f",
   "metadata": {},
   "outputs": [
    {
     "data": {
      "text/plain": [
       "(0.6741025641025644, 0.6485470085470089, 0.674700854700855, 0.6094871794871798)"
      ]
     },
     "execution_count": 3,
     "metadata": {},
     "output_type": "execute_result"
    }
   ],
   "source": [
    "avg_apk_rf, avg_apk_rf_n, avg_apk_rf_votefatigue, avg_apk"
   ]
  },
  {
   "cell_type": "code",
   "execution_count": null,
   "id": "21d450e5",
   "metadata": {},
   "outputs": [],
   "source": []
  },
  {
   "cell_type": "code",
   "execution_count": 16,
   "id": "3938676d",
   "metadata": {},
   "outputs": [
    {
     "data": {
      "text/html": [
       "<div>\n",
       "<style scoped>\n",
       "    .dataframe tbody tr th:only-of-type {\n",
       "        vertical-align: middle;\n",
       "    }\n",
       "\n",
       "    .dataframe tbody tr th {\n",
       "        vertical-align: top;\n",
       "    }\n",
       "\n",
       "    .dataframe thead th {\n",
       "        text-align: right;\n",
       "    }\n",
       "</style>\n",
       "<table border=\"1\" class=\"dataframe\">\n",
       "  <thead>\n",
       "    <tr style=\"text-align: right;\">\n",
       "      <th></th>\n",
       "      <th>Player</th>\n",
       "      <th>Share</th>\n",
       "      <th>MVP Share Predictions</th>\n",
       "      <th>Rank</th>\n",
       "      <th>Predicted Rank</th>\n",
       "      <th>Difference</th>\n",
       "      <th>Year</th>\n",
       "    </tr>\n",
       "  </thead>\n",
       "  <tbody>\n",
       "    <tr>\n",
       "      <th>12059</th>\n",
       "      <td>Stephen Curry</td>\n",
       "      <td>1.000</td>\n",
       "      <td>0.844693</td>\n",
       "      <td>1.0</td>\n",
       "      <td>1.0</td>\n",
       "      <td>0.0</td>\n",
       "      <td>2016</td>\n",
       "    </tr>\n",
       "    <tr>\n",
       "      <th>12782</th>\n",
       "      <td>Kawhi Leonard</td>\n",
       "      <td>0.484</td>\n",
       "      <td>0.347098</td>\n",
       "      <td>2.0</td>\n",
       "      <td>4.0</td>\n",
       "      <td>-2.0</td>\n",
       "      <td>2016</td>\n",
       "    </tr>\n",
       "    <tr>\n",
       "      <th>17853</th>\n",
       "      <td>LeBron James</td>\n",
       "      <td>0.482</td>\n",
       "      <td>0.519243</td>\n",
       "      <td>3.0</td>\n",
       "      <td>2.0</td>\n",
       "      <td>1.0</td>\n",
       "      <td>2016</td>\n",
       "    </tr>\n",
       "    <tr>\n",
       "      <th>12869</th>\n",
       "      <td>Russell Westbrook</td>\n",
       "      <td>0.371</td>\n",
       "      <td>0.304214</td>\n",
       "      <td>4.0</td>\n",
       "      <td>5.0</td>\n",
       "      <td>-1.0</td>\n",
       "      <td>2016</td>\n",
       "    </tr>\n",
       "    <tr>\n",
       "      <th>12863</th>\n",
       "      <td>Kevin Durant</td>\n",
       "      <td>0.112</td>\n",
       "      <td>0.430591</td>\n",
       "      <td>5.0</td>\n",
       "      <td>3.0</td>\n",
       "      <td>2.0</td>\n",
       "      <td>2016</td>\n",
       "    </tr>\n",
       "    <tr>\n",
       "      <th>12881</th>\n",
       "      <td>Russell Westbrook</td>\n",
       "      <td>0.879</td>\n",
       "      <td>0.307894</td>\n",
       "      <td>1.0</td>\n",
       "      <td>6.0</td>\n",
       "      <td>-5.0</td>\n",
       "      <td>2017</td>\n",
       "    </tr>\n",
       "    <tr>\n",
       "      <th>16124</th>\n",
       "      <td>James Harden</td>\n",
       "      <td>0.746</td>\n",
       "      <td>0.384808</td>\n",
       "      <td>2.0</td>\n",
       "      <td>2.0</td>\n",
       "      <td>0.0</td>\n",
       "      <td>2017</td>\n",
       "    </tr>\n",
       "    <tr>\n",
       "      <th>17461</th>\n",
       "      <td>Kawhi Leonard</td>\n",
       "      <td>0.495</td>\n",
       "      <td>0.516333</td>\n",
       "      <td>3.0</td>\n",
       "      <td>1.0</td>\n",
       "      <td>2.0</td>\n",
       "      <td>2017</td>\n",
       "    </tr>\n",
       "    <tr>\n",
       "      <th>13203</th>\n",
       "      <td>LeBron James</td>\n",
       "      <td>0.330</td>\n",
       "      <td>0.339759</td>\n",
       "      <td>4.0</td>\n",
       "      <td>5.0</td>\n",
       "      <td>-1.0</td>\n",
       "      <td>2017</td>\n",
       "    </tr>\n",
       "    <tr>\n",
       "      <th>9468</th>\n",
       "      <td>Isaiah Thomas</td>\n",
       "      <td>0.080</td>\n",
       "      <td>0.235226</td>\n",
       "      <td>5.0</td>\n",
       "      <td>7.0</td>\n",
       "      <td>-2.0</td>\n",
       "      <td>2017</td>\n",
       "    </tr>\n",
       "    <tr>\n",
       "      <th>8089</th>\n",
       "      <td>James Harden</td>\n",
       "      <td>0.955</td>\n",
       "      <td>0.761781</td>\n",
       "      <td>1.0</td>\n",
       "      <td>1.0</td>\n",
       "      <td>0.0</td>\n",
       "      <td>2018</td>\n",
       "    </tr>\n",
       "    <tr>\n",
       "      <th>13804</th>\n",
       "      <td>LeBron James</td>\n",
       "      <td>0.731</td>\n",
       "      <td>0.442170</td>\n",
       "      <td>2.0</td>\n",
       "      <td>2.0</td>\n",
       "      <td>0.0</td>\n",
       "      <td>2018</td>\n",
       "    </tr>\n",
       "    <tr>\n",
       "      <th>13944</th>\n",
       "      <td>Anthony Davis</td>\n",
       "      <td>0.441</td>\n",
       "      <td>0.176607</td>\n",
       "      <td>3.0</td>\n",
       "      <td>4.0</td>\n",
       "      <td>-1.0</td>\n",
       "      <td>2018</td>\n",
       "    </tr>\n",
       "    <tr>\n",
       "      <th>9881</th>\n",
       "      <td>Damian Lillard</td>\n",
       "      <td>0.205</td>\n",
       "      <td>0.159003</td>\n",
       "      <td>4.0</td>\n",
       "      <td>6.0</td>\n",
       "      <td>-2.0</td>\n",
       "      <td>2018</td>\n",
       "    </tr>\n",
       "    <tr>\n",
       "      <th>12900</th>\n",
       "      <td>Russell Westbrook</td>\n",
       "      <td>0.075</td>\n",
       "      <td>0.236925</td>\n",
       "      <td>5.0</td>\n",
       "      <td>3.0</td>\n",
       "      <td>2.0</td>\n",
       "      <td>2018</td>\n",
       "    </tr>\n",
       "    <tr>\n",
       "      <th>16532</th>\n",
       "      <td>Giannis Antetokounmpo</td>\n",
       "      <td>0.932</td>\n",
       "      <td>0.573080</td>\n",
       "      <td>1.0</td>\n",
       "      <td>2.0</td>\n",
       "      <td>-1.0</td>\n",
       "      <td>2019</td>\n",
       "    </tr>\n",
       "    <tr>\n",
       "      <th>15296</th>\n",
       "      <td>James Harden</td>\n",
       "      <td>0.768</td>\n",
       "      <td>0.622325</td>\n",
       "      <td>2.0</td>\n",
       "      <td>1.0</td>\n",
       "      <td>1.0</td>\n",
       "      <td>2019</td>\n",
       "    </tr>\n",
       "    <tr>\n",
       "      <th>8515</th>\n",
       "      <td>Paul George</td>\n",
       "      <td>0.352</td>\n",
       "      <td>0.069824</td>\n",
       "      <td>3.0</td>\n",
       "      <td>11.0</td>\n",
       "      <td>-8.0</td>\n",
       "      <td>2019</td>\n",
       "    </tr>\n",
       "    <tr>\n",
       "      <th>16793</th>\n",
       "      <td>Nikola Jokić</td>\n",
       "      <td>0.210</td>\n",
       "      <td>0.161363</td>\n",
       "      <td>4.0</td>\n",
       "      <td>5.0</td>\n",
       "      <td>-1.0</td>\n",
       "      <td>2019</td>\n",
       "    </tr>\n",
       "    <tr>\n",
       "      <th>10945</th>\n",
       "      <td>Stephen Curry</td>\n",
       "      <td>0.173</td>\n",
       "      <td>0.165501</td>\n",
       "      <td>5.0</td>\n",
       "      <td>3.0</td>\n",
       "      <td>2.0</td>\n",
       "      <td>2019</td>\n",
       "    </tr>\n",
       "    <tr>\n",
       "      <th>17381</th>\n",
       "      <td>Giannis Antetokounmpo</td>\n",
       "      <td>0.952</td>\n",
       "      <td>0.385212</td>\n",
       "      <td>1.0</td>\n",
       "      <td>2.0</td>\n",
       "      <td>-1.0</td>\n",
       "      <td>2020</td>\n",
       "    </tr>\n",
       "    <tr>\n",
       "      <th>10504</th>\n",
       "      <td>LeBron James</td>\n",
       "      <td>0.746</td>\n",
       "      <td>0.295417</td>\n",
       "      <td>2.0</td>\n",
       "      <td>3.0</td>\n",
       "      <td>-1.0</td>\n",
       "      <td>2020</td>\n",
       "    </tr>\n",
       "    <tr>\n",
       "      <th>15313</th>\n",
       "      <td>James Harden</td>\n",
       "      <td>0.363</td>\n",
       "      <td>0.469294</td>\n",
       "      <td>3.0</td>\n",
       "      <td>1.0</td>\n",
       "      <td>2.0</td>\n",
       "      <td>2020</td>\n",
       "    </tr>\n",
       "    <tr>\n",
       "      <th>14992</th>\n",
       "      <td>Luka Dončić</td>\n",
       "      <td>0.198</td>\n",
       "      <td>0.205081</td>\n",
       "      <td>4.0</td>\n",
       "      <td>4.0</td>\n",
       "      <td>0.0</td>\n",
       "      <td>2020</td>\n",
       "    </tr>\n",
       "    <tr>\n",
       "      <th>11773</th>\n",
       "      <td>Kawhi Leonard</td>\n",
       "      <td>0.166</td>\n",
       "      <td>0.123369</td>\n",
       "      <td>5.0</td>\n",
       "      <td>6.0</td>\n",
       "      <td>-1.0</td>\n",
       "      <td>2020</td>\n",
       "    </tr>\n",
       "    <tr>\n",
       "      <th>7785</th>\n",
       "      <td>Nikola Jokić</td>\n",
       "      <td>0.961</td>\n",
       "      <td>0.526182</td>\n",
       "      <td>1.0</td>\n",
       "      <td>1.0</td>\n",
       "      <td>0.0</td>\n",
       "      <td>2021</td>\n",
       "    </tr>\n",
       "    <tr>\n",
       "      <th>14583</th>\n",
       "      <td>Joel Embiid</td>\n",
       "      <td>0.580</td>\n",
       "      <td>0.175172</td>\n",
       "      <td>2.0</td>\n",
       "      <td>5.0</td>\n",
       "      <td>-3.0</td>\n",
       "      <td>2021</td>\n",
       "    </tr>\n",
       "    <tr>\n",
       "      <th>10435</th>\n",
       "      <td>Stephen Curry</td>\n",
       "      <td>0.449</td>\n",
       "      <td>0.182070</td>\n",
       "      <td>3.0</td>\n",
       "      <td>4.0</td>\n",
       "      <td>-1.0</td>\n",
       "      <td>2021</td>\n",
       "    </tr>\n",
       "    <tr>\n",
       "      <th>15466</th>\n",
       "      <td>Giannis Antetokounmpo</td>\n",
       "      <td>0.345</td>\n",
       "      <td>0.296244</td>\n",
       "      <td>4.0</td>\n",
       "      <td>2.0</td>\n",
       "      <td>2.0</td>\n",
       "      <td>2021</td>\n",
       "    </tr>\n",
       "    <tr>\n",
       "      <th>8543</th>\n",
       "      <td>Chris Paul</td>\n",
       "      <td>0.138</td>\n",
       "      <td>0.008566</td>\n",
       "      <td>5.0</td>\n",
       "      <td>22.0</td>\n",
       "      <td>-17.0</td>\n",
       "      <td>2021</td>\n",
       "    </tr>\n",
       "    <tr>\n",
       "      <th>7807</th>\n",
       "      <td>Nikola Jokić</td>\n",
       "      <td>0.875</td>\n",
       "      <td>0.586161</td>\n",
       "      <td>1.0</td>\n",
       "      <td>1.0</td>\n",
       "      <td>0.0</td>\n",
       "      <td>2022</td>\n",
       "    </tr>\n",
       "    <tr>\n",
       "      <th>7997</th>\n",
       "      <td>Joel Embiid</td>\n",
       "      <td>0.706</td>\n",
       "      <td>0.294894</td>\n",
       "      <td>2.0</td>\n",
       "      <td>3.0</td>\n",
       "      <td>-1.0</td>\n",
       "      <td>2022</td>\n",
       "    </tr>\n",
       "    <tr>\n",
       "      <th>16232</th>\n",
       "      <td>Giannis Antetokounmpo</td>\n",
       "      <td>0.595</td>\n",
       "      <td>0.454124</td>\n",
       "      <td>3.0</td>\n",
       "      <td>2.0</td>\n",
       "      <td>1.0</td>\n",
       "      <td>2022</td>\n",
       "    </tr>\n",
       "    <tr>\n",
       "      <th>8067</th>\n",
       "      <td>Devin Booker</td>\n",
       "      <td>0.216</td>\n",
       "      <td>0.035234</td>\n",
       "      <td>4.0</td>\n",
       "      <td>10.0</td>\n",
       "      <td>-6.0</td>\n",
       "      <td>2022</td>\n",
       "    </tr>\n",
       "    <tr>\n",
       "      <th>16109</th>\n",
       "      <td>Luka Dončić</td>\n",
       "      <td>0.146</td>\n",
       "      <td>0.225323</td>\n",
       "      <td>5.0</td>\n",
       "      <td>4.0</td>\n",
       "      <td>1.0</td>\n",
       "      <td>2022</td>\n",
       "    </tr>\n",
       "    <tr>\n",
       "      <th>18517</th>\n",
       "      <td>Joel Embiid</td>\n",
       "      <td>0.915</td>\n",
       "      <td>0.451259</td>\n",
       "      <td>1.0</td>\n",
       "      <td>2.0</td>\n",
       "      <td>-1.0</td>\n",
       "      <td>2023</td>\n",
       "    </tr>\n",
       "    <tr>\n",
       "      <th>7823</th>\n",
       "      <td>Nikola Jokić</td>\n",
       "      <td>0.674</td>\n",
       "      <td>0.621481</td>\n",
       "      <td>2.0</td>\n",
       "      <td>1.0</td>\n",
       "      <td>1.0</td>\n",
       "      <td>2023</td>\n",
       "    </tr>\n",
       "    <tr>\n",
       "      <th>7315</th>\n",
       "      <td>Giannis Antetokounmpo</td>\n",
       "      <td>0.606</td>\n",
       "      <td>0.408190</td>\n",
       "      <td>3.0</td>\n",
       "      <td>3.0</td>\n",
       "      <td>0.0</td>\n",
       "      <td>2023</td>\n",
       "    </tr>\n",
       "    <tr>\n",
       "      <th>9535</th>\n",
       "      <td>Jayson Tatum</td>\n",
       "      <td>0.280</td>\n",
       "      <td>0.188764</td>\n",
       "      <td>4.0</td>\n",
       "      <td>5.0</td>\n",
       "      <td>-1.0</td>\n",
       "      <td>2023</td>\n",
       "    </tr>\n",
       "    <tr>\n",
       "      <th>8336</th>\n",
       "      <td>Shai Gilgeous-Alexander</td>\n",
       "      <td>0.046</td>\n",
       "      <td>0.164957</td>\n",
       "      <td>5.0</td>\n",
       "      <td>6.0</td>\n",
       "      <td>-1.0</td>\n",
       "      <td>2023</td>\n",
       "    </tr>\n",
       "  </tbody>\n",
       "</table>\n",
       "</div>"
      ],
      "text/plain": [
       "                        Player  Share  MVP Share Predictions  Rank  \\\n",
       "12059            Stephen Curry  1.000               0.844693   1.0   \n",
       "12782            Kawhi Leonard  0.484               0.347098   2.0   \n",
       "17853             LeBron James  0.482               0.519243   3.0   \n",
       "12869        Russell Westbrook  0.371               0.304214   4.0   \n",
       "12863             Kevin Durant  0.112               0.430591   5.0   \n",
       "12881        Russell Westbrook  0.879               0.307894   1.0   \n",
       "16124             James Harden  0.746               0.384808   2.0   \n",
       "17461            Kawhi Leonard  0.495               0.516333   3.0   \n",
       "13203             LeBron James  0.330               0.339759   4.0   \n",
       "9468             Isaiah Thomas  0.080               0.235226   5.0   \n",
       "8089              James Harden  0.955               0.761781   1.0   \n",
       "13804             LeBron James  0.731               0.442170   2.0   \n",
       "13944            Anthony Davis  0.441               0.176607   3.0   \n",
       "9881            Damian Lillard  0.205               0.159003   4.0   \n",
       "12900        Russell Westbrook  0.075               0.236925   5.0   \n",
       "16532    Giannis Antetokounmpo  0.932               0.573080   1.0   \n",
       "15296             James Harden  0.768               0.622325   2.0   \n",
       "8515               Paul George  0.352               0.069824   3.0   \n",
       "16793             Nikola Jokić  0.210               0.161363   4.0   \n",
       "10945            Stephen Curry  0.173               0.165501   5.0   \n",
       "17381    Giannis Antetokounmpo  0.952               0.385212   1.0   \n",
       "10504             LeBron James  0.746               0.295417   2.0   \n",
       "15313             James Harden  0.363               0.469294   3.0   \n",
       "14992              Luka Dončić  0.198               0.205081   4.0   \n",
       "11773            Kawhi Leonard  0.166               0.123369   5.0   \n",
       "7785              Nikola Jokić  0.961               0.526182   1.0   \n",
       "14583              Joel Embiid  0.580               0.175172   2.0   \n",
       "10435            Stephen Curry  0.449               0.182070   3.0   \n",
       "15466    Giannis Antetokounmpo  0.345               0.296244   4.0   \n",
       "8543                Chris Paul  0.138               0.008566   5.0   \n",
       "7807              Nikola Jokić  0.875               0.586161   1.0   \n",
       "7997               Joel Embiid  0.706               0.294894   2.0   \n",
       "16232    Giannis Antetokounmpo  0.595               0.454124   3.0   \n",
       "8067              Devin Booker  0.216               0.035234   4.0   \n",
       "16109              Luka Dončić  0.146               0.225323   5.0   \n",
       "18517              Joel Embiid  0.915               0.451259   1.0   \n",
       "7823              Nikola Jokić  0.674               0.621481   2.0   \n",
       "7315     Giannis Antetokounmpo  0.606               0.408190   3.0   \n",
       "9535              Jayson Tatum  0.280               0.188764   4.0   \n",
       "8336   Shai Gilgeous-Alexander  0.046               0.164957   5.0   \n",
       "\n",
       "       Predicted Rank  Difference  Year  \n",
       "12059             1.0         0.0  2016  \n",
       "12782             4.0        -2.0  2016  \n",
       "17853             2.0         1.0  2016  \n",
       "12869             5.0        -1.0  2016  \n",
       "12863             3.0         2.0  2016  \n",
       "12881             6.0        -5.0  2017  \n",
       "16124             2.0         0.0  2017  \n",
       "17461             1.0         2.0  2017  \n",
       "13203             5.0        -1.0  2017  \n",
       "9468              7.0        -2.0  2017  \n",
       "8089              1.0         0.0  2018  \n",
       "13804             2.0         0.0  2018  \n",
       "13944             4.0        -1.0  2018  \n",
       "9881              6.0        -2.0  2018  \n",
       "12900             3.0         2.0  2018  \n",
       "16532             2.0        -1.0  2019  \n",
       "15296             1.0         1.0  2019  \n",
       "8515             11.0        -8.0  2019  \n",
       "16793             5.0        -1.0  2019  \n",
       "10945             3.0         2.0  2019  \n",
       "17381             2.0        -1.0  2020  \n",
       "10504             3.0        -1.0  2020  \n",
       "15313             1.0         2.0  2020  \n",
       "14992             4.0         0.0  2020  \n",
       "11773             6.0        -1.0  2020  \n",
       "7785              1.0         0.0  2021  \n",
       "14583             5.0        -3.0  2021  \n",
       "10435             4.0        -1.0  2021  \n",
       "15466             2.0         2.0  2021  \n",
       "8543             22.0       -17.0  2021  \n",
       "7807              1.0         0.0  2022  \n",
       "7997              3.0        -1.0  2022  \n",
       "16232             2.0         1.0  2022  \n",
       "8067             10.0        -6.0  2022  \n",
       "16109             4.0         1.0  2022  \n",
       "18517             2.0        -1.0  2023  \n",
       "7823              1.0         1.0  2023  \n",
       "7315              3.0         0.0  2023  \n",
       "9535              5.0        -1.0  2023  \n",
       "8336              6.0        -1.0  2023  "
      ]
     },
     "execution_count": 16,
     "metadata": {},
     "output_type": "execute_result"
    }
   ],
   "source": [
    "all_predictions_rf_votefatigue[(all_predictions_rf_votefatigue[\"Rank\"] < 6) & (all_predictions_rf_votefatigue[\"Year\"] > 2015)]"
   ]
  },
  {
   "cell_type": "code",
   "execution_count": null,
   "id": "2ed43b80",
   "metadata": {},
   "outputs": [],
   "source": []
  },
  {
   "cell_type": "code",
   "execution_count": null,
   "id": "5240abc4",
   "metadata": {},
   "outputs": [],
   "source": []
  },
  {
   "cell_type": "code",
   "execution_count": 128,
   "id": "e3de8ae0",
   "metadata": {},
   "outputs": [
    {
     "data": {
      "text/plain": [
       "['joblib_RF_Model.pkl']"
      ]
     },
     "execution_count": 128,
     "metadata": {},
     "output_type": "execute_result"
    }
   ],
   "source": [
    "# Save RF Model to file in the current working directory\n",
    "\n",
    "joblib_file = \"joblib_RF_Model.pkl\"  \n",
    "joblib.dump(rf, joblib_file)\n",
    "\n",
    "# This is with voter fatigue as well which has the lowest MSE and the highest APK"
   ]
  },
  {
   "cell_type": "markdown",
   "id": "466dcbf0",
   "metadata": {},
   "source": [
    "## Installing dill to try to save session"
   ]
  },
  {
   "cell_type": "code",
   "execution_count": 130,
   "id": "97aeab49",
   "metadata": {},
   "outputs": [],
   "source": [
    "import dill                            \n",
    "filepath = 'rf_session_7-7.pkl'\n",
    "dill.dump_session(filepath) # Save the session"
   ]
  },
  {
   "cell_type": "code",
   "execution_count": null,
   "id": "a014a22d",
   "metadata": {},
   "outputs": [],
   "source": [
    "dill.load_session()"
   ]
  },
  {
   "cell_type": "code",
   "execution_count": null,
   "id": "9323ec85",
   "metadata": {},
   "outputs": [],
   "source": []
  },
  {
   "cell_type": "code",
   "execution_count": null,
   "id": "717863bc",
   "metadata": {},
   "outputs": [],
   "source": []
  },
  {
   "cell_type": "markdown",
   "id": "4807d584",
   "metadata": {},
   "source": [
    "## Linear Regression Model"
   ]
  },
  {
   "cell_type": "code",
   "execution_count": 19,
   "id": "a29b6cfa",
   "metadata": {},
   "outputs": [],
   "source": [
    "linreg = LinearRegression()"
   ]
  },
  {
   "cell_type": "code",
   "execution_count": 60,
   "id": "b0b75a87",
   "metadata": {},
   "outputs": [
    {
     "data": {
      "text/html": [
       "<div>\n",
       "<style scoped>\n",
       "    .dataframe tbody tr th:only-of-type {\n",
       "        vertical-align: middle;\n",
       "    }\n",
       "\n",
       "    .dataframe tbody tr th {\n",
       "        vertical-align: top;\n",
       "    }\n",
       "\n",
       "    .dataframe thead th {\n",
       "        text-align: right;\n",
       "    }\n",
       "</style>\n",
       "<table border=\"1\" class=\"dataframe\">\n",
       "  <thead>\n",
       "    <tr style=\"text-align: right;\">\n",
       "      <th></th>\n",
       "      <th>Player</th>\n",
       "      <th>Share</th>\n",
       "      <th>MVP Share Predictions</th>\n",
       "      <th>Rank</th>\n",
       "      <th>Predicted Rank</th>\n",
       "      <th>Difference</th>\n",
       "      <th>Year</th>\n",
       "    </tr>\n",
       "  </thead>\n",
       "  <tbody>\n",
       "    <tr>\n",
       "      <th>18517</th>\n",
       "      <td>Joel Embiid</td>\n",
       "      <td>0.915</td>\n",
       "      <td>0.191591</td>\n",
       "      <td>1.0</td>\n",
       "      <td>4.0</td>\n",
       "      <td>-3.0</td>\n",
       "      <td>2023</td>\n",
       "    </tr>\n",
       "    <tr>\n",
       "      <th>7823</th>\n",
       "      <td>Nikola Jokić</td>\n",
       "      <td>0.674</td>\n",
       "      <td>0.245383</td>\n",
       "      <td>2.0</td>\n",
       "      <td>1.0</td>\n",
       "      <td>1.0</td>\n",
       "      <td>2023</td>\n",
       "    </tr>\n",
       "    <tr>\n",
       "      <th>7315</th>\n",
       "      <td>Giannis Antetokounmpo</td>\n",
       "      <td>0.606</td>\n",
       "      <td>0.232926</td>\n",
       "      <td>3.0</td>\n",
       "      <td>2.0</td>\n",
       "      <td>1.0</td>\n",
       "      <td>2023</td>\n",
       "    </tr>\n",
       "    <tr>\n",
       "      <th>9535</th>\n",
       "      <td>Jayson Tatum</td>\n",
       "      <td>0.280</td>\n",
       "      <td>0.145225</td>\n",
       "      <td>4.0</td>\n",
       "      <td>5.0</td>\n",
       "      <td>-1.0</td>\n",
       "      <td>2023</td>\n",
       "    </tr>\n",
       "    <tr>\n",
       "      <th>8336</th>\n",
       "      <td>Shai Gilgeous-Alexander</td>\n",
       "      <td>0.046</td>\n",
       "      <td>0.142940</td>\n",
       "      <td>5.0</td>\n",
       "      <td>6.0</td>\n",
       "      <td>-1.0</td>\n",
       "      <td>2023</td>\n",
       "    </tr>\n",
       "    <tr>\n",
       "      <th>...</th>\n",
       "      <td>...</td>\n",
       "      <td>...</td>\n",
       "      <td>...</td>\n",
       "      <td>...</td>\n",
       "      <td>...</td>\n",
       "      <td>...</td>\n",
       "      <td>...</td>\n",
       "    </tr>\n",
       "    <tr>\n",
       "      <th>10559</th>\n",
       "      <td>Patrick Williams</td>\n",
       "      <td>0.000</td>\n",
       "      <td>-0.039880</td>\n",
       "      <td>14.0</td>\n",
       "      <td>522.0</td>\n",
       "      <td>-508.0</td>\n",
       "      <td>2023</td>\n",
       "    </tr>\n",
       "    <tr>\n",
       "      <th>10558</th>\n",
       "      <td>Patrick Beverley</td>\n",
       "      <td>0.000</td>\n",
       "      <td>-0.024746</td>\n",
       "      <td>14.0</td>\n",
       "      <td>486.0</td>\n",
       "      <td>-472.0</td>\n",
       "      <td>2023</td>\n",
       "    </tr>\n",
       "    <tr>\n",
       "      <th>10557</th>\n",
       "      <td>Nikola Vučević</td>\n",
       "      <td>0.000</td>\n",
       "      <td>0.062679</td>\n",
       "      <td>14.0</td>\n",
       "      <td>25.0</td>\n",
       "      <td>-11.0</td>\n",
       "      <td>2023</td>\n",
       "    </tr>\n",
       "    <tr>\n",
       "      <th>10694</th>\n",
       "      <td>Keon Ellis</td>\n",
       "      <td>0.000</td>\n",
       "      <td>0.022371</td>\n",
       "      <td>14.0</td>\n",
       "      <td>83.0</td>\n",
       "      <td>-69.0</td>\n",
       "      <td>2023</td>\n",
       "    </tr>\n",
       "    <tr>\n",
       "      <th>18699</th>\n",
       "      <td>Trevor Keels</td>\n",
       "      <td>0.000</td>\n",
       "      <td>0.013083</td>\n",
       "      <td>14.0</td>\n",
       "      <td>151.0</td>\n",
       "      <td>-137.0</td>\n",
       "      <td>2023</td>\n",
       "    </tr>\n",
       "  </tbody>\n",
       "</table>\n",
       "<p>539 rows × 7 columns</p>\n",
       "</div>"
      ],
      "text/plain": [
       "                        Player  Share  MVP Share Predictions  Rank  \\\n",
       "18517              Joel Embiid  0.915               0.191591   1.0   \n",
       "7823              Nikola Jokić  0.674               0.245383   2.0   \n",
       "7315     Giannis Antetokounmpo  0.606               0.232926   3.0   \n",
       "9535              Jayson Tatum  0.280               0.145225   4.0   \n",
       "8336   Shai Gilgeous-Alexander  0.046               0.142940   5.0   \n",
       "...                        ...    ...                    ...   ...   \n",
       "10559         Patrick Williams  0.000              -0.039880  14.0   \n",
       "10558         Patrick Beverley  0.000              -0.024746  14.0   \n",
       "10557           Nikola Vučević  0.000               0.062679  14.0   \n",
       "10694               Keon Ellis  0.000               0.022371  14.0   \n",
       "18699             Trevor Keels  0.000               0.013083  14.0   \n",
       "\n",
       "       Predicted Rank  Difference  Year  \n",
       "18517             4.0        -3.0  2023  \n",
       "7823              1.0         1.0  2023  \n",
       "7315              2.0         1.0  2023  \n",
       "9535              5.0        -1.0  2023  \n",
       "8336              6.0        -1.0  2023  \n",
       "...               ...         ...   ...  \n",
       "10559           522.0      -508.0  2023  \n",
       "10558           486.0      -472.0  2023  \n",
       "10557            25.0       -11.0  2023  \n",
       "10694            83.0       -69.0  2023  \n",
       "18699           151.0      -137.0  2023  \n",
       "\n",
       "[539 rows x 7 columns]"
      ]
     },
     "execution_count": 60,
     "metadata": {},
     "output_type": "execute_result"
    }
   ],
   "source": [
    "linreg.fit(X_train_linreg, y_train_linreg)\n",
    "linreg_predictions = linreg.predict(X_test_linreg) # predict for testing set (the current year starting w 2005)\n",
    "\n",
    "linreg_df = pd.DataFrame(linreg_predictions,\n",
    "                                     columns=[\"MVP Share Predictions\"],\n",
    "                                     index=X_test_linreg.index) # putting predictions into a dataframe\n",
    "\n",
    "linreg_combination = pd.concat([test_linreg[[\"Player\", \"Share\"]],\n",
    "                                          linreg_df], axis = 1) # concatenating predictions with the players and their MVP share\n",
    "\n",
    "combined_linreg_df = convert_to_ranks(linreg_combination, \"Share\", \"MVP Share Predictions\") # adding actual and predicted rank into list\n",
    "with_differences_linreg = difference_in_rank(combined_linreg_df) # adding difference between actual and predicted rank\n",
    "with_differences_linreg[\"Year\"] = year # adding year to add more information to overall dataframe\n",
    "with_differences_linreg"
   ]
  },
  {
   "cell_type": "code",
   "execution_count": 79,
   "id": "649090dc",
   "metadata": {},
   "outputs": [
    {
     "name": "stdout",
     "output_type": "stream",
     "text": [
      "CPU times: user 5.88 s, sys: 188 ms, total: 6.07 s\n",
      "Wall time: 1.13 s\n"
     ]
    }
   ],
   "source": [
    "%%time\n",
    "avg_mse_lr_votefatigue, mse_ar_lr_votefatigue, avg_apk_lr_votefatigue, apk_ar_lr_votefatigue, all_predictions_lr_votefatigue = backtest(\n",
    "    mvp_with_previous_df, linreg, years, predictors_with_previous, normalizing=True, voteFatigue=True)"
   ]
  },
  {
   "cell_type": "code",
   "execution_count": 80,
   "id": "4cce514c",
   "metadata": {},
   "outputs": [
    {
     "data": {
      "text/plain": [
       "(62.338461538461544,\n",
       " 69.35384615384616,\n",
       " 53.02564102564103,\n",
       " 236.84358974358975,\n",
       " 320.9410256410257)"
      ]
     },
     "execution_count": 80,
     "metadata": {},
     "output_type": "execute_result"
    }
   ],
   "source": [
    "avg_mse_rf, avg_mse_rf_n, avg_mse_rf_votefatigue, avg_mse, avg_mse_lr_votefatigue"
   ]
  },
  {
   "cell_type": "code",
   "execution_count": 81,
   "id": "e84ef1f4",
   "metadata": {},
   "outputs": [
    {
     "data": {
      "text/plain": [
       "(0.6741025641025644,\n",
       " 0.6485470085470089,\n",
       " 0.674700854700855,\n",
       " 0.6094871794871798,\n",
       " 0.4519658119658119)"
      ]
     },
     "execution_count": 81,
     "metadata": {},
     "output_type": "execute_result"
    }
   ],
   "source": [
    "avg_apk_rf, avg_apk_rf_n, avg_apk_rf_votefatigue, avg_apk, avg_apk_lr_votefatigue"
   ]
  },
  {
   "cell_type": "code",
   "execution_count": null,
   "id": "84f8095d",
   "metadata": {},
   "outputs": [],
   "source": []
  },
  {
   "cell_type": "code",
   "execution_count": null,
   "id": "dfcecbb2",
   "metadata": {},
   "outputs": [],
   "source": []
  },
  {
   "cell_type": "markdown",
   "id": "d3e9f218",
   "metadata": {},
   "source": [
    "## Gradient Boosting Regressor"
   ]
  },
  {
   "cell_type": "code",
   "execution_count": 256,
   "id": "3a6fce9e",
   "metadata": {},
   "outputs": [],
   "source": [
    "xgb_model = xgb.XGBRegressor(\n",
    "    n_estimators=100,\n",
    "    tree_method=\"hist\",\n",
    "    objective='reg:logistic',\n",
    ")"
   ]
  },
  {
   "cell_type": "code",
   "execution_count": 257,
   "id": "85fa444c",
   "metadata": {},
   "outputs": [
    {
     "name": "stdout",
     "output_type": "stream",
     "text": [
      "CPU times: user 27 s, sys: 12.6 s, total: 39.6 s\n",
      "Wall time: 6.96 s\n"
     ]
    }
   ],
   "source": [
    "%%time\n",
    "avg_mse_xgb_vf, mse_ar_xgb_vf, avg_apk_xgb_vf, apk_ar_xgb_vf, all_predictions_xgb_vf = backtest(\n",
    "    mvp_df, xgb_model, years, predictors, normalizing=False, voteFatigue=True)"
   ]
  },
  {
   "cell_type": "code",
   "execution_count": 258,
   "id": "089fbe08",
   "metadata": {},
   "outputs": [
    {
     "name": "stdout",
     "output_type": "stream",
     "text": [
      "CPU times: user 27.2 s, sys: 12.8 s, total: 40 s\n",
      "Wall time: 7.87 s\n"
     ]
    }
   ],
   "source": [
    "%%time\n",
    "avg_mse_xgb, mse_ar_xgb, avg_apk_xgb, apk_ar_xgb, all_predictions_xgb = backtest(\n",
    "    mvp_df, xgb_model, years, predictors, normalizing=False, voteFatigue=False)"
   ]
  },
  {
   "cell_type": "code",
   "execution_count": 259,
   "id": "7a1602c9",
   "metadata": {},
   "outputs": [
    {
     "data": {
      "text/plain": [
       "(236.84358974358975,\n",
       " 62.338461538461544,\n",
       " 69.35384615384616,\n",
       " 53.02564102564103,\n",
       " 320.9410256410257,\n",
       " 59.73846153846156,\n",
       " 56.56153846153846)"
      ]
     },
     "execution_count": 259,
     "metadata": {},
     "output_type": "execute_result"
    }
   ],
   "source": [
    "avg_mse, avg_mse_rf, avg_mse_rf_n, avg_mse_rf_votefatigue, avg_mse_lr_votefatigue, avg_mse_xgb_vf, avg_mse_xgb"
   ]
  },
  {
   "cell_type": "code",
   "execution_count": 260,
   "id": "4f2d2925",
   "metadata": {},
   "outputs": [
    {
     "data": {
      "text/plain": [
       "(0.6094871794871798,\n",
       " 0.6741025641025644,\n",
       " 0.6485470085470089,\n",
       " 0.674700854700855,\n",
       " 0.4519658119658119,\n",
       " 0.6975213675213677,\n",
       " 0.690940170940171)"
      ]
     },
     "execution_count": 260,
     "metadata": {},
     "output_type": "execute_result"
    }
   ],
   "source": [
    "avg_apk, avg_apk_rf, avg_apk_rf_n, avg_apk_rf_votefatigue, avg_apk_lr_votefatigue, avg_apk_xgb_vf, avg_apk_xgb"
   ]
  },
  {
   "cell_type": "code",
   "execution_count": 261,
   "id": "de23aece",
   "metadata": {},
   "outputs": [
    {
     "data": {
      "text/html": [
       "<div>\n",
       "<style scoped>\n",
       "    .dataframe tbody tr th:only-of-type {\n",
       "        vertical-align: middle;\n",
       "    }\n",
       "\n",
       "    .dataframe tbody tr th {\n",
       "        vertical-align: top;\n",
       "    }\n",
       "\n",
       "    .dataframe thead th {\n",
       "        text-align: right;\n",
       "    }\n",
       "</style>\n",
       "<table border=\"1\" class=\"dataframe\">\n",
       "  <thead>\n",
       "    <tr style=\"text-align: right;\">\n",
       "      <th></th>\n",
       "      <th>Player</th>\n",
       "      <th>Share</th>\n",
       "      <th>MVP Share Predictions</th>\n",
       "      <th>Rank</th>\n",
       "      <th>Predicted Rank</th>\n",
       "      <th>Difference</th>\n",
       "      <th>Year</th>\n",
       "    </tr>\n",
       "  </thead>\n",
       "  <tbody>\n",
       "    <tr>\n",
       "      <th>7823</th>\n",
       "      <td>Nikola Jokić</td>\n",
       "      <td>0.674</td>\n",
       "      <td>0.690522</td>\n",
       "      <td>2.0</td>\n",
       "      <td>1.0</td>\n",
       "      <td>1.0</td>\n",
       "      <td>2023</td>\n",
       "    </tr>\n",
       "    <tr>\n",
       "      <th>18517</th>\n",
       "      <td>Joel Embiid</td>\n",
       "      <td>0.915</td>\n",
       "      <td>0.367770</td>\n",
       "      <td>1.0</td>\n",
       "      <td>2.0</td>\n",
       "      <td>-1.0</td>\n",
       "      <td>2023</td>\n",
       "    </tr>\n",
       "    <tr>\n",
       "      <th>7315</th>\n",
       "      <td>Giannis Antetokounmpo</td>\n",
       "      <td>0.606</td>\n",
       "      <td>0.210678</td>\n",
       "      <td>3.0</td>\n",
       "      <td>3.0</td>\n",
       "      <td>0.0</td>\n",
       "      <td>2023</td>\n",
       "    </tr>\n",
       "    <tr>\n",
       "      <th>9535</th>\n",
       "      <td>Jayson Tatum</td>\n",
       "      <td>0.280</td>\n",
       "      <td>0.138125</td>\n",
       "      <td>4.0</td>\n",
       "      <td>4.0</td>\n",
       "      <td>0.0</td>\n",
       "      <td>2023</td>\n",
       "    </tr>\n",
       "    <tr>\n",
       "      <th>7407</th>\n",
       "      <td>Luka Dončić</td>\n",
       "      <td>0.010</td>\n",
       "      <td>0.060247</td>\n",
       "      <td>8.0</td>\n",
       "      <td>5.0</td>\n",
       "      <td>3.0</td>\n",
       "      <td>2023</td>\n",
       "    </tr>\n",
       "    <tr>\n",
       "      <th>17623</th>\n",
       "      <td>Donovan Mitchell</td>\n",
       "      <td>0.030</td>\n",
       "      <td>0.051468</td>\n",
       "      <td>6.0</td>\n",
       "      <td>6.0</td>\n",
       "      <td>0.0</td>\n",
       "      <td>2023</td>\n",
       "    </tr>\n",
       "    <tr>\n",
       "      <th>8336</th>\n",
       "      <td>Shai Gilgeous-Alexander</td>\n",
       "      <td>0.046</td>\n",
       "      <td>0.044135</td>\n",
       "      <td>5.0</td>\n",
       "      <td>7.0</td>\n",
       "      <td>-2.0</td>\n",
       "      <td>2023</td>\n",
       "    </tr>\n",
       "    <tr>\n",
       "      <th>10690</th>\n",
       "      <td>Domantas Sabonis</td>\n",
       "      <td>0.027</td>\n",
       "      <td>0.015215</td>\n",
       "      <td>7.0</td>\n",
       "      <td>8.0</td>\n",
       "      <td>-1.0</td>\n",
       "      <td>2023</td>\n",
       "    </tr>\n",
       "    <tr>\n",
       "      <th>13984</th>\n",
       "      <td>Anthony Davis</td>\n",
       "      <td>0.000</td>\n",
       "      <td>0.011431</td>\n",
       "      <td>14.0</td>\n",
       "      <td>9.0</td>\n",
       "      <td>5.0</td>\n",
       "      <td>2023</td>\n",
       "    </tr>\n",
       "    <tr>\n",
       "      <th>16768</th>\n",
       "      <td>Ja Morant</td>\n",
       "      <td>0.001</td>\n",
       "      <td>0.007817</td>\n",
       "      <td>12.0</td>\n",
       "      <td>10.0</td>\n",
       "      <td>2.0</td>\n",
       "      <td>2023</td>\n",
       "    </tr>\n",
       "  </tbody>\n",
       "</table>\n",
       "</div>"
      ],
      "text/plain": [
       "                        Player  Share  MVP Share Predictions  Rank  \\\n",
       "7823              Nikola Jokić  0.674               0.690522   2.0   \n",
       "18517              Joel Embiid  0.915               0.367770   1.0   \n",
       "7315     Giannis Antetokounmpo  0.606               0.210678   3.0   \n",
       "9535              Jayson Tatum  0.280               0.138125   4.0   \n",
       "7407               Luka Dončić  0.010               0.060247   8.0   \n",
       "17623         Donovan Mitchell  0.030               0.051468   6.0   \n",
       "8336   Shai Gilgeous-Alexander  0.046               0.044135   5.0   \n",
       "10690         Domantas Sabonis  0.027               0.015215   7.0   \n",
       "13984            Anthony Davis  0.000               0.011431  14.0   \n",
       "16768                Ja Morant  0.001               0.007817  12.0   \n",
       "\n",
       "       Predicted Rank  Difference  Year  \n",
       "7823              1.0         1.0  2023  \n",
       "18517             2.0        -1.0  2023  \n",
       "7315              3.0         0.0  2023  \n",
       "9535              4.0         0.0  2023  \n",
       "7407              5.0         3.0  2023  \n",
       "17623             6.0         0.0  2023  \n",
       "8336              7.0        -2.0  2023  \n",
       "10690             8.0        -1.0  2023  \n",
       "13984             9.0         5.0  2023  \n",
       "16768            10.0         2.0  2023  "
      ]
     },
     "execution_count": 261,
     "metadata": {},
     "output_type": "execute_result"
    }
   ],
   "source": [
    "all_predictions_xgb_vf[all_predictions_xgb_vf[\"Year\"] == 2023].sort_values(\"Predicted Rank\").head(10)"
   ]
  },
  {
   "cell_type": "code",
   "execution_count": 179,
   "id": "d5e0beae",
   "metadata": {},
   "outputs": [],
   "source": [
    "mse_arrays = [mse_ar, mse_ar_rf, mse_ar_rf_n, mse_ar_rf_votefatigue,\n",
    "              mse_ar_lr_votefatigue, mse_ar_xgb_vf, mse_ar_xgb]\n",
    "apk_arrays = [apk_ar, apk_ar_rf, apk_ar_rf_n, apk_ar_rf_votefatigue, \n",
    "              apk_ar_lr_votefatigue, apk_ar_xgb_vf, apk_ar_xgb]"
   ]
  },
  {
   "cell_type": "code",
   "execution_count": 330,
   "id": "5aa83968",
   "metadata": {},
   "outputs": [],
   "source": [
    "def checking_recent_years(list_of_model_arrays, year_to_start):\n",
    "    year_index = years.index(year_to_start) - 4\n",
    "    results = []\n",
    "    results.append(year_to_start)\n",
    "    for model in list_of_model_arrays:\n",
    "        results.append(sum(model[:year_index]) / len(model[:year_index]))\n",
    "    return results"
   ]
  },
  {
   "cell_type": "code",
   "execution_count": 331,
   "id": "5d44c520",
   "metadata": {},
   "outputs": [],
   "source": [
    "# Converting this data to dataframe so I can graph\n",
    "every_year_mse_results = []\n",
    "every_year_apk_results = []\n",
    "for year in years[5:]:\n",
    "    up_to_year_accuracy_mse = checking_recent_years(mse_arrays, year)\n",
    "    up_to_year_accuracy_apk = checking_recent_years(apk_arrays, year)\n",
    "    every_year_mse_results.append(up_to_year_accuracy_mse)\n",
    "    every_year_apk_results.append(up_to_year_accuracy_apk)"
   ]
  },
  {
   "cell_type": "code",
   "execution_count": 332,
   "id": "26e7bb3e",
   "metadata": {},
   "outputs": [],
   "source": [
    "graphing_results_mse_df = pd.DataFrame(data=every_year_mse_results, columns = [\"Year\", \"Ridge Regression\", \"Random Forest Naive\",\n",
    "                                              \"Random Forest Normalized\", \"Random Forest w/Voter Fatigue\",\n",
    "                                              \"Linear Regression w/Voter Fatigue\", \"XGradient Boost w/Voter Fatigue\", \"XGradient Boost\"])\n",
    "\n",
    "graphing_results_apk_df = pd.DataFrame(data=every_year_apk_results, columns = [\"Year\", \"Ridge Regression\", \"Random Forest Naive\",\n",
    "                                              \"Random Forest Normalized\", \"Random Forest w/Voter Fatigue\",\n",
    "                                              \"Linear Regression w/Voter Fatigue\", \"XGradient Boost w/Voter Fatigue\", \"XGradient Boost\"])"
   ]
  },
  {
   "cell_type": "code",
   "execution_count": 338,
   "id": "34212616",
   "metadata": {},
   "outputs": [],
   "source": [
    "important_columns = [\"Year\", \"Ridge Regression\", \"Linear Regression\", \"Random Forest w/Voter Fatigue\", \"XGradient Boost w/Voter Fatigue\", \"XGradient Boost\"]"
   ]
  },
  {
   "cell_type": "code",
   "execution_count": 340,
   "id": "a748db37",
   "metadata": {},
   "outputs": [
    {
     "data": {
      "application/vnd.plotly.v1+json": {
       "config": {
        "plotlyServerURL": "https://plot.ly"
       },
       "data": [
        {
         "hovertemplate": "variable=Ridge Regression<br>Year=%{x}<br>value=%{y}<extra></extra>",
         "legendgroup": "Ridge Regression",
         "line": {
          "color": "#636efa",
          "dash": "solid"
         },
         "marker": {
          "symbol": "circle"
         },
         "mode": "lines",
         "name": "Ridge Regression",
         "orientation": "v",
         "showlegend": true,
         "type": "scatter",
         "x": [
          1985,
          1986,
          1987,
          1988,
          1989,
          1990,
          1991,
          1992,
          1993,
          1994,
          1995,
          1996,
          1997,
          1998,
          1999,
          2000,
          2001,
          2002,
          2003,
          2004,
          2005,
          2006,
          2007,
          2008,
          2009,
          2010,
          2011,
          2012,
          2013,
          2014,
          2015,
          2016,
          2017,
          2018,
          2019,
          2020,
          2021,
          2022,
          2023
         ],
         "xaxis": "x",
         "y": [
          177.4,
          122.55000000000001,
          83.96666666666668,
          64.00000000000001,
          56.60000000000001,
          476,
          408.90000000000003,
          365.225,
          338.6333333333334,
          334.77000000000004,
          306.33636363636367,
          283.73333333333335,
          279.9153846153846,
          310.99285714285713,
          293.41999999999996,
          275.66874999999993,
          261.5764705882352,
          248.48333333333326,
          236.4526315789473,
          232.1649999999999,
          225.43333333333325,
          220.4863636363636,
          212.56086956521733,
          204.88749999999993,
          200.75599999999994,
          195.10769230769225,
          214.6444444444444,
          220.36428571428567,
          214.26551724137929,
          208.19666666666663,
          201.83870967741933,
          195.85312499999998,
          190.49090909090907,
          186.78235294117644,
          182.43142857142854,
          178.64444444444442,
          248.19729729729727,
          242.64210526315787,
          236.84358974358975
         ],
         "yaxis": "y"
        },
        {
         "hovertemplate": "variable=Random Forest Naive<br>Year=%{x}<br>value=%{y}<extra></extra>",
         "legendgroup": "Random Forest Naive",
         "line": {
          "color": "#EF553B",
          "dash": "solid"
         },
         "marker": {
          "symbol": "circle"
         },
         "mode": "lines",
         "name": "Random Forest Naive",
         "orientation": "v",
         "showlegend": true,
         "type": "scatter",
         "x": [
          1985,
          1986,
          1987,
          1988,
          1989,
          1990,
          1991,
          1992,
          1993,
          1994,
          1995,
          1996,
          1997,
          1998,
          1999,
          2000,
          2001,
          2002,
          2003,
          2004,
          2005,
          2006,
          2007,
          2008,
          2009,
          2010,
          2011,
          2012,
          2013,
          2014,
          2015,
          2016,
          2017,
          2018,
          2019,
          2020,
          2021,
          2022,
          2023
         ],
         "xaxis": "x",
         "y": [
          43.8,
          33.15,
          34.56666666666666,
          27.349999999999998,
          25.639999999999997,
          41.48333333333333,
          45.142857142857146,
          43.025,
          41.544444444444444,
          46.559999999999995,
          43.67272727272727,
          40.525,
          41.31538461538461,
          50.33571428571428,
          47.97333333333333,
          45.49374999999999,
          43.40588235294117,
          42.29444444444444,
          40.431578947368415,
          45.57999999999999,
          44.62857142857142,
          45.07272727272726,
          43.8086956521739,
          45.92083333333333,
          48.792,
          47.92307692307692,
          46.72592592592592,
          46.060714285714276,
          44.8,
          43.813333333333325,
          43.03870967741935,
          42.059374999999996,
          41.28787878787878,
          40.95294117647058,
          40.262857142857136,
          44.599999999999994,
          65.36486486486487,
          63.86578947368421,
          62.338461538461544
         ],
         "yaxis": "y"
        },
        {
         "hovertemplate": "variable=Random Forest Normalized<br>Year=%{x}<br>value=%{y}<extra></extra>",
         "legendgroup": "Random Forest Normalized",
         "line": {
          "color": "#00cc96",
          "dash": "solid"
         },
         "marker": {
          "symbol": "circle"
         },
         "mode": "lines",
         "name": "Random Forest Normalized",
         "orientation": "v",
         "showlegend": true,
         "type": "scatter",
         "x": [
          1985,
          1986,
          1987,
          1988,
          1989,
          1990,
          1991,
          1992,
          1993,
          1994,
          1995,
          1996,
          1997,
          1998,
          1999,
          2000,
          2001,
          2002,
          2003,
          2004,
          2005,
          2006,
          2007,
          2008,
          2009,
          2010,
          2011,
          2012,
          2013,
          2014,
          2015,
          2016,
          2017,
          2018,
          2019,
          2020,
          2021,
          2022,
          2023
         ],
         "xaxis": "x",
         "y": [
          56.8,
          41.3,
          35.5,
          29.525,
          25.04,
          37.833333333333336,
          39.57142857142857,
          40.6,
          38.2,
          39.2,
          37.85454545454545,
          35.4,
          37.35384615384615,
          47.92857142857143,
          45.35333333333333,
          42.918749999999996,
          41.58235294117647,
          40.77222222222222,
          39.13157894736842,
          46.089999999999996,
          45.785714285714285,
          45.300000000000004,
          47.60434782608696,
          47.49583333333334,
          46.98400000000001,
          46.00769230769231,
          45.01851851851852,
          44.83571428571429,
          43.92758620689656,
          43.15,
          42.50645161290323,
          41.834375,
          40.89393939393939,
          40.45294117647059,
          39.92857142857143,
          43.43333333333333,
          72.07567567567568,
          70.87894736842105,
          69.35384615384616
         ],
         "yaxis": "y"
        },
        {
         "hovertemplate": "variable=Random Forest w/Voter Fatigue<br>Year=%{x}<br>value=%{y}<extra></extra>",
         "legendgroup": "Random Forest w/Voter Fatigue",
         "line": {
          "color": "#ab63fa",
          "dash": "solid"
         },
         "marker": {
          "symbol": "circle"
         },
         "mode": "lines",
         "name": "Random Forest w/Voter Fatigue",
         "orientation": "v",
         "showlegend": true,
         "type": "scatter",
         "x": [
          1985,
          1986,
          1987,
          1988,
          1989,
          1990,
          1991,
          1992,
          1993,
          1994,
          1995,
          1996,
          1997,
          1998,
          1999,
          2000,
          2001,
          2002,
          2003,
          2004,
          2005,
          2006,
          2007,
          2008,
          2009,
          2010,
          2011,
          2012,
          2013,
          2014,
          2015,
          2016,
          2017,
          2018,
          2019,
          2020,
          2021,
          2022,
          2023
         ],
         "xaxis": "x",
         "y": [
          28.2,
          24.75,
          31.633333333333336,
          25.3,
          25.5,
          36.28333333333333,
          36.385714285714286,
          35.8625,
          35.32222222222222,
          39.82,
          37.68181818181818,
          35.06666666666667,
          35.57692307692308,
          45.67857142857143,
          43.71333333333334,
          41.5,
          39.77058823529412,
          38.94444444444444,
          37.294736842105266,
          41.715,
          41.30476190476191,
          42.1,
          41.08695652173913,
          42.4375,
          44.468,
          43.73461538461539,
          42.83703703703704,
          41.88571428571429,
          40.71724137931035,
          39.78666666666667,
          39.035483870967745,
          38.128125000000004,
          37.51818181818182,
          37.400000000000006,
          36.777142857142856,
          40.075,
          55.516216216216215,
          54.276315789473685,
          53.02564102564103
         ],
         "yaxis": "y"
        },
        {
         "hovertemplate": "variable=Linear Regression w/Voter Fatigue<br>Year=%{x}<br>value=%{y}<extra></extra>",
         "legendgroup": "Linear Regression w/Voter Fatigue",
         "line": {
          "color": "#FFA15A",
          "dash": "solid"
         },
         "marker": {
          "symbol": "circle"
         },
         "mode": "lines",
         "name": "Linear Regression w/Voter Fatigue",
         "orientation": "v",
         "showlegend": true,
         "type": "scatter",
         "x": [
          1985,
          1986,
          1987,
          1988,
          1989,
          1990,
          1991,
          1992,
          1993,
          1994,
          1995,
          1996,
          1997,
          1998,
          1999,
          2000,
          2001,
          2002,
          2003,
          2004,
          2005,
          2006,
          2007,
          2008,
          2009,
          2010,
          2011,
          2012,
          2013,
          2014,
          2015,
          2016,
          2017,
          2018,
          2019,
          2020,
          2021,
          2022,
          2023
         ],
         "xaxis": "x",
         "y": [
          248.3,
          222.85000000000002,
          155.5666666666667,
          118.47500000000001,
          104.14000000000001,
          666.9166666666666,
          573.9857142857143,
          514.4,
          481.9222222222222,
          448.0400000000001,
          409.9636363636364,
          378.3833333333334,
          462.7692307692308,
          462.86428571428576,
          656.9600000000002,
          616.4875000000001,
          583.1411764705883,
          552.9611111111112,
          525.0368421052632,
          510.31500000000005,
          490.00952380952384,
          470.2454545454546,
          451.4173913043479,
          433.63333333333344,
          421.9040000000001,
          408.54230769230776,
          420.5222222222223,
          429.2821428571429,
          416.66551724137935,
          404.6766666666667,
          392.8548387096775,
          381.04375000000005,
          369.99696969696976,
          362.01764705882357,
          352.20571428571435,
          344.0472222222223,
          336.0621621621622,
          328.6236842105264,
          320.9410256410257
         ],
         "yaxis": "y"
        },
        {
         "hovertemplate": "variable=XGradient Boost w/Voter Fatigue<br>Year=%{x}<br>value=%{y}<extra></extra>",
         "legendgroup": "XGradient Boost w/Voter Fatigue",
         "line": {
          "color": "#19d3f3",
          "dash": "solid"
         },
         "marker": {
          "symbol": "circle"
         },
         "mode": "lines",
         "name": "XGradient Boost w/Voter Fatigue",
         "orientation": "v",
         "showlegend": true,
         "type": "scatter",
         "x": [
          1985,
          1986,
          1987,
          1988,
          1989,
          1990,
          1991,
          1992,
          1993,
          1994,
          1995,
          1996,
          1997,
          1998,
          1999,
          2000,
          2001,
          2002,
          2003,
          2004,
          2005,
          2006,
          2007,
          2008,
          2009,
          2010,
          2011,
          2012,
          2013,
          2014,
          2015,
          2016,
          2017,
          2018,
          2019,
          2020,
          2021,
          2022,
          2023
         ],
         "xaxis": "x",
         "y": [
          34.1,
          19.85,
          15.600000000000001,
          11.975000000000001,
          10.420000000000002,
          20.900000000000002,
          21.928571428571427,
          29.8875,
          32.21111111111111,
          32.98,
          30.263636363636362,
          28.349999999999998,
          34.80769230769231,
          33.74285714285714,
          32.43333333333333,
          30.675,
          29.38823529411765,
          29.350000000000005,
          28.89473684210527,
          34.84000000000001,
          34.5904761904762,
          33.59545454545456,
          32.67391304347827,
          32.08750000000001,
          31.76800000000001,
          30.650000000000013,
          30.055555555555568,
          33.13571428571429,
          32.26896551724139,
          32.31333333333335,
          32.3483870967742,
          31.58750000000001,
          30.95151515151516,
          30.679411764705893,
          30.094285714285725,
          30.45277777777779,
          62.54594594594597,
          61.16315789473686,
          59.73846153846156
         ],
         "yaxis": "y"
        },
        {
         "hovertemplate": "variable=XGradient Boost<br>Year=%{x}<br>value=%{y}<extra></extra>",
         "legendgroup": "XGradient Boost",
         "line": {
          "color": "#FF6692",
          "dash": "solid"
         },
         "marker": {
          "symbol": "circle"
         },
         "mode": "lines",
         "name": "XGradient Boost",
         "orientation": "v",
         "showlegend": true,
         "type": "scatter",
         "x": [
          1985,
          1986,
          1987,
          1988,
          1989,
          1990,
          1991,
          1992,
          1993,
          1994,
          1995,
          1996,
          1997,
          1998,
          1999,
          2000,
          2001,
          2002,
          2003,
          2004,
          2005,
          2006,
          2007,
          2008,
          2009,
          2010,
          2011,
          2012,
          2013,
          2014,
          2015,
          2016,
          2017,
          2018,
          2019,
          2020,
          2021,
          2022,
          2023
         ],
         "xaxis": "x",
         "y": [
          34.1,
          19.85,
          15.533333333333333,
          12,
          10.26,
          23.5,
          24.157142857142855,
          29.9375,
          32.166666666666664,
          33.63,
          30.89090909090909,
          28.925,
          32.95384615384616,
          31.97142857142857,
          30.673333333333336,
          29.09375,
          27.900000000000002,
          27.944444444444443,
          27.436842105263157,
          32.48,
          32.266666666666666,
          31.209090909090904,
          30.356521739130432,
          29.866666666666664,
          29.656,
          28.634615384615383,
          28.114814814814817,
          29.63214285714286,
          28.889655172413796,
          29.113333333333337,
          29.512903225806454,
          28.740625,
          28.312121212121212,
          28.044117647058826,
          27.551428571428573,
          27.780555555555555,
          58.975675675675674,
          57.87105263157895,
          56.56153846153846
         ],
         "yaxis": "y"
        }
       ],
       "layout": {
        "legend": {
         "title": {
          "text": "variable"
         },
         "tracegroupgap": 0
        },
        "margin": {
         "t": 60
        },
        "template": {
         "data": {
          "bar": [
           {
            "error_x": {
             "color": "#2a3f5f"
            },
            "error_y": {
             "color": "#2a3f5f"
            },
            "marker": {
             "line": {
              "color": "#E5ECF6",
              "width": 0.5
             },
             "pattern": {
              "fillmode": "overlay",
              "size": 10,
              "solidity": 0.2
             }
            },
            "type": "bar"
           }
          ],
          "barpolar": [
           {
            "marker": {
             "line": {
              "color": "#E5ECF6",
              "width": 0.5
             },
             "pattern": {
              "fillmode": "overlay",
              "size": 10,
              "solidity": 0.2
             }
            },
            "type": "barpolar"
           }
          ],
          "carpet": [
           {
            "aaxis": {
             "endlinecolor": "#2a3f5f",
             "gridcolor": "white",
             "linecolor": "white",
             "minorgridcolor": "white",
             "startlinecolor": "#2a3f5f"
            },
            "baxis": {
             "endlinecolor": "#2a3f5f",
             "gridcolor": "white",
             "linecolor": "white",
             "minorgridcolor": "white",
             "startlinecolor": "#2a3f5f"
            },
            "type": "carpet"
           }
          ],
          "choropleth": [
           {
            "colorbar": {
             "outlinewidth": 0,
             "ticks": ""
            },
            "type": "choropleth"
           }
          ],
          "contour": [
           {
            "colorbar": {
             "outlinewidth": 0,
             "ticks": ""
            },
            "colorscale": [
             [
              0,
              "#0d0887"
             ],
             [
              0.1111111111111111,
              "#46039f"
             ],
             [
              0.2222222222222222,
              "#7201a8"
             ],
             [
              0.3333333333333333,
              "#9c179e"
             ],
             [
              0.4444444444444444,
              "#bd3786"
             ],
             [
              0.5555555555555556,
              "#d8576b"
             ],
             [
              0.6666666666666666,
              "#ed7953"
             ],
             [
              0.7777777777777778,
              "#fb9f3a"
             ],
             [
              0.8888888888888888,
              "#fdca26"
             ],
             [
              1,
              "#f0f921"
             ]
            ],
            "type": "contour"
           }
          ],
          "contourcarpet": [
           {
            "colorbar": {
             "outlinewidth": 0,
             "ticks": ""
            },
            "type": "contourcarpet"
           }
          ],
          "heatmap": [
           {
            "colorbar": {
             "outlinewidth": 0,
             "ticks": ""
            },
            "colorscale": [
             [
              0,
              "#0d0887"
             ],
             [
              0.1111111111111111,
              "#46039f"
             ],
             [
              0.2222222222222222,
              "#7201a8"
             ],
             [
              0.3333333333333333,
              "#9c179e"
             ],
             [
              0.4444444444444444,
              "#bd3786"
             ],
             [
              0.5555555555555556,
              "#d8576b"
             ],
             [
              0.6666666666666666,
              "#ed7953"
             ],
             [
              0.7777777777777778,
              "#fb9f3a"
             ],
             [
              0.8888888888888888,
              "#fdca26"
             ],
             [
              1,
              "#f0f921"
             ]
            ],
            "type": "heatmap"
           }
          ],
          "heatmapgl": [
           {
            "colorbar": {
             "outlinewidth": 0,
             "ticks": ""
            },
            "colorscale": [
             [
              0,
              "#0d0887"
             ],
             [
              0.1111111111111111,
              "#46039f"
             ],
             [
              0.2222222222222222,
              "#7201a8"
             ],
             [
              0.3333333333333333,
              "#9c179e"
             ],
             [
              0.4444444444444444,
              "#bd3786"
             ],
             [
              0.5555555555555556,
              "#d8576b"
             ],
             [
              0.6666666666666666,
              "#ed7953"
             ],
             [
              0.7777777777777778,
              "#fb9f3a"
             ],
             [
              0.8888888888888888,
              "#fdca26"
             ],
             [
              1,
              "#f0f921"
             ]
            ],
            "type": "heatmapgl"
           }
          ],
          "histogram": [
           {
            "marker": {
             "pattern": {
              "fillmode": "overlay",
              "size": 10,
              "solidity": 0.2
             }
            },
            "type": "histogram"
           }
          ],
          "histogram2d": [
           {
            "colorbar": {
             "outlinewidth": 0,
             "ticks": ""
            },
            "colorscale": [
             [
              0,
              "#0d0887"
             ],
             [
              0.1111111111111111,
              "#46039f"
             ],
             [
              0.2222222222222222,
              "#7201a8"
             ],
             [
              0.3333333333333333,
              "#9c179e"
             ],
             [
              0.4444444444444444,
              "#bd3786"
             ],
             [
              0.5555555555555556,
              "#d8576b"
             ],
             [
              0.6666666666666666,
              "#ed7953"
             ],
             [
              0.7777777777777778,
              "#fb9f3a"
             ],
             [
              0.8888888888888888,
              "#fdca26"
             ],
             [
              1,
              "#f0f921"
             ]
            ],
            "type": "histogram2d"
           }
          ],
          "histogram2dcontour": [
           {
            "colorbar": {
             "outlinewidth": 0,
             "ticks": ""
            },
            "colorscale": [
             [
              0,
              "#0d0887"
             ],
             [
              0.1111111111111111,
              "#46039f"
             ],
             [
              0.2222222222222222,
              "#7201a8"
             ],
             [
              0.3333333333333333,
              "#9c179e"
             ],
             [
              0.4444444444444444,
              "#bd3786"
             ],
             [
              0.5555555555555556,
              "#d8576b"
             ],
             [
              0.6666666666666666,
              "#ed7953"
             ],
             [
              0.7777777777777778,
              "#fb9f3a"
             ],
             [
              0.8888888888888888,
              "#fdca26"
             ],
             [
              1,
              "#f0f921"
             ]
            ],
            "type": "histogram2dcontour"
           }
          ],
          "mesh3d": [
           {
            "colorbar": {
             "outlinewidth": 0,
             "ticks": ""
            },
            "type": "mesh3d"
           }
          ],
          "parcoords": [
           {
            "line": {
             "colorbar": {
              "outlinewidth": 0,
              "ticks": ""
             }
            },
            "type": "parcoords"
           }
          ],
          "pie": [
           {
            "automargin": true,
            "type": "pie"
           }
          ],
          "scatter": [
           {
            "fillpattern": {
             "fillmode": "overlay",
             "size": 10,
             "solidity": 0.2
            },
            "type": "scatter"
           }
          ],
          "scatter3d": [
           {
            "line": {
             "colorbar": {
              "outlinewidth": 0,
              "ticks": ""
             }
            },
            "marker": {
             "colorbar": {
              "outlinewidth": 0,
              "ticks": ""
             }
            },
            "type": "scatter3d"
           }
          ],
          "scattercarpet": [
           {
            "marker": {
             "colorbar": {
              "outlinewidth": 0,
              "ticks": ""
             }
            },
            "type": "scattercarpet"
           }
          ],
          "scattergeo": [
           {
            "marker": {
             "colorbar": {
              "outlinewidth": 0,
              "ticks": ""
             }
            },
            "type": "scattergeo"
           }
          ],
          "scattergl": [
           {
            "marker": {
             "colorbar": {
              "outlinewidth": 0,
              "ticks": ""
             }
            },
            "type": "scattergl"
           }
          ],
          "scattermapbox": [
           {
            "marker": {
             "colorbar": {
              "outlinewidth": 0,
              "ticks": ""
             }
            },
            "type": "scattermapbox"
           }
          ],
          "scatterpolar": [
           {
            "marker": {
             "colorbar": {
              "outlinewidth": 0,
              "ticks": ""
             }
            },
            "type": "scatterpolar"
           }
          ],
          "scatterpolargl": [
           {
            "marker": {
             "colorbar": {
              "outlinewidth": 0,
              "ticks": ""
             }
            },
            "type": "scatterpolargl"
           }
          ],
          "scatterternary": [
           {
            "marker": {
             "colorbar": {
              "outlinewidth": 0,
              "ticks": ""
             }
            },
            "type": "scatterternary"
           }
          ],
          "surface": [
           {
            "colorbar": {
             "outlinewidth": 0,
             "ticks": ""
            },
            "colorscale": [
             [
              0,
              "#0d0887"
             ],
             [
              0.1111111111111111,
              "#46039f"
             ],
             [
              0.2222222222222222,
              "#7201a8"
             ],
             [
              0.3333333333333333,
              "#9c179e"
             ],
             [
              0.4444444444444444,
              "#bd3786"
             ],
             [
              0.5555555555555556,
              "#d8576b"
             ],
             [
              0.6666666666666666,
              "#ed7953"
             ],
             [
              0.7777777777777778,
              "#fb9f3a"
             ],
             [
              0.8888888888888888,
              "#fdca26"
             ],
             [
              1,
              "#f0f921"
             ]
            ],
            "type": "surface"
           }
          ],
          "table": [
           {
            "cells": {
             "fill": {
              "color": "#EBF0F8"
             },
             "line": {
              "color": "white"
             }
            },
            "header": {
             "fill": {
              "color": "#C8D4E3"
             },
             "line": {
              "color": "white"
             }
            },
            "type": "table"
           }
          ]
         },
         "layout": {
          "annotationdefaults": {
           "arrowcolor": "#2a3f5f",
           "arrowhead": 0,
           "arrowwidth": 1
          },
          "autotypenumbers": "strict",
          "coloraxis": {
           "colorbar": {
            "outlinewidth": 0,
            "ticks": ""
           }
          },
          "colorscale": {
           "diverging": [
            [
             0,
             "#8e0152"
            ],
            [
             0.1,
             "#c51b7d"
            ],
            [
             0.2,
             "#de77ae"
            ],
            [
             0.3,
             "#f1b6da"
            ],
            [
             0.4,
             "#fde0ef"
            ],
            [
             0.5,
             "#f7f7f7"
            ],
            [
             0.6,
             "#e6f5d0"
            ],
            [
             0.7,
             "#b8e186"
            ],
            [
             0.8,
             "#7fbc41"
            ],
            [
             0.9,
             "#4d9221"
            ],
            [
             1,
             "#276419"
            ]
           ],
           "sequential": [
            [
             0,
             "#0d0887"
            ],
            [
             0.1111111111111111,
             "#46039f"
            ],
            [
             0.2222222222222222,
             "#7201a8"
            ],
            [
             0.3333333333333333,
             "#9c179e"
            ],
            [
             0.4444444444444444,
             "#bd3786"
            ],
            [
             0.5555555555555556,
             "#d8576b"
            ],
            [
             0.6666666666666666,
             "#ed7953"
            ],
            [
             0.7777777777777778,
             "#fb9f3a"
            ],
            [
             0.8888888888888888,
             "#fdca26"
            ],
            [
             1,
             "#f0f921"
            ]
           ],
           "sequentialminus": [
            [
             0,
             "#0d0887"
            ],
            [
             0.1111111111111111,
             "#46039f"
            ],
            [
             0.2222222222222222,
             "#7201a8"
            ],
            [
             0.3333333333333333,
             "#9c179e"
            ],
            [
             0.4444444444444444,
             "#bd3786"
            ],
            [
             0.5555555555555556,
             "#d8576b"
            ],
            [
             0.6666666666666666,
             "#ed7953"
            ],
            [
             0.7777777777777778,
             "#fb9f3a"
            ],
            [
             0.8888888888888888,
             "#fdca26"
            ],
            [
             1,
             "#f0f921"
            ]
           ]
          },
          "colorway": [
           "#636efa",
           "#EF553B",
           "#00cc96",
           "#ab63fa",
           "#FFA15A",
           "#19d3f3",
           "#FF6692",
           "#B6E880",
           "#FF97FF",
           "#FECB52"
          ],
          "font": {
           "color": "#2a3f5f"
          },
          "geo": {
           "bgcolor": "white",
           "lakecolor": "white",
           "landcolor": "#E5ECF6",
           "showlakes": true,
           "showland": true,
           "subunitcolor": "white"
          },
          "hoverlabel": {
           "align": "left"
          },
          "hovermode": "closest",
          "mapbox": {
           "style": "light"
          },
          "paper_bgcolor": "white",
          "plot_bgcolor": "#E5ECF6",
          "polar": {
           "angularaxis": {
            "gridcolor": "white",
            "linecolor": "white",
            "ticks": ""
           },
           "bgcolor": "#E5ECF6",
           "radialaxis": {
            "gridcolor": "white",
            "linecolor": "white",
            "ticks": ""
           }
          },
          "scene": {
           "xaxis": {
            "backgroundcolor": "#E5ECF6",
            "gridcolor": "white",
            "gridwidth": 2,
            "linecolor": "white",
            "showbackground": true,
            "ticks": "",
            "zerolinecolor": "white"
           },
           "yaxis": {
            "backgroundcolor": "#E5ECF6",
            "gridcolor": "white",
            "gridwidth": 2,
            "linecolor": "white",
            "showbackground": true,
            "ticks": "",
            "zerolinecolor": "white"
           },
           "zaxis": {
            "backgroundcolor": "#E5ECF6",
            "gridcolor": "white",
            "gridwidth": 2,
            "linecolor": "white",
            "showbackground": true,
            "ticks": "",
            "zerolinecolor": "white"
           }
          },
          "shapedefaults": {
           "line": {
            "color": "#2a3f5f"
           }
          },
          "ternary": {
           "aaxis": {
            "gridcolor": "white",
            "linecolor": "white",
            "ticks": ""
           },
           "baxis": {
            "gridcolor": "white",
            "linecolor": "white",
            "ticks": ""
           },
           "bgcolor": "#E5ECF6",
           "caxis": {
            "gridcolor": "white",
            "linecolor": "white",
            "ticks": ""
           }
          },
          "title": {
           "x": 0.05
          },
          "xaxis": {
           "automargin": true,
           "gridcolor": "white",
           "linecolor": "white",
           "ticks": "",
           "title": {
            "standoff": 15
           },
           "zerolinecolor": "white",
           "zerolinewidth": 2
          },
          "yaxis": {
           "automargin": true,
           "gridcolor": "white",
           "linecolor": "white",
           "ticks": "",
           "title": {
            "standoff": 15
           },
           "zerolinecolor": "white",
           "zerolinewidth": 2
          }
         }
        },
        "xaxis": {
         "anchor": "y",
         "domain": [
          0,
          1
         ],
         "title": {
          "text": "Year"
         }
        },
        "yaxis": {
         "anchor": "x",
         "domain": [
          0,
          1
         ],
         "title": {
          "text": "value"
         }
        }
       }
      },
      "text/html": [
       "<div>                            <div id=\"faa0cc83-2df8-41ce-b208-831b6da1e604\" class=\"plotly-graph-div\" style=\"height:525px; width:100%;\"></div>            <script type=\"text/javascript\">                require([\"plotly\"], function(Plotly) {                    window.PLOTLYENV=window.PLOTLYENV || {};                                    if (document.getElementById(\"faa0cc83-2df8-41ce-b208-831b6da1e604\")) {                    Plotly.newPlot(                        \"faa0cc83-2df8-41ce-b208-831b6da1e604\",                        [{\"hovertemplate\":\"variable=Ridge Regression<br>Year=%{x}<br>value=%{y}<extra></extra>\",\"legendgroup\":\"Ridge Regression\",\"line\":{\"color\":\"#636efa\",\"dash\":\"solid\"},\"marker\":{\"symbol\":\"circle\"},\"mode\":\"lines\",\"name\":\"Ridge Regression\",\"orientation\":\"v\",\"showlegend\":true,\"x\":[1985,1986,1987,1988,1989,1990,1991,1992,1993,1994,1995,1996,1997,1998,1999,2000,2001,2002,2003,2004,2005,2006,2007,2008,2009,2010,2011,2012,2013,2014,2015,2016,2017,2018,2019,2020,2021,2022,2023],\"xaxis\":\"x\",\"y\":[177.4,122.55000000000001,83.96666666666668,64.00000000000001,56.60000000000001,476.0,408.90000000000003,365.225,338.6333333333334,334.77000000000004,306.33636363636367,283.73333333333335,279.9153846153846,310.99285714285713,293.41999999999996,275.66874999999993,261.5764705882352,248.48333333333326,236.4526315789473,232.1649999999999,225.43333333333325,220.4863636363636,212.56086956521733,204.88749999999993,200.75599999999994,195.10769230769225,214.6444444444444,220.36428571428567,214.26551724137929,208.19666666666663,201.83870967741933,195.85312499999998,190.49090909090907,186.78235294117644,182.43142857142854,178.64444444444442,248.19729729729727,242.64210526315787,236.84358974358975],\"yaxis\":\"y\",\"type\":\"scatter\"},{\"hovertemplate\":\"variable=Random Forest Naive<br>Year=%{x}<br>value=%{y}<extra></extra>\",\"legendgroup\":\"Random Forest Naive\",\"line\":{\"color\":\"#EF553B\",\"dash\":\"solid\"},\"marker\":{\"symbol\":\"circle\"},\"mode\":\"lines\",\"name\":\"Random Forest Naive\",\"orientation\":\"v\",\"showlegend\":true,\"x\":[1985,1986,1987,1988,1989,1990,1991,1992,1993,1994,1995,1996,1997,1998,1999,2000,2001,2002,2003,2004,2005,2006,2007,2008,2009,2010,2011,2012,2013,2014,2015,2016,2017,2018,2019,2020,2021,2022,2023],\"xaxis\":\"x\",\"y\":[43.8,33.15,34.56666666666666,27.349999999999998,25.639999999999997,41.48333333333333,45.142857142857146,43.025,41.544444444444444,46.559999999999995,43.67272727272727,40.525,41.31538461538461,50.33571428571428,47.97333333333333,45.49374999999999,43.40588235294117,42.29444444444444,40.431578947368415,45.57999999999999,44.62857142857142,45.07272727272726,43.8086956521739,45.92083333333333,48.792,47.92307692307692,46.72592592592592,46.060714285714276,44.8,43.813333333333325,43.03870967741935,42.059374999999996,41.28787878787878,40.95294117647058,40.262857142857136,44.599999999999994,65.36486486486487,63.86578947368421,62.338461538461544],\"yaxis\":\"y\",\"type\":\"scatter\"},{\"hovertemplate\":\"variable=Random Forest Normalized<br>Year=%{x}<br>value=%{y}<extra></extra>\",\"legendgroup\":\"Random Forest Normalized\",\"line\":{\"color\":\"#00cc96\",\"dash\":\"solid\"},\"marker\":{\"symbol\":\"circle\"},\"mode\":\"lines\",\"name\":\"Random Forest Normalized\",\"orientation\":\"v\",\"showlegend\":true,\"x\":[1985,1986,1987,1988,1989,1990,1991,1992,1993,1994,1995,1996,1997,1998,1999,2000,2001,2002,2003,2004,2005,2006,2007,2008,2009,2010,2011,2012,2013,2014,2015,2016,2017,2018,2019,2020,2021,2022,2023],\"xaxis\":\"x\",\"y\":[56.8,41.3,35.5,29.525,25.04,37.833333333333336,39.57142857142857,40.6,38.2,39.2,37.85454545454545,35.4,37.35384615384615,47.92857142857143,45.35333333333333,42.918749999999996,41.58235294117647,40.77222222222222,39.13157894736842,46.089999999999996,45.785714285714285,45.300000000000004,47.60434782608696,47.49583333333334,46.98400000000001,46.00769230769231,45.01851851851852,44.83571428571429,43.92758620689656,43.15,42.50645161290323,41.834375,40.89393939393939,40.45294117647059,39.92857142857143,43.43333333333333,72.07567567567568,70.87894736842105,69.35384615384616],\"yaxis\":\"y\",\"type\":\"scatter\"},{\"hovertemplate\":\"variable=Random Forest w/Voter Fatigue<br>Year=%{x}<br>value=%{y}<extra></extra>\",\"legendgroup\":\"Random Forest w/Voter Fatigue\",\"line\":{\"color\":\"#ab63fa\",\"dash\":\"solid\"},\"marker\":{\"symbol\":\"circle\"},\"mode\":\"lines\",\"name\":\"Random Forest w/Voter Fatigue\",\"orientation\":\"v\",\"showlegend\":true,\"x\":[1985,1986,1987,1988,1989,1990,1991,1992,1993,1994,1995,1996,1997,1998,1999,2000,2001,2002,2003,2004,2005,2006,2007,2008,2009,2010,2011,2012,2013,2014,2015,2016,2017,2018,2019,2020,2021,2022,2023],\"xaxis\":\"x\",\"y\":[28.2,24.75,31.633333333333336,25.3,25.5,36.28333333333333,36.385714285714286,35.8625,35.32222222222222,39.82,37.68181818181818,35.06666666666667,35.57692307692308,45.67857142857143,43.71333333333334,41.5,39.77058823529412,38.94444444444444,37.294736842105266,41.715,41.30476190476191,42.1,41.08695652173913,42.4375,44.468,43.73461538461539,42.83703703703704,41.88571428571429,40.71724137931035,39.78666666666667,39.035483870967745,38.128125000000004,37.51818181818182,37.400000000000006,36.777142857142856,40.075,55.516216216216215,54.276315789473685,53.02564102564103],\"yaxis\":\"y\",\"type\":\"scatter\"},{\"hovertemplate\":\"variable=Linear Regression w/Voter Fatigue<br>Year=%{x}<br>value=%{y}<extra></extra>\",\"legendgroup\":\"Linear Regression w/Voter Fatigue\",\"line\":{\"color\":\"#FFA15A\",\"dash\":\"solid\"},\"marker\":{\"symbol\":\"circle\"},\"mode\":\"lines\",\"name\":\"Linear Regression w/Voter Fatigue\",\"orientation\":\"v\",\"showlegend\":true,\"x\":[1985,1986,1987,1988,1989,1990,1991,1992,1993,1994,1995,1996,1997,1998,1999,2000,2001,2002,2003,2004,2005,2006,2007,2008,2009,2010,2011,2012,2013,2014,2015,2016,2017,2018,2019,2020,2021,2022,2023],\"xaxis\":\"x\",\"y\":[248.3,222.85000000000002,155.5666666666667,118.47500000000001,104.14000000000001,666.9166666666666,573.9857142857143,514.4,481.9222222222222,448.0400000000001,409.9636363636364,378.3833333333334,462.7692307692308,462.86428571428576,656.9600000000002,616.4875000000001,583.1411764705883,552.9611111111112,525.0368421052632,510.31500000000005,490.00952380952384,470.2454545454546,451.4173913043479,433.63333333333344,421.9040000000001,408.54230769230776,420.5222222222223,429.2821428571429,416.66551724137935,404.6766666666667,392.8548387096775,381.04375000000005,369.99696969696976,362.01764705882357,352.20571428571435,344.0472222222223,336.0621621621622,328.6236842105264,320.9410256410257],\"yaxis\":\"y\",\"type\":\"scatter\"},{\"hovertemplate\":\"variable=XGradient Boost w/Voter Fatigue<br>Year=%{x}<br>value=%{y}<extra></extra>\",\"legendgroup\":\"XGradient Boost w/Voter Fatigue\",\"line\":{\"color\":\"#19d3f3\",\"dash\":\"solid\"},\"marker\":{\"symbol\":\"circle\"},\"mode\":\"lines\",\"name\":\"XGradient Boost w/Voter Fatigue\",\"orientation\":\"v\",\"showlegend\":true,\"x\":[1985,1986,1987,1988,1989,1990,1991,1992,1993,1994,1995,1996,1997,1998,1999,2000,2001,2002,2003,2004,2005,2006,2007,2008,2009,2010,2011,2012,2013,2014,2015,2016,2017,2018,2019,2020,2021,2022,2023],\"xaxis\":\"x\",\"y\":[34.1,19.85,15.600000000000001,11.975000000000001,10.420000000000002,20.900000000000002,21.928571428571427,29.8875,32.21111111111111,32.98,30.263636363636362,28.349999999999998,34.80769230769231,33.74285714285714,32.43333333333333,30.675,29.38823529411765,29.350000000000005,28.89473684210527,34.84000000000001,34.5904761904762,33.59545454545456,32.67391304347827,32.08750000000001,31.76800000000001,30.650000000000013,30.055555555555568,33.13571428571429,32.26896551724139,32.31333333333335,32.3483870967742,31.58750000000001,30.95151515151516,30.679411764705893,30.094285714285725,30.45277777777779,62.54594594594597,61.16315789473686,59.73846153846156],\"yaxis\":\"y\",\"type\":\"scatter\"},{\"hovertemplate\":\"variable=XGradient Boost<br>Year=%{x}<br>value=%{y}<extra></extra>\",\"legendgroup\":\"XGradient Boost\",\"line\":{\"color\":\"#FF6692\",\"dash\":\"solid\"},\"marker\":{\"symbol\":\"circle\"},\"mode\":\"lines\",\"name\":\"XGradient Boost\",\"orientation\":\"v\",\"showlegend\":true,\"x\":[1985,1986,1987,1988,1989,1990,1991,1992,1993,1994,1995,1996,1997,1998,1999,2000,2001,2002,2003,2004,2005,2006,2007,2008,2009,2010,2011,2012,2013,2014,2015,2016,2017,2018,2019,2020,2021,2022,2023],\"xaxis\":\"x\",\"y\":[34.1,19.85,15.533333333333333,12.0,10.26,23.5,24.157142857142855,29.9375,32.166666666666664,33.63,30.89090909090909,28.925,32.95384615384616,31.97142857142857,30.673333333333336,29.09375,27.900000000000002,27.944444444444443,27.436842105263157,32.48,32.266666666666666,31.209090909090904,30.356521739130432,29.866666666666664,29.656,28.634615384615383,28.114814814814817,29.63214285714286,28.889655172413796,29.113333333333337,29.512903225806454,28.740625,28.312121212121212,28.044117647058826,27.551428571428573,27.780555555555555,58.975675675675674,57.87105263157895,56.56153846153846],\"yaxis\":\"y\",\"type\":\"scatter\"}],                        {\"template\":{\"data\":{\"histogram2dcontour\":[{\"type\":\"histogram2dcontour\",\"colorbar\":{\"outlinewidth\":0,\"ticks\":\"\"},\"colorscale\":[[0.0,\"#0d0887\"],[0.1111111111111111,\"#46039f\"],[0.2222222222222222,\"#7201a8\"],[0.3333333333333333,\"#9c179e\"],[0.4444444444444444,\"#bd3786\"],[0.5555555555555556,\"#d8576b\"],[0.6666666666666666,\"#ed7953\"],[0.7777777777777778,\"#fb9f3a\"],[0.8888888888888888,\"#fdca26\"],[1.0,\"#f0f921\"]]}],\"choropleth\":[{\"type\":\"choropleth\",\"colorbar\":{\"outlinewidth\":0,\"ticks\":\"\"}}],\"histogram2d\":[{\"type\":\"histogram2d\",\"colorbar\":{\"outlinewidth\":0,\"ticks\":\"\"},\"colorscale\":[[0.0,\"#0d0887\"],[0.1111111111111111,\"#46039f\"],[0.2222222222222222,\"#7201a8\"],[0.3333333333333333,\"#9c179e\"],[0.4444444444444444,\"#bd3786\"],[0.5555555555555556,\"#d8576b\"],[0.6666666666666666,\"#ed7953\"],[0.7777777777777778,\"#fb9f3a\"],[0.8888888888888888,\"#fdca26\"],[1.0,\"#f0f921\"]]}],\"heatmap\":[{\"type\":\"heatmap\",\"colorbar\":{\"outlinewidth\":0,\"ticks\":\"\"},\"colorscale\":[[0.0,\"#0d0887\"],[0.1111111111111111,\"#46039f\"],[0.2222222222222222,\"#7201a8\"],[0.3333333333333333,\"#9c179e\"],[0.4444444444444444,\"#bd3786\"],[0.5555555555555556,\"#d8576b\"],[0.6666666666666666,\"#ed7953\"],[0.7777777777777778,\"#fb9f3a\"],[0.8888888888888888,\"#fdca26\"],[1.0,\"#f0f921\"]]}],\"heatmapgl\":[{\"type\":\"heatmapgl\",\"colorbar\":{\"outlinewidth\":0,\"ticks\":\"\"},\"colorscale\":[[0.0,\"#0d0887\"],[0.1111111111111111,\"#46039f\"],[0.2222222222222222,\"#7201a8\"],[0.3333333333333333,\"#9c179e\"],[0.4444444444444444,\"#bd3786\"],[0.5555555555555556,\"#d8576b\"],[0.6666666666666666,\"#ed7953\"],[0.7777777777777778,\"#fb9f3a\"],[0.8888888888888888,\"#fdca26\"],[1.0,\"#f0f921\"]]}],\"contourcarpet\":[{\"type\":\"contourcarpet\",\"colorbar\":{\"outlinewidth\":0,\"ticks\":\"\"}}],\"contour\":[{\"type\":\"contour\",\"colorbar\":{\"outlinewidth\":0,\"ticks\":\"\"},\"colorscale\":[[0.0,\"#0d0887\"],[0.1111111111111111,\"#46039f\"],[0.2222222222222222,\"#7201a8\"],[0.3333333333333333,\"#9c179e\"],[0.4444444444444444,\"#bd3786\"],[0.5555555555555556,\"#d8576b\"],[0.6666666666666666,\"#ed7953\"],[0.7777777777777778,\"#fb9f3a\"],[0.8888888888888888,\"#fdca26\"],[1.0,\"#f0f921\"]]}],\"surface\":[{\"type\":\"surface\",\"colorbar\":{\"outlinewidth\":0,\"ticks\":\"\"},\"colorscale\":[[0.0,\"#0d0887\"],[0.1111111111111111,\"#46039f\"],[0.2222222222222222,\"#7201a8\"],[0.3333333333333333,\"#9c179e\"],[0.4444444444444444,\"#bd3786\"],[0.5555555555555556,\"#d8576b\"],[0.6666666666666666,\"#ed7953\"],[0.7777777777777778,\"#fb9f3a\"],[0.8888888888888888,\"#fdca26\"],[1.0,\"#f0f921\"]]}],\"mesh3d\":[{\"type\":\"mesh3d\",\"colorbar\":{\"outlinewidth\":0,\"ticks\":\"\"}}],\"scatter\":[{\"fillpattern\":{\"fillmode\":\"overlay\",\"size\":10,\"solidity\":0.2},\"type\":\"scatter\"}],\"parcoords\":[{\"type\":\"parcoords\",\"line\":{\"colorbar\":{\"outlinewidth\":0,\"ticks\":\"\"}}}],\"scatterpolargl\":[{\"type\":\"scatterpolargl\",\"marker\":{\"colorbar\":{\"outlinewidth\":0,\"ticks\":\"\"}}}],\"bar\":[{\"error_x\":{\"color\":\"#2a3f5f\"},\"error_y\":{\"color\":\"#2a3f5f\"},\"marker\":{\"line\":{\"color\":\"#E5ECF6\",\"width\":0.5},\"pattern\":{\"fillmode\":\"overlay\",\"size\":10,\"solidity\":0.2}},\"type\":\"bar\"}],\"scattergeo\":[{\"type\":\"scattergeo\",\"marker\":{\"colorbar\":{\"outlinewidth\":0,\"ticks\":\"\"}}}],\"scatterpolar\":[{\"type\":\"scatterpolar\",\"marker\":{\"colorbar\":{\"outlinewidth\":0,\"ticks\":\"\"}}}],\"histogram\":[{\"marker\":{\"pattern\":{\"fillmode\":\"overlay\",\"size\":10,\"solidity\":0.2}},\"type\":\"histogram\"}],\"scattergl\":[{\"type\":\"scattergl\",\"marker\":{\"colorbar\":{\"outlinewidth\":0,\"ticks\":\"\"}}}],\"scatter3d\":[{\"type\":\"scatter3d\",\"line\":{\"colorbar\":{\"outlinewidth\":0,\"ticks\":\"\"}},\"marker\":{\"colorbar\":{\"outlinewidth\":0,\"ticks\":\"\"}}}],\"scattermapbox\":[{\"type\":\"scattermapbox\",\"marker\":{\"colorbar\":{\"outlinewidth\":0,\"ticks\":\"\"}}}],\"scatterternary\":[{\"type\":\"scatterternary\",\"marker\":{\"colorbar\":{\"outlinewidth\":0,\"ticks\":\"\"}}}],\"scattercarpet\":[{\"type\":\"scattercarpet\",\"marker\":{\"colorbar\":{\"outlinewidth\":0,\"ticks\":\"\"}}}],\"carpet\":[{\"aaxis\":{\"endlinecolor\":\"#2a3f5f\",\"gridcolor\":\"white\",\"linecolor\":\"white\",\"minorgridcolor\":\"white\",\"startlinecolor\":\"#2a3f5f\"},\"baxis\":{\"endlinecolor\":\"#2a3f5f\",\"gridcolor\":\"white\",\"linecolor\":\"white\",\"minorgridcolor\":\"white\",\"startlinecolor\":\"#2a3f5f\"},\"type\":\"carpet\"}],\"table\":[{\"cells\":{\"fill\":{\"color\":\"#EBF0F8\"},\"line\":{\"color\":\"white\"}},\"header\":{\"fill\":{\"color\":\"#C8D4E3\"},\"line\":{\"color\":\"white\"}},\"type\":\"table\"}],\"barpolar\":[{\"marker\":{\"line\":{\"color\":\"#E5ECF6\",\"width\":0.5},\"pattern\":{\"fillmode\":\"overlay\",\"size\":10,\"solidity\":0.2}},\"type\":\"barpolar\"}],\"pie\":[{\"automargin\":true,\"type\":\"pie\"}]},\"layout\":{\"autotypenumbers\":\"strict\",\"colorway\":[\"#636efa\",\"#EF553B\",\"#00cc96\",\"#ab63fa\",\"#FFA15A\",\"#19d3f3\",\"#FF6692\",\"#B6E880\",\"#FF97FF\",\"#FECB52\"],\"font\":{\"color\":\"#2a3f5f\"},\"hovermode\":\"closest\",\"hoverlabel\":{\"align\":\"left\"},\"paper_bgcolor\":\"white\",\"plot_bgcolor\":\"#E5ECF6\",\"polar\":{\"bgcolor\":\"#E5ECF6\",\"angularaxis\":{\"gridcolor\":\"white\",\"linecolor\":\"white\",\"ticks\":\"\"},\"radialaxis\":{\"gridcolor\":\"white\",\"linecolor\":\"white\",\"ticks\":\"\"}},\"ternary\":{\"bgcolor\":\"#E5ECF6\",\"aaxis\":{\"gridcolor\":\"white\",\"linecolor\":\"white\",\"ticks\":\"\"},\"baxis\":{\"gridcolor\":\"white\",\"linecolor\":\"white\",\"ticks\":\"\"},\"caxis\":{\"gridcolor\":\"white\",\"linecolor\":\"white\",\"ticks\":\"\"}},\"coloraxis\":{\"colorbar\":{\"outlinewidth\":0,\"ticks\":\"\"}},\"colorscale\":{\"sequential\":[[0.0,\"#0d0887\"],[0.1111111111111111,\"#46039f\"],[0.2222222222222222,\"#7201a8\"],[0.3333333333333333,\"#9c179e\"],[0.4444444444444444,\"#bd3786\"],[0.5555555555555556,\"#d8576b\"],[0.6666666666666666,\"#ed7953\"],[0.7777777777777778,\"#fb9f3a\"],[0.8888888888888888,\"#fdca26\"],[1.0,\"#f0f921\"]],\"sequentialminus\":[[0.0,\"#0d0887\"],[0.1111111111111111,\"#46039f\"],[0.2222222222222222,\"#7201a8\"],[0.3333333333333333,\"#9c179e\"],[0.4444444444444444,\"#bd3786\"],[0.5555555555555556,\"#d8576b\"],[0.6666666666666666,\"#ed7953\"],[0.7777777777777778,\"#fb9f3a\"],[0.8888888888888888,\"#fdca26\"],[1.0,\"#f0f921\"]],\"diverging\":[[0,\"#8e0152\"],[0.1,\"#c51b7d\"],[0.2,\"#de77ae\"],[0.3,\"#f1b6da\"],[0.4,\"#fde0ef\"],[0.5,\"#f7f7f7\"],[0.6,\"#e6f5d0\"],[0.7,\"#b8e186\"],[0.8,\"#7fbc41\"],[0.9,\"#4d9221\"],[1,\"#276419\"]]},\"xaxis\":{\"gridcolor\":\"white\",\"linecolor\":\"white\",\"ticks\":\"\",\"title\":{\"standoff\":15},\"zerolinecolor\":\"white\",\"automargin\":true,\"zerolinewidth\":2},\"yaxis\":{\"gridcolor\":\"white\",\"linecolor\":\"white\",\"ticks\":\"\",\"title\":{\"standoff\":15},\"zerolinecolor\":\"white\",\"automargin\":true,\"zerolinewidth\":2},\"scene\":{\"xaxis\":{\"backgroundcolor\":\"#E5ECF6\",\"gridcolor\":\"white\",\"linecolor\":\"white\",\"showbackground\":true,\"ticks\":\"\",\"zerolinecolor\":\"white\",\"gridwidth\":2},\"yaxis\":{\"backgroundcolor\":\"#E5ECF6\",\"gridcolor\":\"white\",\"linecolor\":\"white\",\"showbackground\":true,\"ticks\":\"\",\"zerolinecolor\":\"white\",\"gridwidth\":2},\"zaxis\":{\"backgroundcolor\":\"#E5ECF6\",\"gridcolor\":\"white\",\"linecolor\":\"white\",\"showbackground\":true,\"ticks\":\"\",\"zerolinecolor\":\"white\",\"gridwidth\":2}},\"shapedefaults\":{\"line\":{\"color\":\"#2a3f5f\"}},\"annotationdefaults\":{\"arrowcolor\":\"#2a3f5f\",\"arrowhead\":0,\"arrowwidth\":1},\"geo\":{\"bgcolor\":\"white\",\"landcolor\":\"#E5ECF6\",\"subunitcolor\":\"white\",\"showland\":true,\"showlakes\":true,\"lakecolor\":\"white\"},\"title\":{\"x\":0.05},\"mapbox\":{\"style\":\"light\"}}},\"xaxis\":{\"anchor\":\"y\",\"domain\":[0.0,1.0],\"title\":{\"text\":\"Year\"}},\"yaxis\":{\"anchor\":\"x\",\"domain\":[0.0,1.0],\"title\":{\"text\":\"value\"}},\"legend\":{\"title\":{\"text\":\"variable\"},\"tracegroupgap\":0},\"margin\":{\"t\":60}},                        {\"responsive\": true}                    ).then(function(){\n",
       "                            \n",
       "var gd = document.getElementById('faa0cc83-2df8-41ce-b208-831b6da1e604');\n",
       "var x = new MutationObserver(function (mutations, observer) {{\n",
       "        var display = window.getComputedStyle(gd).display;\n",
       "        if (!display || display === 'none') {{\n",
       "            console.log([gd, 'removed!']);\n",
       "            Plotly.purge(gd);\n",
       "            observer.disconnect();\n",
       "        }}\n",
       "}});\n",
       "\n",
       "// Listen for the removal of the full notebook cells\n",
       "var notebookContainer = gd.closest('#notebook-container');\n",
       "if (notebookContainer) {{\n",
       "    x.observe(notebookContainer, {childList: true});\n",
       "}}\n",
       "\n",
       "// Listen for the clearing of the current output cell\n",
       "var outputEl = gd.closest('.output');\n",
       "if (outputEl) {{\n",
       "    x.observe(outputEl, {childList: true});\n",
       "}}\n",
       "\n",
       "                        })                };                });            </script>        </div>"
      ]
     },
     "metadata": {},
     "output_type": "display_data"
    }
   ],
   "source": [
    "mse_fig = px.line(graphing_results_mse_df, x='Year', y=graphing_results_mse_df.columns[1:8])\n",
    "mse_fig"
   ]
  },
  {
   "cell_type": "code",
   "execution_count": 341,
   "id": "b90b42da",
   "metadata": {},
   "outputs": [
    {
     "data": {
      "application/vnd.plotly.v1+json": {
       "config": {
        "plotlyServerURL": "https://plot.ly"
       },
       "data": [
        {
         "hovertemplate": "variable=Ridge Regression<br>Year=%{x}<br>value=%{y}<extra></extra>",
         "legendgroup": "Ridge Regression",
         "line": {
          "color": "#636efa",
          "dash": "solid"
         },
         "marker": {
          "symbol": "circle"
         },
         "mode": "lines",
         "name": "Ridge Regression",
         "orientation": "v",
         "showlegend": true,
         "type": "scatter",
         "x": [
          1985,
          1986,
          1987,
          1988,
          1989,
          1990,
          1991,
          1992,
          1993,
          1994,
          1995,
          1996,
          1997,
          1998,
          1999,
          2000,
          2001,
          2002,
          2003,
          2004,
          2005,
          2006,
          2007,
          2008,
          2009,
          2010,
          2011,
          2012,
          2013,
          2014,
          2015,
          2016,
          2017,
          2018,
          2019,
          2020,
          2021,
          2022,
          2023
         ],
         "xaxis": "x",
         "y": [
          0.3333333333333333,
          0.3333333333333333,
          0.47555555555555556,
          0.5566666666666666,
          0.5253333333333333,
          0.5294444444444445,
          0.5680952380952381,
          0.5575,
          0.5622222222222222,
          0.577,
          0.5972727272727272,
          0.5908333333333333,
          0.6038461538461538,
          0.6,
          0.5800000000000001,
          0.5781250000000001,
          0.5688235294117648,
          0.5677777777777779,
          0.5800000000000002,
          0.5710000000000002,
          0.5517460317460319,
          0.5516666666666669,
          0.5607246376811595,
          0.5669444444444446,
          0.5762666666666668,
          0.584871794871795,
          0.5854320987654322,
          0.5830952380952382,
          0.5891954022988508,
          0.5846666666666669,
          0.5916129032258067,
          0.5981250000000002,
          0.5981818181818185,
          0.6029411764705885,
          0.6028571428571432,
          0.6083333333333337,
          0.6059459459459463,
          0.6110526315789477,
          0.6094871794871798
         ],
         "yaxis": "y"
        },
        {
         "hovertemplate": "variable=Random Forest Naive<br>Year=%{x}<br>value=%{y}<extra></extra>",
         "legendgroup": "Random Forest Naive",
         "line": {
          "color": "#EF553B",
          "dash": "solid"
         },
         "marker": {
          "symbol": "circle"
         },
         "mode": "lines",
         "name": "Random Forest Naive",
         "orientation": "v",
         "showlegend": true,
         "type": "scatter",
         "x": [
          1985,
          1986,
          1987,
          1988,
          1989,
          1990,
          1991,
          1992,
          1993,
          1994,
          1995,
          1996,
          1997,
          1998,
          1999,
          2000,
          2001,
          2002,
          2003,
          2004,
          2005,
          2006,
          2007,
          2008,
          2009,
          2010,
          2011,
          2012,
          2013,
          2014,
          2015,
          2016,
          2017,
          2018,
          2019,
          2020,
          2021,
          2022,
          2023
         ],
         "xaxis": "x",
         "y": [
          0.4533333333333333,
          0.42666666666666664,
          0.5511111111111111,
          0.6033333333333333,
          0.5926666666666666,
          0.5855555555555555,
          0.6161904761904761,
          0.6195833333333333,
          0.6174074074074073,
          0.6556666666666666,
          0.6506060606060605,
          0.6463888888888888,
          0.6428205128205128,
          0.6476190476190476,
          0.6411111111111112,
          0.6454166666666667,
          0.64921568627451,
          0.6437037037037039,
          0.6436842105263159,
          0.6315000000000002,
          0.6076190476190477,
          0.6163636363636366,
          0.622608695652174,
          0.6300000000000002,
          0.6448000000000002,
          0.650769230769231,
          0.6470370370370373,
          0.6510714285714289,
          0.6548275862068969,
          0.6463333333333335,
          0.6483870967741938,
          0.6593750000000003,
          0.6551515151515154,
          0.6594117647058826,
          0.6634285714285717,
          0.6672222222222225,
          0.6683783783783787,
          0.6718421052631582,
          0.6741025641025644
         ],
         "yaxis": "y"
        },
        {
         "hovertemplate": "variable=Random Forest Normalized<br>Year=%{x}<br>value=%{y}<extra></extra>",
         "legendgroup": "Random Forest Normalized",
         "line": {
          "color": "#00cc96",
          "dash": "solid"
         },
         "marker": {
          "symbol": "circle"
         },
         "mode": "lines",
         "name": "Random Forest Normalized",
         "orientation": "v",
         "showlegend": true,
         "type": "scatter",
         "x": [
          1985,
          1986,
          1987,
          1988,
          1989,
          1990,
          1991,
          1992,
          1993,
          1994,
          1995,
          1996,
          1997,
          1998,
          1999,
          2000,
          2001,
          2002,
          2003,
          2004,
          2005,
          2006,
          2007,
          2008,
          2009,
          2010,
          2011,
          2012,
          2013,
          2014,
          2015,
          2016,
          2017,
          2018,
          2019,
          2020,
          2021,
          2022,
          2023
         ],
         "xaxis": "x",
         "y": [
          0.4533333333333333,
          0.42666666666666664,
          0.5511111111111111,
          0.6033333333333333,
          0.5926666666666666,
          0.6122222222222221,
          0.639047619047619,
          0.6341666666666665,
          0.6303703703703702,
          0.6473333333333332,
          0.6469696969696969,
          0.6388888888888887,
          0.6358974358974359,
          0.6411904761904762,
          0.6351111111111112,
          0.6397916666666668,
          0.64,
          0.6266666666666667,
          0.622280701754386,
          0.6186666666666667,
          0.5977777777777779,
          0.606969696969697,
          0.6240579710144928,
          0.6297222222222223,
          0.6445333333333335,
          0.6505128205128207,
          0.6467901234567903,
          0.6451190476190478,
          0.6435632183908049,
          0.6404444444444447,
          0.6426881720430111,
          0.653854166666667,
          0.650707070707071,
          0.6524509803921572,
          0.6452380952380955,
          0.6439814814814818,
          0.6414414414414418,
          0.6456140350877196,
          0.6485470085470089
         ],
         "yaxis": "y"
        },
        {
         "hovertemplate": "variable=Random Forest w/Voter Fatigue<br>Year=%{x}<br>value=%{y}<extra></extra>",
         "legendgroup": "Random Forest w/Voter Fatigue",
         "line": {
          "color": "#ab63fa",
          "dash": "solid"
         },
         "marker": {
          "symbol": "circle"
         },
         "mode": "lines",
         "name": "Random Forest w/Voter Fatigue",
         "orientation": "v",
         "showlegend": true,
         "type": "scatter",
         "x": [
          1985,
          1986,
          1987,
          1988,
          1989,
          1990,
          1991,
          1992,
          1993,
          1994,
          1995,
          1996,
          1997,
          1998,
          1999,
          2000,
          2001,
          2002,
          2003,
          2004,
          2005,
          2006,
          2007,
          2008,
          2009,
          2010,
          2011,
          2012,
          2013,
          2014,
          2015,
          2016,
          2017,
          2018,
          2019,
          2020,
          2021,
          2022,
          2023
         ],
         "xaxis": "x",
         "y": [
          0.4533333333333333,
          0.42666666666666664,
          0.5511111111111111,
          0.6033333333333333,
          0.5926666666666666,
          0.5855555555555555,
          0.6161904761904761,
          0.6195833333333333,
          0.6174074074074073,
          0.6556666666666666,
          0.6506060606060605,
          0.6463888888888888,
          0.6428205128205128,
          0.6476190476190476,
          0.6411111111111112,
          0.6454166666666667,
          0.6452941176470589,
          0.6427777777777778,
          0.6428070175438596,
          0.6306666666666667,
          0.6068253968253968,
          0.6156060606060607,
          0.6236231884057972,
          0.6393055555555557,
          0.6537333333333334,
          0.6593589743589744,
          0.6553086419753087,
          0.6533333333333334,
          0.6570114942528738,
          0.6484444444444446,
          0.6504301075268819,
          0.6613541666666668,
          0.6570707070707071,
          0.6612745098039217,
          0.6640952380952383,
          0.6678703703703706,
          0.6690090090090092,
          0.6724561403508774,
          0.674700854700855
         ],
         "yaxis": "y"
        },
        {
         "hovertemplate": "variable=Linear Regression w/Voter Fatigue<br>Year=%{x}<br>value=%{y}<extra></extra>",
         "legendgroup": "Linear Regression w/Voter Fatigue",
         "line": {
          "color": "#FFA15A",
          "dash": "solid"
         },
         "marker": {
          "symbol": "circle"
         },
         "mode": "lines",
         "name": "Linear Regression w/Voter Fatigue",
         "orientation": "v",
         "showlegend": true,
         "type": "scatter",
         "x": [
          1985,
          1986,
          1987,
          1988,
          1989,
          1990,
          1991,
          1992,
          1993,
          1994,
          1995,
          1996,
          1997,
          1998,
          1999,
          2000,
          2001,
          2002,
          2003,
          2004,
          2005,
          2006,
          2007,
          2008,
          2009,
          2010,
          2011,
          2012,
          2013,
          2014,
          2015,
          2016,
          2017,
          2018,
          2019,
          2020,
          2021,
          2022,
          2023
         ],
         "xaxis": "x",
         "y": [
          0.76,
          0.6066666666666667,
          0.5655555555555556,
          0.6141666666666667,
          0.5713333333333334,
          0.535,
          0.5504761904761905,
          0.5341666666666667,
          0.5359259259259259,
          0.5243333333333333,
          0.49787878787878787,
          0.5022222222222222,
          0.5058974358974359,
          0.49833333333333335,
          0.4837777777777778,
          0.48791666666666667,
          0.4756862745098039,
          0.4603703703703703,
          0.4529824561403508,
          0.4503333333333333,
          0.4457142857142857,
          0.4345454545454545,
          0.44652173913043475,
          0.43624999999999997,
          0.4445333333333333,
          0.43897435897435894,
          0.4350617283950617,
          0.43023809523809525,
          0.43206896551724133,
          0.431,
          0.43784946236559136,
          0.44916666666666666,
          0.45222222222222225,
          0.4550980392156863,
          0.4530476190476191,
          0.4626851851851852,
          0.4605405405405405,
          0.45771929824561397,
          0.4519658119658119
         ],
         "yaxis": "y"
        },
        {
         "hovertemplate": "variable=XGradient Boost w/Voter Fatigue<br>Year=%{x}<br>value=%{y}<extra></extra>",
         "legendgroup": "XGradient Boost w/Voter Fatigue",
         "line": {
          "color": "#19d3f3",
          "dash": "solid"
         },
         "marker": {
          "symbol": "circle"
         },
         "mode": "lines",
         "name": "XGradient Boost w/Voter Fatigue",
         "orientation": "v",
         "showlegend": true,
         "type": "scatter",
         "x": [
          1985,
          1986,
          1987,
          1988,
          1989,
          1990,
          1991,
          1992,
          1993,
          1994,
          1995,
          1996,
          1997,
          1998,
          1999,
          2000,
          2001,
          2002,
          2003,
          2004,
          2005,
          2006,
          2007,
          2008,
          2009,
          2010,
          2011,
          2012,
          2013,
          2014,
          2015,
          2016,
          2017,
          2018,
          2019,
          2020,
          2021,
          2022,
          2023
         ],
         "xaxis": "x",
         "y": [
          0.52,
          0.64,
          0.7600000000000001,
          0.8200000000000001,
          0.8160000000000001,
          0.7716666666666666,
          0.7628571428571428,
          0.7925,
          0.7711111111111111,
          0.7739999999999999,
          0.7763636363636363,
          0.7549999999999999,
          0.743076923076923,
          0.7407142857142855,
          0.734222222222222,
          0.7383333333333332,
          0.7419607843137254,
          0.7296296296296295,
          0.7080701754385964,
          0.6986666666666665,
          0.6673015873015872,
          0.6619696969696969,
          0.6662318840579708,
          0.6718055555555554,
          0.6849333333333333,
          0.697051282051282,
          0.6975308641975309,
          0.6911904761904761,
          0.6935632183908046,
          0.6877777777777777,
          0.688494623655914,
          0.6982291666666667,
          0.6897979797979799,
          0.6918627450980394,
          0.6869523809523811,
          0.6889814814814816,
          0.6919819819819821,
          0.6948245614035089,
          0.6975213675213677
         ],
         "yaxis": "y"
        },
        {
         "hovertemplate": "variable=XGradient Boost<br>Year=%{x}<br>value=%{y}<extra></extra>",
         "legendgroup": "XGradient Boost",
         "line": {
          "color": "#FF6692",
          "dash": "solid"
         },
         "marker": {
          "symbol": "circle"
         },
         "mode": "lines",
         "name": "XGradient Boost",
         "orientation": "v",
         "showlegend": true,
         "type": "scatter",
         "x": [
          1985,
          1986,
          1987,
          1988,
          1989,
          1990,
          1991,
          1992,
          1993,
          1994,
          1995,
          1996,
          1997,
          1998,
          1999,
          2000,
          2001,
          2002,
          2003,
          2004,
          2005,
          2006,
          2007,
          2008,
          2009,
          2010,
          2011,
          2012,
          2013,
          2014,
          2015,
          2016,
          2017,
          2018,
          2019,
          2020,
          2021,
          2022,
          2023
         ],
         "xaxis": "x",
         "y": [
          0.52,
          0.64,
          0.7600000000000001,
          0.8200000000000001,
          0.8160000000000001,
          0.7983333333333333,
          0.7857142857142857,
          0.7875,
          0.7666666666666666,
          0.7699999999999999,
          0.7727272727272727,
          0.7516666666666666,
          0.74,
          0.7378571428571428,
          0.7315555555555554,
          0.7233333333333332,
          0.7278431372549018,
          0.7162962962962962,
          0.702456140350877,
          0.6933333333333331,
          0.6626984126984126,
          0.667121212121212,
          0.671159420289855,
          0.6765277777777777,
          0.6894666666666666,
          0.7014102564102563,
          0.6992592592592592,
          0.6885714285714285,
          0.6893103448275861,
          0.6846666666666666,
          0.6870967741935484,
          0.696875,
          0.6844444444444444,
          0.687843137254902,
          0.6796190476190476,
          0.6818518518518518,
          0.685045045045045,
          0.6880701754385965,
          0.690940170940171
         ],
         "yaxis": "y"
        }
       ],
       "layout": {
        "legend": {
         "title": {
          "text": "variable"
         },
         "tracegroupgap": 0
        },
        "margin": {
         "t": 60
        },
        "template": {
         "data": {
          "bar": [
           {
            "error_x": {
             "color": "#2a3f5f"
            },
            "error_y": {
             "color": "#2a3f5f"
            },
            "marker": {
             "line": {
              "color": "#E5ECF6",
              "width": 0.5
             },
             "pattern": {
              "fillmode": "overlay",
              "size": 10,
              "solidity": 0.2
             }
            },
            "type": "bar"
           }
          ],
          "barpolar": [
           {
            "marker": {
             "line": {
              "color": "#E5ECF6",
              "width": 0.5
             },
             "pattern": {
              "fillmode": "overlay",
              "size": 10,
              "solidity": 0.2
             }
            },
            "type": "barpolar"
           }
          ],
          "carpet": [
           {
            "aaxis": {
             "endlinecolor": "#2a3f5f",
             "gridcolor": "white",
             "linecolor": "white",
             "minorgridcolor": "white",
             "startlinecolor": "#2a3f5f"
            },
            "baxis": {
             "endlinecolor": "#2a3f5f",
             "gridcolor": "white",
             "linecolor": "white",
             "minorgridcolor": "white",
             "startlinecolor": "#2a3f5f"
            },
            "type": "carpet"
           }
          ],
          "choropleth": [
           {
            "colorbar": {
             "outlinewidth": 0,
             "ticks": ""
            },
            "type": "choropleth"
           }
          ],
          "contour": [
           {
            "colorbar": {
             "outlinewidth": 0,
             "ticks": ""
            },
            "colorscale": [
             [
              0,
              "#0d0887"
             ],
             [
              0.1111111111111111,
              "#46039f"
             ],
             [
              0.2222222222222222,
              "#7201a8"
             ],
             [
              0.3333333333333333,
              "#9c179e"
             ],
             [
              0.4444444444444444,
              "#bd3786"
             ],
             [
              0.5555555555555556,
              "#d8576b"
             ],
             [
              0.6666666666666666,
              "#ed7953"
             ],
             [
              0.7777777777777778,
              "#fb9f3a"
             ],
             [
              0.8888888888888888,
              "#fdca26"
             ],
             [
              1,
              "#f0f921"
             ]
            ],
            "type": "contour"
           }
          ],
          "contourcarpet": [
           {
            "colorbar": {
             "outlinewidth": 0,
             "ticks": ""
            },
            "type": "contourcarpet"
           }
          ],
          "heatmap": [
           {
            "colorbar": {
             "outlinewidth": 0,
             "ticks": ""
            },
            "colorscale": [
             [
              0,
              "#0d0887"
             ],
             [
              0.1111111111111111,
              "#46039f"
             ],
             [
              0.2222222222222222,
              "#7201a8"
             ],
             [
              0.3333333333333333,
              "#9c179e"
             ],
             [
              0.4444444444444444,
              "#bd3786"
             ],
             [
              0.5555555555555556,
              "#d8576b"
             ],
             [
              0.6666666666666666,
              "#ed7953"
             ],
             [
              0.7777777777777778,
              "#fb9f3a"
             ],
             [
              0.8888888888888888,
              "#fdca26"
             ],
             [
              1,
              "#f0f921"
             ]
            ],
            "type": "heatmap"
           }
          ],
          "heatmapgl": [
           {
            "colorbar": {
             "outlinewidth": 0,
             "ticks": ""
            },
            "colorscale": [
             [
              0,
              "#0d0887"
             ],
             [
              0.1111111111111111,
              "#46039f"
             ],
             [
              0.2222222222222222,
              "#7201a8"
             ],
             [
              0.3333333333333333,
              "#9c179e"
             ],
             [
              0.4444444444444444,
              "#bd3786"
             ],
             [
              0.5555555555555556,
              "#d8576b"
             ],
             [
              0.6666666666666666,
              "#ed7953"
             ],
             [
              0.7777777777777778,
              "#fb9f3a"
             ],
             [
              0.8888888888888888,
              "#fdca26"
             ],
             [
              1,
              "#f0f921"
             ]
            ],
            "type": "heatmapgl"
           }
          ],
          "histogram": [
           {
            "marker": {
             "pattern": {
              "fillmode": "overlay",
              "size": 10,
              "solidity": 0.2
             }
            },
            "type": "histogram"
           }
          ],
          "histogram2d": [
           {
            "colorbar": {
             "outlinewidth": 0,
             "ticks": ""
            },
            "colorscale": [
             [
              0,
              "#0d0887"
             ],
             [
              0.1111111111111111,
              "#46039f"
             ],
             [
              0.2222222222222222,
              "#7201a8"
             ],
             [
              0.3333333333333333,
              "#9c179e"
             ],
             [
              0.4444444444444444,
              "#bd3786"
             ],
             [
              0.5555555555555556,
              "#d8576b"
             ],
             [
              0.6666666666666666,
              "#ed7953"
             ],
             [
              0.7777777777777778,
              "#fb9f3a"
             ],
             [
              0.8888888888888888,
              "#fdca26"
             ],
             [
              1,
              "#f0f921"
             ]
            ],
            "type": "histogram2d"
           }
          ],
          "histogram2dcontour": [
           {
            "colorbar": {
             "outlinewidth": 0,
             "ticks": ""
            },
            "colorscale": [
             [
              0,
              "#0d0887"
             ],
             [
              0.1111111111111111,
              "#46039f"
             ],
             [
              0.2222222222222222,
              "#7201a8"
             ],
             [
              0.3333333333333333,
              "#9c179e"
             ],
             [
              0.4444444444444444,
              "#bd3786"
             ],
             [
              0.5555555555555556,
              "#d8576b"
             ],
             [
              0.6666666666666666,
              "#ed7953"
             ],
             [
              0.7777777777777778,
              "#fb9f3a"
             ],
             [
              0.8888888888888888,
              "#fdca26"
             ],
             [
              1,
              "#f0f921"
             ]
            ],
            "type": "histogram2dcontour"
           }
          ],
          "mesh3d": [
           {
            "colorbar": {
             "outlinewidth": 0,
             "ticks": ""
            },
            "type": "mesh3d"
           }
          ],
          "parcoords": [
           {
            "line": {
             "colorbar": {
              "outlinewidth": 0,
              "ticks": ""
             }
            },
            "type": "parcoords"
           }
          ],
          "pie": [
           {
            "automargin": true,
            "type": "pie"
           }
          ],
          "scatter": [
           {
            "fillpattern": {
             "fillmode": "overlay",
             "size": 10,
             "solidity": 0.2
            },
            "type": "scatter"
           }
          ],
          "scatter3d": [
           {
            "line": {
             "colorbar": {
              "outlinewidth": 0,
              "ticks": ""
             }
            },
            "marker": {
             "colorbar": {
              "outlinewidth": 0,
              "ticks": ""
             }
            },
            "type": "scatter3d"
           }
          ],
          "scattercarpet": [
           {
            "marker": {
             "colorbar": {
              "outlinewidth": 0,
              "ticks": ""
             }
            },
            "type": "scattercarpet"
           }
          ],
          "scattergeo": [
           {
            "marker": {
             "colorbar": {
              "outlinewidth": 0,
              "ticks": ""
             }
            },
            "type": "scattergeo"
           }
          ],
          "scattergl": [
           {
            "marker": {
             "colorbar": {
              "outlinewidth": 0,
              "ticks": ""
             }
            },
            "type": "scattergl"
           }
          ],
          "scattermapbox": [
           {
            "marker": {
             "colorbar": {
              "outlinewidth": 0,
              "ticks": ""
             }
            },
            "type": "scattermapbox"
           }
          ],
          "scatterpolar": [
           {
            "marker": {
             "colorbar": {
              "outlinewidth": 0,
              "ticks": ""
             }
            },
            "type": "scatterpolar"
           }
          ],
          "scatterpolargl": [
           {
            "marker": {
             "colorbar": {
              "outlinewidth": 0,
              "ticks": ""
             }
            },
            "type": "scatterpolargl"
           }
          ],
          "scatterternary": [
           {
            "marker": {
             "colorbar": {
              "outlinewidth": 0,
              "ticks": ""
             }
            },
            "type": "scatterternary"
           }
          ],
          "surface": [
           {
            "colorbar": {
             "outlinewidth": 0,
             "ticks": ""
            },
            "colorscale": [
             [
              0,
              "#0d0887"
             ],
             [
              0.1111111111111111,
              "#46039f"
             ],
             [
              0.2222222222222222,
              "#7201a8"
             ],
             [
              0.3333333333333333,
              "#9c179e"
             ],
             [
              0.4444444444444444,
              "#bd3786"
             ],
             [
              0.5555555555555556,
              "#d8576b"
             ],
             [
              0.6666666666666666,
              "#ed7953"
             ],
             [
              0.7777777777777778,
              "#fb9f3a"
             ],
             [
              0.8888888888888888,
              "#fdca26"
             ],
             [
              1,
              "#f0f921"
             ]
            ],
            "type": "surface"
           }
          ],
          "table": [
           {
            "cells": {
             "fill": {
              "color": "#EBF0F8"
             },
             "line": {
              "color": "white"
             }
            },
            "header": {
             "fill": {
              "color": "#C8D4E3"
             },
             "line": {
              "color": "white"
             }
            },
            "type": "table"
           }
          ]
         },
         "layout": {
          "annotationdefaults": {
           "arrowcolor": "#2a3f5f",
           "arrowhead": 0,
           "arrowwidth": 1
          },
          "autotypenumbers": "strict",
          "coloraxis": {
           "colorbar": {
            "outlinewidth": 0,
            "ticks": ""
           }
          },
          "colorscale": {
           "diverging": [
            [
             0,
             "#8e0152"
            ],
            [
             0.1,
             "#c51b7d"
            ],
            [
             0.2,
             "#de77ae"
            ],
            [
             0.3,
             "#f1b6da"
            ],
            [
             0.4,
             "#fde0ef"
            ],
            [
             0.5,
             "#f7f7f7"
            ],
            [
             0.6,
             "#e6f5d0"
            ],
            [
             0.7,
             "#b8e186"
            ],
            [
             0.8,
             "#7fbc41"
            ],
            [
             0.9,
             "#4d9221"
            ],
            [
             1,
             "#276419"
            ]
           ],
           "sequential": [
            [
             0,
             "#0d0887"
            ],
            [
             0.1111111111111111,
             "#46039f"
            ],
            [
             0.2222222222222222,
             "#7201a8"
            ],
            [
             0.3333333333333333,
             "#9c179e"
            ],
            [
             0.4444444444444444,
             "#bd3786"
            ],
            [
             0.5555555555555556,
             "#d8576b"
            ],
            [
             0.6666666666666666,
             "#ed7953"
            ],
            [
             0.7777777777777778,
             "#fb9f3a"
            ],
            [
             0.8888888888888888,
             "#fdca26"
            ],
            [
             1,
             "#f0f921"
            ]
           ],
           "sequentialminus": [
            [
             0,
             "#0d0887"
            ],
            [
             0.1111111111111111,
             "#46039f"
            ],
            [
             0.2222222222222222,
             "#7201a8"
            ],
            [
             0.3333333333333333,
             "#9c179e"
            ],
            [
             0.4444444444444444,
             "#bd3786"
            ],
            [
             0.5555555555555556,
             "#d8576b"
            ],
            [
             0.6666666666666666,
             "#ed7953"
            ],
            [
             0.7777777777777778,
             "#fb9f3a"
            ],
            [
             0.8888888888888888,
             "#fdca26"
            ],
            [
             1,
             "#f0f921"
            ]
           ]
          },
          "colorway": [
           "#636efa",
           "#EF553B",
           "#00cc96",
           "#ab63fa",
           "#FFA15A",
           "#19d3f3",
           "#FF6692",
           "#B6E880",
           "#FF97FF",
           "#FECB52"
          ],
          "font": {
           "color": "#2a3f5f"
          },
          "geo": {
           "bgcolor": "white",
           "lakecolor": "white",
           "landcolor": "#E5ECF6",
           "showlakes": true,
           "showland": true,
           "subunitcolor": "white"
          },
          "hoverlabel": {
           "align": "left"
          },
          "hovermode": "closest",
          "mapbox": {
           "style": "light"
          },
          "paper_bgcolor": "white",
          "plot_bgcolor": "#E5ECF6",
          "polar": {
           "angularaxis": {
            "gridcolor": "white",
            "linecolor": "white",
            "ticks": ""
           },
           "bgcolor": "#E5ECF6",
           "radialaxis": {
            "gridcolor": "white",
            "linecolor": "white",
            "ticks": ""
           }
          },
          "scene": {
           "xaxis": {
            "backgroundcolor": "#E5ECF6",
            "gridcolor": "white",
            "gridwidth": 2,
            "linecolor": "white",
            "showbackground": true,
            "ticks": "",
            "zerolinecolor": "white"
           },
           "yaxis": {
            "backgroundcolor": "#E5ECF6",
            "gridcolor": "white",
            "gridwidth": 2,
            "linecolor": "white",
            "showbackground": true,
            "ticks": "",
            "zerolinecolor": "white"
           },
           "zaxis": {
            "backgroundcolor": "#E5ECF6",
            "gridcolor": "white",
            "gridwidth": 2,
            "linecolor": "white",
            "showbackground": true,
            "ticks": "",
            "zerolinecolor": "white"
           }
          },
          "shapedefaults": {
           "line": {
            "color": "#2a3f5f"
           }
          },
          "ternary": {
           "aaxis": {
            "gridcolor": "white",
            "linecolor": "white",
            "ticks": ""
           },
           "baxis": {
            "gridcolor": "white",
            "linecolor": "white",
            "ticks": ""
           },
           "bgcolor": "#E5ECF6",
           "caxis": {
            "gridcolor": "white",
            "linecolor": "white",
            "ticks": ""
           }
          },
          "title": {
           "x": 0.05
          },
          "xaxis": {
           "automargin": true,
           "gridcolor": "white",
           "linecolor": "white",
           "ticks": "",
           "title": {
            "standoff": 15
           },
           "zerolinecolor": "white",
           "zerolinewidth": 2
          },
          "yaxis": {
           "automargin": true,
           "gridcolor": "white",
           "linecolor": "white",
           "ticks": "",
           "title": {
            "standoff": 15
           },
           "zerolinecolor": "white",
           "zerolinewidth": 2
          }
         }
        },
        "xaxis": {
         "anchor": "y",
         "domain": [
          0,
          1
         ],
         "title": {
          "text": "Year"
         }
        },
        "yaxis": {
         "anchor": "x",
         "domain": [
          0,
          1
         ],
         "title": {
          "text": "value"
         }
        }
       }
      },
      "text/html": [
       "<div>                            <div id=\"c6d39949-4ab5-4401-afab-e82d28f11925\" class=\"plotly-graph-div\" style=\"height:525px; width:100%;\"></div>            <script type=\"text/javascript\">                require([\"plotly\"], function(Plotly) {                    window.PLOTLYENV=window.PLOTLYENV || {};                                    if (document.getElementById(\"c6d39949-4ab5-4401-afab-e82d28f11925\")) {                    Plotly.newPlot(                        \"c6d39949-4ab5-4401-afab-e82d28f11925\",                        [{\"hovertemplate\":\"variable=Ridge Regression<br>Year=%{x}<br>value=%{y}<extra></extra>\",\"legendgroup\":\"Ridge Regression\",\"line\":{\"color\":\"#636efa\",\"dash\":\"solid\"},\"marker\":{\"symbol\":\"circle\"},\"mode\":\"lines\",\"name\":\"Ridge Regression\",\"orientation\":\"v\",\"showlegend\":true,\"x\":[1985,1986,1987,1988,1989,1990,1991,1992,1993,1994,1995,1996,1997,1998,1999,2000,2001,2002,2003,2004,2005,2006,2007,2008,2009,2010,2011,2012,2013,2014,2015,2016,2017,2018,2019,2020,2021,2022,2023],\"xaxis\":\"x\",\"y\":[0.3333333333333333,0.3333333333333333,0.47555555555555556,0.5566666666666666,0.5253333333333333,0.5294444444444445,0.5680952380952381,0.5575,0.5622222222222222,0.577,0.5972727272727272,0.5908333333333333,0.6038461538461538,0.6,0.5800000000000001,0.5781250000000001,0.5688235294117648,0.5677777777777779,0.5800000000000002,0.5710000000000002,0.5517460317460319,0.5516666666666669,0.5607246376811595,0.5669444444444446,0.5762666666666668,0.584871794871795,0.5854320987654322,0.5830952380952382,0.5891954022988508,0.5846666666666669,0.5916129032258067,0.5981250000000002,0.5981818181818185,0.6029411764705885,0.6028571428571432,0.6083333333333337,0.6059459459459463,0.6110526315789477,0.6094871794871798],\"yaxis\":\"y\",\"type\":\"scatter\"},{\"hovertemplate\":\"variable=Random Forest Naive<br>Year=%{x}<br>value=%{y}<extra></extra>\",\"legendgroup\":\"Random Forest Naive\",\"line\":{\"color\":\"#EF553B\",\"dash\":\"solid\"},\"marker\":{\"symbol\":\"circle\"},\"mode\":\"lines\",\"name\":\"Random Forest Naive\",\"orientation\":\"v\",\"showlegend\":true,\"x\":[1985,1986,1987,1988,1989,1990,1991,1992,1993,1994,1995,1996,1997,1998,1999,2000,2001,2002,2003,2004,2005,2006,2007,2008,2009,2010,2011,2012,2013,2014,2015,2016,2017,2018,2019,2020,2021,2022,2023],\"xaxis\":\"x\",\"y\":[0.4533333333333333,0.42666666666666664,0.5511111111111111,0.6033333333333333,0.5926666666666666,0.5855555555555555,0.6161904761904761,0.6195833333333333,0.6174074074074073,0.6556666666666666,0.6506060606060605,0.6463888888888888,0.6428205128205128,0.6476190476190476,0.6411111111111112,0.6454166666666667,0.64921568627451,0.6437037037037039,0.6436842105263159,0.6315000000000002,0.6076190476190477,0.6163636363636366,0.622608695652174,0.6300000000000002,0.6448000000000002,0.650769230769231,0.6470370370370373,0.6510714285714289,0.6548275862068969,0.6463333333333335,0.6483870967741938,0.6593750000000003,0.6551515151515154,0.6594117647058826,0.6634285714285717,0.6672222222222225,0.6683783783783787,0.6718421052631582,0.6741025641025644],\"yaxis\":\"y\",\"type\":\"scatter\"},{\"hovertemplate\":\"variable=Random Forest Normalized<br>Year=%{x}<br>value=%{y}<extra></extra>\",\"legendgroup\":\"Random Forest Normalized\",\"line\":{\"color\":\"#00cc96\",\"dash\":\"solid\"},\"marker\":{\"symbol\":\"circle\"},\"mode\":\"lines\",\"name\":\"Random Forest Normalized\",\"orientation\":\"v\",\"showlegend\":true,\"x\":[1985,1986,1987,1988,1989,1990,1991,1992,1993,1994,1995,1996,1997,1998,1999,2000,2001,2002,2003,2004,2005,2006,2007,2008,2009,2010,2011,2012,2013,2014,2015,2016,2017,2018,2019,2020,2021,2022,2023],\"xaxis\":\"x\",\"y\":[0.4533333333333333,0.42666666666666664,0.5511111111111111,0.6033333333333333,0.5926666666666666,0.6122222222222221,0.639047619047619,0.6341666666666665,0.6303703703703702,0.6473333333333332,0.6469696969696969,0.6388888888888887,0.6358974358974359,0.6411904761904762,0.6351111111111112,0.6397916666666668,0.64,0.6266666666666667,0.622280701754386,0.6186666666666667,0.5977777777777779,0.606969696969697,0.6240579710144928,0.6297222222222223,0.6445333333333335,0.6505128205128207,0.6467901234567903,0.6451190476190478,0.6435632183908049,0.6404444444444447,0.6426881720430111,0.653854166666667,0.650707070707071,0.6524509803921572,0.6452380952380955,0.6439814814814818,0.6414414414414418,0.6456140350877196,0.6485470085470089],\"yaxis\":\"y\",\"type\":\"scatter\"},{\"hovertemplate\":\"variable=Random Forest w/Voter Fatigue<br>Year=%{x}<br>value=%{y}<extra></extra>\",\"legendgroup\":\"Random Forest w/Voter Fatigue\",\"line\":{\"color\":\"#ab63fa\",\"dash\":\"solid\"},\"marker\":{\"symbol\":\"circle\"},\"mode\":\"lines\",\"name\":\"Random Forest w/Voter Fatigue\",\"orientation\":\"v\",\"showlegend\":true,\"x\":[1985,1986,1987,1988,1989,1990,1991,1992,1993,1994,1995,1996,1997,1998,1999,2000,2001,2002,2003,2004,2005,2006,2007,2008,2009,2010,2011,2012,2013,2014,2015,2016,2017,2018,2019,2020,2021,2022,2023],\"xaxis\":\"x\",\"y\":[0.4533333333333333,0.42666666666666664,0.5511111111111111,0.6033333333333333,0.5926666666666666,0.5855555555555555,0.6161904761904761,0.6195833333333333,0.6174074074074073,0.6556666666666666,0.6506060606060605,0.6463888888888888,0.6428205128205128,0.6476190476190476,0.6411111111111112,0.6454166666666667,0.6452941176470589,0.6427777777777778,0.6428070175438596,0.6306666666666667,0.6068253968253968,0.6156060606060607,0.6236231884057972,0.6393055555555557,0.6537333333333334,0.6593589743589744,0.6553086419753087,0.6533333333333334,0.6570114942528738,0.6484444444444446,0.6504301075268819,0.6613541666666668,0.6570707070707071,0.6612745098039217,0.6640952380952383,0.6678703703703706,0.6690090090090092,0.6724561403508774,0.674700854700855],\"yaxis\":\"y\",\"type\":\"scatter\"},{\"hovertemplate\":\"variable=Linear Regression w/Voter Fatigue<br>Year=%{x}<br>value=%{y}<extra></extra>\",\"legendgroup\":\"Linear Regression w/Voter Fatigue\",\"line\":{\"color\":\"#FFA15A\",\"dash\":\"solid\"},\"marker\":{\"symbol\":\"circle\"},\"mode\":\"lines\",\"name\":\"Linear Regression w/Voter Fatigue\",\"orientation\":\"v\",\"showlegend\":true,\"x\":[1985,1986,1987,1988,1989,1990,1991,1992,1993,1994,1995,1996,1997,1998,1999,2000,2001,2002,2003,2004,2005,2006,2007,2008,2009,2010,2011,2012,2013,2014,2015,2016,2017,2018,2019,2020,2021,2022,2023],\"xaxis\":\"x\",\"y\":[0.76,0.6066666666666667,0.5655555555555556,0.6141666666666667,0.5713333333333334,0.535,0.5504761904761905,0.5341666666666667,0.5359259259259259,0.5243333333333333,0.49787878787878787,0.5022222222222222,0.5058974358974359,0.49833333333333335,0.4837777777777778,0.48791666666666667,0.4756862745098039,0.4603703703703703,0.4529824561403508,0.4503333333333333,0.4457142857142857,0.4345454545454545,0.44652173913043475,0.43624999999999997,0.4445333333333333,0.43897435897435894,0.4350617283950617,0.43023809523809525,0.43206896551724133,0.431,0.43784946236559136,0.44916666666666666,0.45222222222222225,0.4550980392156863,0.4530476190476191,0.4626851851851852,0.4605405405405405,0.45771929824561397,0.4519658119658119],\"yaxis\":\"y\",\"type\":\"scatter\"},{\"hovertemplate\":\"variable=XGradient Boost w/Voter Fatigue<br>Year=%{x}<br>value=%{y}<extra></extra>\",\"legendgroup\":\"XGradient Boost w/Voter Fatigue\",\"line\":{\"color\":\"#19d3f3\",\"dash\":\"solid\"},\"marker\":{\"symbol\":\"circle\"},\"mode\":\"lines\",\"name\":\"XGradient Boost w/Voter Fatigue\",\"orientation\":\"v\",\"showlegend\":true,\"x\":[1985,1986,1987,1988,1989,1990,1991,1992,1993,1994,1995,1996,1997,1998,1999,2000,2001,2002,2003,2004,2005,2006,2007,2008,2009,2010,2011,2012,2013,2014,2015,2016,2017,2018,2019,2020,2021,2022,2023],\"xaxis\":\"x\",\"y\":[0.52,0.64,0.7600000000000001,0.8200000000000001,0.8160000000000001,0.7716666666666666,0.7628571428571428,0.7925,0.7711111111111111,0.7739999999999999,0.7763636363636363,0.7549999999999999,0.743076923076923,0.7407142857142855,0.734222222222222,0.7383333333333332,0.7419607843137254,0.7296296296296295,0.7080701754385964,0.6986666666666665,0.6673015873015872,0.6619696969696969,0.6662318840579708,0.6718055555555554,0.6849333333333333,0.697051282051282,0.6975308641975309,0.6911904761904761,0.6935632183908046,0.6877777777777777,0.688494623655914,0.6982291666666667,0.6897979797979799,0.6918627450980394,0.6869523809523811,0.6889814814814816,0.6919819819819821,0.6948245614035089,0.6975213675213677],\"yaxis\":\"y\",\"type\":\"scatter\"},{\"hovertemplate\":\"variable=XGradient Boost<br>Year=%{x}<br>value=%{y}<extra></extra>\",\"legendgroup\":\"XGradient Boost\",\"line\":{\"color\":\"#FF6692\",\"dash\":\"solid\"},\"marker\":{\"symbol\":\"circle\"},\"mode\":\"lines\",\"name\":\"XGradient Boost\",\"orientation\":\"v\",\"showlegend\":true,\"x\":[1985,1986,1987,1988,1989,1990,1991,1992,1993,1994,1995,1996,1997,1998,1999,2000,2001,2002,2003,2004,2005,2006,2007,2008,2009,2010,2011,2012,2013,2014,2015,2016,2017,2018,2019,2020,2021,2022,2023],\"xaxis\":\"x\",\"y\":[0.52,0.64,0.7600000000000001,0.8200000000000001,0.8160000000000001,0.7983333333333333,0.7857142857142857,0.7875,0.7666666666666666,0.7699999999999999,0.7727272727272727,0.7516666666666666,0.74,0.7378571428571428,0.7315555555555554,0.7233333333333332,0.7278431372549018,0.7162962962962962,0.702456140350877,0.6933333333333331,0.6626984126984126,0.667121212121212,0.671159420289855,0.6765277777777777,0.6894666666666666,0.7014102564102563,0.6992592592592592,0.6885714285714285,0.6893103448275861,0.6846666666666666,0.6870967741935484,0.696875,0.6844444444444444,0.687843137254902,0.6796190476190476,0.6818518518518518,0.685045045045045,0.6880701754385965,0.690940170940171],\"yaxis\":\"y\",\"type\":\"scatter\"}],                        {\"template\":{\"data\":{\"histogram2dcontour\":[{\"type\":\"histogram2dcontour\",\"colorbar\":{\"outlinewidth\":0,\"ticks\":\"\"},\"colorscale\":[[0.0,\"#0d0887\"],[0.1111111111111111,\"#46039f\"],[0.2222222222222222,\"#7201a8\"],[0.3333333333333333,\"#9c179e\"],[0.4444444444444444,\"#bd3786\"],[0.5555555555555556,\"#d8576b\"],[0.6666666666666666,\"#ed7953\"],[0.7777777777777778,\"#fb9f3a\"],[0.8888888888888888,\"#fdca26\"],[1.0,\"#f0f921\"]]}],\"choropleth\":[{\"type\":\"choropleth\",\"colorbar\":{\"outlinewidth\":0,\"ticks\":\"\"}}],\"histogram2d\":[{\"type\":\"histogram2d\",\"colorbar\":{\"outlinewidth\":0,\"ticks\":\"\"},\"colorscale\":[[0.0,\"#0d0887\"],[0.1111111111111111,\"#46039f\"],[0.2222222222222222,\"#7201a8\"],[0.3333333333333333,\"#9c179e\"],[0.4444444444444444,\"#bd3786\"],[0.5555555555555556,\"#d8576b\"],[0.6666666666666666,\"#ed7953\"],[0.7777777777777778,\"#fb9f3a\"],[0.8888888888888888,\"#fdca26\"],[1.0,\"#f0f921\"]]}],\"heatmap\":[{\"type\":\"heatmap\",\"colorbar\":{\"outlinewidth\":0,\"ticks\":\"\"},\"colorscale\":[[0.0,\"#0d0887\"],[0.1111111111111111,\"#46039f\"],[0.2222222222222222,\"#7201a8\"],[0.3333333333333333,\"#9c179e\"],[0.4444444444444444,\"#bd3786\"],[0.5555555555555556,\"#d8576b\"],[0.6666666666666666,\"#ed7953\"],[0.7777777777777778,\"#fb9f3a\"],[0.8888888888888888,\"#fdca26\"],[1.0,\"#f0f921\"]]}],\"heatmapgl\":[{\"type\":\"heatmapgl\",\"colorbar\":{\"outlinewidth\":0,\"ticks\":\"\"},\"colorscale\":[[0.0,\"#0d0887\"],[0.1111111111111111,\"#46039f\"],[0.2222222222222222,\"#7201a8\"],[0.3333333333333333,\"#9c179e\"],[0.4444444444444444,\"#bd3786\"],[0.5555555555555556,\"#d8576b\"],[0.6666666666666666,\"#ed7953\"],[0.7777777777777778,\"#fb9f3a\"],[0.8888888888888888,\"#fdca26\"],[1.0,\"#f0f921\"]]}],\"contourcarpet\":[{\"type\":\"contourcarpet\",\"colorbar\":{\"outlinewidth\":0,\"ticks\":\"\"}}],\"contour\":[{\"type\":\"contour\",\"colorbar\":{\"outlinewidth\":0,\"ticks\":\"\"},\"colorscale\":[[0.0,\"#0d0887\"],[0.1111111111111111,\"#46039f\"],[0.2222222222222222,\"#7201a8\"],[0.3333333333333333,\"#9c179e\"],[0.4444444444444444,\"#bd3786\"],[0.5555555555555556,\"#d8576b\"],[0.6666666666666666,\"#ed7953\"],[0.7777777777777778,\"#fb9f3a\"],[0.8888888888888888,\"#fdca26\"],[1.0,\"#f0f921\"]]}],\"surface\":[{\"type\":\"surface\",\"colorbar\":{\"outlinewidth\":0,\"ticks\":\"\"},\"colorscale\":[[0.0,\"#0d0887\"],[0.1111111111111111,\"#46039f\"],[0.2222222222222222,\"#7201a8\"],[0.3333333333333333,\"#9c179e\"],[0.4444444444444444,\"#bd3786\"],[0.5555555555555556,\"#d8576b\"],[0.6666666666666666,\"#ed7953\"],[0.7777777777777778,\"#fb9f3a\"],[0.8888888888888888,\"#fdca26\"],[1.0,\"#f0f921\"]]}],\"mesh3d\":[{\"type\":\"mesh3d\",\"colorbar\":{\"outlinewidth\":0,\"ticks\":\"\"}}],\"scatter\":[{\"fillpattern\":{\"fillmode\":\"overlay\",\"size\":10,\"solidity\":0.2},\"type\":\"scatter\"}],\"parcoords\":[{\"type\":\"parcoords\",\"line\":{\"colorbar\":{\"outlinewidth\":0,\"ticks\":\"\"}}}],\"scatterpolargl\":[{\"type\":\"scatterpolargl\",\"marker\":{\"colorbar\":{\"outlinewidth\":0,\"ticks\":\"\"}}}],\"bar\":[{\"error_x\":{\"color\":\"#2a3f5f\"},\"error_y\":{\"color\":\"#2a3f5f\"},\"marker\":{\"line\":{\"color\":\"#E5ECF6\",\"width\":0.5},\"pattern\":{\"fillmode\":\"overlay\",\"size\":10,\"solidity\":0.2}},\"type\":\"bar\"}],\"scattergeo\":[{\"type\":\"scattergeo\",\"marker\":{\"colorbar\":{\"outlinewidth\":0,\"ticks\":\"\"}}}],\"scatterpolar\":[{\"type\":\"scatterpolar\",\"marker\":{\"colorbar\":{\"outlinewidth\":0,\"ticks\":\"\"}}}],\"histogram\":[{\"marker\":{\"pattern\":{\"fillmode\":\"overlay\",\"size\":10,\"solidity\":0.2}},\"type\":\"histogram\"}],\"scattergl\":[{\"type\":\"scattergl\",\"marker\":{\"colorbar\":{\"outlinewidth\":0,\"ticks\":\"\"}}}],\"scatter3d\":[{\"type\":\"scatter3d\",\"line\":{\"colorbar\":{\"outlinewidth\":0,\"ticks\":\"\"}},\"marker\":{\"colorbar\":{\"outlinewidth\":0,\"ticks\":\"\"}}}],\"scattermapbox\":[{\"type\":\"scattermapbox\",\"marker\":{\"colorbar\":{\"outlinewidth\":0,\"ticks\":\"\"}}}],\"scatterternary\":[{\"type\":\"scatterternary\",\"marker\":{\"colorbar\":{\"outlinewidth\":0,\"ticks\":\"\"}}}],\"scattercarpet\":[{\"type\":\"scattercarpet\",\"marker\":{\"colorbar\":{\"outlinewidth\":0,\"ticks\":\"\"}}}],\"carpet\":[{\"aaxis\":{\"endlinecolor\":\"#2a3f5f\",\"gridcolor\":\"white\",\"linecolor\":\"white\",\"minorgridcolor\":\"white\",\"startlinecolor\":\"#2a3f5f\"},\"baxis\":{\"endlinecolor\":\"#2a3f5f\",\"gridcolor\":\"white\",\"linecolor\":\"white\",\"minorgridcolor\":\"white\",\"startlinecolor\":\"#2a3f5f\"},\"type\":\"carpet\"}],\"table\":[{\"cells\":{\"fill\":{\"color\":\"#EBF0F8\"},\"line\":{\"color\":\"white\"}},\"header\":{\"fill\":{\"color\":\"#C8D4E3\"},\"line\":{\"color\":\"white\"}},\"type\":\"table\"}],\"barpolar\":[{\"marker\":{\"line\":{\"color\":\"#E5ECF6\",\"width\":0.5},\"pattern\":{\"fillmode\":\"overlay\",\"size\":10,\"solidity\":0.2}},\"type\":\"barpolar\"}],\"pie\":[{\"automargin\":true,\"type\":\"pie\"}]},\"layout\":{\"autotypenumbers\":\"strict\",\"colorway\":[\"#636efa\",\"#EF553B\",\"#00cc96\",\"#ab63fa\",\"#FFA15A\",\"#19d3f3\",\"#FF6692\",\"#B6E880\",\"#FF97FF\",\"#FECB52\"],\"font\":{\"color\":\"#2a3f5f\"},\"hovermode\":\"closest\",\"hoverlabel\":{\"align\":\"left\"},\"paper_bgcolor\":\"white\",\"plot_bgcolor\":\"#E5ECF6\",\"polar\":{\"bgcolor\":\"#E5ECF6\",\"angularaxis\":{\"gridcolor\":\"white\",\"linecolor\":\"white\",\"ticks\":\"\"},\"radialaxis\":{\"gridcolor\":\"white\",\"linecolor\":\"white\",\"ticks\":\"\"}},\"ternary\":{\"bgcolor\":\"#E5ECF6\",\"aaxis\":{\"gridcolor\":\"white\",\"linecolor\":\"white\",\"ticks\":\"\"},\"baxis\":{\"gridcolor\":\"white\",\"linecolor\":\"white\",\"ticks\":\"\"},\"caxis\":{\"gridcolor\":\"white\",\"linecolor\":\"white\",\"ticks\":\"\"}},\"coloraxis\":{\"colorbar\":{\"outlinewidth\":0,\"ticks\":\"\"}},\"colorscale\":{\"sequential\":[[0.0,\"#0d0887\"],[0.1111111111111111,\"#46039f\"],[0.2222222222222222,\"#7201a8\"],[0.3333333333333333,\"#9c179e\"],[0.4444444444444444,\"#bd3786\"],[0.5555555555555556,\"#d8576b\"],[0.6666666666666666,\"#ed7953\"],[0.7777777777777778,\"#fb9f3a\"],[0.8888888888888888,\"#fdca26\"],[1.0,\"#f0f921\"]],\"sequentialminus\":[[0.0,\"#0d0887\"],[0.1111111111111111,\"#46039f\"],[0.2222222222222222,\"#7201a8\"],[0.3333333333333333,\"#9c179e\"],[0.4444444444444444,\"#bd3786\"],[0.5555555555555556,\"#d8576b\"],[0.6666666666666666,\"#ed7953\"],[0.7777777777777778,\"#fb9f3a\"],[0.8888888888888888,\"#fdca26\"],[1.0,\"#f0f921\"]],\"diverging\":[[0,\"#8e0152\"],[0.1,\"#c51b7d\"],[0.2,\"#de77ae\"],[0.3,\"#f1b6da\"],[0.4,\"#fde0ef\"],[0.5,\"#f7f7f7\"],[0.6,\"#e6f5d0\"],[0.7,\"#b8e186\"],[0.8,\"#7fbc41\"],[0.9,\"#4d9221\"],[1,\"#276419\"]]},\"xaxis\":{\"gridcolor\":\"white\",\"linecolor\":\"white\",\"ticks\":\"\",\"title\":{\"standoff\":15},\"zerolinecolor\":\"white\",\"automargin\":true,\"zerolinewidth\":2},\"yaxis\":{\"gridcolor\":\"white\",\"linecolor\":\"white\",\"ticks\":\"\",\"title\":{\"standoff\":15},\"zerolinecolor\":\"white\",\"automargin\":true,\"zerolinewidth\":2},\"scene\":{\"xaxis\":{\"backgroundcolor\":\"#E5ECF6\",\"gridcolor\":\"white\",\"linecolor\":\"white\",\"showbackground\":true,\"ticks\":\"\",\"zerolinecolor\":\"white\",\"gridwidth\":2},\"yaxis\":{\"backgroundcolor\":\"#E5ECF6\",\"gridcolor\":\"white\",\"linecolor\":\"white\",\"showbackground\":true,\"ticks\":\"\",\"zerolinecolor\":\"white\",\"gridwidth\":2},\"zaxis\":{\"backgroundcolor\":\"#E5ECF6\",\"gridcolor\":\"white\",\"linecolor\":\"white\",\"showbackground\":true,\"ticks\":\"\",\"zerolinecolor\":\"white\",\"gridwidth\":2}},\"shapedefaults\":{\"line\":{\"color\":\"#2a3f5f\"}},\"annotationdefaults\":{\"arrowcolor\":\"#2a3f5f\",\"arrowhead\":0,\"arrowwidth\":1},\"geo\":{\"bgcolor\":\"white\",\"landcolor\":\"#E5ECF6\",\"subunitcolor\":\"white\",\"showland\":true,\"showlakes\":true,\"lakecolor\":\"white\"},\"title\":{\"x\":0.05},\"mapbox\":{\"style\":\"light\"}}},\"xaxis\":{\"anchor\":\"y\",\"domain\":[0.0,1.0],\"title\":{\"text\":\"Year\"}},\"yaxis\":{\"anchor\":\"x\",\"domain\":[0.0,1.0],\"title\":{\"text\":\"value\"}},\"legend\":{\"title\":{\"text\":\"variable\"},\"tracegroupgap\":0},\"margin\":{\"t\":60}},                        {\"responsive\": true}                    ).then(function(){\n",
       "                            \n",
       "var gd = document.getElementById('c6d39949-4ab5-4401-afab-e82d28f11925');\n",
       "var x = new MutationObserver(function (mutations, observer) {{\n",
       "        var display = window.getComputedStyle(gd).display;\n",
       "        if (!display || display === 'none') {{\n",
       "            console.log([gd, 'removed!']);\n",
       "            Plotly.purge(gd);\n",
       "            observer.disconnect();\n",
       "        }}\n",
       "}});\n",
       "\n",
       "// Listen for the removal of the full notebook cells\n",
       "var notebookContainer = gd.closest('#notebook-container');\n",
       "if (notebookContainer) {{\n",
       "    x.observe(notebookContainer, {childList: true});\n",
       "}}\n",
       "\n",
       "// Listen for the clearing of the current output cell\n",
       "var outputEl = gd.closest('.output');\n",
       "if (outputEl) {{\n",
       "    x.observe(outputEl, {childList: true});\n",
       "}}\n",
       "\n",
       "                        })                };                });            </script>        </div>"
      ]
     },
     "metadata": {},
     "output_type": "display_data"
    }
   ],
   "source": [
    "apk_fig = px.line(graphing_results_apk_df, x='Year', y=graphing_results_apk_df.columns[1:8])\n",
    "apk_fig"
   ]
  },
  {
   "cell_type": "code",
   "execution_count": null,
   "id": "51648c4f",
   "metadata": {},
   "outputs": [],
   "source": []
  },
  {
   "cell_type": "markdown",
   "id": "ba4d6d97",
   "metadata": {},
   "source": [
    "# Saving models so we can work on them and look at them after"
   ]
  },
  {
   "cell_type": "code",
   "execution_count": 342,
   "id": "27479238",
   "metadata": {},
   "outputs": [
    {
     "data": {
      "text/plain": [
       "['joblib_RF_Model.pkl']"
      ]
     },
     "execution_count": 342,
     "metadata": {},
     "output_type": "execute_result"
    }
   ],
   "source": [
    "# Save RF Model to file in the current working directory\n",
    "\n",
    "joblib_file = \"joblib_RF_Model.pkl\"  \n",
    "joblib.dump(rf, joblib_file)\n",
    "\n",
    "# This is with voter fatigue as well which has the lowest MSE and the highest APK"
   ]
  },
  {
   "cell_type": "code",
   "execution_count": 343,
   "id": "c79ce07e",
   "metadata": {},
   "outputs": [],
   "source": [
    "\"\"\"filepath = 'rf_session_7-7.pkl'\n",
    "dill.dump_session(filepath) # Save the session\"\"\""
   ]
  },
  {
   "cell_type": "code",
   "execution_count": null,
   "id": "537d380e",
   "metadata": {},
   "outputs": [],
   "source": []
  },
  {
   "cell_type": "code",
   "execution_count": null,
   "id": "3872c29b",
   "metadata": {},
   "outputs": [],
   "source": []
  },
  {
   "cell_type": "code",
   "execution_count": null,
   "id": "6178b941",
   "metadata": {},
   "outputs": [],
   "source": []
  },
  {
   "cell_type": "code",
   "execution_count": null,
   "id": "e1757607",
   "metadata": {},
   "outputs": [],
   "source": []
  }
 ],
 "metadata": {
  "kernelspec": {
   "display_name": "Python 3 (ipykernel)",
   "language": "python",
   "name": "python3"
  },
  "language_info": {
   "codemirror_mode": {
    "name": "ipython",
    "version": 3
   },
   "file_extension": ".py",
   "mimetype": "text/x-python",
   "name": "python",
   "nbconvert_exporter": "python",
   "pygments_lexer": "ipython3",
   "version": "3.10.9"
  }
 },
 "nbformat": 4,
 "nbformat_minor": 5
}
