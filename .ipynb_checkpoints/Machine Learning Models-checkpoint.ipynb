{
 "cells": [
  {
   "cell_type": "markdown",
   "id": "ecbdbcc5",
   "metadata": {},
   "source": [
    "### Now that we have a fully cleaned dataframe, we can start building out our model"
   ]
  },
  {
   "cell_type": "code",
   "execution_count": 768,
   "id": "1a0dbff2",
   "metadata": {},
   "outputs": [],
   "source": [
    "import numpy as np\n",
    "import pandas as pd\n",
    "from sklearn.linear_model import Ridge, LinearRegression\n",
    "from sklearn.metrics import mean_squared_error\n",
    "from sklearn.ensemble import RandomForestRegressor\n",
    "from sklearn.ensemble import GradientBoostingRegressor\n",
    "from sklearn.neural_network import MLPRegressor\n",
    "import xgboost as xgb\n",
    "from sklearn import svm\n",
    "import plotly.express as px\n",
    "import joblib\n",
    "import dill \n",
    "import pdb\n",
    "#filepath = 'rf_session_7-7.pkl'\n",
    "#dill.load_session(filepath)\n",
    "import joblib\n",
    "#joblib_file = \"joblib_RF_Model.pkl\"  \n",
    "#newest_rf = joblib.load(joblib_file) # This is with voter fatigue as well which has the lowest MSE and the highest APK"
   ]
  },
  {
   "cell_type": "code",
   "execution_count": 262,
   "id": "83ec4f17",
   "metadata": {},
   "outputs": [],
   "source": [
    "# Neural Network import\n",
    "import tensorflow\n",
    "import keras\n",
    "from tensorflow.keras.models import Sequential\n",
    "from tensorflow.keras.layers import Dense\n",
    "from scikeras.wrappers import KerasRegressor\n",
    "from sklearn.model_selection import cross_val_score\n",
    "from sklearn.model_selection import KFold\n",
    "from sklearn.preprocessing import StandardScaler\n",
    "from sklearn.pipeline import Pipeline"
   ]
  },
  {
   "cell_type": "code",
   "execution_count": 263,
   "id": "6461f8e9",
   "metadata": {},
   "outputs": [],
   "source": [
    "\"\"\"Imported functions from ml_metrics library\"\"\"\n",
    "\n",
    "def apk(actual, predicted, k=10):\n",
    "    \"\"\"\n",
    "    Computes the average precision at k.\n",
    "\n",
    "    This function computes the average prescision at k between two lists of\n",
    "    items.\n",
    "\n",
    "    Parameters\n",
    "    ----------\n",
    "    actual : list\n",
    "             A list of elements that are to be predicted (order doesn't matter)\n",
    "    predicted : list\n",
    "                A list of predicted elements (order does matter)\n",
    "    k : int, optional\n",
    "        The maximum number of predicted elements\n",
    "\n",
    "    Returns\n",
    "    -------\n",
    "    score : double\n",
    "            The average precision at k over the input lists\n",
    "\n",
    "    \"\"\"\n",
    "    if len(predicted)>k:\n",
    "        predicted = predicted[:k]\n",
    "\n",
    "    score = 0.0\n",
    "    num_hits = 0.0\n",
    "\n",
    "    for i,p in enumerate(predicted):\n",
    "        if p in actual and p not in predicted[:i]:\n",
    "            num_hits += 1.0\n",
    "            score += num_hits / (i+1.0)\n",
    "\n",
    "    if not actual:\n",
    "        return 0.0\n",
    "\n",
    "    return score / min(len(actual), k)\n",
    "\n",
    "def mapk(actual, predicted, k=10):\n",
    "    \"\"\"\n",
    "    Computes the mean average precision at k.\n",
    "\n",
    "    This function computes the mean average prescision at k between two lists\n",
    "    of lists of items.\n",
    "\n",
    "    Parameters\n",
    "    ----------\n",
    "    actual : list\n",
    "             A list of lists of elements that are to be predicted \n",
    "             (order doesn't matter in the lists)\n",
    "    predicted : list\n",
    "                A list of lists of predicted elements\n",
    "                (order matters in the lists)\n",
    "    k : int, optional\n",
    "        The maximum number of predicted elements\n",
    "\n",
    "    Returns\n",
    "    -------\n",
    "    score : double\n",
    "            The mean average precision at k over the input lists\n",
    "\n",
    "    \"\"\"\n",
    "    return np.mean([apk(a,p,k) for a,p in zip(actual, predicted)])"
   ]
  },
  {
   "cell_type": "code",
   "execution_count": 264,
   "id": "6f57325f",
   "metadata": {},
   "outputs": [],
   "source": [
    "mvp_df = pd.read_csv(\"all_player_mvp_stats.csv\")"
   ]
  },
  {
   "cell_type": "code",
   "execution_count": 265,
   "id": "2dbeccdf",
   "metadata": {},
   "outputs": [],
   "source": [
    "# Dropping previous index as well as Tm since redundant with Team and\n",
    "# Hornets have two different abbreviations\n",
    "mvp_df = mvp_df.drop([\"Unnamed: 0\", \"Tm\"], axis=1)"
   ]
  },
  {
   "cell_type": "code",
   "execution_count": 266,
   "id": "83a5d01d",
   "metadata": {},
   "outputs": [],
   "source": [
    "years = list(range(1980, 2024))"
   ]
  },
  {
   "cell_type": "code",
   "execution_count": 267,
   "id": "799407b4",
   "metadata": {},
   "outputs": [],
   "source": [
    "# setting up everything for our variables\n",
    "# Removed qualitative variables like Team as well as Year\n",
    "predictors = ['Age', 'G', 'GS', 'MP', 'FG', 'FGA', 'FG%', '3P',\n",
    "       '3PA', '3P%', '2P', '2PA', '2P%', 'eFG%', 'FT', 'FTA', 'FT%', 'ORB',\n",
    "       'DRB', 'TRB', 'AST', 'STL', 'BLK', 'TOV', 'PF', 'PTS', 'PER',\n",
    "       'TS%', '3PAr', 'FTr', 'ORB%', 'DRB%', 'TRB%', 'AST%', 'STL%', 'BLK%',\n",
    "       'TOV%', 'USG%', 'OWS', 'DWS', 'WS', 'WS/48', 'OBPM', 'DBPM', 'BPM',\n",
    "       'VORP', 'W', 'L', 'W/L%', 'GB',\n",
    "       'PS/G', 'PA/G', 'SRS']"
   ]
  },
  {
   "cell_type": "code",
   "execution_count": 268,
   "id": "eb96ccfa",
   "metadata": {},
   "outputs": [],
   "source": [
    "train = mvp_df[mvp_df[\"Year\"] < 2023]\n",
    "test = mvp_df[mvp_df[\"Year\"] == 2023]"
   ]
  },
  {
   "cell_type": "code",
   "execution_count": 269,
   "id": "8ecfe3c3",
   "metadata": {},
   "outputs": [],
   "source": [
    "X_train = train[predictors]\n",
    "y_train = train[\"Share\"]\n",
    "\n",
    "X_test = test[predictors]\n",
    "y_test = test[\"Share\"]"
   ]
  },
  {
   "cell_type": "code",
   "execution_count": 270,
   "id": "3968589f",
   "metadata": {},
   "outputs": [],
   "source": [
    "# Setting up first model (Ridge Regression)\n",
    "\n",
    "reg = Ridge(alpha=.1)\n",
    "reg.fit(X_train, y_train)\n",
    "ridge_predictions = reg.predict(X_test)"
   ]
  },
  {
   "cell_type": "code",
   "execution_count": 271,
   "id": "1b6fb67a",
   "metadata": {},
   "outputs": [
    {
     "data": {
      "text/html": [
       "<div>\n",
       "<style scoped>\n",
       "    .dataframe tbody tr th:only-of-type {\n",
       "        vertical-align: middle;\n",
       "    }\n",
       "\n",
       "    .dataframe tbody tr th {\n",
       "        vertical-align: top;\n",
       "    }\n",
       "\n",
       "    .dataframe thead th {\n",
       "        text-align: right;\n",
       "    }\n",
       "</style>\n",
       "<table border=\"1\" class=\"dataframe\">\n",
       "  <thead>\n",
       "    <tr style=\"text-align: right;\">\n",
       "      <th></th>\n",
       "      <th>MVP Share Predictions</th>\n",
       "    </tr>\n",
       "  </thead>\n",
       "  <tbody>\n",
       "    <tr>\n",
       "      <th>7312</th>\n",
       "      <td>0.018240</td>\n",
       "    </tr>\n",
       "    <tr>\n",
       "      <th>7313</th>\n",
       "      <td>0.029694</td>\n",
       "    </tr>\n",
       "    <tr>\n",
       "      <th>7314</th>\n",
       "      <td>0.029982</td>\n",
       "    </tr>\n",
       "    <tr>\n",
       "      <th>7315</th>\n",
       "      <td>0.223518</td>\n",
       "    </tr>\n",
       "    <tr>\n",
       "      <th>7316</th>\n",
       "      <td>-0.010886</td>\n",
       "    </tr>\n",
       "    <tr>\n",
       "      <th>...</th>\n",
       "      <td>...</td>\n",
       "    </tr>\n",
       "    <tr>\n",
       "      <th>18695</th>\n",
       "      <td>-0.017917</td>\n",
       "    </tr>\n",
       "    <tr>\n",
       "      <th>18696</th>\n",
       "      <td>0.005571</td>\n",
       "    </tr>\n",
       "    <tr>\n",
       "      <th>18697</th>\n",
       "      <td>-0.017361</td>\n",
       "    </tr>\n",
       "    <tr>\n",
       "      <th>18698</th>\n",
       "      <td>-0.021624</td>\n",
       "    </tr>\n",
       "    <tr>\n",
       "      <th>18699</th>\n",
       "      <td>-0.010540</td>\n",
       "    </tr>\n",
       "  </tbody>\n",
       "</table>\n",
       "<p>539 rows × 1 columns</p>\n",
       "</div>"
      ],
      "text/plain": [
       "       MVP Share Predictions\n",
       "7312                0.018240\n",
       "7313                0.029694\n",
       "7314                0.029982\n",
       "7315                0.223518\n",
       "7316               -0.010886\n",
       "...                      ...\n",
       "18695              -0.017917\n",
       "18696               0.005571\n",
       "18697              -0.017361\n",
       "18698              -0.021624\n",
       "18699              -0.010540\n",
       "\n",
       "[539 rows x 1 columns]"
      ]
     },
     "execution_count": 271,
     "metadata": {},
     "output_type": "execute_result"
    }
   ],
   "source": [
    "# Converting to df to be cleaner\n",
    "ridge_df = pd.DataFrame(ridge_predictions,\n",
    "                                 columns=[\"MVP Share Predictions\"],\n",
    "                                 index=X_test.index)\n",
    "ridge_df"
   ]
  },
  {
   "cell_type": "code",
   "execution_count": 272,
   "id": "2dbcf904",
   "metadata": {},
   "outputs": [
    {
     "data": {
      "text/html": [
       "<div>\n",
       "<style scoped>\n",
       "    .dataframe tbody tr th:only-of-type {\n",
       "        vertical-align: middle;\n",
       "    }\n",
       "\n",
       "    .dataframe tbody tr th {\n",
       "        vertical-align: top;\n",
       "    }\n",
       "\n",
       "    .dataframe thead th {\n",
       "        text-align: right;\n",
       "    }\n",
       "</style>\n",
       "<table border=\"1\" class=\"dataframe\">\n",
       "  <thead>\n",
       "    <tr style=\"text-align: right;\">\n",
       "      <th></th>\n",
       "      <th>Player</th>\n",
       "      <th>Share</th>\n",
       "      <th>MVP Share Predictions</th>\n",
       "    </tr>\n",
       "  </thead>\n",
       "  <tbody>\n",
       "    <tr>\n",
       "      <th>7315</th>\n",
       "      <td>Giannis Antetokounmpo</td>\n",
       "      <td>0.606</td>\n",
       "      <td>0.223518</td>\n",
       "    </tr>\n",
       "    <tr>\n",
       "      <th>7823</th>\n",
       "      <td>Nikola Jokić</td>\n",
       "      <td>0.674</td>\n",
       "      <td>0.223000</td>\n",
       "    </tr>\n",
       "    <tr>\n",
       "      <th>7407</th>\n",
       "      <td>Luka Dončić</td>\n",
       "      <td>0.010</td>\n",
       "      <td>0.193656</td>\n",
       "    </tr>\n",
       "    <tr>\n",
       "      <th>18517</th>\n",
       "      <td>Joel Embiid</td>\n",
       "      <td>0.915</td>\n",
       "      <td>0.174440</td>\n",
       "    </tr>\n",
       "    <tr>\n",
       "      <th>10690</th>\n",
       "      <td>Domantas Sabonis</td>\n",
       "      <td>0.027</td>\n",
       "      <td>0.130161</td>\n",
       "    </tr>\n",
       "    <tr>\n",
       "      <th>9535</th>\n",
       "      <td>Jayson Tatum</td>\n",
       "      <td>0.280</td>\n",
       "      <td>0.129465</td>\n",
       "    </tr>\n",
       "    <tr>\n",
       "      <th>8336</th>\n",
       "      <td>Shai Gilgeous-Alexander</td>\n",
       "      <td>0.046</td>\n",
       "      <td>0.120248</td>\n",
       "    </tr>\n",
       "    <tr>\n",
       "      <th>18693</th>\n",
       "      <td>Julius Randle</td>\n",
       "      <td>0.000</td>\n",
       "      <td>0.114498</td>\n",
       "    </tr>\n",
       "    <tr>\n",
       "      <th>13991</th>\n",
       "      <td>LeBron James</td>\n",
       "      <td>0.000</td>\n",
       "      <td>0.110243</td>\n",
       "    </tr>\n",
       "    <tr>\n",
       "      <th>16768</th>\n",
       "      <td>Ja Morant</td>\n",
       "      <td>0.001</td>\n",
       "      <td>0.107225</td>\n",
       "    </tr>\n",
       "    <tr>\n",
       "      <th>13681</th>\n",
       "      <td>Damian Lillard</td>\n",
       "      <td>0.000</td>\n",
       "      <td>0.100364</td>\n",
       "    </tr>\n",
       "    <tr>\n",
       "      <th>13984</th>\n",
       "      <td>Anthony Davis</td>\n",
       "      <td>0.000</td>\n",
       "      <td>0.094242</td>\n",
       "    </tr>\n",
       "    <tr>\n",
       "      <th>15559</th>\n",
       "      <td>Jimmy Butler</td>\n",
       "      <td>0.003</td>\n",
       "      <td>0.093691</td>\n",
       "    </tr>\n",
       "    <tr>\n",
       "      <th>12631</th>\n",
       "      <td>Stephen Curry</td>\n",
       "      <td>0.005</td>\n",
       "      <td>0.078849</td>\n",
       "    </tr>\n",
       "    <tr>\n",
       "      <th>17623</th>\n",
       "      <td>Donovan Mitchell</td>\n",
       "      <td>0.030</td>\n",
       "      <td>0.076788</td>\n",
       "    </tr>\n",
       "    <tr>\n",
       "      <th>15964</th>\n",
       "      <td>Kevin Durant</td>\n",
       "      <td>0.000</td>\n",
       "      <td>0.072739</td>\n",
       "    </tr>\n",
       "    <tr>\n",
       "      <th>17995</th>\n",
       "      <td>Pascal Siakam</td>\n",
       "      <td>0.000</td>\n",
       "      <td>0.069931</td>\n",
       "    </tr>\n",
       "    <tr>\n",
       "      <th>10557</th>\n",
       "      <td>Nikola Vučević</td>\n",
       "      <td>0.000</td>\n",
       "      <td>0.064673</td>\n",
       "    </tr>\n",
       "    <tr>\n",
       "      <th>14088</th>\n",
       "      <td>Kristaps Porziņģis</td>\n",
       "      <td>0.000</td>\n",
       "      <td>0.064496</td>\n",
       "    </tr>\n",
       "    <tr>\n",
       "      <th>18516</th>\n",
       "      <td>James Harden</td>\n",
       "      <td>0.000</td>\n",
       "      <td>0.062816</td>\n",
       "    </tr>\n",
       "  </tbody>\n",
       "</table>\n",
       "</div>"
      ],
      "text/plain": [
       "                        Player  Share  MVP Share Predictions\n",
       "7315     Giannis Antetokounmpo  0.606               0.223518\n",
       "7823              Nikola Jokić  0.674               0.223000\n",
       "7407               Luka Dončić  0.010               0.193656\n",
       "18517              Joel Embiid  0.915               0.174440\n",
       "10690         Domantas Sabonis  0.027               0.130161\n",
       "9535              Jayson Tatum  0.280               0.129465\n",
       "8336   Shai Gilgeous-Alexander  0.046               0.120248\n",
       "18693            Julius Randle  0.000               0.114498\n",
       "13991             LeBron James  0.000               0.110243\n",
       "16768                Ja Morant  0.001               0.107225\n",
       "13681           Damian Lillard  0.000               0.100364\n",
       "13984            Anthony Davis  0.000               0.094242\n",
       "15559             Jimmy Butler  0.003               0.093691\n",
       "12631            Stephen Curry  0.005               0.078849\n",
       "17623         Donovan Mitchell  0.030               0.076788\n",
       "15964             Kevin Durant  0.000               0.072739\n",
       "17995            Pascal Siakam  0.000               0.069931\n",
       "10557           Nikola Vučević  0.000               0.064673\n",
       "14088       Kristaps Porziņģis  0.000               0.064496\n",
       "18516             James Harden  0.000               0.062816"
      ]
     },
     "execution_count": 272,
     "metadata": {},
     "output_type": "execute_result"
    }
   ],
   "source": [
    "ridge_combination = pd.concat([test[[\"Player\", \"Share\"]], ridge_df], axis = 1)\n",
    "ridge_combination.sort_values(\"MVP Share Predictions\", ascending=False).head(20)"
   ]
  },
  {
   "cell_type": "code",
   "execution_count": 273,
   "id": "1d2e3c1e",
   "metadata": {},
   "outputs": [],
   "source": [
    "# generalize this later for all types of models\n",
    "# outputs two new columns: Rank and Predicted Rank\n",
    "\n",
    "def convert_to_ranks(df, actual_share_col, predicted_share_col):\n",
    "    ranked_df = df.copy(deep=True)\n",
    "    ranked_df[\"Rank\"] = df[actual_share_col].rank(method=\"min\", ascending=False)\n",
    "    ranked_df[\"Predicted Rank\"] = df[predicted_share_col].rank(method=\"min\", ascending=False)\n",
    "    return ranked_df.sort_values(\"Rank\")"
   ]
  },
  {
   "cell_type": "code",
   "execution_count": 274,
   "id": "ce156cc1",
   "metadata": {},
   "outputs": [],
   "source": [
    "# create an error metric function that is based on ranking since\n",
    "# most players' MVP share is 0\n",
    "# assumption is table looks like ridge_combination\n",
    "# with cols: Player, Share, MVP Share Predictions\n",
    "# outdated not using the convert_to_ranks function but not useful\n",
    "def find_ap(df, actual_share_col, predicted_share_col, num):\n",
    "    actual_ranking = df.sort_values(actual_share_col, ascending=False).head(num)\n",
    "    actual_ranking[\"Rank\"] = list(range(1, actual_ranking.shape[0] + 1))\n",
    "    predicted_ranking = df.sort_values(predicted_share_col, ascending=False)\n",
    "    predicted_ranking[\"Pred_Rank\"] = list(range(1, predicted_ranking.shape[0] + 1))\n",
    "    abs_diff = 0\n",
    "    for index, row in actual_ranking.iterrows():\n",
    "        player_name = row[\"Player\"]\n",
    "        predicted_player_row = predicted_ranking[\n",
    "            predicted_ranking[\"Player\"] == player_name]\n",
    "        abs_diff += abs(row[\"Rank\"] - predicted_player_row[\"Pred_Rank\"].values[0])\n",
    "    return abs_diff"
   ]
  },
  {
   "cell_type": "code",
   "execution_count": 275,
   "id": "2b5db605",
   "metadata": {},
   "outputs": [],
   "source": [
    "\"\"\"\n",
    "Finding mean square error\n",
    "\n",
    "This will give you a measure of the overall discrepancy or difference in ranks between the two for the top 10 MVP\n",
    "candidates.\n",
    "\n",
    "Input is a ranked dataframe after applying the convert_to_ranks function.\n",
    "\"\"\"\n",
    "\n",
    "def get_mse_top_n(ranked_df, num=10):\n",
    "    top_n_df = ranked_df.head(num)\n",
    "    return mean_squared_error(top_n_df[\"Rank\"].to_numpy(), top_n_df[\"Predicted Rank\"].to_numpy(), squared=True)"
   ]
  },
  {
   "cell_type": "code",
   "execution_count": 276,
   "id": "187d8f14",
   "metadata": {},
   "outputs": [],
   "source": [
    "\"\"\"\n",
    "Determine the AP@K (Average Precision at K) for your predicted ranking. \n",
    "\n",
    "Interested in top n since those are the MVP finalists. AP@K will provide an assessment\n",
    "of the precision and correctness of your predicted ranking for the top candidates.\n",
    "\n",
    "Input is a ranked dataframe after applying the convert_to_ranks function.\n",
    "\"\"\"\n",
    "\n",
    "def get_apk_n(ranked_df, k):\n",
    "    top_k_actual = ranked_df[\"Player\"][:k]\n",
    "    top_k_predicted = ranked_df.sort_values(\"Predicted Rank\")[\"Player\"][:k]\n",
    "    return apk(top_k_actual.tolist(), top_k_predicted.tolist(), 5)"
   ]
  },
  {
   "cell_type": "code",
   "execution_count": 277,
   "id": "a8d7d235",
   "metadata": {},
   "outputs": [],
   "source": [
    "\"\"\" \n",
    "Combines both of our metrics together to provide a clean look at how our model does \n",
    "in these two important criteria. \"\"\"\n",
    "\n",
    "def evaluate_model(df, actual_share_col, predicted_share_col, k):\n",
    "    combined_df = convert_to_ranks(df, actual_share_col, predicted_share_col)\n",
    "    \n",
    "    #return combined_df\n",
    "    mse = get_mse_top_10(combined_df)\n",
    "    apk = get_apk_n(combined_df, k)\n",
    "    \n",
    "    return [mse, apk]\n",
    "    "
   ]
  },
  {
   "cell_type": "code",
   "execution_count": 278,
   "id": "1d72d31b",
   "metadata": {},
   "outputs": [],
   "source": [
    "def print_model_results(mse, apk, k):\n",
    "    print(\"Mean Squared Error:\", mse)\n",
    "    print(\"Average Precision at\", str(k) + \":\", apk)"
   ]
  },
  {
   "cell_type": "code",
   "execution_count": 279,
   "id": "da108f6b",
   "metadata": {},
   "outputs": [
    {
     "name": "stdout",
     "output_type": "stream",
     "text": [
      "Mean Squared Error: 16.5\n",
      "Average Precision at 5: 0.55\n"
     ]
    }
   ],
   "source": [
    "# Final output for evaluating how our model did on the two key metrics\n",
    "naive_results = evaluate_model(ridge_combination, \"Share\", \"MVP Share Predictions\", 5)\n",
    "print_model_results(naive_results[0], naive_results[1], 5)"
   ]
  },
  {
   "cell_type": "markdown",
   "id": "f2f485c6",
   "metadata": {},
   "source": [
    "## Backtesting"
   ]
  },
  {
   "cell_type": "code",
   "execution_count": 280,
   "id": "e663be03",
   "metadata": {},
   "outputs": [],
   "source": [
    "# Following along, we make a function to find the biggest differences each year\n",
    "# inside code we run function of convert_to_ranks\n",
    "def difference_in_rank(ranked_df):\n",
    "    ranked_df[\"Difference\"] = ranked_df[\"Rank\"] - ranked_df[\"Predicted Rank\"]\n",
    "    return ranked_df"
   ]
  },
  {
   "cell_type": "code",
   "execution_count": 281,
   "id": "11de6b6c",
   "metadata": {},
   "outputs": [],
   "source": [
    "def model_prediction(df, year, model, predictors):\n",
    "    train = df[df[\"Year\"] < year]\n",
    "    test = df[df[\"Year\"] == year]\n",
    "    \n",
    "    X_train = train[predictors]\n",
    "    y_train = train[\"Share\"]\n",
    "    X_test = test[predictors]\n",
    "    y_test = test[\"Share\"]\n",
    "    \n",
    "    model.fit(X_train, y_train)\n",
    "    model_predictions = model.predict(X_test) # predict for testing set (the current year starting w 2005)\n",
    "\n",
    "    model_df = pd.DataFrame(model_predictions,\n",
    "                                     columns=[\"MVP Share Predictions\"],\n",
    "                                     index=X_test.index) # putting predictions into a dataframe\n",
    "\n",
    "    model_combination = pd.concat([test[[\"Player\", \"Share\"]],\n",
    "                                          model_df], axis = 1) # concatenating predictions with the players and their MVP share\n",
    "    return model_combination"
   ]
  },
  {
   "cell_type": "code",
   "execution_count": 303,
   "id": "f5cdfc9a",
   "metadata": {},
   "outputs": [],
   "source": [
    "\"\"\"\n",
    "Creating a backtesting function to run all the code we did and put it in a loop\n",
    "\"\"\"\n",
    "def backtest(orig_df, model_bt, timeframe, predictors, normalizing=False, voteFatigue=True):\n",
    "    \"\"\"\n",
    "    Looping through years (starting with 2005 because we need at least 5 years of data to come up with a model)\n",
    "    Then making predictions for every year based off previous traine data\n",
    "    The more years we can train on, the more data our algorithm can build off to make accurate predictions\n",
    "    \"\"\"\n",
    "\n",
    "    all_predictions = [] # list of dataframes holding our predictions for every year\n",
    "    mse_ar = []\n",
    "    apk_ar = []\n",
    "    \n",
    "    df = orig_df.copy(deep=True)\n",
    "    \n",
    "    \n",
    "    if normalizing: # if our data needs to be normalized (for certain models where scaling is important)\n",
    "        predictors_plus_year = predictors.copy()\n",
    "        predictors_plus_year.append(\"Year\")\n",
    "        df[predictors] = df[predictors_plus_year].groupby(\"Year\").transform(lambda x: (x-np.mean(x, axis=0))/np.std(x, ddof=1))\n",
    "    \n",
    "    if voteFatigue:\n",
    "        df = add_previous_mvps(df, years)\n",
    "        predictors = add_previous_mvp_as_predictor(predictors)\n",
    "\n",
    "    for year in timeframe[5:]:\n",
    "        model_bt_combination = model_prediction(df, year, model_bt, predictors)\n",
    "\n",
    "        combined_bt_df = convert_to_ranks(model_bt_combination, \"Share\", \"MVP Share Predictions\") # adding actual and predicted rank into list\n",
    "        with_differences = difference_in_rank(combined_bt_df) # adding difference between actual and predicted rank\n",
    "        with_differences[\"Year\"] = year # adding year to add more information to overall dataframe\n",
    "        \n",
    "        all_predictions.append(with_differences) # appending predictions to outer list\n",
    "\n",
    "        mse_ar.append(get_mse_top_n(combined_bt_df))\n",
    "        apk_ar.append(get_apk_n(combined_bt_df, 5))\n",
    "        \n",
    "    return ((sum(mse_ar) / len(mse_ar)), mse_ar, (sum(apk_ar) / len(apk_ar)), apk_ar, pd.concat(all_predictions))"
   ]
  },
  {
   "cell_type": "code",
   "execution_count": 283,
   "id": "60c72671",
   "metadata": {},
   "outputs": [],
   "source": [
    "normalized_avg_mse, normalized_mse_ar, normalized_avg_apk, normalized_apk_ar, normalized_all_predictions = backtest(mvp_df, reg, years, predictors, normalizing=True, voteFatigue=False)"
   ]
  },
  {
   "cell_type": "code",
   "execution_count": 284,
   "id": "37aa64f8",
   "metadata": {},
   "outputs": [],
   "source": [
    "avg_mse, mse_ar, avg_apk, apk_ar, all_predictions = backtest(mvp_df, reg, years, predictors, normalizing=False, voteFatigue=False)"
   ]
  },
  {
   "cell_type": "code",
   "execution_count": 285,
   "id": "02670cc4",
   "metadata": {},
   "outputs": [],
   "source": [
    "avg_mse_n_vf, mse_ar_n_vf, avg_apk_n_vf, apk_ar_n_vf, all_predictions_n_vf = backtest(mvp_df, reg, years, predictors, normalizing=True, voteFatigue=True)"
   ]
  },
  {
   "cell_type": "code",
   "execution_count": 44,
   "id": "c2fa809c",
   "metadata": {},
   "outputs": [
    {
     "data": {
      "text/html": [
       "<div>\n",
       "<style scoped>\n",
       "    .dataframe tbody tr th:only-of-type {\n",
       "        vertical-align: middle;\n",
       "    }\n",
       "\n",
       "    .dataframe tbody tr th {\n",
       "        vertical-align: top;\n",
       "    }\n",
       "\n",
       "    .dataframe thead th {\n",
       "        text-align: right;\n",
       "    }\n",
       "</style>\n",
       "<table border=\"1\" class=\"dataframe\">\n",
       "  <thead>\n",
       "    <tr style=\"text-align: right;\">\n",
       "      <th></th>\n",
       "      <th>Player</th>\n",
       "      <th>Share</th>\n",
       "      <th>MVP Share Predictions</th>\n",
       "      <th>Rank</th>\n",
       "      <th>Predicted Rank</th>\n",
       "      <th>Difference</th>\n",
       "      <th>Year</th>\n",
       "    </tr>\n",
       "  </thead>\n",
       "  <tbody>\n",
       "    <tr>\n",
       "      <th>11637</th>\n",
       "      <td>Steve Nash</td>\n",
       "      <td>0.839</td>\n",
       "      <td>0.051732</td>\n",
       "      <td>1.0</td>\n",
       "      <td>26.0</td>\n",
       "      <td>-25.0</td>\n",
       "      <td>2005</td>\n",
       "    </tr>\n",
       "    <tr>\n",
       "      <th>11655</th>\n",
       "      <td>Steve Nash</td>\n",
       "      <td>0.739</td>\n",
       "      <td>0.127229</td>\n",
       "      <td>1.0</td>\n",
       "      <td>11.0</td>\n",
       "      <td>-10.0</td>\n",
       "      <td>2006</td>\n",
       "    </tr>\n",
       "    <tr>\n",
       "      <th>13213</th>\n",
       "      <td>Kobe Bryant</td>\n",
       "      <td>0.873</td>\n",
       "      <td>0.114097</td>\n",
       "      <td>1.0</td>\n",
       "      <td>9.0</td>\n",
       "      <td>-8.0</td>\n",
       "      <td>2008</td>\n",
       "    </tr>\n",
       "    <tr>\n",
       "      <th>8117</th>\n",
       "      <td>Allen Iverson</td>\n",
       "      <td>0.904</td>\n",
       "      <td>0.149585</td>\n",
       "      <td>1.0</td>\n",
       "      <td>8.0</td>\n",
       "      <td>-7.0</td>\n",
       "      <td>2001</td>\n",
       "    </tr>\n",
       "    <tr>\n",
       "      <th>17262</th>\n",
       "      <td>Derrick Rose</td>\n",
       "      <td>0.977</td>\n",
       "      <td>0.137933</td>\n",
       "      <td>1.0</td>\n",
       "      <td>8.0</td>\n",
       "      <td>-7.0</td>\n",
       "      <td>2011</td>\n",
       "    </tr>\n",
       "    <tr>\n",
       "      <th>12546</th>\n",
       "      <td>Stephen Curry</td>\n",
       "      <td>0.922</td>\n",
       "      <td>0.125533</td>\n",
       "      <td>1.0</td>\n",
       "      <td>7.0</td>\n",
       "      <td>-6.0</td>\n",
       "      <td>2015</td>\n",
       "    </tr>\n",
       "    <tr>\n",
       "      <th>18517</th>\n",
       "      <td>Joel Embiid</td>\n",
       "      <td>0.915</td>\n",
       "      <td>0.148936</td>\n",
       "      <td>1.0</td>\n",
       "      <td>6.0</td>\n",
       "      <td>-5.0</td>\n",
       "      <td>2023</td>\n",
       "    </tr>\n",
       "    <tr>\n",
       "      <th>15168</th>\n",
       "      <td>Dirk Nowitzki</td>\n",
       "      <td>0.882</td>\n",
       "      <td>0.169486</td>\n",
       "      <td>1.0</td>\n",
       "      <td>5.0</td>\n",
       "      <td>-4.0</td>\n",
       "      <td>2007</td>\n",
       "    </tr>\n",
       "    <tr>\n",
       "      <th>6518</th>\n",
       "      <td>Charles Barkley</td>\n",
       "      <td>0.852</td>\n",
       "      <td>0.185663</td>\n",
       "      <td>1.0</td>\n",
       "      <td>4.0</td>\n",
       "      <td>-3.0</td>\n",
       "      <td>1993</td>\n",
       "    </tr>\n",
       "    <tr>\n",
       "      <th>8089</th>\n",
       "      <td>James Harden</td>\n",
       "      <td>0.955</td>\n",
       "      <td>0.168807</td>\n",
       "      <td>1.0</td>\n",
       "      <td>4.0</td>\n",
       "      <td>-3.0</td>\n",
       "      <td>2018</td>\n",
       "    </tr>\n",
       "    <tr>\n",
       "      <th>21</th>\n",
       "      <td>Magic Johnson</td>\n",
       "      <td>0.940</td>\n",
       "      <td>0.213128</td>\n",
       "      <td>1.0</td>\n",
       "      <td>4.0</td>\n",
       "      <td>-3.0</td>\n",
       "      <td>1987</td>\n",
       "    </tr>\n",
       "    <tr>\n",
       "      <th>11613</th>\n",
       "      <td>Tim Duncan</td>\n",
       "      <td>0.757</td>\n",
       "      <td>0.205564</td>\n",
       "      <td>1.0</td>\n",
       "      <td>4.0</td>\n",
       "      <td>-3.0</td>\n",
       "      <td>2002</td>\n",
       "    </tr>\n",
       "    <tr>\n",
       "      <th>7785</th>\n",
       "      <td>Nikola Jokić</td>\n",
       "      <td>0.961</td>\n",
       "      <td>0.183347</td>\n",
       "      <td>1.0</td>\n",
       "      <td>4.0</td>\n",
       "      <td>-3.0</td>\n",
       "      <td>2021</td>\n",
       "    </tr>\n",
       "    <tr>\n",
       "      <th>6452</th>\n",
       "      <td>Hakeem Olajuwon</td>\n",
       "      <td>0.880</td>\n",
       "      <td>0.188885</td>\n",
       "      <td>1.0</td>\n",
       "      <td>3.0</td>\n",
       "      <td>-2.0</td>\n",
       "      <td>1994</td>\n",
       "    </tr>\n",
       "    <tr>\n",
       "      <th>7807</th>\n",
       "      <td>Nikola Jokić</td>\n",
       "      <td>0.875</td>\n",
       "      <td>0.292287</td>\n",
       "      <td>1.0</td>\n",
       "      <td>3.0</td>\n",
       "      <td>-2.0</td>\n",
       "      <td>2022</td>\n",
       "    </tr>\n",
       "  </tbody>\n",
       "</table>\n",
       "</div>"
      ],
      "text/plain": [
       "                Player  Share  MVP Share Predictions  Rank  Predicted Rank  \\\n",
       "11637       Steve Nash  0.839               0.051732   1.0            26.0   \n",
       "11655       Steve Nash  0.739               0.127229   1.0            11.0   \n",
       "13213      Kobe Bryant  0.873               0.114097   1.0             9.0   \n",
       "8117     Allen Iverson  0.904               0.149585   1.0             8.0   \n",
       "17262     Derrick Rose  0.977               0.137933   1.0             8.0   \n",
       "12546    Stephen Curry  0.922               0.125533   1.0             7.0   \n",
       "18517      Joel Embiid  0.915               0.148936   1.0             6.0   \n",
       "15168    Dirk Nowitzki  0.882               0.169486   1.0             5.0   \n",
       "6518   Charles Barkley  0.852               0.185663   1.0             4.0   \n",
       "8089      James Harden  0.955               0.168807   1.0             4.0   \n",
       "21       Magic Johnson  0.940               0.213128   1.0             4.0   \n",
       "11613       Tim Duncan  0.757               0.205564   1.0             4.0   \n",
       "7785      Nikola Jokić  0.961               0.183347   1.0             4.0   \n",
       "6452   Hakeem Olajuwon  0.880               0.188885   1.0             3.0   \n",
       "7807      Nikola Jokić  0.875               0.292287   1.0             3.0   \n",
       "\n",
       "       Difference  Year  \n",
       "11637       -25.0  2005  \n",
       "11655       -10.0  2006  \n",
       "13213        -8.0  2008  \n",
       "8117         -7.0  2001  \n",
       "17262        -7.0  2011  \n",
       "12546        -6.0  2015  \n",
       "18517        -5.0  2023  \n",
       "15168        -4.0  2007  \n",
       "6518         -3.0  1993  \n",
       "8089         -3.0  2018  \n",
       "21           -3.0  1987  \n",
       "11613        -3.0  2002  \n",
       "7785         -3.0  2021  \n",
       "6452         -2.0  1994  \n",
       "7807         -2.0  2022  "
      ]
     },
     "execution_count": 44,
     "metadata": {},
     "output_type": "execute_result"
    }
   ],
   "source": [
    "# Made it to 35:22 on Part 3\n",
    "normalized_all_predictions[normalized_all_predictions[\"Rank\"] <=1].sort_values(\"Difference\", ascending=True).head(15)"
   ]
  },
  {
   "cell_type": "markdown",
   "id": "d7e4d307",
   "metadata": {},
   "source": [
    "#### Looking at what are important factors according to our Ridge Model"
   ]
  },
  {
   "cell_type": "code",
   "execution_count": 45,
   "id": "18cb75aa",
   "metadata": {},
   "outputs": [
    {
     "data": {
      "text/html": [
       "<div>\n",
       "<style scoped>\n",
       "    .dataframe tbody tr th:only-of-type {\n",
       "        vertical-align: middle;\n",
       "    }\n",
       "\n",
       "    .dataframe tbody tr th {\n",
       "        vertical-align: top;\n",
       "    }\n",
       "\n",
       "    .dataframe thead th {\n",
       "        text-align: right;\n",
       "    }\n",
       "</style>\n",
       "<table border=\"1\" class=\"dataframe\">\n",
       "  <thead>\n",
       "    <tr style=\"text-align: right;\">\n",
       "      <th></th>\n",
       "      <th>0</th>\n",
       "      <th>1</th>\n",
       "    </tr>\n",
       "  </thead>\n",
       "  <tbody>\n",
       "    <tr>\n",
       "      <th>13</th>\n",
       "      <td>0.170643</td>\n",
       "      <td>eFG%</td>\n",
       "    </tr>\n",
       "    <tr>\n",
       "      <th>48</th>\n",
       "      <td>0.067717</td>\n",
       "      <td>W/L%</td>\n",
       "    </tr>\n",
       "    <tr>\n",
       "      <th>53</th>\n",
       "      <td>0.062744</td>\n",
       "      <td>NaN</td>\n",
       "    </tr>\n",
       "    <tr>\n",
       "      <th>45</th>\n",
       "      <td>0.024224</td>\n",
       "      <td>VORP</td>\n",
       "    </tr>\n",
       "    <tr>\n",
       "      <th>18</th>\n",
       "      <td>0.023973</td>\n",
       "      <td>DRB</td>\n",
       "    </tr>\n",
       "    <tr>\n",
       "      <th>16</th>\n",
       "      <td>0.019096</td>\n",
       "      <td>FT%</td>\n",
       "    </tr>\n",
       "    <tr>\n",
       "      <th>15</th>\n",
       "      <td>0.016825</td>\n",
       "      <td>FTA</td>\n",
       "    </tr>\n",
       "    <tr>\n",
       "      <th>10</th>\n",
       "      <td>0.014500</td>\n",
       "      <td>2P</td>\n",
       "    </tr>\n",
       "    <tr>\n",
       "      <th>5</th>\n",
       "      <td>0.013638</td>\n",
       "      <td>FGA</td>\n",
       "    </tr>\n",
       "    <tr>\n",
       "      <th>23</th>\n",
       "      <td>0.010311</td>\n",
       "      <td>TOV</td>\n",
       "    </tr>\n",
       "    <tr>\n",
       "      <th>17</th>\n",
       "      <td>0.008936</td>\n",
       "      <td>ORB</td>\n",
       "    </tr>\n",
       "    <tr>\n",
       "      <th>44</th>\n",
       "      <td>0.008809</td>\n",
       "      <td>BPM</td>\n",
       "    </tr>\n",
       "    <tr>\n",
       "      <th>32</th>\n",
       "      <td>0.007363</td>\n",
       "      <td>TRB%</td>\n",
       "    </tr>\n",
       "    <tr>\n",
       "      <th>38</th>\n",
       "      <td>0.007080</td>\n",
       "      <td>OWS</td>\n",
       "    </tr>\n",
       "    <tr>\n",
       "      <th>24</th>\n",
       "      <td>0.004371</td>\n",
       "      <td>PF</td>\n",
       "    </tr>\n",
       "    <tr>\n",
       "      <th>39</th>\n",
       "      <td>0.003268</td>\n",
       "      <td>DWS</td>\n",
       "    </tr>\n",
       "    <tr>\n",
       "      <th>41</th>\n",
       "      <td>0.002523</td>\n",
       "      <td>WS/48</td>\n",
       "    </tr>\n",
       "    <tr>\n",
       "      <th>8</th>\n",
       "      <td>0.001943</td>\n",
       "      <td>3PA</td>\n",
       "    </tr>\n",
       "    <tr>\n",
       "      <th>50</th>\n",
       "      <td>0.000674</td>\n",
       "      <td>PS/G</td>\n",
       "    </tr>\n",
       "    <tr>\n",
       "      <th>26</th>\n",
       "      <td>0.000456</td>\n",
       "      <td>PER</td>\n",
       "    </tr>\n",
       "    <tr>\n",
       "      <th>49</th>\n",
       "      <td>0.000284</td>\n",
       "      <td>GB</td>\n",
       "    </tr>\n",
       "    <tr>\n",
       "      <th>36</th>\n",
       "      <td>0.000064</td>\n",
       "      <td>TOV%</td>\n",
       "    </tr>\n",
       "    <tr>\n",
       "      <th>1</th>\n",
       "      <td>0.000029</td>\n",
       "      <td>G</td>\n",
       "    </tr>\n",
       "    <tr>\n",
       "      <th>2</th>\n",
       "      <td>-0.000046</td>\n",
       "      <td>GS</td>\n",
       "    </tr>\n",
       "    <tr>\n",
       "      <th>33</th>\n",
       "      <td>-0.000065</td>\n",
       "      <td>AST%</td>\n",
       "    </tr>\n",
       "    <tr>\n",
       "      <th>47</th>\n",
       "      <td>-0.000335</td>\n",
       "      <td>L</td>\n",
       "    </tr>\n",
       "    <tr>\n",
       "      <th>46</th>\n",
       "      <td>-0.000347</td>\n",
       "      <td>W</td>\n",
       "    </tr>\n",
       "    <tr>\n",
       "      <th>0</th>\n",
       "      <td>-0.000384</td>\n",
       "      <td>Age</td>\n",
       "    </tr>\n",
       "    <tr>\n",
       "      <th>51</th>\n",
       "      <td>-0.000692</td>\n",
       "      <td>PA/G</td>\n",
       "    </tr>\n",
       "    <tr>\n",
       "      <th>37</th>\n",
       "      <td>-0.001111</td>\n",
       "      <td>USG%</td>\n",
       "    </tr>\n",
       "    <tr>\n",
       "      <th>34</th>\n",
       "      <td>-0.001175</td>\n",
       "      <td>STL%</td>\n",
       "    </tr>\n",
       "    <tr>\n",
       "      <th>35</th>\n",
       "      <td>-0.001281</td>\n",
       "      <td>BLK%</td>\n",
       "    </tr>\n",
       "    <tr>\n",
       "      <th>22</th>\n",
       "      <td>-0.001475</td>\n",
       "      <td>BLK</td>\n",
       "    </tr>\n",
       "    <tr>\n",
       "      <th>20</th>\n",
       "      <td>-0.002696</td>\n",
       "      <td>AST</td>\n",
       "    </tr>\n",
       "    <tr>\n",
       "      <th>52</th>\n",
       "      <td>-0.002791</td>\n",
       "      <td>SRS</td>\n",
       "    </tr>\n",
       "    <tr>\n",
       "      <th>4</th>\n",
       "      <td>-0.003155</td>\n",
       "      <td>FG</td>\n",
       "    </tr>\n",
       "    <tr>\n",
       "      <th>3</th>\n",
       "      <td>-0.003214</td>\n",
       "      <td>MP</td>\n",
       "    </tr>\n",
       "    <tr>\n",
       "      <th>30</th>\n",
       "      <td>-0.003459</td>\n",
       "      <td>ORB%</td>\n",
       "    </tr>\n",
       "    <tr>\n",
       "      <th>40</th>\n",
       "      <td>-0.003963</td>\n",
       "      <td>WS</td>\n",
       "    </tr>\n",
       "    <tr>\n",
       "      <th>31</th>\n",
       "      <td>-0.004346</td>\n",
       "      <td>DRB%</td>\n",
       "    </tr>\n",
       "    <tr>\n",
       "      <th>7</th>\n",
       "      <td>-0.004922</td>\n",
       "      <td>3P</td>\n",
       "    </tr>\n",
       "    <tr>\n",
       "      <th>9</th>\n",
       "      <td>-0.005694</td>\n",
       "      <td>3P%</td>\n",
       "    </tr>\n",
       "    <tr>\n",
       "      <th>12</th>\n",
       "      <td>-0.006206</td>\n",
       "      <td>2P%</td>\n",
       "    </tr>\n",
       "    <tr>\n",
       "      <th>11</th>\n",
       "      <td>-0.007036</td>\n",
       "      <td>2PA</td>\n",
       "    </tr>\n",
       "    <tr>\n",
       "      <th>43</th>\n",
       "      <td>-0.007763</td>\n",
       "      <td>DBPM</td>\n",
       "    </tr>\n",
       "    <tr>\n",
       "      <th>14</th>\n",
       "      <td>-0.007850</td>\n",
       "      <td>FT</td>\n",
       "    </tr>\n",
       "    <tr>\n",
       "      <th>42</th>\n",
       "      <td>-0.009861</td>\n",
       "      <td>OBPM</td>\n",
       "    </tr>\n",
       "    <tr>\n",
       "      <th>25</th>\n",
       "      <td>-0.009997</td>\n",
       "      <td>PTS</td>\n",
       "    </tr>\n",
       "    <tr>\n",
       "      <th>21</th>\n",
       "      <td>-0.011054</td>\n",
       "      <td>STL</td>\n",
       "    </tr>\n",
       "    <tr>\n",
       "      <th>29</th>\n",
       "      <td>-0.013791</td>\n",
       "      <td>FTr</td>\n",
       "    </tr>\n",
       "    <tr>\n",
       "      <th>28</th>\n",
       "      <td>-0.017278</td>\n",
       "      <td>3PAr</td>\n",
       "    </tr>\n",
       "    <tr>\n",
       "      <th>19</th>\n",
       "      <td>-0.018206</td>\n",
       "      <td>TRB</td>\n",
       "    </tr>\n",
       "    <tr>\n",
       "      <th>27</th>\n",
       "      <td>-0.057717</td>\n",
       "      <td>TS%</td>\n",
       "    </tr>\n",
       "    <tr>\n",
       "      <th>6</th>\n",
       "      <td>-0.117418</td>\n",
       "      <td>FG%</td>\n",
       "    </tr>\n",
       "  </tbody>\n",
       "</table>\n",
       "</div>"
      ],
      "text/plain": [
       "           0      1\n",
       "13  0.170643   eFG%\n",
       "48  0.067717   W/L%\n",
       "53  0.062744    NaN\n",
       "45  0.024224   VORP\n",
       "18  0.023973    DRB\n",
       "16  0.019096    FT%\n",
       "15  0.016825    FTA\n",
       "10  0.014500     2P\n",
       "5   0.013638    FGA\n",
       "23  0.010311    TOV\n",
       "17  0.008936    ORB\n",
       "44  0.008809    BPM\n",
       "32  0.007363   TRB%\n",
       "38  0.007080    OWS\n",
       "24  0.004371     PF\n",
       "39  0.003268    DWS\n",
       "41  0.002523  WS/48\n",
       "8   0.001943    3PA\n",
       "50  0.000674   PS/G\n",
       "26  0.000456    PER\n",
       "49  0.000284     GB\n",
       "36  0.000064   TOV%\n",
       "1   0.000029      G\n",
       "2  -0.000046     GS\n",
       "33 -0.000065   AST%\n",
       "47 -0.000335      L\n",
       "46 -0.000347      W\n",
       "0  -0.000384    Age\n",
       "51 -0.000692   PA/G\n",
       "37 -0.001111   USG%\n",
       "34 -0.001175   STL%\n",
       "35 -0.001281   BLK%\n",
       "22 -0.001475    BLK\n",
       "20 -0.002696    AST\n",
       "52 -0.002791    SRS\n",
       "4  -0.003155     FG\n",
       "3  -0.003214     MP\n",
       "30 -0.003459   ORB%\n",
       "40 -0.003963     WS\n",
       "31 -0.004346   DRB%\n",
       "7  -0.004922     3P\n",
       "9  -0.005694    3P%\n",
       "12 -0.006206    2P%\n",
       "11 -0.007036    2PA\n",
       "43 -0.007763   DBPM\n",
       "14 -0.007850     FT\n",
       "42 -0.009861   OBPM\n",
       "25 -0.009997    PTS\n",
       "21 -0.011054    STL\n",
       "29 -0.013791    FTr\n",
       "28 -0.017278   3PAr\n",
       "19 -0.018206    TRB\n",
       "27 -0.057717    TS%\n",
       "6  -0.117418    FG%"
      ]
     },
     "execution_count": 45,
     "metadata": {},
     "output_type": "execute_result"
    }
   ],
   "source": [
    "pd.concat([pd.Series(reg.coef_), pd.Series(predictors)], axis=1).sort_values(0, ascending=False)"
   ]
  },
  {
   "cell_type": "markdown",
   "id": "c341588a",
   "metadata": {},
   "source": [
    "## Trying Random Forest"
   ]
  },
  {
   "cell_type": "code",
   "execution_count": 248,
   "id": "0afda769",
   "metadata": {},
   "outputs": [],
   "source": [
    "rf_naive = RandomForestRegressor(n_estimators=100, random_state=42, min_samples_split=5)\n",
    "rf_normalized = RandomForestRegressor(n_estimators=100, random_state=42, min_samples_split=5)\n",
    "rf = RandomForestRegressor(n_estimators=100, random_state=42, min_samples_split=5)"
   ]
  },
  {
   "cell_type": "code",
   "execution_count": 249,
   "id": "383c9350",
   "metadata": {},
   "outputs": [],
   "source": [
    "def add_previous_mvps(df, years):\n",
    "    mvp_with_previous_df = mvp_df.copy(deep=True)\n",
    "    mvp_with_previous_df[\"Previous MVP's Won\"] = 0\n",
    "    for year in years:\n",
    "        year_winner = mvp_with_previous_df[mvp_with_previous_df[\"Year\"] == year].sort_values(\"Share\", ascending=False).iloc[:1][\"Player\"].item()\n",
    "        years_after_winning_for_player = mvp_with_previous_df[(mvp_with_previous_df[\"Player\"] == year_winner) & (mvp_with_previous_df[\"Year\"] > year)]\n",
    "        years_after_index = years_after_winning_for_player.index.values.tolist()\n",
    "        mvp_with_previous_df.loc[years_after_index, [\"Previous MVP's Won\"]] += 1\n",
    "    return mvp_with_previous_df"
   ]
  },
  {
   "cell_type": "code",
   "execution_count": 250,
   "id": "2e3c943c",
   "metadata": {},
   "outputs": [],
   "source": [
    "def add_previous_mvp_as_predictor(predictors):\n",
    "    predictors_with_previous = predictors.copy()\n",
    "    predictors_with_previous.append(\"Previous MVP's Won\")\n",
    "    return predictors_with_previous"
   ]
  },
  {
   "cell_type": "code",
   "execution_count": 255,
   "id": "8d5b8d6c",
   "metadata": {},
   "outputs": [
    {
     "name": "stdout",
     "output_type": "stream",
     "text": [
      "CPU times: user 12min 22s, sys: 3.77 s, total: 12min 26s\n",
      "Wall time: 12min 30s\n"
     ]
    }
   ],
   "source": [
    "%%time\n",
    "avg_mse_rf, mse_ar_rf, avg_apk_rf, apk_ar_rf, all_predictions_rf = backtest(\n",
    "    mvp_df, rf_naive, years, predictors, normalizing=False, voteFatigue=False)"
   ]
  },
  {
   "cell_type": "code",
   "execution_count": 256,
   "id": "22549319",
   "metadata": {},
   "outputs": [
    {
     "name": "stdout",
     "output_type": "stream",
     "text": [
      "CPU times: user 21min 11s, sys: 7.03 s, total: 21min 18s\n",
      "Wall time: 21min 23s\n"
     ]
    }
   ],
   "source": [
    "%%time\n",
    "avg_mse_rf_n, mse_ar_rf_n, avg_apk_rf_n, apk_ar_rf_n, all_predictions_rf_n = backtest(\n",
    "    mvp_df, rf_normalized, years, predictors, normalizing=True, voteFatigue=False)"
   ]
  },
  {
   "cell_type": "code",
   "execution_count": 257,
   "id": "041f4ec8",
   "metadata": {},
   "outputs": [
    {
     "name": "stdout",
     "output_type": "stream",
     "text": [
      "CPU times: user 12min 47s, sys: 5.93 s, total: 12min 53s\n",
      "Wall time: 13min 11s\n"
     ]
    }
   ],
   "source": [
    "%%time\n",
    "avg_mse_rf_votefatigue, mse_ar_rf_votefatigue, avg_apk_rf_votefatigue, apk_ar_rf_votefatigue, all_predictions_rf_votefatigue = backtest(\n",
    "    mvp_df, rf, years, predictors, normalizing=False,voteFatigue=True)"
   ]
  },
  {
   "cell_type": "code",
   "execution_count": null,
   "id": "0132c91c",
   "metadata": {},
   "outputs": [],
   "source": []
  },
  {
   "cell_type": "code",
   "execution_count": null,
   "id": "e14630d1",
   "metadata": {},
   "outputs": [],
   "source": []
  },
  {
   "cell_type": "markdown",
   "id": "400e54a5",
   "metadata": {},
   "source": [
    "## Linear Regression Model"
   ]
  },
  {
   "cell_type": "code",
   "execution_count": 288,
   "id": "cf57e89c",
   "metadata": {},
   "outputs": [],
   "source": [
    "linreg = LinearRegression()"
   ]
  },
  {
   "cell_type": "code",
   "execution_count": 292,
   "id": "97e93e2d",
   "metadata": {},
   "outputs": [
    {
     "name": "stdout",
     "output_type": "stream",
     "text": [
      "CPU times: user 6.51 s, sys: 207 ms, total: 6.72 s\n",
      "Wall time: 1.44 s\n"
     ]
    }
   ],
   "source": [
    "%%time\n",
    "avg_mse_lr_votefatigue, mse_ar_lr_votefatigue, avg_apk_lr_votefatigue, apk_ar_lr_votefatigue, all_predictions_lr_votefatigue = backtest(\n",
    "    mvp_df, linreg, years, predictors, normalizing=True, voteFatigue=True)"
   ]
  },
  {
   "cell_type": "code",
   "execution_count": null,
   "id": "7b119a18",
   "metadata": {},
   "outputs": [],
   "source": []
  },
  {
   "cell_type": "markdown",
   "id": "e0eaddff",
   "metadata": {},
   "source": [
    "## Gradient Boosting Regressor"
   ]
  },
  {
   "cell_type": "code",
   "execution_count": 293,
   "id": "8e53dc72",
   "metadata": {},
   "outputs": [],
   "source": [
    "xgb_model = xgb.XGBRegressor(\n",
    "    n_estimators=100,\n",
    "    tree_method=\"hist\",\n",
    "    objective='reg:logistic',\n",
    ")"
   ]
  },
  {
   "cell_type": "code",
   "execution_count": 294,
   "id": "58fdea7d",
   "metadata": {},
   "outputs": [
    {
     "name": "stdout",
     "output_type": "stream",
     "text": [
      "CPU times: user 27.5 s, sys: 12.2 s, total: 39.7 s\n",
      "Wall time: 6.37 s\n"
     ]
    }
   ],
   "source": [
    "%%time\n",
    "avg_mse_xgb_vf, mse_ar_xgb_vf, avg_apk_xgb_vf, apk_ar_xgb_vf, all_predictions_xgb_vf = backtest(\n",
    "    mvp_df, xgb_model, years, predictors, normalizing=False, voteFatigue=True)"
   ]
  },
  {
   "cell_type": "code",
   "execution_count": 295,
   "id": "722dd974",
   "metadata": {},
   "outputs": [
    {
     "name": "stdout",
     "output_type": "stream",
     "text": [
      "CPU times: user 26.6 s, sys: 11 s, total: 37.6 s\n",
      "Wall time: 5.42 s\n"
     ]
    }
   ],
   "source": [
    "%%time\n",
    "avg_mse_xgb, mse_ar_xgb, avg_apk_xgb, apk_ar_xgb, all_predictions_xgb = backtest(\n",
    "    mvp_df, xgb_model, years, predictors, normalizing=False, voteFatigue=False)"
   ]
  },
  {
   "cell_type": "code",
   "execution_count": null,
   "id": "e5430a62",
   "metadata": {},
   "outputs": [],
   "source": []
  },
  {
   "cell_type": "markdown",
   "id": "41ea5cb8",
   "metadata": {},
   "source": [
    "## Neural Networks"
   ]
  },
  {
   "cell_type": "code",
   "execution_count": 296,
   "id": "210505f1",
   "metadata": {},
   "outputs": [],
   "source": [
    "dnn = MLPRegressor(\n",
    "    solver='lbfgs',\n",
    "    hidden_layer_sizes=100,\n",
    "    max_iter=1000,\n",
    "    random_state=42,\n",
    "    activation='logistic',\n",
    "    learning_rate ='adaptive')"
   ]
  },
  {
   "cell_type": "code",
   "execution_count": 297,
   "id": "8319bfc7",
   "metadata": {},
   "outputs": [
    {
     "name": "stdout",
     "output_type": "stream",
     "text": [
      "CPU times: user 17min 22s, sys: 31.1 s, total: 17min 53s\n",
      "Wall time: 2min 24s\n"
     ]
    }
   ],
   "source": [
    "%%time\n",
    "avg_mse_nn, mse_ar_nn, avg_apk_nn, apk_ar_nn, all_predictions_nn = backtest(\n",
    "    mvp_df, dnn, years, predictors, normalizing=True, voteFatigue=False)"
   ]
  },
  {
   "cell_type": "code",
   "execution_count": 298,
   "id": "6f098107",
   "metadata": {},
   "outputs": [
    {
     "name": "stdout",
     "output_type": "stream",
     "text": [
      "CPU times: user 28min 32s, sys: 47.2 s, total: 29min 19s\n",
      "Wall time: 3min 58s\n"
     ]
    }
   ],
   "source": [
    "%%time\n",
    "avg_mse_nn_vf, mse_ar_nn_vf, avg_apk_nn_vf, apk_ar_nn_vf, all_predictions_nn_vf = backtest(\n",
    "    mvp_df, dnn, years, predictors, normalizing=True,voteFatigue=True)"
   ]
  },
  {
   "cell_type": "markdown",
   "id": "5b26bcf9",
   "metadata": {},
   "source": [
    "### Our metric tested how accurate the top 5 players are. I want to look at the top 3 candidates and their accuracy as well as how often the models got the actual MVP right"
   ]
  },
  {
   "cell_type": "code",
   "execution_count": 94,
   "id": "ca0ebd96",
   "metadata": {},
   "outputs": [
    {
     "data": {
      "text/html": [
       "<div>\n",
       "<style scoped>\n",
       "    .dataframe tbody tr th:only-of-type {\n",
       "        vertical-align: middle;\n",
       "    }\n",
       "\n",
       "    .dataframe tbody tr th {\n",
       "        vertical-align: top;\n",
       "    }\n",
       "\n",
       "    .dataframe thead th {\n",
       "        text-align: right;\n",
       "    }\n",
       "</style>\n",
       "<table border=\"1\" class=\"dataframe\">\n",
       "  <thead>\n",
       "    <tr style=\"text-align: right;\">\n",
       "      <th></th>\n",
       "      <th>Player</th>\n",
       "      <th>Share</th>\n",
       "      <th>MVP Share Predictions</th>\n",
       "      <th>Rank</th>\n",
       "      <th>Predicted Rank</th>\n",
       "      <th>Difference</th>\n",
       "      <th>Year</th>\n",
       "    </tr>\n",
       "  </thead>\n",
       "  <tbody>\n",
       "    <tr>\n",
       "      <th>13804</th>\n",
       "      <td>LeBron James</td>\n",
       "      <td>0.731</td>\n",
       "      <td>0.457199</td>\n",
       "      <td>2.0</td>\n",
       "      <td>1.0</td>\n",
       "      <td>1.0</td>\n",
       "      <td>2018</td>\n",
       "    </tr>\n",
       "    <tr>\n",
       "      <th>12900</th>\n",
       "      <td>Russell Westbrook</td>\n",
       "      <td>0.075</td>\n",
       "      <td>0.216127</td>\n",
       "      <td>5.0</td>\n",
       "      <td>2.0</td>\n",
       "      <td>3.0</td>\n",
       "      <td>2018</td>\n",
       "    </tr>\n",
       "    <tr>\n",
       "      <th>12554</th>\n",
       "      <td>Kevin Durant</td>\n",
       "      <td>0.065</td>\n",
       "      <td>0.170247</td>\n",
       "      <td>7.0</td>\n",
       "      <td>3.0</td>\n",
       "      <td>4.0</td>\n",
       "      <td>2018</td>\n",
       "    </tr>\n",
       "    <tr>\n",
       "      <th>8089</th>\n",
       "      <td>James Harden</td>\n",
       "      <td>0.955</td>\n",
       "      <td>0.168807</td>\n",
       "      <td>1.0</td>\n",
       "      <td>4.0</td>\n",
       "      <td>-3.0</td>\n",
       "      <td>2018</td>\n",
       "    </tr>\n",
       "    <tr>\n",
       "      <th>12562</th>\n",
       "      <td>Stephen Curry</td>\n",
       "      <td>0.005</td>\n",
       "      <td>0.165612</td>\n",
       "      <td>10.0</td>\n",
       "      <td>5.0</td>\n",
       "      <td>5.0</td>\n",
       "      <td>2018</td>\n",
       "    </tr>\n",
       "    <tr>\n",
       "      <th>...</th>\n",
       "      <td>...</td>\n",
       "      <td>...</td>\n",
       "      <td>...</td>\n",
       "      <td>...</td>\n",
       "      <td>...</td>\n",
       "      <td>...</td>\n",
       "      <td>...</td>\n",
       "    </tr>\n",
       "    <tr>\n",
       "      <th>16946</th>\n",
       "      <td>Marshall Plumlee</td>\n",
       "      <td>0.000</td>\n",
       "      <td>-0.063945</td>\n",
       "      <td>14.0</td>\n",
       "      <td>536.0</td>\n",
       "      <td>-522.0</td>\n",
       "      <td>2018</td>\n",
       "    </tr>\n",
       "    <tr>\n",
       "      <th>12548</th>\n",
       "      <td>Chris Boucher</td>\n",
       "      <td>0.000</td>\n",
       "      <td>-0.066427</td>\n",
       "      <td>14.0</td>\n",
       "      <td>537.0</td>\n",
       "      <td>-523.0</td>\n",
       "      <td>2018</td>\n",
       "    </tr>\n",
       "    <tr>\n",
       "      <th>13386</th>\n",
       "      <td>MarShon Brooks</td>\n",
       "      <td>0.000</td>\n",
       "      <td>-0.070822</td>\n",
       "      <td>14.0</td>\n",
       "      <td>538.0</td>\n",
       "      <td>-524.0</td>\n",
       "      <td>2018</td>\n",
       "    </tr>\n",
       "    <tr>\n",
       "      <th>10452</th>\n",
       "      <td>Andre Ingram</td>\n",
       "      <td>0.000</td>\n",
       "      <td>-0.086954</td>\n",
       "      <td>14.0</td>\n",
       "      <td>539.0</td>\n",
       "      <td>-525.0</td>\n",
       "      <td>2018</td>\n",
       "    </tr>\n",
       "    <tr>\n",
       "      <th>10291</th>\n",
       "      <td>Naz Mitrou-Long</td>\n",
       "      <td>0.000</td>\n",
       "      <td>-0.284335</td>\n",
       "      <td>14.0</td>\n",
       "      <td>540.0</td>\n",
       "      <td>-526.0</td>\n",
       "      <td>2018</td>\n",
       "    </tr>\n",
       "  </tbody>\n",
       "</table>\n",
       "<p>540 rows × 7 columns</p>\n",
       "</div>"
      ],
      "text/plain": [
       "                  Player  Share  MVP Share Predictions  Rank  Predicted Rank  \\\n",
       "13804       LeBron James  0.731               0.457199   2.0             1.0   \n",
       "12900  Russell Westbrook  0.075               0.216127   5.0             2.0   \n",
       "12554       Kevin Durant  0.065               0.170247   7.0             3.0   \n",
       "8089        James Harden  0.955               0.168807   1.0             4.0   \n",
       "12562      Stephen Curry  0.005               0.165612  10.0             5.0   \n",
       "...                  ...    ...                    ...   ...             ...   \n",
       "16946   Marshall Plumlee  0.000              -0.063945  14.0           536.0   \n",
       "12548      Chris Boucher  0.000              -0.066427  14.0           537.0   \n",
       "13386     MarShon Brooks  0.000              -0.070822  14.0           538.0   \n",
       "10452       Andre Ingram  0.000              -0.086954  14.0           539.0   \n",
       "10291    Naz Mitrou-Long  0.000              -0.284335  14.0           540.0   \n",
       "\n",
       "       Difference  Year  \n",
       "13804         1.0  2018  \n",
       "12900         3.0  2018  \n",
       "12554         4.0  2018  \n",
       "8089         -3.0  2018  \n",
       "12562         5.0  2018  \n",
       "...           ...   ...  \n",
       "16946      -522.0  2018  \n",
       "12548      -523.0  2018  \n",
       "13386      -524.0  2018  \n",
       "10452      -525.0  2018  \n",
       "10291      -526.0  2018  \n",
       "\n",
       "[540 rows x 7 columns]"
      ]
     },
     "execution_count": 94,
     "metadata": {},
     "output_type": "execute_result"
    }
   ],
   "source": [
    "get_apk_n(all_predictions[all_predictions[\"Year\"] == 2023].sort_values(\"Rank\"), 3)\n",
    "all_predictions[all_predictions[\"Year\"] == 2018].sort_values(\"Predicted Rank\")"
   ]
  },
  {
   "cell_type": "code",
   "execution_count": 679,
   "id": "8b786c16",
   "metadata": {},
   "outputs": [],
   "source": [
    "prediction_arrays = [all_predictions, normalized_all_predictions, all_predictions_n_vf, all_predictions_rf, \n",
    "                     all_predictions_rf_n, all_predictions_rf_votefatigue, all_predictions_lr_votefatigue,\n",
    "                     all_predictions_xgb_vf, all_predictions_xgb, all_predictions_nn, all_predictions_nn_vf, all_predictions_en]"
   ]
  },
  {
   "cell_type": "code",
   "execution_count": 680,
   "id": "57b1eb9d",
   "metadata": {},
   "outputs": [],
   "source": [
    "quant_years = list(range(1985, 2024))\n",
    "past_5_years = list(range(2019,2024))\n",
    "past_10_years = list(range(2014, 2024))\n",
    "since_2000 = list(range(2000, 2024))"
   ]
  },
  {
   "cell_type": "code",
   "execution_count": 681,
   "id": "05f370ba",
   "metadata": {},
   "outputs": [],
   "source": [
    "def check_accuracy(ranked_df):\n",
    "    actual_winner = ranked_df.iloc[:1][\"Player\"].item()\n",
    "    predicted_winner = ranked_df.sort_values(\"Predicted Rank\").iloc[:1][\"Player\"].item()\n",
    "    return actual_winner == predicted_winner"
   ]
  },
  {
   "cell_type": "code",
   "execution_count": 682,
   "id": "4039d04a",
   "metadata": {},
   "outputs": [],
   "source": [
    "## Need to fix this bc getting wrong results\n",
    "\n",
    "def get_metric_from_prediction_array(metric, prediction_list, num, timeframe):\n",
    "    new_ar = []\n",
    "    for model in prediction_list:\n",
    "        model_ar = []\n",
    "        for year in timeframe:\n",
    "            if (metric == get_apk_n):\n",
    "                value = get_apk_n(model[model[\"Year\"] == year].sort_values(\"Rank\"), num)\n",
    "                model_ar.append(value)\n",
    "            elif (metric == get_mse_top_n):\n",
    "                value = get_mse_top_n(model[model[\"Year\"] == year].sort_values(\"Rank\"), num)\n",
    "                model_ar.append(value)\n",
    "            elif (metric == check_accuracy):\n",
    "                value = check_accuracy(model[model[\"Year\"] == year].sort_values(\"Rank\"))\n",
    "                model_ar.append(value)\n",
    "        average = sum(model_ar) / len(model_ar)\n",
    "        new_ar.append(average)\n",
    "    return new_ar"
   ]
  },
  {
   "cell_type": "code",
   "execution_count": 683,
   "id": "55fb8ccc",
   "metadata": {},
   "outputs": [
    {
     "data": {
      "text/plain": [
       "0.6094871794871798"
      ]
     },
     "execution_count": 683,
     "metadata": {},
     "output_type": "execute_result"
    }
   ],
   "source": [
    "testing_ar = []\n",
    "for year in quant_years:\n",
    "    test_val = get_apk_n(all_predictions[all_predictions[\"Year\"] == year].sort_values(\"Rank\"), 5)\n",
    "    testing_ar.append(test_val)\n",
    "\n",
    "sum(testing_ar) / len(testing_ar)"
   ]
  },
  {
   "cell_type": "code",
   "execution_count": 684,
   "id": "8dbdb10f",
   "metadata": {},
   "outputs": [],
   "source": [
    "apk_3_all_years = get_metric_from_prediction_array(get_apk_n, prediction_arrays, 3, quant_years)\n",
    "apk_3_since_2000 = get_metric_from_prediction_array(get_apk_n, prediction_arrays, 3, since_2000)\n",
    "apk_3_past_5_years = get_metric_from_prediction_array(get_apk_n, prediction_arrays, 3, past_5_years)\n",
    "apk_3_past_10_years = get_metric_from_prediction_array(get_apk_n, prediction_arrays, 3, past_10_years)"
   ]
  },
  {
   "cell_type": "markdown",
   "id": "b5fb568e",
   "metadata": {},
   "source": [
    "#### Now accuracy"
   ]
  },
  {
   "cell_type": "code",
   "execution_count": 685,
   "id": "9c9affb8",
   "metadata": {},
   "outputs": [],
   "source": [
    "accuracy_all_years = get_metric_from_prediction_array(check_accuracy, prediction_arrays,0, quant_years)\n",
    "accuracy_since_2000 = get_metric_from_prediction_array(check_accuracy, prediction_arrays,0, since_2000)\n",
    "accuracy_past_5_years = get_metric_from_prediction_array(check_accuracy, prediction_arrays,0, past_5_years)\n",
    "accuracy_past_10_years = get_metric_from_prediction_array(check_accuracy, prediction_arrays,0, past_10_years)"
   ]
  },
  {
   "cell_type": "code",
   "execution_count": 686,
   "id": "7c8ba711",
   "metadata": {},
   "outputs": [],
   "source": [
    "mse_top_5 = get_metric_from_prediction_array(get_mse_top_n, prediction_arrays,5, quant_years)\n",
    "mse_top_5_past_10_years = get_metric_from_prediction_array(get_mse_top_n, prediction_arrays,5, past_10_years)"
   ]
  },
  {
   "cell_type": "markdown",
   "id": "463c0d6a",
   "metadata": {},
   "source": [
    "## Assessing performance of all models"
   ]
  },
  {
   "cell_type": "code",
   "execution_count": 687,
   "id": "a080d13b",
   "metadata": {},
   "outputs": [],
   "source": [
    "mse_arrays = [mse_ar, normalized_mse_ar, mse_ar_n_vf, mse_ar_rf, mse_ar_rf_n, mse_ar_rf_votefatigue,\n",
    "              mse_ar_lr_votefatigue, mse_ar_xgb_vf, mse_ar_xgb, mse_ar_nn, mse_ar_nn_vf, mse_ar_en]\n",
    "apk_arrays = [apk_ar, normalized_apk_ar, apk_ar_n_vf, apk_ar_rf, apk_ar_rf_n, apk_ar_rf_votefatigue, \n",
    "              apk_ar_lr_votefatigue, apk_ar_xgb_vf, apk_ar_xgb, apk_ar_nn, apk_ar_nn_vf, apk_ar_en]"
   ]
  },
  {
   "cell_type": "code",
   "execution_count": 688,
   "id": "9cf6033f",
   "metadata": {},
   "outputs": [],
   "source": [
    "def checking_recent_years(list_of_model_arrays, year_to_start):\n",
    "    year_index = years.index(year_to_start) - 4\n",
    "    results = []\n",
    "    results.append(year_to_start)\n",
    "    for model in list_of_model_arrays:\n",
    "        results.append(sum(model[:year_index]) / len(model[:year_index]))\n",
    "    return results"
   ]
  },
  {
   "cell_type": "code",
   "execution_count": 689,
   "id": "c94555d3",
   "metadata": {},
   "outputs": [],
   "source": [
    "# Converting this data to dataframe so I can graph\n",
    "every_year_mse_results = []\n",
    "every_year_apk_results = []\n",
    "for year in years[5:]:\n",
    "    up_to_year_accuracy_mse = checking_recent_years(mse_arrays, year)\n",
    "    up_to_year_accuracy_apk = checking_recent_years(apk_arrays, year)\n",
    "    every_year_mse_results.append(up_to_year_accuracy_mse)\n",
    "    every_year_apk_results.append(up_to_year_accuracy_apk)"
   ]
  },
  {
   "cell_type": "code",
   "execution_count": 690,
   "id": "53bd9230",
   "metadata": {},
   "outputs": [],
   "source": [
    "model_cols_with_year = [\"Year\", \"Ridge Regression\", \"Normalized Ridge Regression\", \"Normalized Ridge w/Voter Fatigue\",\n",
    "              \"Random Forest Naive\",\"Random Forest Normalized\", \"Random Forest w/Voter Fatigue\", \n",
    "              \"Linear Regression w/Voter Fatigue\", \"XGradient Boost w/Voter Fatigue\", \"XGradient Boost\",\n",
    "              \"Neural Network\", \"Neural Network w/Voter Fatigue\", \"Ensemble Model\"]\n",
    "model_cols_without_year = [\"Ridge Regression\", \"Normalized Ridge Regression\", \"Normalized Ridge w/Voter Fatigue\",\n",
    "              \"Random Forest Naive\",\"Random Forest Normalized\", \"Random Forest w/Voter Fatigue\", \n",
    "              \"Linear Regression w/Voter Fatigue\", \"XGradient Boost w/Voter Fatigue\", \"XGradient Boost\",\n",
    "              \"Neural Network\", \"Neural Network w/Voter Fatigue\", \"Ensemble Model\"]"
   ]
  },
  {
   "cell_type": "code",
   "execution_count": 691,
   "id": "7d072ab7",
   "metadata": {},
   "outputs": [],
   "source": [
    "graphing_results_mse_df = pd.DataFrame(data=every_year_mse_results, columns = model_cols_with_year)\n",
    "\n",
    "graphing_results_apk_df = pd.DataFrame(data=every_year_apk_results, columns = model_cols_with_year)"
   ]
  },
  {
   "cell_type": "code",
   "execution_count": 692,
   "id": "e4260930",
   "metadata": {},
   "outputs": [],
   "source": [
    "important_columns = [\"Year\", \"Ridge Regression\", \"Linear Regression\", \"Random Forest w/Voter Fatigue\", \"XGradient Boost w/Voter Fatigue\", \"XGradient Boost\"]"
   ]
  },
  {
   "cell_type": "code",
   "execution_count": null,
   "id": "9fcf9d3d",
   "metadata": {},
   "outputs": [],
   "source": []
  },
  {
   "cell_type": "code",
   "execution_count": 693,
   "id": "ce73169a",
   "metadata": {},
   "outputs": [
    {
     "data": {
      "application/vnd.plotly.v1+json": {
       "config": {
        "plotlyServerURL": "https://plot.ly"
       },
       "data": [
        {
         "hovertemplate": "variable=Ridge Regression<br>Year=%{x}<br>value=%{y}<extra></extra>",
         "legendgroup": "Ridge Regression",
         "line": {
          "color": "#636efa",
          "dash": "solid"
         },
         "marker": {
          "symbol": "circle"
         },
         "mode": "lines",
         "name": "Ridge Regression",
         "orientation": "v",
         "showlegend": true,
         "type": "scatter",
         "x": [
          1985,
          1986,
          1987,
          1988,
          1989,
          1990,
          1991,
          1992,
          1993,
          1994,
          1995,
          1996,
          1997,
          1998,
          1999,
          2000,
          2001,
          2002,
          2003,
          2004,
          2005,
          2006,
          2007,
          2008,
          2009,
          2010,
          2011,
          2012,
          2013,
          2014,
          2015,
          2016,
          2017,
          2018,
          2019,
          2020,
          2021,
          2022,
          2023
         ],
         "xaxis": "x",
         "y": [
          177.4,
          122.55000000000001,
          83.96666666666668,
          64.00000000000001,
          56.60000000000001,
          476,
          408.90000000000003,
          365.225,
          338.6333333333334,
          334.77000000000004,
          306.33636363636367,
          283.73333333333335,
          279.9153846153846,
          310.99285714285713,
          293.41999999999996,
          275.66874999999993,
          261.5764705882352,
          248.48333333333326,
          236.4526315789473,
          232.1649999999999,
          225.43333333333325,
          220.4863636363636,
          212.56086956521733,
          204.88749999999993,
          200.75599999999994,
          195.10769230769225,
          214.6444444444444,
          220.36428571428567,
          214.26551724137929,
          208.19666666666663,
          201.83870967741933,
          195.85312499999998,
          190.49090909090907,
          186.78235294117644,
          182.43142857142854,
          178.64444444444442,
          248.19729729729727,
          242.64210526315787,
          236.84358974358975
         ],
         "yaxis": "y"
        },
        {
         "hovertemplate": "variable=Normalized Ridge Regression<br>Year=%{x}<br>value=%{y}<extra></extra>",
         "legendgroup": "Normalized Ridge Regression",
         "line": {
          "color": "#EF553B",
          "dash": "solid"
         },
         "marker": {
          "symbol": "circle"
         },
         "mode": "lines",
         "name": "Normalized Ridge Regression",
         "orientation": "v",
         "showlegend": true,
         "type": "scatter",
         "x": [
          1985,
          1986,
          1987,
          1988,
          1989,
          1990,
          1991,
          1992,
          1993,
          1994,
          1995,
          1996,
          1997,
          1998,
          1999,
          2000,
          2001,
          2002,
          2003,
          2004,
          2005,
          2006,
          2007,
          2008,
          2009,
          2010,
          2011,
          2012,
          2013,
          2014,
          2015,
          2016,
          2017,
          2018,
          2019,
          2020,
          2021,
          2022,
          2023
         ],
         "xaxis": "x",
         "y": [
          119.7,
          71.25,
          51.06666666666666,
          39.75,
          35.3,
          123.10000000000001,
          106.82857142857144,
          102.0875,
          117.19999999999999,
          118.97,
          109.6909090909091,
          103.99166666666667,
          124.61538461538461,
          150.87857142857143,
          142.38000000000002,
          133.96875000000003,
          129.0294117647059,
          124.48888888888892,
          119.67894736842108,
          127.25500000000002,
          125.22380952380954,
          124.58636363636364,
          120.7,
          117.75833333333333,
          118.1,
          115.42307692307692,
          142.5037037037037,
          148.16785714285714,
          144.44137931034484,
          140.1966666666667,
          136.03225806451616,
          132.10000000000002,
          128.59090909090912,
          125.66764705882355,
          123.08857142857144,
          123.64166666666668,
          274.22162162162164,
          267.95,
          261.3666666666667
         ],
         "yaxis": "y"
        },
        {
         "hovertemplate": "variable=Normalized Ridge w/Voter Fatigue<br>Year=%{x}<br>value=%{y}<extra></extra>",
         "legendgroup": "Normalized Ridge w/Voter Fatigue",
         "line": {
          "color": "#00cc96",
          "dash": "solid"
         },
         "marker": {
          "symbol": "circle"
         },
         "mode": "lines",
         "name": "Normalized Ridge w/Voter Fatigue",
         "orientation": "v",
         "showlegend": true,
         "type": "scatter",
         "x": [
          1985,
          1986,
          1987,
          1988,
          1989,
          1990,
          1991,
          1992,
          1993,
          1994,
          1995,
          1996,
          1997,
          1998,
          1999,
          2000,
          2001,
          2002,
          2003,
          2004,
          2005,
          2006,
          2007,
          2008,
          2009,
          2010,
          2011,
          2012,
          2013,
          2014,
          2015,
          2016,
          2017,
          2018,
          2019,
          2020,
          2021,
          2022,
          2023
         ],
         "xaxis": "x",
         "y": [
          226.9,
          212.15,
          148.93333333333334,
          113.825,
          99.42,
          561.3166666666667,
          483.7285714285714,
          435.2375,
          408.44444444444446,
          381.96,
          349.21818181818185,
          322.7,
          389.6769230769231,
          400.92142857142863,
          379.3266666666667,
          356.29375000000005,
          338.25294117647064,
          321.6777777777778,
          305.9263157894737,
          301.235,
          290.64285714285717,
          279.9636363636364,
          269.40869565217395,
          259.20833333333337,
          254.18800000000002,
          247.2769230769231,
          265.22962962962964,
          278.46785714285716,
          271.00689655172414,
          263.87333333333333,
          256.5935483870968,
          249.040625,
          242.04545454545453,
          237.75294117647059,
          231.4914285714286,
          226.68611111111113,
          221.872972972973,
          217.43947368421055,
          212.60769230769233
         ],
         "yaxis": "y"
        },
        {
         "hovertemplate": "variable=Random Forest Naive<br>Year=%{x}<br>value=%{y}<extra></extra>",
         "legendgroup": "Random Forest Naive",
         "line": {
          "color": "#ab63fa",
          "dash": "solid"
         },
         "marker": {
          "symbol": "circle"
         },
         "mode": "lines",
         "name": "Random Forest Naive",
         "orientation": "v",
         "showlegend": true,
         "type": "scatter",
         "x": [
          1985,
          1986,
          1987,
          1988,
          1989,
          1990,
          1991,
          1992,
          1993,
          1994,
          1995,
          1996,
          1997,
          1998,
          1999,
          2000,
          2001,
          2002,
          2003,
          2004,
          2005,
          2006,
          2007,
          2008,
          2009,
          2010,
          2011,
          2012,
          2013,
          2014,
          2015,
          2016,
          2017,
          2018,
          2019,
          2020,
          2021,
          2022,
          2023
         ],
         "xaxis": "x",
         "y": [
          43.8,
          33.15,
          34.56666666666666,
          27.349999999999998,
          25.639999999999997,
          41.48333333333333,
          45.142857142857146,
          43.025,
          41.544444444444444,
          46.559999999999995,
          43.67272727272727,
          40.525,
          41.31538461538461,
          50.33571428571428,
          47.97333333333333,
          45.49374999999999,
          43.40588235294117,
          42.29444444444444,
          40.431578947368415,
          45.57999999999999,
          44.62857142857142,
          45.07272727272726,
          43.8086956521739,
          45.92083333333333,
          48.792,
          47.92307692307692,
          46.72592592592592,
          46.060714285714276,
          44.8,
          43.813333333333325,
          43.03870967741935,
          42.059374999999996,
          41.28787878787878,
          40.95294117647058,
          40.262857142857136,
          44.599999999999994,
          65.36486486486487,
          63.86578947368421,
          62.338461538461544
         ],
         "yaxis": "y"
        },
        {
         "hovertemplate": "variable=Random Forest Normalized<br>Year=%{x}<br>value=%{y}<extra></extra>",
         "legendgroup": "Random Forest Normalized",
         "line": {
          "color": "#FFA15A",
          "dash": "solid"
         },
         "marker": {
          "symbol": "circle"
         },
         "mode": "lines",
         "name": "Random Forest Normalized",
         "orientation": "v",
         "showlegend": true,
         "type": "scatter",
         "x": [
          1985,
          1986,
          1987,
          1988,
          1989,
          1990,
          1991,
          1992,
          1993,
          1994,
          1995,
          1996,
          1997,
          1998,
          1999,
          2000,
          2001,
          2002,
          2003,
          2004,
          2005,
          2006,
          2007,
          2008,
          2009,
          2010,
          2011,
          2012,
          2013,
          2014,
          2015,
          2016,
          2017,
          2018,
          2019,
          2020,
          2021,
          2022,
          2023
         ],
         "xaxis": "x",
         "y": [
          56.8,
          41.3,
          35.5,
          29.525,
          25.04,
          37.833333333333336,
          39.57142857142857,
          40.6,
          38.2,
          39.2,
          37.85454545454545,
          35.4,
          37.35384615384615,
          47.92857142857143,
          45.35333333333333,
          42.918749999999996,
          41.58235294117647,
          40.77222222222222,
          39.13157894736842,
          46.089999999999996,
          45.785714285714285,
          45.300000000000004,
          47.60434782608696,
          47.49583333333334,
          46.98400000000001,
          46.00769230769231,
          45.01851851851852,
          44.83571428571429,
          43.92758620689656,
          43.15,
          42.50645161290323,
          41.834375,
          40.89393939393939,
          40.45294117647059,
          39.92857142857143,
          43.43333333333333,
          72.07567567567568,
          70.87894736842105,
          69.35384615384616
         ],
         "yaxis": "y"
        },
        {
         "hovertemplate": "variable=Random Forest w/Voter Fatigue<br>Year=%{x}<br>value=%{y}<extra></extra>",
         "legendgroup": "Random Forest w/Voter Fatigue",
         "line": {
          "color": "#19d3f3",
          "dash": "solid"
         },
         "marker": {
          "symbol": "circle"
         },
         "mode": "lines",
         "name": "Random Forest w/Voter Fatigue",
         "orientation": "v",
         "showlegend": true,
         "type": "scatter",
         "x": [
          1985,
          1986,
          1987,
          1988,
          1989,
          1990,
          1991,
          1992,
          1993,
          1994,
          1995,
          1996,
          1997,
          1998,
          1999,
          2000,
          2001,
          2002,
          2003,
          2004,
          2005,
          2006,
          2007,
          2008,
          2009,
          2010,
          2011,
          2012,
          2013,
          2014,
          2015,
          2016,
          2017,
          2018,
          2019,
          2020,
          2021,
          2022,
          2023
         ],
         "xaxis": "x",
         "y": [
          28.2,
          24.75,
          31.633333333333336,
          25.3,
          25.5,
          36.28333333333333,
          36.385714285714286,
          35.8625,
          35.32222222222222,
          39.82,
          37.68181818181818,
          35.06666666666667,
          35.57692307692308,
          45.67857142857143,
          43.71333333333334,
          41.5,
          39.77058823529412,
          38.94444444444444,
          37.294736842105266,
          41.715,
          41.30476190476191,
          42.1,
          41.08695652173913,
          42.4375,
          44.468,
          43.73461538461539,
          42.83703703703704,
          41.88571428571429,
          40.71724137931035,
          39.78666666666667,
          39.035483870967745,
          38.128125000000004,
          37.51818181818182,
          37.400000000000006,
          36.777142857142856,
          40.075,
          55.516216216216215,
          54.276315789473685,
          53.02564102564103
         ],
         "yaxis": "y"
        },
        {
         "hovertemplate": "variable=Linear Regression w/Voter Fatigue<br>Year=%{x}<br>value=%{y}<extra></extra>",
         "legendgroup": "Linear Regression w/Voter Fatigue",
         "line": {
          "color": "#FF6692",
          "dash": "solid"
         },
         "marker": {
          "symbol": "circle"
         },
         "mode": "lines",
         "name": "Linear Regression w/Voter Fatigue",
         "orientation": "v",
         "showlegend": true,
         "type": "scatter",
         "x": [
          1985,
          1986,
          1987,
          1988,
          1989,
          1990,
          1991,
          1992,
          1993,
          1994,
          1995,
          1996,
          1997,
          1998,
          1999,
          2000,
          2001,
          2002,
          2003,
          2004,
          2005,
          2006,
          2007,
          2008,
          2009,
          2010,
          2011,
          2012,
          2013,
          2014,
          2015,
          2016,
          2017,
          2018,
          2019,
          2020,
          2021,
          2022,
          2023
         ],
         "xaxis": "x",
         "y": [
          231.5,
          214.45,
          149.96666666666667,
          114.27499999999999,
          100.78,
          931.8666666666667,
          800.9571428571428,
          712.6999999999999,
          658.1888888888889,
          614.53,
          562.9272727272727,
          518.6,
          535.2307692307693,
          551.65,
          739.8266666666667,
          694.1750000000001,
          656.2588235294119,
          622.0166666666668,
          590.4578947368421,
          572.465,
          549.2,
          526.7454545454547,
          505.4608695652175,
          485.4250000000001,
          471.6240000000001,
          456.3500000000001,
          466.55925925925936,
          473.67500000000007,
          459.5275862068966,
          446.11,
          432.95161290322585,
          419.88750000000005,
          407.6636363636364,
          398.57647058823534,
          387.7200000000001,
          378.57500000000005,
          369.65675675675686,
          361.33421052631587,
          352.81282051282056
         ],
         "yaxis": "y"
        }
       ],
       "layout": {
        "legend": {
         "title": {
          "text": "variable"
         },
         "tracegroupgap": 0
        },
        "margin": {
         "t": 60
        },
        "template": {
         "data": {
          "bar": [
           {
            "error_x": {
             "color": "#2a3f5f"
            },
            "error_y": {
             "color": "#2a3f5f"
            },
            "marker": {
             "line": {
              "color": "#E5ECF6",
              "width": 0.5
             },
             "pattern": {
              "fillmode": "overlay",
              "size": 10,
              "solidity": 0.2
             }
            },
            "type": "bar"
           }
          ],
          "barpolar": [
           {
            "marker": {
             "line": {
              "color": "#E5ECF6",
              "width": 0.5
             },
             "pattern": {
              "fillmode": "overlay",
              "size": 10,
              "solidity": 0.2
             }
            },
            "type": "barpolar"
           }
          ],
          "carpet": [
           {
            "aaxis": {
             "endlinecolor": "#2a3f5f",
             "gridcolor": "white",
             "linecolor": "white",
             "minorgridcolor": "white",
             "startlinecolor": "#2a3f5f"
            },
            "baxis": {
             "endlinecolor": "#2a3f5f",
             "gridcolor": "white",
             "linecolor": "white",
             "minorgridcolor": "white",
             "startlinecolor": "#2a3f5f"
            },
            "type": "carpet"
           }
          ],
          "choropleth": [
           {
            "colorbar": {
             "outlinewidth": 0,
             "ticks": ""
            },
            "type": "choropleth"
           }
          ],
          "contour": [
           {
            "colorbar": {
             "outlinewidth": 0,
             "ticks": ""
            },
            "colorscale": [
             [
              0,
              "#0d0887"
             ],
             [
              0.1111111111111111,
              "#46039f"
             ],
             [
              0.2222222222222222,
              "#7201a8"
             ],
             [
              0.3333333333333333,
              "#9c179e"
             ],
             [
              0.4444444444444444,
              "#bd3786"
             ],
             [
              0.5555555555555556,
              "#d8576b"
             ],
             [
              0.6666666666666666,
              "#ed7953"
             ],
             [
              0.7777777777777778,
              "#fb9f3a"
             ],
             [
              0.8888888888888888,
              "#fdca26"
             ],
             [
              1,
              "#f0f921"
             ]
            ],
            "type": "contour"
           }
          ],
          "contourcarpet": [
           {
            "colorbar": {
             "outlinewidth": 0,
             "ticks": ""
            },
            "type": "contourcarpet"
           }
          ],
          "heatmap": [
           {
            "colorbar": {
             "outlinewidth": 0,
             "ticks": ""
            },
            "colorscale": [
             [
              0,
              "#0d0887"
             ],
             [
              0.1111111111111111,
              "#46039f"
             ],
             [
              0.2222222222222222,
              "#7201a8"
             ],
             [
              0.3333333333333333,
              "#9c179e"
             ],
             [
              0.4444444444444444,
              "#bd3786"
             ],
             [
              0.5555555555555556,
              "#d8576b"
             ],
             [
              0.6666666666666666,
              "#ed7953"
             ],
             [
              0.7777777777777778,
              "#fb9f3a"
             ],
             [
              0.8888888888888888,
              "#fdca26"
             ],
             [
              1,
              "#f0f921"
             ]
            ],
            "type": "heatmap"
           }
          ],
          "heatmapgl": [
           {
            "colorbar": {
             "outlinewidth": 0,
             "ticks": ""
            },
            "colorscale": [
             [
              0,
              "#0d0887"
             ],
             [
              0.1111111111111111,
              "#46039f"
             ],
             [
              0.2222222222222222,
              "#7201a8"
             ],
             [
              0.3333333333333333,
              "#9c179e"
             ],
             [
              0.4444444444444444,
              "#bd3786"
             ],
             [
              0.5555555555555556,
              "#d8576b"
             ],
             [
              0.6666666666666666,
              "#ed7953"
             ],
             [
              0.7777777777777778,
              "#fb9f3a"
             ],
             [
              0.8888888888888888,
              "#fdca26"
             ],
             [
              1,
              "#f0f921"
             ]
            ],
            "type": "heatmapgl"
           }
          ],
          "histogram": [
           {
            "marker": {
             "pattern": {
              "fillmode": "overlay",
              "size": 10,
              "solidity": 0.2
             }
            },
            "type": "histogram"
           }
          ],
          "histogram2d": [
           {
            "colorbar": {
             "outlinewidth": 0,
             "ticks": ""
            },
            "colorscale": [
             [
              0,
              "#0d0887"
             ],
             [
              0.1111111111111111,
              "#46039f"
             ],
             [
              0.2222222222222222,
              "#7201a8"
             ],
             [
              0.3333333333333333,
              "#9c179e"
             ],
             [
              0.4444444444444444,
              "#bd3786"
             ],
             [
              0.5555555555555556,
              "#d8576b"
             ],
             [
              0.6666666666666666,
              "#ed7953"
             ],
             [
              0.7777777777777778,
              "#fb9f3a"
             ],
             [
              0.8888888888888888,
              "#fdca26"
             ],
             [
              1,
              "#f0f921"
             ]
            ],
            "type": "histogram2d"
           }
          ],
          "histogram2dcontour": [
           {
            "colorbar": {
             "outlinewidth": 0,
             "ticks": ""
            },
            "colorscale": [
             [
              0,
              "#0d0887"
             ],
             [
              0.1111111111111111,
              "#46039f"
             ],
             [
              0.2222222222222222,
              "#7201a8"
             ],
             [
              0.3333333333333333,
              "#9c179e"
             ],
             [
              0.4444444444444444,
              "#bd3786"
             ],
             [
              0.5555555555555556,
              "#d8576b"
             ],
             [
              0.6666666666666666,
              "#ed7953"
             ],
             [
              0.7777777777777778,
              "#fb9f3a"
             ],
             [
              0.8888888888888888,
              "#fdca26"
             ],
             [
              1,
              "#f0f921"
             ]
            ],
            "type": "histogram2dcontour"
           }
          ],
          "mesh3d": [
           {
            "colorbar": {
             "outlinewidth": 0,
             "ticks": ""
            },
            "type": "mesh3d"
           }
          ],
          "parcoords": [
           {
            "line": {
             "colorbar": {
              "outlinewidth": 0,
              "ticks": ""
             }
            },
            "type": "parcoords"
           }
          ],
          "pie": [
           {
            "automargin": true,
            "type": "pie"
           }
          ],
          "scatter": [
           {
            "fillpattern": {
             "fillmode": "overlay",
             "size": 10,
             "solidity": 0.2
            },
            "type": "scatter"
           }
          ],
          "scatter3d": [
           {
            "line": {
             "colorbar": {
              "outlinewidth": 0,
              "ticks": ""
             }
            },
            "marker": {
             "colorbar": {
              "outlinewidth": 0,
              "ticks": ""
             }
            },
            "type": "scatter3d"
           }
          ],
          "scattercarpet": [
           {
            "marker": {
             "colorbar": {
              "outlinewidth": 0,
              "ticks": ""
             }
            },
            "type": "scattercarpet"
           }
          ],
          "scattergeo": [
           {
            "marker": {
             "colorbar": {
              "outlinewidth": 0,
              "ticks": ""
             }
            },
            "type": "scattergeo"
           }
          ],
          "scattergl": [
           {
            "marker": {
             "colorbar": {
              "outlinewidth": 0,
              "ticks": ""
             }
            },
            "type": "scattergl"
           }
          ],
          "scattermapbox": [
           {
            "marker": {
             "colorbar": {
              "outlinewidth": 0,
              "ticks": ""
             }
            },
            "type": "scattermapbox"
           }
          ],
          "scatterpolar": [
           {
            "marker": {
             "colorbar": {
              "outlinewidth": 0,
              "ticks": ""
             }
            },
            "type": "scatterpolar"
           }
          ],
          "scatterpolargl": [
           {
            "marker": {
             "colorbar": {
              "outlinewidth": 0,
              "ticks": ""
             }
            },
            "type": "scatterpolargl"
           }
          ],
          "scatterternary": [
           {
            "marker": {
             "colorbar": {
              "outlinewidth": 0,
              "ticks": ""
             }
            },
            "type": "scatterternary"
           }
          ],
          "surface": [
           {
            "colorbar": {
             "outlinewidth": 0,
             "ticks": ""
            },
            "colorscale": [
             [
              0,
              "#0d0887"
             ],
             [
              0.1111111111111111,
              "#46039f"
             ],
             [
              0.2222222222222222,
              "#7201a8"
             ],
             [
              0.3333333333333333,
              "#9c179e"
             ],
             [
              0.4444444444444444,
              "#bd3786"
             ],
             [
              0.5555555555555556,
              "#d8576b"
             ],
             [
              0.6666666666666666,
              "#ed7953"
             ],
             [
              0.7777777777777778,
              "#fb9f3a"
             ],
             [
              0.8888888888888888,
              "#fdca26"
             ],
             [
              1,
              "#f0f921"
             ]
            ],
            "type": "surface"
           }
          ],
          "table": [
           {
            "cells": {
             "fill": {
              "color": "#EBF0F8"
             },
             "line": {
              "color": "white"
             }
            },
            "header": {
             "fill": {
              "color": "#C8D4E3"
             },
             "line": {
              "color": "white"
             }
            },
            "type": "table"
           }
          ]
         },
         "layout": {
          "annotationdefaults": {
           "arrowcolor": "#2a3f5f",
           "arrowhead": 0,
           "arrowwidth": 1
          },
          "autotypenumbers": "strict",
          "coloraxis": {
           "colorbar": {
            "outlinewidth": 0,
            "ticks": ""
           }
          },
          "colorscale": {
           "diverging": [
            [
             0,
             "#8e0152"
            ],
            [
             0.1,
             "#c51b7d"
            ],
            [
             0.2,
             "#de77ae"
            ],
            [
             0.3,
             "#f1b6da"
            ],
            [
             0.4,
             "#fde0ef"
            ],
            [
             0.5,
             "#f7f7f7"
            ],
            [
             0.6,
             "#e6f5d0"
            ],
            [
             0.7,
             "#b8e186"
            ],
            [
             0.8,
             "#7fbc41"
            ],
            [
             0.9,
             "#4d9221"
            ],
            [
             1,
             "#276419"
            ]
           ],
           "sequential": [
            [
             0,
             "#0d0887"
            ],
            [
             0.1111111111111111,
             "#46039f"
            ],
            [
             0.2222222222222222,
             "#7201a8"
            ],
            [
             0.3333333333333333,
             "#9c179e"
            ],
            [
             0.4444444444444444,
             "#bd3786"
            ],
            [
             0.5555555555555556,
             "#d8576b"
            ],
            [
             0.6666666666666666,
             "#ed7953"
            ],
            [
             0.7777777777777778,
             "#fb9f3a"
            ],
            [
             0.8888888888888888,
             "#fdca26"
            ],
            [
             1,
             "#f0f921"
            ]
           ],
           "sequentialminus": [
            [
             0,
             "#0d0887"
            ],
            [
             0.1111111111111111,
             "#46039f"
            ],
            [
             0.2222222222222222,
             "#7201a8"
            ],
            [
             0.3333333333333333,
             "#9c179e"
            ],
            [
             0.4444444444444444,
             "#bd3786"
            ],
            [
             0.5555555555555556,
             "#d8576b"
            ],
            [
             0.6666666666666666,
             "#ed7953"
            ],
            [
             0.7777777777777778,
             "#fb9f3a"
            ],
            [
             0.8888888888888888,
             "#fdca26"
            ],
            [
             1,
             "#f0f921"
            ]
           ]
          },
          "colorway": [
           "#636efa",
           "#EF553B",
           "#00cc96",
           "#ab63fa",
           "#FFA15A",
           "#19d3f3",
           "#FF6692",
           "#B6E880",
           "#FF97FF",
           "#FECB52"
          ],
          "font": {
           "color": "#2a3f5f"
          },
          "geo": {
           "bgcolor": "white",
           "lakecolor": "white",
           "landcolor": "#E5ECF6",
           "showlakes": true,
           "showland": true,
           "subunitcolor": "white"
          },
          "hoverlabel": {
           "align": "left"
          },
          "hovermode": "closest",
          "mapbox": {
           "style": "light"
          },
          "paper_bgcolor": "white",
          "plot_bgcolor": "#E5ECF6",
          "polar": {
           "angularaxis": {
            "gridcolor": "white",
            "linecolor": "white",
            "ticks": ""
           },
           "bgcolor": "#E5ECF6",
           "radialaxis": {
            "gridcolor": "white",
            "linecolor": "white",
            "ticks": ""
           }
          },
          "scene": {
           "xaxis": {
            "backgroundcolor": "#E5ECF6",
            "gridcolor": "white",
            "gridwidth": 2,
            "linecolor": "white",
            "showbackground": true,
            "ticks": "",
            "zerolinecolor": "white"
           },
           "yaxis": {
            "backgroundcolor": "#E5ECF6",
            "gridcolor": "white",
            "gridwidth": 2,
            "linecolor": "white",
            "showbackground": true,
            "ticks": "",
            "zerolinecolor": "white"
           },
           "zaxis": {
            "backgroundcolor": "#E5ECF6",
            "gridcolor": "white",
            "gridwidth": 2,
            "linecolor": "white",
            "showbackground": true,
            "ticks": "",
            "zerolinecolor": "white"
           }
          },
          "shapedefaults": {
           "line": {
            "color": "#2a3f5f"
           }
          },
          "ternary": {
           "aaxis": {
            "gridcolor": "white",
            "linecolor": "white",
            "ticks": ""
           },
           "baxis": {
            "gridcolor": "white",
            "linecolor": "white",
            "ticks": ""
           },
           "bgcolor": "#E5ECF6",
           "caxis": {
            "gridcolor": "white",
            "linecolor": "white",
            "ticks": ""
           }
          },
          "title": {
           "x": 0.05
          },
          "xaxis": {
           "automargin": true,
           "gridcolor": "white",
           "linecolor": "white",
           "ticks": "",
           "title": {
            "standoff": 15
           },
           "zerolinecolor": "white",
           "zerolinewidth": 2
          },
          "yaxis": {
           "automargin": true,
           "gridcolor": "white",
           "linecolor": "white",
           "ticks": "",
           "title": {
            "standoff": 15
           },
           "zerolinecolor": "white",
           "zerolinewidth": 2
          }
         }
        },
        "xaxis": {
         "anchor": "y",
         "domain": [
          0,
          1
         ],
         "title": {
          "text": "Year"
         }
        },
        "yaxis": {
         "anchor": "x",
         "domain": [
          0,
          1
         ],
         "title": {
          "text": "value"
         }
        }
       }
      },
      "text/html": [
       "<div>                            <div id=\"da8d521b-fabd-4495-ae67-33bec38e5157\" class=\"plotly-graph-div\" style=\"height:525px; width:100%;\"></div>            <script type=\"text/javascript\">                require([\"plotly\"], function(Plotly) {                    window.PLOTLYENV=window.PLOTLYENV || {};                                    if (document.getElementById(\"da8d521b-fabd-4495-ae67-33bec38e5157\")) {                    Plotly.newPlot(                        \"da8d521b-fabd-4495-ae67-33bec38e5157\",                        [{\"hovertemplate\":\"variable=Ridge Regression<br>Year=%{x}<br>value=%{y}<extra></extra>\",\"legendgroup\":\"Ridge Regression\",\"line\":{\"color\":\"#636efa\",\"dash\":\"solid\"},\"marker\":{\"symbol\":\"circle\"},\"mode\":\"lines\",\"name\":\"Ridge Regression\",\"orientation\":\"v\",\"showlegend\":true,\"x\":[1985,1986,1987,1988,1989,1990,1991,1992,1993,1994,1995,1996,1997,1998,1999,2000,2001,2002,2003,2004,2005,2006,2007,2008,2009,2010,2011,2012,2013,2014,2015,2016,2017,2018,2019,2020,2021,2022,2023],\"xaxis\":\"x\",\"y\":[177.4,122.55000000000001,83.96666666666668,64.00000000000001,56.60000000000001,476.0,408.90000000000003,365.225,338.6333333333334,334.77000000000004,306.33636363636367,283.73333333333335,279.9153846153846,310.99285714285713,293.41999999999996,275.66874999999993,261.5764705882352,248.48333333333326,236.4526315789473,232.1649999999999,225.43333333333325,220.4863636363636,212.56086956521733,204.88749999999993,200.75599999999994,195.10769230769225,214.6444444444444,220.36428571428567,214.26551724137929,208.19666666666663,201.83870967741933,195.85312499999998,190.49090909090907,186.78235294117644,182.43142857142854,178.64444444444442,248.19729729729727,242.64210526315787,236.84358974358975],\"yaxis\":\"y\",\"type\":\"scatter\"},{\"hovertemplate\":\"variable=Normalized Ridge Regression<br>Year=%{x}<br>value=%{y}<extra></extra>\",\"legendgroup\":\"Normalized Ridge Regression\",\"line\":{\"color\":\"#EF553B\",\"dash\":\"solid\"},\"marker\":{\"symbol\":\"circle\"},\"mode\":\"lines\",\"name\":\"Normalized Ridge Regression\",\"orientation\":\"v\",\"showlegend\":true,\"x\":[1985,1986,1987,1988,1989,1990,1991,1992,1993,1994,1995,1996,1997,1998,1999,2000,2001,2002,2003,2004,2005,2006,2007,2008,2009,2010,2011,2012,2013,2014,2015,2016,2017,2018,2019,2020,2021,2022,2023],\"xaxis\":\"x\",\"y\":[119.7,71.25,51.06666666666666,39.75,35.3,123.10000000000001,106.82857142857144,102.0875,117.19999999999999,118.97,109.6909090909091,103.99166666666667,124.61538461538461,150.87857142857143,142.38000000000002,133.96875000000003,129.0294117647059,124.48888888888892,119.67894736842108,127.25500000000002,125.22380952380954,124.58636363636364,120.7,117.75833333333333,118.1,115.42307692307692,142.5037037037037,148.16785714285714,144.44137931034484,140.1966666666667,136.03225806451616,132.10000000000002,128.59090909090912,125.66764705882355,123.08857142857144,123.64166666666668,274.22162162162164,267.95,261.3666666666667],\"yaxis\":\"y\",\"type\":\"scatter\"},{\"hovertemplate\":\"variable=Normalized Ridge w/Voter Fatigue<br>Year=%{x}<br>value=%{y}<extra></extra>\",\"legendgroup\":\"Normalized Ridge w/Voter Fatigue\",\"line\":{\"color\":\"#00cc96\",\"dash\":\"solid\"},\"marker\":{\"symbol\":\"circle\"},\"mode\":\"lines\",\"name\":\"Normalized Ridge w/Voter Fatigue\",\"orientation\":\"v\",\"showlegend\":true,\"x\":[1985,1986,1987,1988,1989,1990,1991,1992,1993,1994,1995,1996,1997,1998,1999,2000,2001,2002,2003,2004,2005,2006,2007,2008,2009,2010,2011,2012,2013,2014,2015,2016,2017,2018,2019,2020,2021,2022,2023],\"xaxis\":\"x\",\"y\":[226.9,212.15,148.93333333333334,113.825,99.42,561.3166666666667,483.7285714285714,435.2375,408.44444444444446,381.96,349.21818181818185,322.7,389.6769230769231,400.92142857142863,379.3266666666667,356.29375000000005,338.25294117647064,321.6777777777778,305.9263157894737,301.235,290.64285714285717,279.9636363636364,269.40869565217395,259.20833333333337,254.18800000000002,247.2769230769231,265.22962962962964,278.46785714285716,271.00689655172414,263.87333333333333,256.5935483870968,249.040625,242.04545454545453,237.75294117647059,231.4914285714286,226.68611111111113,221.872972972973,217.43947368421055,212.60769230769233],\"yaxis\":\"y\",\"type\":\"scatter\"},{\"hovertemplate\":\"variable=Random Forest Naive<br>Year=%{x}<br>value=%{y}<extra></extra>\",\"legendgroup\":\"Random Forest Naive\",\"line\":{\"color\":\"#ab63fa\",\"dash\":\"solid\"},\"marker\":{\"symbol\":\"circle\"},\"mode\":\"lines\",\"name\":\"Random Forest Naive\",\"orientation\":\"v\",\"showlegend\":true,\"x\":[1985,1986,1987,1988,1989,1990,1991,1992,1993,1994,1995,1996,1997,1998,1999,2000,2001,2002,2003,2004,2005,2006,2007,2008,2009,2010,2011,2012,2013,2014,2015,2016,2017,2018,2019,2020,2021,2022,2023],\"xaxis\":\"x\",\"y\":[43.8,33.15,34.56666666666666,27.349999999999998,25.639999999999997,41.48333333333333,45.142857142857146,43.025,41.544444444444444,46.559999999999995,43.67272727272727,40.525,41.31538461538461,50.33571428571428,47.97333333333333,45.49374999999999,43.40588235294117,42.29444444444444,40.431578947368415,45.57999999999999,44.62857142857142,45.07272727272726,43.8086956521739,45.92083333333333,48.792,47.92307692307692,46.72592592592592,46.060714285714276,44.8,43.813333333333325,43.03870967741935,42.059374999999996,41.28787878787878,40.95294117647058,40.262857142857136,44.599999999999994,65.36486486486487,63.86578947368421,62.338461538461544],\"yaxis\":\"y\",\"type\":\"scatter\"},{\"hovertemplate\":\"variable=Random Forest Normalized<br>Year=%{x}<br>value=%{y}<extra></extra>\",\"legendgroup\":\"Random Forest Normalized\",\"line\":{\"color\":\"#FFA15A\",\"dash\":\"solid\"},\"marker\":{\"symbol\":\"circle\"},\"mode\":\"lines\",\"name\":\"Random Forest Normalized\",\"orientation\":\"v\",\"showlegend\":true,\"x\":[1985,1986,1987,1988,1989,1990,1991,1992,1993,1994,1995,1996,1997,1998,1999,2000,2001,2002,2003,2004,2005,2006,2007,2008,2009,2010,2011,2012,2013,2014,2015,2016,2017,2018,2019,2020,2021,2022,2023],\"xaxis\":\"x\",\"y\":[56.8,41.3,35.5,29.525,25.04,37.833333333333336,39.57142857142857,40.6,38.2,39.2,37.85454545454545,35.4,37.35384615384615,47.92857142857143,45.35333333333333,42.918749999999996,41.58235294117647,40.77222222222222,39.13157894736842,46.089999999999996,45.785714285714285,45.300000000000004,47.60434782608696,47.49583333333334,46.98400000000001,46.00769230769231,45.01851851851852,44.83571428571429,43.92758620689656,43.15,42.50645161290323,41.834375,40.89393939393939,40.45294117647059,39.92857142857143,43.43333333333333,72.07567567567568,70.87894736842105,69.35384615384616],\"yaxis\":\"y\",\"type\":\"scatter\"},{\"hovertemplate\":\"variable=Random Forest w/Voter Fatigue<br>Year=%{x}<br>value=%{y}<extra></extra>\",\"legendgroup\":\"Random Forest w/Voter Fatigue\",\"line\":{\"color\":\"#19d3f3\",\"dash\":\"solid\"},\"marker\":{\"symbol\":\"circle\"},\"mode\":\"lines\",\"name\":\"Random Forest w/Voter Fatigue\",\"orientation\":\"v\",\"showlegend\":true,\"x\":[1985,1986,1987,1988,1989,1990,1991,1992,1993,1994,1995,1996,1997,1998,1999,2000,2001,2002,2003,2004,2005,2006,2007,2008,2009,2010,2011,2012,2013,2014,2015,2016,2017,2018,2019,2020,2021,2022,2023],\"xaxis\":\"x\",\"y\":[28.2,24.75,31.633333333333336,25.3,25.5,36.28333333333333,36.385714285714286,35.8625,35.32222222222222,39.82,37.68181818181818,35.06666666666667,35.57692307692308,45.67857142857143,43.71333333333334,41.5,39.77058823529412,38.94444444444444,37.294736842105266,41.715,41.30476190476191,42.1,41.08695652173913,42.4375,44.468,43.73461538461539,42.83703703703704,41.88571428571429,40.71724137931035,39.78666666666667,39.035483870967745,38.128125000000004,37.51818181818182,37.400000000000006,36.777142857142856,40.075,55.516216216216215,54.276315789473685,53.02564102564103],\"yaxis\":\"y\",\"type\":\"scatter\"},{\"hovertemplate\":\"variable=Linear Regression w/Voter Fatigue<br>Year=%{x}<br>value=%{y}<extra></extra>\",\"legendgroup\":\"Linear Regression w/Voter Fatigue\",\"line\":{\"color\":\"#FF6692\",\"dash\":\"solid\"},\"marker\":{\"symbol\":\"circle\"},\"mode\":\"lines\",\"name\":\"Linear Regression w/Voter Fatigue\",\"orientation\":\"v\",\"showlegend\":true,\"x\":[1985,1986,1987,1988,1989,1990,1991,1992,1993,1994,1995,1996,1997,1998,1999,2000,2001,2002,2003,2004,2005,2006,2007,2008,2009,2010,2011,2012,2013,2014,2015,2016,2017,2018,2019,2020,2021,2022,2023],\"xaxis\":\"x\",\"y\":[231.5,214.45,149.96666666666667,114.27499999999999,100.78,931.8666666666667,800.9571428571428,712.6999999999999,658.1888888888889,614.53,562.9272727272727,518.6,535.2307692307693,551.65,739.8266666666667,694.1750000000001,656.2588235294119,622.0166666666668,590.4578947368421,572.465,549.2,526.7454545454547,505.4608695652175,485.4250000000001,471.6240000000001,456.3500000000001,466.55925925925936,473.67500000000007,459.5275862068966,446.11,432.95161290322585,419.88750000000005,407.6636363636364,398.57647058823534,387.7200000000001,378.57500000000005,369.65675675675686,361.33421052631587,352.81282051282056],\"yaxis\":\"y\",\"type\":\"scatter\"}],                        {\"template\":{\"data\":{\"histogram2dcontour\":[{\"type\":\"histogram2dcontour\",\"colorbar\":{\"outlinewidth\":0,\"ticks\":\"\"},\"colorscale\":[[0.0,\"#0d0887\"],[0.1111111111111111,\"#46039f\"],[0.2222222222222222,\"#7201a8\"],[0.3333333333333333,\"#9c179e\"],[0.4444444444444444,\"#bd3786\"],[0.5555555555555556,\"#d8576b\"],[0.6666666666666666,\"#ed7953\"],[0.7777777777777778,\"#fb9f3a\"],[0.8888888888888888,\"#fdca26\"],[1.0,\"#f0f921\"]]}],\"choropleth\":[{\"type\":\"choropleth\",\"colorbar\":{\"outlinewidth\":0,\"ticks\":\"\"}}],\"histogram2d\":[{\"type\":\"histogram2d\",\"colorbar\":{\"outlinewidth\":0,\"ticks\":\"\"},\"colorscale\":[[0.0,\"#0d0887\"],[0.1111111111111111,\"#46039f\"],[0.2222222222222222,\"#7201a8\"],[0.3333333333333333,\"#9c179e\"],[0.4444444444444444,\"#bd3786\"],[0.5555555555555556,\"#d8576b\"],[0.6666666666666666,\"#ed7953\"],[0.7777777777777778,\"#fb9f3a\"],[0.8888888888888888,\"#fdca26\"],[1.0,\"#f0f921\"]]}],\"heatmap\":[{\"type\":\"heatmap\",\"colorbar\":{\"outlinewidth\":0,\"ticks\":\"\"},\"colorscale\":[[0.0,\"#0d0887\"],[0.1111111111111111,\"#46039f\"],[0.2222222222222222,\"#7201a8\"],[0.3333333333333333,\"#9c179e\"],[0.4444444444444444,\"#bd3786\"],[0.5555555555555556,\"#d8576b\"],[0.6666666666666666,\"#ed7953\"],[0.7777777777777778,\"#fb9f3a\"],[0.8888888888888888,\"#fdca26\"],[1.0,\"#f0f921\"]]}],\"heatmapgl\":[{\"type\":\"heatmapgl\",\"colorbar\":{\"outlinewidth\":0,\"ticks\":\"\"},\"colorscale\":[[0.0,\"#0d0887\"],[0.1111111111111111,\"#46039f\"],[0.2222222222222222,\"#7201a8\"],[0.3333333333333333,\"#9c179e\"],[0.4444444444444444,\"#bd3786\"],[0.5555555555555556,\"#d8576b\"],[0.6666666666666666,\"#ed7953\"],[0.7777777777777778,\"#fb9f3a\"],[0.8888888888888888,\"#fdca26\"],[1.0,\"#f0f921\"]]}],\"contourcarpet\":[{\"type\":\"contourcarpet\",\"colorbar\":{\"outlinewidth\":0,\"ticks\":\"\"}}],\"contour\":[{\"type\":\"contour\",\"colorbar\":{\"outlinewidth\":0,\"ticks\":\"\"},\"colorscale\":[[0.0,\"#0d0887\"],[0.1111111111111111,\"#46039f\"],[0.2222222222222222,\"#7201a8\"],[0.3333333333333333,\"#9c179e\"],[0.4444444444444444,\"#bd3786\"],[0.5555555555555556,\"#d8576b\"],[0.6666666666666666,\"#ed7953\"],[0.7777777777777778,\"#fb9f3a\"],[0.8888888888888888,\"#fdca26\"],[1.0,\"#f0f921\"]]}],\"surface\":[{\"type\":\"surface\",\"colorbar\":{\"outlinewidth\":0,\"ticks\":\"\"},\"colorscale\":[[0.0,\"#0d0887\"],[0.1111111111111111,\"#46039f\"],[0.2222222222222222,\"#7201a8\"],[0.3333333333333333,\"#9c179e\"],[0.4444444444444444,\"#bd3786\"],[0.5555555555555556,\"#d8576b\"],[0.6666666666666666,\"#ed7953\"],[0.7777777777777778,\"#fb9f3a\"],[0.8888888888888888,\"#fdca26\"],[1.0,\"#f0f921\"]]}],\"mesh3d\":[{\"type\":\"mesh3d\",\"colorbar\":{\"outlinewidth\":0,\"ticks\":\"\"}}],\"scatter\":[{\"fillpattern\":{\"fillmode\":\"overlay\",\"size\":10,\"solidity\":0.2},\"type\":\"scatter\"}],\"parcoords\":[{\"type\":\"parcoords\",\"line\":{\"colorbar\":{\"outlinewidth\":0,\"ticks\":\"\"}}}],\"scatterpolargl\":[{\"type\":\"scatterpolargl\",\"marker\":{\"colorbar\":{\"outlinewidth\":0,\"ticks\":\"\"}}}],\"bar\":[{\"error_x\":{\"color\":\"#2a3f5f\"},\"error_y\":{\"color\":\"#2a3f5f\"},\"marker\":{\"line\":{\"color\":\"#E5ECF6\",\"width\":0.5},\"pattern\":{\"fillmode\":\"overlay\",\"size\":10,\"solidity\":0.2}},\"type\":\"bar\"}],\"scattergeo\":[{\"type\":\"scattergeo\",\"marker\":{\"colorbar\":{\"outlinewidth\":0,\"ticks\":\"\"}}}],\"scatterpolar\":[{\"type\":\"scatterpolar\",\"marker\":{\"colorbar\":{\"outlinewidth\":0,\"ticks\":\"\"}}}],\"histogram\":[{\"marker\":{\"pattern\":{\"fillmode\":\"overlay\",\"size\":10,\"solidity\":0.2}},\"type\":\"histogram\"}],\"scattergl\":[{\"type\":\"scattergl\",\"marker\":{\"colorbar\":{\"outlinewidth\":0,\"ticks\":\"\"}}}],\"scatter3d\":[{\"type\":\"scatter3d\",\"line\":{\"colorbar\":{\"outlinewidth\":0,\"ticks\":\"\"}},\"marker\":{\"colorbar\":{\"outlinewidth\":0,\"ticks\":\"\"}}}],\"scattermapbox\":[{\"type\":\"scattermapbox\",\"marker\":{\"colorbar\":{\"outlinewidth\":0,\"ticks\":\"\"}}}],\"scatterternary\":[{\"type\":\"scatterternary\",\"marker\":{\"colorbar\":{\"outlinewidth\":0,\"ticks\":\"\"}}}],\"scattercarpet\":[{\"type\":\"scattercarpet\",\"marker\":{\"colorbar\":{\"outlinewidth\":0,\"ticks\":\"\"}}}],\"carpet\":[{\"aaxis\":{\"endlinecolor\":\"#2a3f5f\",\"gridcolor\":\"white\",\"linecolor\":\"white\",\"minorgridcolor\":\"white\",\"startlinecolor\":\"#2a3f5f\"},\"baxis\":{\"endlinecolor\":\"#2a3f5f\",\"gridcolor\":\"white\",\"linecolor\":\"white\",\"minorgridcolor\":\"white\",\"startlinecolor\":\"#2a3f5f\"},\"type\":\"carpet\"}],\"table\":[{\"cells\":{\"fill\":{\"color\":\"#EBF0F8\"},\"line\":{\"color\":\"white\"}},\"header\":{\"fill\":{\"color\":\"#C8D4E3\"},\"line\":{\"color\":\"white\"}},\"type\":\"table\"}],\"barpolar\":[{\"marker\":{\"line\":{\"color\":\"#E5ECF6\",\"width\":0.5},\"pattern\":{\"fillmode\":\"overlay\",\"size\":10,\"solidity\":0.2}},\"type\":\"barpolar\"}],\"pie\":[{\"automargin\":true,\"type\":\"pie\"}]},\"layout\":{\"autotypenumbers\":\"strict\",\"colorway\":[\"#636efa\",\"#EF553B\",\"#00cc96\",\"#ab63fa\",\"#FFA15A\",\"#19d3f3\",\"#FF6692\",\"#B6E880\",\"#FF97FF\",\"#FECB52\"],\"font\":{\"color\":\"#2a3f5f\"},\"hovermode\":\"closest\",\"hoverlabel\":{\"align\":\"left\"},\"paper_bgcolor\":\"white\",\"plot_bgcolor\":\"#E5ECF6\",\"polar\":{\"bgcolor\":\"#E5ECF6\",\"angularaxis\":{\"gridcolor\":\"white\",\"linecolor\":\"white\",\"ticks\":\"\"},\"radialaxis\":{\"gridcolor\":\"white\",\"linecolor\":\"white\",\"ticks\":\"\"}},\"ternary\":{\"bgcolor\":\"#E5ECF6\",\"aaxis\":{\"gridcolor\":\"white\",\"linecolor\":\"white\",\"ticks\":\"\"},\"baxis\":{\"gridcolor\":\"white\",\"linecolor\":\"white\",\"ticks\":\"\"},\"caxis\":{\"gridcolor\":\"white\",\"linecolor\":\"white\",\"ticks\":\"\"}},\"coloraxis\":{\"colorbar\":{\"outlinewidth\":0,\"ticks\":\"\"}},\"colorscale\":{\"sequential\":[[0.0,\"#0d0887\"],[0.1111111111111111,\"#46039f\"],[0.2222222222222222,\"#7201a8\"],[0.3333333333333333,\"#9c179e\"],[0.4444444444444444,\"#bd3786\"],[0.5555555555555556,\"#d8576b\"],[0.6666666666666666,\"#ed7953\"],[0.7777777777777778,\"#fb9f3a\"],[0.8888888888888888,\"#fdca26\"],[1.0,\"#f0f921\"]],\"sequentialminus\":[[0.0,\"#0d0887\"],[0.1111111111111111,\"#46039f\"],[0.2222222222222222,\"#7201a8\"],[0.3333333333333333,\"#9c179e\"],[0.4444444444444444,\"#bd3786\"],[0.5555555555555556,\"#d8576b\"],[0.6666666666666666,\"#ed7953\"],[0.7777777777777778,\"#fb9f3a\"],[0.8888888888888888,\"#fdca26\"],[1.0,\"#f0f921\"]],\"diverging\":[[0,\"#8e0152\"],[0.1,\"#c51b7d\"],[0.2,\"#de77ae\"],[0.3,\"#f1b6da\"],[0.4,\"#fde0ef\"],[0.5,\"#f7f7f7\"],[0.6,\"#e6f5d0\"],[0.7,\"#b8e186\"],[0.8,\"#7fbc41\"],[0.9,\"#4d9221\"],[1,\"#276419\"]]},\"xaxis\":{\"gridcolor\":\"white\",\"linecolor\":\"white\",\"ticks\":\"\",\"title\":{\"standoff\":15},\"zerolinecolor\":\"white\",\"automargin\":true,\"zerolinewidth\":2},\"yaxis\":{\"gridcolor\":\"white\",\"linecolor\":\"white\",\"ticks\":\"\",\"title\":{\"standoff\":15},\"zerolinecolor\":\"white\",\"automargin\":true,\"zerolinewidth\":2},\"scene\":{\"xaxis\":{\"backgroundcolor\":\"#E5ECF6\",\"gridcolor\":\"white\",\"linecolor\":\"white\",\"showbackground\":true,\"ticks\":\"\",\"zerolinecolor\":\"white\",\"gridwidth\":2},\"yaxis\":{\"backgroundcolor\":\"#E5ECF6\",\"gridcolor\":\"white\",\"linecolor\":\"white\",\"showbackground\":true,\"ticks\":\"\",\"zerolinecolor\":\"white\",\"gridwidth\":2},\"zaxis\":{\"backgroundcolor\":\"#E5ECF6\",\"gridcolor\":\"white\",\"linecolor\":\"white\",\"showbackground\":true,\"ticks\":\"\",\"zerolinecolor\":\"white\",\"gridwidth\":2}},\"shapedefaults\":{\"line\":{\"color\":\"#2a3f5f\"}},\"annotationdefaults\":{\"arrowcolor\":\"#2a3f5f\",\"arrowhead\":0,\"arrowwidth\":1},\"geo\":{\"bgcolor\":\"white\",\"landcolor\":\"#E5ECF6\",\"subunitcolor\":\"white\",\"showland\":true,\"showlakes\":true,\"lakecolor\":\"white\"},\"title\":{\"x\":0.05},\"mapbox\":{\"style\":\"light\"}}},\"xaxis\":{\"anchor\":\"y\",\"domain\":[0.0,1.0],\"title\":{\"text\":\"Year\"}},\"yaxis\":{\"anchor\":\"x\",\"domain\":[0.0,1.0],\"title\":{\"text\":\"value\"}},\"legend\":{\"title\":{\"text\":\"variable\"},\"tracegroupgap\":0},\"margin\":{\"t\":60}},                        {\"responsive\": true}                    ).then(function(){\n",
       "                            \n",
       "var gd = document.getElementById('da8d521b-fabd-4495-ae67-33bec38e5157');\n",
       "var x = new MutationObserver(function (mutations, observer) {{\n",
       "        var display = window.getComputedStyle(gd).display;\n",
       "        if (!display || display === 'none') {{\n",
       "            console.log([gd, 'removed!']);\n",
       "            Plotly.purge(gd);\n",
       "            observer.disconnect();\n",
       "        }}\n",
       "}});\n",
       "\n",
       "// Listen for the removal of the full notebook cells\n",
       "var notebookContainer = gd.closest('#notebook-container');\n",
       "if (notebookContainer) {{\n",
       "    x.observe(notebookContainer, {childList: true});\n",
       "}}\n",
       "\n",
       "// Listen for the clearing of the current output cell\n",
       "var outputEl = gd.closest('.output');\n",
       "if (outputEl) {{\n",
       "    x.observe(outputEl, {childList: true});\n",
       "}}\n",
       "\n",
       "                        })                };                });            </script>        </div>"
      ]
     },
     "metadata": {},
     "output_type": "display_data"
    }
   ],
   "source": [
    "mse_fig = px.line(graphing_results_mse_df, x='Year', y=graphing_results_mse_df.columns[1:8])\n",
    "mse_fig"
   ]
  },
  {
   "cell_type": "code",
   "execution_count": 694,
   "id": "6ddcacd0",
   "metadata": {},
   "outputs": [
    {
     "data": {
      "application/vnd.plotly.v1+json": {
       "config": {
        "plotlyServerURL": "https://plot.ly"
       },
       "data": [
        {
         "hovertemplate": "variable=Ridge Regression<br>Year=%{x}<br>value=%{y}<extra></extra>",
         "legendgroup": "Ridge Regression",
         "line": {
          "color": "#636efa",
          "dash": "solid"
         },
         "marker": {
          "symbol": "circle"
         },
         "mode": "lines",
         "name": "Ridge Regression",
         "orientation": "v",
         "showlegend": true,
         "type": "scatter",
         "x": [
          1985,
          1986,
          1987,
          1988,
          1989,
          1990,
          1991,
          1992,
          1993,
          1994,
          1995,
          1996,
          1997,
          1998,
          1999,
          2000,
          2001,
          2002,
          2003,
          2004,
          2005,
          2006,
          2007,
          2008,
          2009,
          2010,
          2011,
          2012,
          2013,
          2014,
          2015,
          2016,
          2017,
          2018,
          2019,
          2020,
          2021,
          2022,
          2023
         ],
         "xaxis": "x",
         "y": [
          0.3333333333333333,
          0.3333333333333333,
          0.47555555555555556,
          0.5566666666666666,
          0.5253333333333333,
          0.5294444444444445,
          0.5680952380952381,
          0.5575,
          0.5622222222222222,
          0.577,
          0.5972727272727272,
          0.5908333333333333,
          0.6038461538461538,
          0.6,
          0.5800000000000001,
          0.5781250000000001,
          0.5688235294117648,
          0.5677777777777779,
          0.5800000000000002,
          0.5710000000000002,
          0.5517460317460319,
          0.5516666666666669,
          0.5607246376811595,
          0.5669444444444446,
          0.5762666666666668,
          0.584871794871795,
          0.5854320987654322,
          0.5830952380952382,
          0.5891954022988508,
          0.5846666666666669,
          0.5916129032258067,
          0.5981250000000002,
          0.5981818181818185,
          0.6029411764705885,
          0.6028571428571432,
          0.6083333333333337,
          0.6059459459459463,
          0.6110526315789477,
          0.6094871794871798
         ],
         "yaxis": "y"
        },
        {
         "hovertemplate": "variable=Normalized Ridge Regression<br>Year=%{x}<br>value=%{y}<extra></extra>",
         "legendgroup": "Normalized Ridge Regression",
         "line": {
          "color": "#EF553B",
          "dash": "solid"
         },
         "marker": {
          "symbol": "circle"
         },
         "mode": "lines",
         "name": "Normalized Ridge Regression",
         "orientation": "v",
         "showlegend": true,
         "type": "scatter",
         "x": [
          1985,
          1986,
          1987,
          1988,
          1989,
          1990,
          1991,
          1992,
          1993,
          1994,
          1995,
          1996,
          1997,
          1998,
          1999,
          2000,
          2001,
          2002,
          2003,
          2004,
          2005,
          2006,
          2007,
          2008,
          2009,
          2010,
          2011,
          2012,
          2013,
          2014,
          2015,
          2016,
          2017,
          2018,
          2019,
          2020,
          2021,
          2022,
          2023
         ],
         "xaxis": "x",
         "y": [
          0.4,
          0.31666666666666665,
          0.41111111111111115,
          0.5583333333333333,
          0.5506666666666666,
          0.5455555555555556,
          0.5819047619047619,
          0.6091666666666666,
          0.6025925925925926,
          0.6133333333333333,
          0.6484848484848484,
          0.6377777777777777,
          0.6348717948717948,
          0.6288095238095238,
          0.6148888888888888,
          0.6139583333333333,
          0.6045098039215686,
          0.6103703703703702,
          0.630877192982456,
          0.6253333333333332,
          0.6092063492063491,
          0.6087878787878787,
          0.6153623188405796,
          0.6126388888888888,
          0.6281333333333332,
          0.6347435897435896,
          0.6334567901234567,
          0.6294047619047618,
          0.6283908045977011,
          0.6257777777777778,
          0.6313978494623657,
          0.6366666666666667,
          0.6355555555555557,
          0.63921568627451,
          0.6438095238095239,
          0.6481481481481484,
          0.6454954954954957,
          0.6495614035087721,
          0.6511111111111113
         ],
         "yaxis": "y"
        },
        {
         "hovertemplate": "variable=Normalized Ridge w/Voter Fatigue<br>Year=%{x}<br>value=%{y}<extra></extra>",
         "legendgroup": "Normalized Ridge w/Voter Fatigue",
         "line": {
          "color": "#00cc96",
          "dash": "solid"
         },
         "marker": {
          "symbol": "circle"
         },
         "mode": "lines",
         "name": "Normalized Ridge w/Voter Fatigue",
         "orientation": "v",
         "showlegend": true,
         "type": "scatter",
         "x": [
          1985,
          1986,
          1987,
          1988,
          1989,
          1990,
          1991,
          1992,
          1993,
          1994,
          1995,
          1996,
          1997,
          1998,
          1999,
          2000,
          2001,
          2002,
          2003,
          2004,
          2005,
          2006,
          2007,
          2008,
          2009,
          2010,
          2011,
          2012,
          2013,
          2014,
          2015,
          2016,
          2017,
          2018,
          2019,
          2020,
          2021,
          2022,
          2023
         ],
         "xaxis": "x",
         "y": [
          0.76,
          0.6066666666666667,
          0.5655555555555556,
          0.6141666666666667,
          0.5713333333333334,
          0.535,
          0.5504761904761905,
          0.5341666666666667,
          0.5359259259259259,
          0.5306666666666666,
          0.5296969696969697,
          0.5313888888888888,
          0.5366666666666666,
          0.5376190476190476,
          0.5151111111111111,
          0.5172916666666666,
          0.5033333333333332,
          0.48648148148148135,
          0.47771929824561393,
          0.4738333333333332,
          0.468095238095238,
          0.4543939393939393,
          0.46550724637681146,
          0.45444444444444426,
          0.4619999999999998,
          0.4557692307692306,
          0.45123456790123445,
          0.44583333333333325,
          0.44712643678160907,
          0.4455555555555554,
          0.4519354838709676,
          0.4628124999999999,
          0.4654545454545454,
          0.4679411764705882,
          0.4655238095238095,
          0.4748148148148148,
          0.47234234234234235,
          0.4692105263157894,
          0.46316239316239316
         ],
         "yaxis": "y"
        },
        {
         "hovertemplate": "variable=Random Forest Naive<br>Year=%{x}<br>value=%{y}<extra></extra>",
         "legendgroup": "Random Forest Naive",
         "line": {
          "color": "#ab63fa",
          "dash": "solid"
         },
         "marker": {
          "symbol": "circle"
         },
         "mode": "lines",
         "name": "Random Forest Naive",
         "orientation": "v",
         "showlegend": true,
         "type": "scatter",
         "x": [
          1985,
          1986,
          1987,
          1988,
          1989,
          1990,
          1991,
          1992,
          1993,
          1994,
          1995,
          1996,
          1997,
          1998,
          1999,
          2000,
          2001,
          2002,
          2003,
          2004,
          2005,
          2006,
          2007,
          2008,
          2009,
          2010,
          2011,
          2012,
          2013,
          2014,
          2015,
          2016,
          2017,
          2018,
          2019,
          2020,
          2021,
          2022,
          2023
         ],
         "xaxis": "x",
         "y": [
          0.4533333333333333,
          0.42666666666666664,
          0.5511111111111111,
          0.6033333333333333,
          0.5926666666666666,
          0.5855555555555555,
          0.6161904761904761,
          0.6195833333333333,
          0.6174074074074073,
          0.6556666666666666,
          0.6506060606060605,
          0.6463888888888888,
          0.6428205128205128,
          0.6476190476190476,
          0.6411111111111112,
          0.6454166666666667,
          0.64921568627451,
          0.6437037037037039,
          0.6436842105263159,
          0.6315000000000002,
          0.6076190476190477,
          0.6163636363636366,
          0.622608695652174,
          0.6300000000000002,
          0.6448000000000002,
          0.650769230769231,
          0.6470370370370373,
          0.6510714285714289,
          0.6548275862068969,
          0.6463333333333335,
          0.6483870967741938,
          0.6593750000000003,
          0.6551515151515154,
          0.6594117647058826,
          0.6634285714285717,
          0.6672222222222225,
          0.6683783783783787,
          0.6718421052631582,
          0.6741025641025644
         ],
         "yaxis": "y"
        },
        {
         "hovertemplate": "variable=Random Forest Normalized<br>Year=%{x}<br>value=%{y}<extra></extra>",
         "legendgroup": "Random Forest Normalized",
         "line": {
          "color": "#FFA15A",
          "dash": "solid"
         },
         "marker": {
          "symbol": "circle"
         },
         "mode": "lines",
         "name": "Random Forest Normalized",
         "orientation": "v",
         "showlegend": true,
         "type": "scatter",
         "x": [
          1985,
          1986,
          1987,
          1988,
          1989,
          1990,
          1991,
          1992,
          1993,
          1994,
          1995,
          1996,
          1997,
          1998,
          1999,
          2000,
          2001,
          2002,
          2003,
          2004,
          2005,
          2006,
          2007,
          2008,
          2009,
          2010,
          2011,
          2012,
          2013,
          2014,
          2015,
          2016,
          2017,
          2018,
          2019,
          2020,
          2021,
          2022,
          2023
         ],
         "xaxis": "x",
         "y": [
          0.4533333333333333,
          0.42666666666666664,
          0.5511111111111111,
          0.6033333333333333,
          0.5926666666666666,
          0.6122222222222221,
          0.639047619047619,
          0.6341666666666665,
          0.6303703703703702,
          0.6473333333333332,
          0.6469696969696969,
          0.6388888888888887,
          0.6358974358974359,
          0.6411904761904762,
          0.6351111111111112,
          0.6397916666666668,
          0.64,
          0.6266666666666667,
          0.622280701754386,
          0.6186666666666667,
          0.5977777777777779,
          0.606969696969697,
          0.6240579710144928,
          0.6297222222222223,
          0.6445333333333335,
          0.6505128205128207,
          0.6467901234567903,
          0.6451190476190478,
          0.6435632183908049,
          0.6404444444444447,
          0.6426881720430111,
          0.653854166666667,
          0.650707070707071,
          0.6524509803921572,
          0.6452380952380955,
          0.6439814814814818,
          0.6414414414414418,
          0.6456140350877196,
          0.6485470085470089
         ],
         "yaxis": "y"
        },
        {
         "hovertemplate": "variable=Random Forest w/Voter Fatigue<br>Year=%{x}<br>value=%{y}<extra></extra>",
         "legendgroup": "Random Forest w/Voter Fatigue",
         "line": {
          "color": "#19d3f3",
          "dash": "solid"
         },
         "marker": {
          "symbol": "circle"
         },
         "mode": "lines",
         "name": "Random Forest w/Voter Fatigue",
         "orientation": "v",
         "showlegend": true,
         "type": "scatter",
         "x": [
          1985,
          1986,
          1987,
          1988,
          1989,
          1990,
          1991,
          1992,
          1993,
          1994,
          1995,
          1996,
          1997,
          1998,
          1999,
          2000,
          2001,
          2002,
          2003,
          2004,
          2005,
          2006,
          2007,
          2008,
          2009,
          2010,
          2011,
          2012,
          2013,
          2014,
          2015,
          2016,
          2017,
          2018,
          2019,
          2020,
          2021,
          2022,
          2023
         ],
         "xaxis": "x",
         "y": [
          0.4533333333333333,
          0.42666666666666664,
          0.5511111111111111,
          0.6033333333333333,
          0.5926666666666666,
          0.5855555555555555,
          0.6161904761904761,
          0.6195833333333333,
          0.6174074074074073,
          0.6556666666666666,
          0.6506060606060605,
          0.6463888888888888,
          0.6428205128205128,
          0.6476190476190476,
          0.6411111111111112,
          0.6454166666666667,
          0.6452941176470589,
          0.6427777777777778,
          0.6428070175438596,
          0.6306666666666667,
          0.6068253968253968,
          0.6156060606060607,
          0.6236231884057972,
          0.6393055555555557,
          0.6537333333333334,
          0.6593589743589744,
          0.6553086419753087,
          0.6533333333333334,
          0.6570114942528738,
          0.6484444444444446,
          0.6504301075268819,
          0.6613541666666668,
          0.6570707070707071,
          0.6612745098039217,
          0.6640952380952383,
          0.6678703703703706,
          0.6690090090090092,
          0.6724561403508774,
          0.674700854700855
         ],
         "yaxis": "y"
        },
        {
         "hovertemplate": "variable=Linear Regression w/Voter Fatigue<br>Year=%{x}<br>value=%{y}<extra></extra>",
         "legendgroup": "Linear Regression w/Voter Fatigue",
         "line": {
          "color": "#FF6692",
          "dash": "solid"
         },
         "marker": {
          "symbol": "circle"
         },
         "mode": "lines",
         "name": "Linear Regression w/Voter Fatigue",
         "orientation": "v",
         "showlegend": true,
         "type": "scatter",
         "x": [
          1985,
          1986,
          1987,
          1988,
          1989,
          1990,
          1991,
          1992,
          1993,
          1994,
          1995,
          1996,
          1997,
          1998,
          1999,
          2000,
          2001,
          2002,
          2003,
          2004,
          2005,
          2006,
          2007,
          2008,
          2009,
          2010,
          2011,
          2012,
          2013,
          2014,
          2015,
          2016,
          2017,
          2018,
          2019,
          2020,
          2021,
          2022,
          2023
         ],
         "xaxis": "x",
         "y": [
          0.76,
          0.6066666666666667,
          0.5655555555555556,
          0.6141666666666667,
          0.5713333333333334,
          0.5666666666666668,
          0.5776190476190477,
          0.5658333333333334,
          0.5640740740740742,
          0.556,
          0.5527272727272727,
          0.5525,
          0.5561538461538461,
          0.545,
          0.5273333333333333,
          0.52875,
          0.5141176470588236,
          0.49666666666666665,
          0.48736842105263156,
          0.483,
          0.4768253968253968,
          0.46424242424242423,
          0.474927536231884,
          0.4634722222222221,
          0.47066666666666657,
          0.464102564102564,
          0.4592592592592592,
          0.45357142857142857,
          0.4545977011494252,
          0.4527777777777777,
          0.45892473118279564,
          0.4695833333333333,
          0.472020202020202,
          0.474313725490196,
          0.47171428571428564,
          0.4808333333333333,
          0.47819819819819814,
          0.4749122807017543,
          0.46871794871794864
         ],
         "yaxis": "y"
        }
       ],
       "layout": {
        "legend": {
         "title": {
          "text": "variable"
         },
         "tracegroupgap": 0
        },
        "margin": {
         "t": 60
        },
        "template": {
         "data": {
          "bar": [
           {
            "error_x": {
             "color": "#2a3f5f"
            },
            "error_y": {
             "color": "#2a3f5f"
            },
            "marker": {
             "line": {
              "color": "#E5ECF6",
              "width": 0.5
             },
             "pattern": {
              "fillmode": "overlay",
              "size": 10,
              "solidity": 0.2
             }
            },
            "type": "bar"
           }
          ],
          "barpolar": [
           {
            "marker": {
             "line": {
              "color": "#E5ECF6",
              "width": 0.5
             },
             "pattern": {
              "fillmode": "overlay",
              "size": 10,
              "solidity": 0.2
             }
            },
            "type": "barpolar"
           }
          ],
          "carpet": [
           {
            "aaxis": {
             "endlinecolor": "#2a3f5f",
             "gridcolor": "white",
             "linecolor": "white",
             "minorgridcolor": "white",
             "startlinecolor": "#2a3f5f"
            },
            "baxis": {
             "endlinecolor": "#2a3f5f",
             "gridcolor": "white",
             "linecolor": "white",
             "minorgridcolor": "white",
             "startlinecolor": "#2a3f5f"
            },
            "type": "carpet"
           }
          ],
          "choropleth": [
           {
            "colorbar": {
             "outlinewidth": 0,
             "ticks": ""
            },
            "type": "choropleth"
           }
          ],
          "contour": [
           {
            "colorbar": {
             "outlinewidth": 0,
             "ticks": ""
            },
            "colorscale": [
             [
              0,
              "#0d0887"
             ],
             [
              0.1111111111111111,
              "#46039f"
             ],
             [
              0.2222222222222222,
              "#7201a8"
             ],
             [
              0.3333333333333333,
              "#9c179e"
             ],
             [
              0.4444444444444444,
              "#bd3786"
             ],
             [
              0.5555555555555556,
              "#d8576b"
             ],
             [
              0.6666666666666666,
              "#ed7953"
             ],
             [
              0.7777777777777778,
              "#fb9f3a"
             ],
             [
              0.8888888888888888,
              "#fdca26"
             ],
             [
              1,
              "#f0f921"
             ]
            ],
            "type": "contour"
           }
          ],
          "contourcarpet": [
           {
            "colorbar": {
             "outlinewidth": 0,
             "ticks": ""
            },
            "type": "contourcarpet"
           }
          ],
          "heatmap": [
           {
            "colorbar": {
             "outlinewidth": 0,
             "ticks": ""
            },
            "colorscale": [
             [
              0,
              "#0d0887"
             ],
             [
              0.1111111111111111,
              "#46039f"
             ],
             [
              0.2222222222222222,
              "#7201a8"
             ],
             [
              0.3333333333333333,
              "#9c179e"
             ],
             [
              0.4444444444444444,
              "#bd3786"
             ],
             [
              0.5555555555555556,
              "#d8576b"
             ],
             [
              0.6666666666666666,
              "#ed7953"
             ],
             [
              0.7777777777777778,
              "#fb9f3a"
             ],
             [
              0.8888888888888888,
              "#fdca26"
             ],
             [
              1,
              "#f0f921"
             ]
            ],
            "type": "heatmap"
           }
          ],
          "heatmapgl": [
           {
            "colorbar": {
             "outlinewidth": 0,
             "ticks": ""
            },
            "colorscale": [
             [
              0,
              "#0d0887"
             ],
             [
              0.1111111111111111,
              "#46039f"
             ],
             [
              0.2222222222222222,
              "#7201a8"
             ],
             [
              0.3333333333333333,
              "#9c179e"
             ],
             [
              0.4444444444444444,
              "#bd3786"
             ],
             [
              0.5555555555555556,
              "#d8576b"
             ],
             [
              0.6666666666666666,
              "#ed7953"
             ],
             [
              0.7777777777777778,
              "#fb9f3a"
             ],
             [
              0.8888888888888888,
              "#fdca26"
             ],
             [
              1,
              "#f0f921"
             ]
            ],
            "type": "heatmapgl"
           }
          ],
          "histogram": [
           {
            "marker": {
             "pattern": {
              "fillmode": "overlay",
              "size": 10,
              "solidity": 0.2
             }
            },
            "type": "histogram"
           }
          ],
          "histogram2d": [
           {
            "colorbar": {
             "outlinewidth": 0,
             "ticks": ""
            },
            "colorscale": [
             [
              0,
              "#0d0887"
             ],
             [
              0.1111111111111111,
              "#46039f"
             ],
             [
              0.2222222222222222,
              "#7201a8"
             ],
             [
              0.3333333333333333,
              "#9c179e"
             ],
             [
              0.4444444444444444,
              "#bd3786"
             ],
             [
              0.5555555555555556,
              "#d8576b"
             ],
             [
              0.6666666666666666,
              "#ed7953"
             ],
             [
              0.7777777777777778,
              "#fb9f3a"
             ],
             [
              0.8888888888888888,
              "#fdca26"
             ],
             [
              1,
              "#f0f921"
             ]
            ],
            "type": "histogram2d"
           }
          ],
          "histogram2dcontour": [
           {
            "colorbar": {
             "outlinewidth": 0,
             "ticks": ""
            },
            "colorscale": [
             [
              0,
              "#0d0887"
             ],
             [
              0.1111111111111111,
              "#46039f"
             ],
             [
              0.2222222222222222,
              "#7201a8"
             ],
             [
              0.3333333333333333,
              "#9c179e"
             ],
             [
              0.4444444444444444,
              "#bd3786"
             ],
             [
              0.5555555555555556,
              "#d8576b"
             ],
             [
              0.6666666666666666,
              "#ed7953"
             ],
             [
              0.7777777777777778,
              "#fb9f3a"
             ],
             [
              0.8888888888888888,
              "#fdca26"
             ],
             [
              1,
              "#f0f921"
             ]
            ],
            "type": "histogram2dcontour"
           }
          ],
          "mesh3d": [
           {
            "colorbar": {
             "outlinewidth": 0,
             "ticks": ""
            },
            "type": "mesh3d"
           }
          ],
          "parcoords": [
           {
            "line": {
             "colorbar": {
              "outlinewidth": 0,
              "ticks": ""
             }
            },
            "type": "parcoords"
           }
          ],
          "pie": [
           {
            "automargin": true,
            "type": "pie"
           }
          ],
          "scatter": [
           {
            "fillpattern": {
             "fillmode": "overlay",
             "size": 10,
             "solidity": 0.2
            },
            "type": "scatter"
           }
          ],
          "scatter3d": [
           {
            "line": {
             "colorbar": {
              "outlinewidth": 0,
              "ticks": ""
             }
            },
            "marker": {
             "colorbar": {
              "outlinewidth": 0,
              "ticks": ""
             }
            },
            "type": "scatter3d"
           }
          ],
          "scattercarpet": [
           {
            "marker": {
             "colorbar": {
              "outlinewidth": 0,
              "ticks": ""
             }
            },
            "type": "scattercarpet"
           }
          ],
          "scattergeo": [
           {
            "marker": {
             "colorbar": {
              "outlinewidth": 0,
              "ticks": ""
             }
            },
            "type": "scattergeo"
           }
          ],
          "scattergl": [
           {
            "marker": {
             "colorbar": {
              "outlinewidth": 0,
              "ticks": ""
             }
            },
            "type": "scattergl"
           }
          ],
          "scattermapbox": [
           {
            "marker": {
             "colorbar": {
              "outlinewidth": 0,
              "ticks": ""
             }
            },
            "type": "scattermapbox"
           }
          ],
          "scatterpolar": [
           {
            "marker": {
             "colorbar": {
              "outlinewidth": 0,
              "ticks": ""
             }
            },
            "type": "scatterpolar"
           }
          ],
          "scatterpolargl": [
           {
            "marker": {
             "colorbar": {
              "outlinewidth": 0,
              "ticks": ""
             }
            },
            "type": "scatterpolargl"
           }
          ],
          "scatterternary": [
           {
            "marker": {
             "colorbar": {
              "outlinewidth": 0,
              "ticks": ""
             }
            },
            "type": "scatterternary"
           }
          ],
          "surface": [
           {
            "colorbar": {
             "outlinewidth": 0,
             "ticks": ""
            },
            "colorscale": [
             [
              0,
              "#0d0887"
             ],
             [
              0.1111111111111111,
              "#46039f"
             ],
             [
              0.2222222222222222,
              "#7201a8"
             ],
             [
              0.3333333333333333,
              "#9c179e"
             ],
             [
              0.4444444444444444,
              "#bd3786"
             ],
             [
              0.5555555555555556,
              "#d8576b"
             ],
             [
              0.6666666666666666,
              "#ed7953"
             ],
             [
              0.7777777777777778,
              "#fb9f3a"
             ],
             [
              0.8888888888888888,
              "#fdca26"
             ],
             [
              1,
              "#f0f921"
             ]
            ],
            "type": "surface"
           }
          ],
          "table": [
           {
            "cells": {
             "fill": {
              "color": "#EBF0F8"
             },
             "line": {
              "color": "white"
             }
            },
            "header": {
             "fill": {
              "color": "#C8D4E3"
             },
             "line": {
              "color": "white"
             }
            },
            "type": "table"
           }
          ]
         },
         "layout": {
          "annotationdefaults": {
           "arrowcolor": "#2a3f5f",
           "arrowhead": 0,
           "arrowwidth": 1
          },
          "autotypenumbers": "strict",
          "coloraxis": {
           "colorbar": {
            "outlinewidth": 0,
            "ticks": ""
           }
          },
          "colorscale": {
           "diverging": [
            [
             0,
             "#8e0152"
            ],
            [
             0.1,
             "#c51b7d"
            ],
            [
             0.2,
             "#de77ae"
            ],
            [
             0.3,
             "#f1b6da"
            ],
            [
             0.4,
             "#fde0ef"
            ],
            [
             0.5,
             "#f7f7f7"
            ],
            [
             0.6,
             "#e6f5d0"
            ],
            [
             0.7,
             "#b8e186"
            ],
            [
             0.8,
             "#7fbc41"
            ],
            [
             0.9,
             "#4d9221"
            ],
            [
             1,
             "#276419"
            ]
           ],
           "sequential": [
            [
             0,
             "#0d0887"
            ],
            [
             0.1111111111111111,
             "#46039f"
            ],
            [
             0.2222222222222222,
             "#7201a8"
            ],
            [
             0.3333333333333333,
             "#9c179e"
            ],
            [
             0.4444444444444444,
             "#bd3786"
            ],
            [
             0.5555555555555556,
             "#d8576b"
            ],
            [
             0.6666666666666666,
             "#ed7953"
            ],
            [
             0.7777777777777778,
             "#fb9f3a"
            ],
            [
             0.8888888888888888,
             "#fdca26"
            ],
            [
             1,
             "#f0f921"
            ]
           ],
           "sequentialminus": [
            [
             0,
             "#0d0887"
            ],
            [
             0.1111111111111111,
             "#46039f"
            ],
            [
             0.2222222222222222,
             "#7201a8"
            ],
            [
             0.3333333333333333,
             "#9c179e"
            ],
            [
             0.4444444444444444,
             "#bd3786"
            ],
            [
             0.5555555555555556,
             "#d8576b"
            ],
            [
             0.6666666666666666,
             "#ed7953"
            ],
            [
             0.7777777777777778,
             "#fb9f3a"
            ],
            [
             0.8888888888888888,
             "#fdca26"
            ],
            [
             1,
             "#f0f921"
            ]
           ]
          },
          "colorway": [
           "#636efa",
           "#EF553B",
           "#00cc96",
           "#ab63fa",
           "#FFA15A",
           "#19d3f3",
           "#FF6692",
           "#B6E880",
           "#FF97FF",
           "#FECB52"
          ],
          "font": {
           "color": "#2a3f5f"
          },
          "geo": {
           "bgcolor": "white",
           "lakecolor": "white",
           "landcolor": "#E5ECF6",
           "showlakes": true,
           "showland": true,
           "subunitcolor": "white"
          },
          "hoverlabel": {
           "align": "left"
          },
          "hovermode": "closest",
          "mapbox": {
           "style": "light"
          },
          "paper_bgcolor": "white",
          "plot_bgcolor": "#E5ECF6",
          "polar": {
           "angularaxis": {
            "gridcolor": "white",
            "linecolor": "white",
            "ticks": ""
           },
           "bgcolor": "#E5ECF6",
           "radialaxis": {
            "gridcolor": "white",
            "linecolor": "white",
            "ticks": ""
           }
          },
          "scene": {
           "xaxis": {
            "backgroundcolor": "#E5ECF6",
            "gridcolor": "white",
            "gridwidth": 2,
            "linecolor": "white",
            "showbackground": true,
            "ticks": "",
            "zerolinecolor": "white"
           },
           "yaxis": {
            "backgroundcolor": "#E5ECF6",
            "gridcolor": "white",
            "gridwidth": 2,
            "linecolor": "white",
            "showbackground": true,
            "ticks": "",
            "zerolinecolor": "white"
           },
           "zaxis": {
            "backgroundcolor": "#E5ECF6",
            "gridcolor": "white",
            "gridwidth": 2,
            "linecolor": "white",
            "showbackground": true,
            "ticks": "",
            "zerolinecolor": "white"
           }
          },
          "shapedefaults": {
           "line": {
            "color": "#2a3f5f"
           }
          },
          "ternary": {
           "aaxis": {
            "gridcolor": "white",
            "linecolor": "white",
            "ticks": ""
           },
           "baxis": {
            "gridcolor": "white",
            "linecolor": "white",
            "ticks": ""
           },
           "bgcolor": "#E5ECF6",
           "caxis": {
            "gridcolor": "white",
            "linecolor": "white",
            "ticks": ""
           }
          },
          "title": {
           "x": 0.05
          },
          "xaxis": {
           "automargin": true,
           "gridcolor": "white",
           "linecolor": "white",
           "ticks": "",
           "title": {
            "standoff": 15
           },
           "zerolinecolor": "white",
           "zerolinewidth": 2
          },
          "yaxis": {
           "automargin": true,
           "gridcolor": "white",
           "linecolor": "white",
           "ticks": "",
           "title": {
            "standoff": 15
           },
           "zerolinecolor": "white",
           "zerolinewidth": 2
          }
         }
        },
        "xaxis": {
         "anchor": "y",
         "domain": [
          0,
          1
         ],
         "title": {
          "text": "Year"
         }
        },
        "yaxis": {
         "anchor": "x",
         "domain": [
          0,
          1
         ],
         "title": {
          "text": "value"
         }
        }
       }
      },
      "text/html": [
       "<div>                            <div id=\"2627ee00-b54b-47de-a2ce-1714d69cd24e\" class=\"plotly-graph-div\" style=\"height:525px; width:100%;\"></div>            <script type=\"text/javascript\">                require([\"plotly\"], function(Plotly) {                    window.PLOTLYENV=window.PLOTLYENV || {};                                    if (document.getElementById(\"2627ee00-b54b-47de-a2ce-1714d69cd24e\")) {                    Plotly.newPlot(                        \"2627ee00-b54b-47de-a2ce-1714d69cd24e\",                        [{\"hovertemplate\":\"variable=Ridge Regression<br>Year=%{x}<br>value=%{y}<extra></extra>\",\"legendgroup\":\"Ridge Regression\",\"line\":{\"color\":\"#636efa\",\"dash\":\"solid\"},\"marker\":{\"symbol\":\"circle\"},\"mode\":\"lines\",\"name\":\"Ridge Regression\",\"orientation\":\"v\",\"showlegend\":true,\"x\":[1985,1986,1987,1988,1989,1990,1991,1992,1993,1994,1995,1996,1997,1998,1999,2000,2001,2002,2003,2004,2005,2006,2007,2008,2009,2010,2011,2012,2013,2014,2015,2016,2017,2018,2019,2020,2021,2022,2023],\"xaxis\":\"x\",\"y\":[0.3333333333333333,0.3333333333333333,0.47555555555555556,0.5566666666666666,0.5253333333333333,0.5294444444444445,0.5680952380952381,0.5575,0.5622222222222222,0.577,0.5972727272727272,0.5908333333333333,0.6038461538461538,0.6,0.5800000000000001,0.5781250000000001,0.5688235294117648,0.5677777777777779,0.5800000000000002,0.5710000000000002,0.5517460317460319,0.5516666666666669,0.5607246376811595,0.5669444444444446,0.5762666666666668,0.584871794871795,0.5854320987654322,0.5830952380952382,0.5891954022988508,0.5846666666666669,0.5916129032258067,0.5981250000000002,0.5981818181818185,0.6029411764705885,0.6028571428571432,0.6083333333333337,0.6059459459459463,0.6110526315789477,0.6094871794871798],\"yaxis\":\"y\",\"type\":\"scatter\"},{\"hovertemplate\":\"variable=Normalized Ridge Regression<br>Year=%{x}<br>value=%{y}<extra></extra>\",\"legendgroup\":\"Normalized Ridge Regression\",\"line\":{\"color\":\"#EF553B\",\"dash\":\"solid\"},\"marker\":{\"symbol\":\"circle\"},\"mode\":\"lines\",\"name\":\"Normalized Ridge Regression\",\"orientation\":\"v\",\"showlegend\":true,\"x\":[1985,1986,1987,1988,1989,1990,1991,1992,1993,1994,1995,1996,1997,1998,1999,2000,2001,2002,2003,2004,2005,2006,2007,2008,2009,2010,2011,2012,2013,2014,2015,2016,2017,2018,2019,2020,2021,2022,2023],\"xaxis\":\"x\",\"y\":[0.4,0.31666666666666665,0.41111111111111115,0.5583333333333333,0.5506666666666666,0.5455555555555556,0.5819047619047619,0.6091666666666666,0.6025925925925926,0.6133333333333333,0.6484848484848484,0.6377777777777777,0.6348717948717948,0.6288095238095238,0.6148888888888888,0.6139583333333333,0.6045098039215686,0.6103703703703702,0.630877192982456,0.6253333333333332,0.6092063492063491,0.6087878787878787,0.6153623188405796,0.6126388888888888,0.6281333333333332,0.6347435897435896,0.6334567901234567,0.6294047619047618,0.6283908045977011,0.6257777777777778,0.6313978494623657,0.6366666666666667,0.6355555555555557,0.63921568627451,0.6438095238095239,0.6481481481481484,0.6454954954954957,0.6495614035087721,0.6511111111111113],\"yaxis\":\"y\",\"type\":\"scatter\"},{\"hovertemplate\":\"variable=Normalized Ridge w/Voter Fatigue<br>Year=%{x}<br>value=%{y}<extra></extra>\",\"legendgroup\":\"Normalized Ridge w/Voter Fatigue\",\"line\":{\"color\":\"#00cc96\",\"dash\":\"solid\"},\"marker\":{\"symbol\":\"circle\"},\"mode\":\"lines\",\"name\":\"Normalized Ridge w/Voter Fatigue\",\"orientation\":\"v\",\"showlegend\":true,\"x\":[1985,1986,1987,1988,1989,1990,1991,1992,1993,1994,1995,1996,1997,1998,1999,2000,2001,2002,2003,2004,2005,2006,2007,2008,2009,2010,2011,2012,2013,2014,2015,2016,2017,2018,2019,2020,2021,2022,2023],\"xaxis\":\"x\",\"y\":[0.76,0.6066666666666667,0.5655555555555556,0.6141666666666667,0.5713333333333334,0.535,0.5504761904761905,0.5341666666666667,0.5359259259259259,0.5306666666666666,0.5296969696969697,0.5313888888888888,0.5366666666666666,0.5376190476190476,0.5151111111111111,0.5172916666666666,0.5033333333333332,0.48648148148148135,0.47771929824561393,0.4738333333333332,0.468095238095238,0.4543939393939393,0.46550724637681146,0.45444444444444426,0.4619999999999998,0.4557692307692306,0.45123456790123445,0.44583333333333325,0.44712643678160907,0.4455555555555554,0.4519354838709676,0.4628124999999999,0.4654545454545454,0.4679411764705882,0.4655238095238095,0.4748148148148148,0.47234234234234235,0.4692105263157894,0.46316239316239316],\"yaxis\":\"y\",\"type\":\"scatter\"},{\"hovertemplate\":\"variable=Random Forest Naive<br>Year=%{x}<br>value=%{y}<extra></extra>\",\"legendgroup\":\"Random Forest Naive\",\"line\":{\"color\":\"#ab63fa\",\"dash\":\"solid\"},\"marker\":{\"symbol\":\"circle\"},\"mode\":\"lines\",\"name\":\"Random Forest Naive\",\"orientation\":\"v\",\"showlegend\":true,\"x\":[1985,1986,1987,1988,1989,1990,1991,1992,1993,1994,1995,1996,1997,1998,1999,2000,2001,2002,2003,2004,2005,2006,2007,2008,2009,2010,2011,2012,2013,2014,2015,2016,2017,2018,2019,2020,2021,2022,2023],\"xaxis\":\"x\",\"y\":[0.4533333333333333,0.42666666666666664,0.5511111111111111,0.6033333333333333,0.5926666666666666,0.5855555555555555,0.6161904761904761,0.6195833333333333,0.6174074074074073,0.6556666666666666,0.6506060606060605,0.6463888888888888,0.6428205128205128,0.6476190476190476,0.6411111111111112,0.6454166666666667,0.64921568627451,0.6437037037037039,0.6436842105263159,0.6315000000000002,0.6076190476190477,0.6163636363636366,0.622608695652174,0.6300000000000002,0.6448000000000002,0.650769230769231,0.6470370370370373,0.6510714285714289,0.6548275862068969,0.6463333333333335,0.6483870967741938,0.6593750000000003,0.6551515151515154,0.6594117647058826,0.6634285714285717,0.6672222222222225,0.6683783783783787,0.6718421052631582,0.6741025641025644],\"yaxis\":\"y\",\"type\":\"scatter\"},{\"hovertemplate\":\"variable=Random Forest Normalized<br>Year=%{x}<br>value=%{y}<extra></extra>\",\"legendgroup\":\"Random Forest Normalized\",\"line\":{\"color\":\"#FFA15A\",\"dash\":\"solid\"},\"marker\":{\"symbol\":\"circle\"},\"mode\":\"lines\",\"name\":\"Random Forest Normalized\",\"orientation\":\"v\",\"showlegend\":true,\"x\":[1985,1986,1987,1988,1989,1990,1991,1992,1993,1994,1995,1996,1997,1998,1999,2000,2001,2002,2003,2004,2005,2006,2007,2008,2009,2010,2011,2012,2013,2014,2015,2016,2017,2018,2019,2020,2021,2022,2023],\"xaxis\":\"x\",\"y\":[0.4533333333333333,0.42666666666666664,0.5511111111111111,0.6033333333333333,0.5926666666666666,0.6122222222222221,0.639047619047619,0.6341666666666665,0.6303703703703702,0.6473333333333332,0.6469696969696969,0.6388888888888887,0.6358974358974359,0.6411904761904762,0.6351111111111112,0.6397916666666668,0.64,0.6266666666666667,0.622280701754386,0.6186666666666667,0.5977777777777779,0.606969696969697,0.6240579710144928,0.6297222222222223,0.6445333333333335,0.6505128205128207,0.6467901234567903,0.6451190476190478,0.6435632183908049,0.6404444444444447,0.6426881720430111,0.653854166666667,0.650707070707071,0.6524509803921572,0.6452380952380955,0.6439814814814818,0.6414414414414418,0.6456140350877196,0.6485470085470089],\"yaxis\":\"y\",\"type\":\"scatter\"},{\"hovertemplate\":\"variable=Random Forest w/Voter Fatigue<br>Year=%{x}<br>value=%{y}<extra></extra>\",\"legendgroup\":\"Random Forest w/Voter Fatigue\",\"line\":{\"color\":\"#19d3f3\",\"dash\":\"solid\"},\"marker\":{\"symbol\":\"circle\"},\"mode\":\"lines\",\"name\":\"Random Forest w/Voter Fatigue\",\"orientation\":\"v\",\"showlegend\":true,\"x\":[1985,1986,1987,1988,1989,1990,1991,1992,1993,1994,1995,1996,1997,1998,1999,2000,2001,2002,2003,2004,2005,2006,2007,2008,2009,2010,2011,2012,2013,2014,2015,2016,2017,2018,2019,2020,2021,2022,2023],\"xaxis\":\"x\",\"y\":[0.4533333333333333,0.42666666666666664,0.5511111111111111,0.6033333333333333,0.5926666666666666,0.5855555555555555,0.6161904761904761,0.6195833333333333,0.6174074074074073,0.6556666666666666,0.6506060606060605,0.6463888888888888,0.6428205128205128,0.6476190476190476,0.6411111111111112,0.6454166666666667,0.6452941176470589,0.6427777777777778,0.6428070175438596,0.6306666666666667,0.6068253968253968,0.6156060606060607,0.6236231884057972,0.6393055555555557,0.6537333333333334,0.6593589743589744,0.6553086419753087,0.6533333333333334,0.6570114942528738,0.6484444444444446,0.6504301075268819,0.6613541666666668,0.6570707070707071,0.6612745098039217,0.6640952380952383,0.6678703703703706,0.6690090090090092,0.6724561403508774,0.674700854700855],\"yaxis\":\"y\",\"type\":\"scatter\"},{\"hovertemplate\":\"variable=Linear Regression w/Voter Fatigue<br>Year=%{x}<br>value=%{y}<extra></extra>\",\"legendgroup\":\"Linear Regression w/Voter Fatigue\",\"line\":{\"color\":\"#FF6692\",\"dash\":\"solid\"},\"marker\":{\"symbol\":\"circle\"},\"mode\":\"lines\",\"name\":\"Linear Regression w/Voter Fatigue\",\"orientation\":\"v\",\"showlegend\":true,\"x\":[1985,1986,1987,1988,1989,1990,1991,1992,1993,1994,1995,1996,1997,1998,1999,2000,2001,2002,2003,2004,2005,2006,2007,2008,2009,2010,2011,2012,2013,2014,2015,2016,2017,2018,2019,2020,2021,2022,2023],\"xaxis\":\"x\",\"y\":[0.76,0.6066666666666667,0.5655555555555556,0.6141666666666667,0.5713333333333334,0.5666666666666668,0.5776190476190477,0.5658333333333334,0.5640740740740742,0.556,0.5527272727272727,0.5525,0.5561538461538461,0.545,0.5273333333333333,0.52875,0.5141176470588236,0.49666666666666665,0.48736842105263156,0.483,0.4768253968253968,0.46424242424242423,0.474927536231884,0.4634722222222221,0.47066666666666657,0.464102564102564,0.4592592592592592,0.45357142857142857,0.4545977011494252,0.4527777777777777,0.45892473118279564,0.4695833333333333,0.472020202020202,0.474313725490196,0.47171428571428564,0.4808333333333333,0.47819819819819814,0.4749122807017543,0.46871794871794864],\"yaxis\":\"y\",\"type\":\"scatter\"}],                        {\"template\":{\"data\":{\"histogram2dcontour\":[{\"type\":\"histogram2dcontour\",\"colorbar\":{\"outlinewidth\":0,\"ticks\":\"\"},\"colorscale\":[[0.0,\"#0d0887\"],[0.1111111111111111,\"#46039f\"],[0.2222222222222222,\"#7201a8\"],[0.3333333333333333,\"#9c179e\"],[0.4444444444444444,\"#bd3786\"],[0.5555555555555556,\"#d8576b\"],[0.6666666666666666,\"#ed7953\"],[0.7777777777777778,\"#fb9f3a\"],[0.8888888888888888,\"#fdca26\"],[1.0,\"#f0f921\"]]}],\"choropleth\":[{\"type\":\"choropleth\",\"colorbar\":{\"outlinewidth\":0,\"ticks\":\"\"}}],\"histogram2d\":[{\"type\":\"histogram2d\",\"colorbar\":{\"outlinewidth\":0,\"ticks\":\"\"},\"colorscale\":[[0.0,\"#0d0887\"],[0.1111111111111111,\"#46039f\"],[0.2222222222222222,\"#7201a8\"],[0.3333333333333333,\"#9c179e\"],[0.4444444444444444,\"#bd3786\"],[0.5555555555555556,\"#d8576b\"],[0.6666666666666666,\"#ed7953\"],[0.7777777777777778,\"#fb9f3a\"],[0.8888888888888888,\"#fdca26\"],[1.0,\"#f0f921\"]]}],\"heatmap\":[{\"type\":\"heatmap\",\"colorbar\":{\"outlinewidth\":0,\"ticks\":\"\"},\"colorscale\":[[0.0,\"#0d0887\"],[0.1111111111111111,\"#46039f\"],[0.2222222222222222,\"#7201a8\"],[0.3333333333333333,\"#9c179e\"],[0.4444444444444444,\"#bd3786\"],[0.5555555555555556,\"#d8576b\"],[0.6666666666666666,\"#ed7953\"],[0.7777777777777778,\"#fb9f3a\"],[0.8888888888888888,\"#fdca26\"],[1.0,\"#f0f921\"]]}],\"heatmapgl\":[{\"type\":\"heatmapgl\",\"colorbar\":{\"outlinewidth\":0,\"ticks\":\"\"},\"colorscale\":[[0.0,\"#0d0887\"],[0.1111111111111111,\"#46039f\"],[0.2222222222222222,\"#7201a8\"],[0.3333333333333333,\"#9c179e\"],[0.4444444444444444,\"#bd3786\"],[0.5555555555555556,\"#d8576b\"],[0.6666666666666666,\"#ed7953\"],[0.7777777777777778,\"#fb9f3a\"],[0.8888888888888888,\"#fdca26\"],[1.0,\"#f0f921\"]]}],\"contourcarpet\":[{\"type\":\"contourcarpet\",\"colorbar\":{\"outlinewidth\":0,\"ticks\":\"\"}}],\"contour\":[{\"type\":\"contour\",\"colorbar\":{\"outlinewidth\":0,\"ticks\":\"\"},\"colorscale\":[[0.0,\"#0d0887\"],[0.1111111111111111,\"#46039f\"],[0.2222222222222222,\"#7201a8\"],[0.3333333333333333,\"#9c179e\"],[0.4444444444444444,\"#bd3786\"],[0.5555555555555556,\"#d8576b\"],[0.6666666666666666,\"#ed7953\"],[0.7777777777777778,\"#fb9f3a\"],[0.8888888888888888,\"#fdca26\"],[1.0,\"#f0f921\"]]}],\"surface\":[{\"type\":\"surface\",\"colorbar\":{\"outlinewidth\":0,\"ticks\":\"\"},\"colorscale\":[[0.0,\"#0d0887\"],[0.1111111111111111,\"#46039f\"],[0.2222222222222222,\"#7201a8\"],[0.3333333333333333,\"#9c179e\"],[0.4444444444444444,\"#bd3786\"],[0.5555555555555556,\"#d8576b\"],[0.6666666666666666,\"#ed7953\"],[0.7777777777777778,\"#fb9f3a\"],[0.8888888888888888,\"#fdca26\"],[1.0,\"#f0f921\"]]}],\"mesh3d\":[{\"type\":\"mesh3d\",\"colorbar\":{\"outlinewidth\":0,\"ticks\":\"\"}}],\"scatter\":[{\"fillpattern\":{\"fillmode\":\"overlay\",\"size\":10,\"solidity\":0.2},\"type\":\"scatter\"}],\"parcoords\":[{\"type\":\"parcoords\",\"line\":{\"colorbar\":{\"outlinewidth\":0,\"ticks\":\"\"}}}],\"scatterpolargl\":[{\"type\":\"scatterpolargl\",\"marker\":{\"colorbar\":{\"outlinewidth\":0,\"ticks\":\"\"}}}],\"bar\":[{\"error_x\":{\"color\":\"#2a3f5f\"},\"error_y\":{\"color\":\"#2a3f5f\"},\"marker\":{\"line\":{\"color\":\"#E5ECF6\",\"width\":0.5},\"pattern\":{\"fillmode\":\"overlay\",\"size\":10,\"solidity\":0.2}},\"type\":\"bar\"}],\"scattergeo\":[{\"type\":\"scattergeo\",\"marker\":{\"colorbar\":{\"outlinewidth\":0,\"ticks\":\"\"}}}],\"scatterpolar\":[{\"type\":\"scatterpolar\",\"marker\":{\"colorbar\":{\"outlinewidth\":0,\"ticks\":\"\"}}}],\"histogram\":[{\"marker\":{\"pattern\":{\"fillmode\":\"overlay\",\"size\":10,\"solidity\":0.2}},\"type\":\"histogram\"}],\"scattergl\":[{\"type\":\"scattergl\",\"marker\":{\"colorbar\":{\"outlinewidth\":0,\"ticks\":\"\"}}}],\"scatter3d\":[{\"type\":\"scatter3d\",\"line\":{\"colorbar\":{\"outlinewidth\":0,\"ticks\":\"\"}},\"marker\":{\"colorbar\":{\"outlinewidth\":0,\"ticks\":\"\"}}}],\"scattermapbox\":[{\"type\":\"scattermapbox\",\"marker\":{\"colorbar\":{\"outlinewidth\":0,\"ticks\":\"\"}}}],\"scatterternary\":[{\"type\":\"scatterternary\",\"marker\":{\"colorbar\":{\"outlinewidth\":0,\"ticks\":\"\"}}}],\"scattercarpet\":[{\"type\":\"scattercarpet\",\"marker\":{\"colorbar\":{\"outlinewidth\":0,\"ticks\":\"\"}}}],\"carpet\":[{\"aaxis\":{\"endlinecolor\":\"#2a3f5f\",\"gridcolor\":\"white\",\"linecolor\":\"white\",\"minorgridcolor\":\"white\",\"startlinecolor\":\"#2a3f5f\"},\"baxis\":{\"endlinecolor\":\"#2a3f5f\",\"gridcolor\":\"white\",\"linecolor\":\"white\",\"minorgridcolor\":\"white\",\"startlinecolor\":\"#2a3f5f\"},\"type\":\"carpet\"}],\"table\":[{\"cells\":{\"fill\":{\"color\":\"#EBF0F8\"},\"line\":{\"color\":\"white\"}},\"header\":{\"fill\":{\"color\":\"#C8D4E3\"},\"line\":{\"color\":\"white\"}},\"type\":\"table\"}],\"barpolar\":[{\"marker\":{\"line\":{\"color\":\"#E5ECF6\",\"width\":0.5},\"pattern\":{\"fillmode\":\"overlay\",\"size\":10,\"solidity\":0.2}},\"type\":\"barpolar\"}],\"pie\":[{\"automargin\":true,\"type\":\"pie\"}]},\"layout\":{\"autotypenumbers\":\"strict\",\"colorway\":[\"#636efa\",\"#EF553B\",\"#00cc96\",\"#ab63fa\",\"#FFA15A\",\"#19d3f3\",\"#FF6692\",\"#B6E880\",\"#FF97FF\",\"#FECB52\"],\"font\":{\"color\":\"#2a3f5f\"},\"hovermode\":\"closest\",\"hoverlabel\":{\"align\":\"left\"},\"paper_bgcolor\":\"white\",\"plot_bgcolor\":\"#E5ECF6\",\"polar\":{\"bgcolor\":\"#E5ECF6\",\"angularaxis\":{\"gridcolor\":\"white\",\"linecolor\":\"white\",\"ticks\":\"\"},\"radialaxis\":{\"gridcolor\":\"white\",\"linecolor\":\"white\",\"ticks\":\"\"}},\"ternary\":{\"bgcolor\":\"#E5ECF6\",\"aaxis\":{\"gridcolor\":\"white\",\"linecolor\":\"white\",\"ticks\":\"\"},\"baxis\":{\"gridcolor\":\"white\",\"linecolor\":\"white\",\"ticks\":\"\"},\"caxis\":{\"gridcolor\":\"white\",\"linecolor\":\"white\",\"ticks\":\"\"}},\"coloraxis\":{\"colorbar\":{\"outlinewidth\":0,\"ticks\":\"\"}},\"colorscale\":{\"sequential\":[[0.0,\"#0d0887\"],[0.1111111111111111,\"#46039f\"],[0.2222222222222222,\"#7201a8\"],[0.3333333333333333,\"#9c179e\"],[0.4444444444444444,\"#bd3786\"],[0.5555555555555556,\"#d8576b\"],[0.6666666666666666,\"#ed7953\"],[0.7777777777777778,\"#fb9f3a\"],[0.8888888888888888,\"#fdca26\"],[1.0,\"#f0f921\"]],\"sequentialminus\":[[0.0,\"#0d0887\"],[0.1111111111111111,\"#46039f\"],[0.2222222222222222,\"#7201a8\"],[0.3333333333333333,\"#9c179e\"],[0.4444444444444444,\"#bd3786\"],[0.5555555555555556,\"#d8576b\"],[0.6666666666666666,\"#ed7953\"],[0.7777777777777778,\"#fb9f3a\"],[0.8888888888888888,\"#fdca26\"],[1.0,\"#f0f921\"]],\"diverging\":[[0,\"#8e0152\"],[0.1,\"#c51b7d\"],[0.2,\"#de77ae\"],[0.3,\"#f1b6da\"],[0.4,\"#fde0ef\"],[0.5,\"#f7f7f7\"],[0.6,\"#e6f5d0\"],[0.7,\"#b8e186\"],[0.8,\"#7fbc41\"],[0.9,\"#4d9221\"],[1,\"#276419\"]]},\"xaxis\":{\"gridcolor\":\"white\",\"linecolor\":\"white\",\"ticks\":\"\",\"title\":{\"standoff\":15},\"zerolinecolor\":\"white\",\"automargin\":true,\"zerolinewidth\":2},\"yaxis\":{\"gridcolor\":\"white\",\"linecolor\":\"white\",\"ticks\":\"\",\"title\":{\"standoff\":15},\"zerolinecolor\":\"white\",\"automargin\":true,\"zerolinewidth\":2},\"scene\":{\"xaxis\":{\"backgroundcolor\":\"#E5ECF6\",\"gridcolor\":\"white\",\"linecolor\":\"white\",\"showbackground\":true,\"ticks\":\"\",\"zerolinecolor\":\"white\",\"gridwidth\":2},\"yaxis\":{\"backgroundcolor\":\"#E5ECF6\",\"gridcolor\":\"white\",\"linecolor\":\"white\",\"showbackground\":true,\"ticks\":\"\",\"zerolinecolor\":\"white\",\"gridwidth\":2},\"zaxis\":{\"backgroundcolor\":\"#E5ECF6\",\"gridcolor\":\"white\",\"linecolor\":\"white\",\"showbackground\":true,\"ticks\":\"\",\"zerolinecolor\":\"white\",\"gridwidth\":2}},\"shapedefaults\":{\"line\":{\"color\":\"#2a3f5f\"}},\"annotationdefaults\":{\"arrowcolor\":\"#2a3f5f\",\"arrowhead\":0,\"arrowwidth\":1},\"geo\":{\"bgcolor\":\"white\",\"landcolor\":\"#E5ECF6\",\"subunitcolor\":\"white\",\"showland\":true,\"showlakes\":true,\"lakecolor\":\"white\"},\"title\":{\"x\":0.05},\"mapbox\":{\"style\":\"light\"}}},\"xaxis\":{\"anchor\":\"y\",\"domain\":[0.0,1.0],\"title\":{\"text\":\"Year\"}},\"yaxis\":{\"anchor\":\"x\",\"domain\":[0.0,1.0],\"title\":{\"text\":\"value\"}},\"legend\":{\"title\":{\"text\":\"variable\"},\"tracegroupgap\":0},\"margin\":{\"t\":60}},                        {\"responsive\": true}                    ).then(function(){\n",
       "                            \n",
       "var gd = document.getElementById('2627ee00-b54b-47de-a2ce-1714d69cd24e');\n",
       "var x = new MutationObserver(function (mutations, observer) {{\n",
       "        var display = window.getComputedStyle(gd).display;\n",
       "        if (!display || display === 'none') {{\n",
       "            console.log([gd, 'removed!']);\n",
       "            Plotly.purge(gd);\n",
       "            observer.disconnect();\n",
       "        }}\n",
       "}});\n",
       "\n",
       "// Listen for the removal of the full notebook cells\n",
       "var notebookContainer = gd.closest('#notebook-container');\n",
       "if (notebookContainer) {{\n",
       "    x.observe(notebookContainer, {childList: true});\n",
       "}}\n",
       "\n",
       "// Listen for the clearing of the current output cell\n",
       "var outputEl = gd.closest('.output');\n",
       "if (outputEl) {{\n",
       "    x.observe(outputEl, {childList: true});\n",
       "}}\n",
       "\n",
       "                        })                };                });            </script>        </div>"
      ]
     },
     "metadata": {},
     "output_type": "display_data"
    }
   ],
   "source": [
    "apk_fig = px.line(graphing_results_apk_df, x='Year', y=graphing_results_apk_df.columns[1:8])\n",
    "apk_fig"
   ]
  },
  {
   "cell_type": "code",
   "execution_count": null,
   "id": "ec1b51c0",
   "metadata": {},
   "outputs": [],
   "source": []
  },
  {
   "cell_type": "code",
   "execution_count": null,
   "id": "25f81256",
   "metadata": {},
   "outputs": [],
   "source": []
  },
  {
   "cell_type": "code",
   "execution_count": 695,
   "id": "44a66f57",
   "metadata": {},
   "outputs": [],
   "source": [
    "all_results_data = {\"Average Mean Square Error Top 10\": [avg_mse, normalized_avg_mse, avg_mse_n_vf, avg_mse_rf, avg_mse_rf_n, avg_mse_rf_votefatigue, avg_mse_lr_votefatigue, avg_mse_xgb_vf, avg_mse_xgb, avg_mse_nn, avg_mse_nn_vf, avg_mse_en],\n",
    "                    \"Mean Square Error Top 5\": mse_top_5,\n",
    "                    \"Mean Square Error Top 5 Past 10 Years\": mse_top_5_past_10_years,\n",
    "                    \"Mean Average Precision at k = 5\": [avg_apk, normalized_avg_apk, avg_apk_n_vf, avg_apk_rf, avg_apk_rf_n, avg_apk_rf_votefatigue, avg_apk_lr_votefatigue, avg_apk_xgb_vf, avg_apk_xgb, avg_apk_nn, avg_apk_nn_vf, avg_apk_en], \n",
    "                    \"Mean Average Precision at k = 3\": apk_3_all_years, \"MAP (k=3) since 2000\": apk_3_since_2000,\n",
    "                    \"MAP (k=3) past 5 years\":apk_3_past_5_years, \"MAP (k=3) past 10 years\":apk_3_past_10_years,\n",
    "                    \"Overall Accuracy\": accuracy_all_years, \"Accuracy since 2000\": accuracy_since_2000,\n",
    "                    \"Accuracy past 5 years\": accuracy_past_5_years, \"Accuracy past 10 years\": accuracy_past_10_years}"
   ]
  },
  {
   "cell_type": "code",
   "execution_count": 696,
   "id": "f8db54a4",
   "metadata": {},
   "outputs": [],
   "source": [
    "ensemble_model_df = pd.DataFrame(data=all_results_data, index=model_cols_without_year) "
   ]
  },
  {
   "cell_type": "code",
   "execution_count": 697,
   "id": "4e4cf425",
   "metadata": {},
   "outputs": [
    {
     "data": {
      "text/html": [
       "<div>\n",
       "<style scoped>\n",
       "    .dataframe tbody tr th:only-of-type {\n",
       "        vertical-align: middle;\n",
       "    }\n",
       "\n",
       "    .dataframe tbody tr th {\n",
       "        vertical-align: top;\n",
       "    }\n",
       "\n",
       "    .dataframe thead th {\n",
       "        text-align: right;\n",
       "    }\n",
       "</style>\n",
       "<table border=\"1\" class=\"dataframe\">\n",
       "  <thead>\n",
       "    <tr style=\"text-align: right;\">\n",
       "      <th></th>\n",
       "      <th>Average Mean Square Error Top 10</th>\n",
       "      <th>Mean Square Error Top 5</th>\n",
       "      <th>Mean Square Error Top 5 Past 10 Years</th>\n",
       "      <th>Mean Average Precision at k = 5</th>\n",
       "      <th>Mean Average Precision at k = 3</th>\n",
       "      <th>MAP (k=3) since 2000</th>\n",
       "      <th>MAP (k=3) past 5 years</th>\n",
       "      <th>MAP (k=3) past 10 years</th>\n",
       "      <th>Overall Accuracy</th>\n",
       "      <th>Accuracy since 2000</th>\n",
       "      <th>Accuracy past 5 years</th>\n",
       "      <th>Accuracy past 10 years</th>\n",
       "    </tr>\n",
       "  </thead>\n",
       "  <tbody>\n",
       "    <tr>\n",
       "      <th>Ridge Regression</th>\n",
       "      <td>236.843590</td>\n",
       "      <td>43.794872</td>\n",
       "      <td>20.10</td>\n",
       "      <td>0.609487</td>\n",
       "      <td>0.608262</td>\n",
       "      <td>0.553241</td>\n",
       "      <td>0.666667</td>\n",
       "      <td>0.594444</td>\n",
       "      <td>0.487179</td>\n",
       "      <td>0.500000</td>\n",
       "      <td>0.6</td>\n",
       "      <td>0.5</td>\n",
       "    </tr>\n",
       "    <tr>\n",
       "      <th>Normalized Ridge Regression</th>\n",
       "      <td>261.366667</td>\n",
       "      <td>50.671795</td>\n",
       "      <td>16.64</td>\n",
       "      <td>0.651111</td>\n",
       "      <td>0.616809</td>\n",
       "      <td>0.574074</td>\n",
       "      <td>0.666667</td>\n",
       "      <td>0.622222</td>\n",
       "      <td>0.487179</td>\n",
       "      <td>0.500000</td>\n",
       "      <td>0.6</td>\n",
       "      <td>0.5</td>\n",
       "    </tr>\n",
       "    <tr>\n",
       "      <th>Normalized Ridge w/Voter Fatigue</th>\n",
       "      <td>212.607692</td>\n",
       "      <td>103.492308</td>\n",
       "      <td>23.06</td>\n",
       "      <td>0.463162</td>\n",
       "      <td>0.443020</td>\n",
       "      <td>0.356481</td>\n",
       "      <td>0.455556</td>\n",
       "      <td>0.455556</td>\n",
       "      <td>0.282051</td>\n",
       "      <td>0.166667</td>\n",
       "      <td>0.0</td>\n",
       "      <td>0.0</td>\n",
       "    </tr>\n",
       "    <tr>\n",
       "      <th>Random Forest Naive</th>\n",
       "      <td>62.338462</td>\n",
       "      <td>9.887179</td>\n",
       "      <td>10.62</td>\n",
       "      <td>0.674103</td>\n",
       "      <td>0.675214</td>\n",
       "      <td>0.629630</td>\n",
       "      <td>0.800000</td>\n",
       "      <td>0.733333</td>\n",
       "      <td>0.641026</td>\n",
       "      <td>0.625000</td>\n",
       "      <td>0.4</td>\n",
       "      <td>0.6</td>\n",
       "    </tr>\n",
       "    <tr>\n",
       "      <th>Random Forest Normalized</th>\n",
       "      <td>69.353846</td>\n",
       "      <td>13.507692</td>\n",
       "      <td>10.70</td>\n",
       "      <td>0.648547</td>\n",
       "      <td>0.659544</td>\n",
       "      <td>0.618056</td>\n",
       "      <td>0.800000</td>\n",
       "      <td>0.733333</td>\n",
       "      <td>0.666667</td>\n",
       "      <td>0.666667</td>\n",
       "      <td>0.8</td>\n",
       "      <td>0.8</td>\n",
       "    </tr>\n",
       "    <tr>\n",
       "      <th>Random Forest w/Voter Fatigue</th>\n",
       "      <td>53.025641</td>\n",
       "      <td>10.871795</td>\n",
       "      <td>10.74</td>\n",
       "      <td>0.674701</td>\n",
       "      <td>0.675214</td>\n",
       "      <td>0.634259</td>\n",
       "      <td>0.800000</td>\n",
       "      <td>0.733333</td>\n",
       "      <td>0.641026</td>\n",
       "      <td>0.625000</td>\n",
       "      <td>0.4</td>\n",
       "      <td>0.6</td>\n",
       "    </tr>\n",
       "    <tr>\n",
       "      <th>Linear Regression w/Voter Fatigue</th>\n",
       "      <td>352.812821</td>\n",
       "      <td>152.010256</td>\n",
       "      <td>23.06</td>\n",
       "      <td>0.468718</td>\n",
       "      <td>0.450142</td>\n",
       "      <td>0.358796</td>\n",
       "      <td>0.455556</td>\n",
       "      <td>0.455556</td>\n",
       "      <td>0.282051</td>\n",
       "      <td>0.166667</td>\n",
       "      <td>0.0</td>\n",
       "      <td>0.0</td>\n",
       "    </tr>\n",
       "    <tr>\n",
       "      <th>XGradient Boost w/Voter Fatigue</th>\n",
       "      <td>59.738462</td>\n",
       "      <td>10.825641</td>\n",
       "      <td>6.24</td>\n",
       "      <td>0.697521</td>\n",
       "      <td>0.659544</td>\n",
       "      <td>0.615741</td>\n",
       "      <td>0.866667</td>\n",
       "      <td>0.722222</td>\n",
       "      <td>0.717949</td>\n",
       "      <td>0.708333</td>\n",
       "      <td>0.6</td>\n",
       "      <td>0.8</td>\n",
       "    </tr>\n",
       "    <tr>\n",
       "      <th>XGradient Boost</th>\n",
       "      <td>56.561538</td>\n",
       "      <td>10.143590</td>\n",
       "      <td>9.58</td>\n",
       "      <td>0.690940</td>\n",
       "      <td>0.665242</td>\n",
       "      <td>0.631944</td>\n",
       "      <td>0.866667</td>\n",
       "      <td>0.711111</td>\n",
       "      <td>0.692308</td>\n",
       "      <td>0.666667</td>\n",
       "      <td>0.6</td>\n",
       "      <td>0.6</td>\n",
       "    </tr>\n",
       "    <tr>\n",
       "      <th>Neural Network</th>\n",
       "      <td>2954.315385</td>\n",
       "      <td>26.856410</td>\n",
       "      <td>7.24</td>\n",
       "      <td>0.694017</td>\n",
       "      <td>0.717949</td>\n",
       "      <td>0.648148</td>\n",
       "      <td>0.844444</td>\n",
       "      <td>0.744444</td>\n",
       "      <td>0.641026</td>\n",
       "      <td>0.708333</td>\n",
       "      <td>0.6</td>\n",
       "      <td>0.8</td>\n",
       "    </tr>\n",
       "    <tr>\n",
       "      <th>Neural Network w/Voter Fatigue</th>\n",
       "      <td>2551.784615</td>\n",
       "      <td>830.261538</td>\n",
       "      <td>5.94</td>\n",
       "      <td>0.662137</td>\n",
       "      <td>0.693732</td>\n",
       "      <td>0.701389</td>\n",
       "      <td>0.844444</td>\n",
       "      <td>0.788889</td>\n",
       "      <td>0.641026</td>\n",
       "      <td>0.708333</td>\n",
       "      <td>0.8</td>\n",
       "      <td>0.8</td>\n",
       "    </tr>\n",
       "    <tr>\n",
       "      <th>Ensemble Model</th>\n",
       "      <td>15.556410</td>\n",
       "      <td>6.569231</td>\n",
       "      <td>6.36</td>\n",
       "      <td>0.718803</td>\n",
       "      <td>0.712251</td>\n",
       "      <td>0.685185</td>\n",
       "      <td>0.844444</td>\n",
       "      <td>0.788889</td>\n",
       "      <td>0.666667</td>\n",
       "      <td>0.708333</td>\n",
       "      <td>0.6</td>\n",
       "      <td>0.8</td>\n",
       "    </tr>\n",
       "  </tbody>\n",
       "</table>\n",
       "</div>"
      ],
      "text/plain": [
       "                                   Average Mean Square Error Top 10  \\\n",
       "Ridge Regression                                         236.843590   \n",
       "Normalized Ridge Regression                              261.366667   \n",
       "Normalized Ridge w/Voter Fatigue                         212.607692   \n",
       "Random Forest Naive                                       62.338462   \n",
       "Random Forest Normalized                                  69.353846   \n",
       "Random Forest w/Voter Fatigue                             53.025641   \n",
       "Linear Regression w/Voter Fatigue                        352.812821   \n",
       "XGradient Boost w/Voter Fatigue                           59.738462   \n",
       "XGradient Boost                                           56.561538   \n",
       "Neural Network                                          2954.315385   \n",
       "Neural Network w/Voter Fatigue                          2551.784615   \n",
       "Ensemble Model                                            15.556410   \n",
       "\n",
       "                                   Mean Square Error Top 5  \\\n",
       "Ridge Regression                                 43.794872   \n",
       "Normalized Ridge Regression                      50.671795   \n",
       "Normalized Ridge w/Voter Fatigue                103.492308   \n",
       "Random Forest Naive                               9.887179   \n",
       "Random Forest Normalized                         13.507692   \n",
       "Random Forest w/Voter Fatigue                    10.871795   \n",
       "Linear Regression w/Voter Fatigue               152.010256   \n",
       "XGradient Boost w/Voter Fatigue                  10.825641   \n",
       "XGradient Boost                                  10.143590   \n",
       "Neural Network                                   26.856410   \n",
       "Neural Network w/Voter Fatigue                  830.261538   \n",
       "Ensemble Model                                    6.569231   \n",
       "\n",
       "                                   Mean Square Error Top 5 Past 10 Years  \\\n",
       "Ridge Regression                                                   20.10   \n",
       "Normalized Ridge Regression                                        16.64   \n",
       "Normalized Ridge w/Voter Fatigue                                   23.06   \n",
       "Random Forest Naive                                                10.62   \n",
       "Random Forest Normalized                                           10.70   \n",
       "Random Forest w/Voter Fatigue                                      10.74   \n",
       "Linear Regression w/Voter Fatigue                                  23.06   \n",
       "XGradient Boost w/Voter Fatigue                                     6.24   \n",
       "XGradient Boost                                                     9.58   \n",
       "Neural Network                                                      7.24   \n",
       "Neural Network w/Voter Fatigue                                      5.94   \n",
       "Ensemble Model                                                      6.36   \n",
       "\n",
       "                                   Mean Average Precision at k = 5  \\\n",
       "Ridge Regression                                          0.609487   \n",
       "Normalized Ridge Regression                               0.651111   \n",
       "Normalized Ridge w/Voter Fatigue                          0.463162   \n",
       "Random Forest Naive                                       0.674103   \n",
       "Random Forest Normalized                                  0.648547   \n",
       "Random Forest w/Voter Fatigue                             0.674701   \n",
       "Linear Regression w/Voter Fatigue                         0.468718   \n",
       "XGradient Boost w/Voter Fatigue                           0.697521   \n",
       "XGradient Boost                                           0.690940   \n",
       "Neural Network                                            0.694017   \n",
       "Neural Network w/Voter Fatigue                            0.662137   \n",
       "Ensemble Model                                            0.718803   \n",
       "\n",
       "                                   Mean Average Precision at k = 3  \\\n",
       "Ridge Regression                                          0.608262   \n",
       "Normalized Ridge Regression                               0.616809   \n",
       "Normalized Ridge w/Voter Fatigue                          0.443020   \n",
       "Random Forest Naive                                       0.675214   \n",
       "Random Forest Normalized                                  0.659544   \n",
       "Random Forest w/Voter Fatigue                             0.675214   \n",
       "Linear Regression w/Voter Fatigue                         0.450142   \n",
       "XGradient Boost w/Voter Fatigue                           0.659544   \n",
       "XGradient Boost                                           0.665242   \n",
       "Neural Network                                            0.717949   \n",
       "Neural Network w/Voter Fatigue                            0.693732   \n",
       "Ensemble Model                                            0.712251   \n",
       "\n",
       "                                   MAP (k=3) since 2000  \\\n",
       "Ridge Regression                               0.553241   \n",
       "Normalized Ridge Regression                    0.574074   \n",
       "Normalized Ridge w/Voter Fatigue               0.356481   \n",
       "Random Forest Naive                            0.629630   \n",
       "Random Forest Normalized                       0.618056   \n",
       "Random Forest w/Voter Fatigue                  0.634259   \n",
       "Linear Regression w/Voter Fatigue              0.358796   \n",
       "XGradient Boost w/Voter Fatigue                0.615741   \n",
       "XGradient Boost                                0.631944   \n",
       "Neural Network                                 0.648148   \n",
       "Neural Network w/Voter Fatigue                 0.701389   \n",
       "Ensemble Model                                 0.685185   \n",
       "\n",
       "                                   MAP (k=3) past 5 years  \\\n",
       "Ridge Regression                                 0.666667   \n",
       "Normalized Ridge Regression                      0.666667   \n",
       "Normalized Ridge w/Voter Fatigue                 0.455556   \n",
       "Random Forest Naive                              0.800000   \n",
       "Random Forest Normalized                         0.800000   \n",
       "Random Forest w/Voter Fatigue                    0.800000   \n",
       "Linear Regression w/Voter Fatigue                0.455556   \n",
       "XGradient Boost w/Voter Fatigue                  0.866667   \n",
       "XGradient Boost                                  0.866667   \n",
       "Neural Network                                   0.844444   \n",
       "Neural Network w/Voter Fatigue                   0.844444   \n",
       "Ensemble Model                                   0.844444   \n",
       "\n",
       "                                   MAP (k=3) past 10 years  Overall Accuracy  \\\n",
       "Ridge Regression                                  0.594444          0.487179   \n",
       "Normalized Ridge Regression                       0.622222          0.487179   \n",
       "Normalized Ridge w/Voter Fatigue                  0.455556          0.282051   \n",
       "Random Forest Naive                               0.733333          0.641026   \n",
       "Random Forest Normalized                          0.733333          0.666667   \n",
       "Random Forest w/Voter Fatigue                     0.733333          0.641026   \n",
       "Linear Regression w/Voter Fatigue                 0.455556          0.282051   \n",
       "XGradient Boost w/Voter Fatigue                   0.722222          0.717949   \n",
       "XGradient Boost                                   0.711111          0.692308   \n",
       "Neural Network                                    0.744444          0.641026   \n",
       "Neural Network w/Voter Fatigue                    0.788889          0.641026   \n",
       "Ensemble Model                                    0.788889          0.666667   \n",
       "\n",
       "                                   Accuracy since 2000  Accuracy past 5 years  \\\n",
       "Ridge Regression                              0.500000                    0.6   \n",
       "Normalized Ridge Regression                   0.500000                    0.6   \n",
       "Normalized Ridge w/Voter Fatigue              0.166667                    0.0   \n",
       "Random Forest Naive                           0.625000                    0.4   \n",
       "Random Forest Normalized                      0.666667                    0.8   \n",
       "Random Forest w/Voter Fatigue                 0.625000                    0.4   \n",
       "Linear Regression w/Voter Fatigue             0.166667                    0.0   \n",
       "XGradient Boost w/Voter Fatigue               0.708333                    0.6   \n",
       "XGradient Boost                               0.666667                    0.6   \n",
       "Neural Network                                0.708333                    0.6   \n",
       "Neural Network w/Voter Fatigue                0.708333                    0.8   \n",
       "Ensemble Model                                0.708333                    0.6   \n",
       "\n",
       "                                   Accuracy past 10 years  \n",
       "Ridge Regression                                      0.5  \n",
       "Normalized Ridge Regression                           0.5  \n",
       "Normalized Ridge w/Voter Fatigue                      0.0  \n",
       "Random Forest Naive                                   0.6  \n",
       "Random Forest Normalized                              0.8  \n",
       "Random Forest w/Voter Fatigue                         0.6  \n",
       "Linear Regression w/Voter Fatigue                     0.0  \n",
       "XGradient Boost w/Voter Fatigue                       0.8  \n",
       "XGradient Boost                                       0.6  \n",
       "Neural Network                                        0.8  \n",
       "Neural Network w/Voter Fatigue                        0.8  \n",
       "Ensemble Model                                        0.8  "
      ]
     },
     "execution_count": 697,
     "metadata": {},
     "output_type": "execute_result"
    }
   ],
   "source": [
    "ensemble_model_df"
   ]
  },
  {
   "cell_type": "code",
   "execution_count": 707,
   "id": "04ff6f68",
   "metadata": {},
   "outputs": [
    {
     "data": {
      "text/plain": [
       "0.717948717948718"
      ]
     },
     "execution_count": 707,
     "metadata": {},
     "output_type": "execute_result"
    }
   ],
   "source": [
    "28/39"
   ]
  },
  {
   "cell_type": "markdown",
   "id": "8b6e1902",
   "metadata": {},
   "source": [
    "Average Mean Square Error Top 10:\n",
    "1. Random Forest w/Voter Fatigue (5)\n",
    "2. XGradient Boost (4)\n",
    "3. XGradient Boost w/Voter Fatigue (3)\n",
    "4. Random Forest Naive (2)\n",
    "5. Random Forest Normalized (1)\n",
    "\n",
    "Mean Square Error Top 5\n",
    "1. Random Forest Naive (5)\n",
    "2. XGradient Boost (4)\n",
    "3. XGradient Boost w/Voter Fatigue (3)\n",
    "4. Random Forest w/Voter Fatigue (2)\n",
    "5. Neural Network (1)\n",
    "\n",
    "Mean Square Error Top 5 Past 10 Years\n",
    "1. Neural Network w/Voter Fatigue (5)\n",
    "2. XGradient Boost w/Voter Fatigue (4)\n",
    "3. Neural Network (3)\n",
    "4. XGradient Boost (2)\n",
    "5. Random Forest Naive (1)\n",
    "\n",
    "Mean Average Precision at k = 5\n",
    "1. XGradient Boost w/Voter Fatigue (5)\n",
    "2. Neural Network (4)\n",
    "3. XGradient Boost (3)\n",
    "4. Random Forest w/Voter Fatigue (2)\n",
    "5. Random Forest Naive (1)\n",
    "\n",
    "Mean Average Precision at k = 3\n",
    "1. Neural Network (5)\n",
    "2. Neural Network w/Voter Fatigue (4)\n",
    "3. Random Forest Naive (3)\n",
    "4. Random Forest w/Voter Fatigue (2)\n",
    "5. XGradient Boost (1)\n",
    "\n",
    "MAP (k=3) since 2000\n",
    "1. Neural Network w/Voter Fatigue (5)\n",
    "2. Neural Network (4)\n",
    "3. Random Forest w/Voter Fatigue (3)\n",
    "4. XGradient Boost (2)\n",
    "5. Random Forest Naive (1)\n",
    "\n",
    "MAP (k=3) past 5 years\n",
    "1. XGradient Boost w/Voter Fatigue (4.5)\n",
    "2. XGradient Boost (4.5)\n",
    "3. Neural Network (2.5)\n",
    "4. Neural Network w/Voter Fatigue (2.5)\n",
    "5. Random Forest Models all (0.33 each)\n",
    "\n",
    "MAP (k=3) past 10 years\n",
    "1. Neural Network w/Voter Fatigue (5)\n",
    "2. Neural Network (4)\n",
    "3. Random Forest Models all (2 each)\n",
    "\n",
    "Overall Accuracy\n",
    "1. XGradient Boost w/Voter Fatigue (5)\n",
    "2. XGradient Boost (4)\n",
    "3. Random Forest Normalized (3)\n",
    "4. Random Forest other 2 and Neural Networks (0.75 each)\n",
    "\n",
    "Accuracy past 5 years\n",
    "1. Random Forest Normalized (4.5)\n",
    "2. Neural Network w/Voter Fatigue (4.5)\n",
    "3. XGradient Boost both + Neural Network (2 each)\n",
    "\n",
    "Accuracy past 10 years\n",
    "1. Random Forest Normalized, XGradient Boost w/Voter Fatigue, both Neurals (3.5 each)\n",
    "2. Other Random Forests + XGradient Boost (0.33 each)"
   ]
  },
  {
   "cell_type": "code",
   "execution_count": 445,
   "id": "2874b3fe",
   "metadata": {},
   "outputs": [],
   "source": [
    "RandomForestWithVoterFatigue = 5 + 2 + 2 + 2 + 3 + .33 + 2 + .75\n",
    "XGradientBoost = 4 + 4 + 2 + 3 + 1 + 2 + 4.5 + 4 + 2 + .33\n",
    "XGradientBoostWithVoterFatigue = 3 + 3 + 4 + 5 + 4.5 + 5 + 2 + 3.5\n",
    "RandomForestNaive = 2 + 5 + 1 + 1 + 3 + 1 + .33 + 2 + .75 + .33\n",
    "RandomForestNormalized = 1 + .33 + 2 + 3 + 4.5 + 3.5 + .33\n",
    "NeuralNetwork = 1 + 3 + 4 + 5 + 4 + 2.5 + 5 + .75 + 2 + 3.5\n",
    "NeuralNetworkWithVoterFatigue = 5 + 4 + 5 + 2.5 + 5 + .75 + 4.5 + 3.5"
   ]
  },
  {
   "cell_type": "code",
   "execution_count": 446,
   "id": "4f680911",
   "metadata": {},
   "outputs": [],
   "source": [
    "model_scores = [RandomForestNaive, RandomForestNormalized, RandomForestWithVoterFatigue, XGradientBoost,\n",
    "                XGradientBoostWithVoterFatigue, NeuralNetwork, NeuralNetworkWithVoterFatigue]"
   ]
  },
  {
   "cell_type": "code",
   "execution_count": 635,
   "id": "17074843",
   "metadata": {},
   "outputs": [
    {
     "data": {
      "text/plain": [
       "array([0.09886733, 0.08832389, 0.10290396, 0.16164598, 0.18074467,\n",
       "       0.18526328, 0.18225087])"
      ]
     },
     "execution_count": 635,
     "metadata": {},
     "output_type": "execute_result"
    }
   ],
   "source": [
    "np.array(model_scores) / 165.98"
   ]
  },
  {
   "cell_type": "markdown",
   "id": "045fc91f",
   "metadata": {},
   "source": [
    "### All 3 are good at different things, but seems like Neural Networks are more precise at the top as well as X Gradient Boost (especially with Voter Fatigue)"
   ]
  },
  {
   "cell_type": "code",
   "execution_count": null,
   "id": "eb3ebde6",
   "metadata": {},
   "outputs": [],
   "source": []
  },
  {
   "cell_type": "code",
   "execution_count": 461,
   "id": "214b37a5",
   "metadata": {},
   "outputs": [
    {
     "data": {
      "text/html": [
       "<div>\n",
       "<style scoped>\n",
       "    .dataframe tbody tr th:only-of-type {\n",
       "        vertical-align: middle;\n",
       "    }\n",
       "\n",
       "    .dataframe tbody tr th {\n",
       "        vertical-align: top;\n",
       "    }\n",
       "\n",
       "    .dataframe thead th {\n",
       "        text-align: right;\n",
       "    }\n",
       "</style>\n",
       "<table border=\"1\" class=\"dataframe\">\n",
       "  <thead>\n",
       "    <tr style=\"text-align: right;\">\n",
       "      <th></th>\n",
       "      <th>Player</th>\n",
       "      <th>Share</th>\n",
       "      <th>MVP Share Predictions</th>\n",
       "      <th>Rank</th>\n",
       "      <th>Predicted Rank</th>\n",
       "      <th>Difference</th>\n",
       "      <th>Year</th>\n",
       "    </tr>\n",
       "  </thead>\n",
       "  <tbody>\n",
       "    <tr>\n",
       "      <th>7807</th>\n",
       "      <td>Nikola Jokić</td>\n",
       "      <td>0.875</td>\n",
       "      <td>0.885087</td>\n",
       "      <td>1.0</td>\n",
       "      <td>1.0</td>\n",
       "      <td>0.0</td>\n",
       "      <td>2022</td>\n",
       "    </tr>\n",
       "    <tr>\n",
       "      <th>16232</th>\n",
       "      <td>Giannis Antetokounmpo</td>\n",
       "      <td>0.595</td>\n",
       "      <td>0.418069</td>\n",
       "      <td>3.0</td>\n",
       "      <td>2.0</td>\n",
       "      <td>1.0</td>\n",
       "      <td>2022</td>\n",
       "    </tr>\n",
       "    <tr>\n",
       "      <th>7997</th>\n",
       "      <td>Joel Embiid</td>\n",
       "      <td>0.706</td>\n",
       "      <td>0.369637</td>\n",
       "      <td>2.0</td>\n",
       "      <td>3.0</td>\n",
       "      <td>-1.0</td>\n",
       "      <td>2022</td>\n",
       "    </tr>\n",
       "    <tr>\n",
       "      <th>16109</th>\n",
       "      <td>Luka Dončić</td>\n",
       "      <td>0.146</td>\n",
       "      <td>0.219377</td>\n",
       "      <td>5.0</td>\n",
       "      <td>4.0</td>\n",
       "      <td>1.0</td>\n",
       "      <td>2022</td>\n",
       "    </tr>\n",
       "    <tr>\n",
       "      <th>8067</th>\n",
       "      <td>Devin Booker</td>\n",
       "      <td>0.216</td>\n",
       "      <td>0.086132</td>\n",
       "      <td>4.0</td>\n",
       "      <td>5.0</td>\n",
       "      <td>-1.0</td>\n",
       "      <td>2022</td>\n",
       "    </tr>\n",
       "    <tr>\n",
       "      <th>8065</th>\n",
       "      <td>Chris Paul</td>\n",
       "      <td>0.002</td>\n",
       "      <td>0.080245</td>\n",
       "      <td>9.0</td>\n",
       "      <td>6.0</td>\n",
       "      <td>3.0</td>\n",
       "      <td>2022</td>\n",
       "    </tr>\n",
       "    <tr>\n",
       "      <th>8266</th>\n",
       "      <td>Jayson Tatum</td>\n",
       "      <td>0.043</td>\n",
       "      <td>0.046944</td>\n",
       "      <td>6.0</td>\n",
       "      <td>7.0</td>\n",
       "      <td>-1.0</td>\n",
       "      <td>2022</td>\n",
       "    </tr>\n",
       "    <tr>\n",
       "      <th>16748</th>\n",
       "      <td>Ja Morant</td>\n",
       "      <td>0.010</td>\n",
       "      <td>0.040069</td>\n",
       "      <td>7.0</td>\n",
       "      <td>8.0</td>\n",
       "      <td>-1.0</td>\n",
       "      <td>2022</td>\n",
       "    </tr>\n",
       "    <tr>\n",
       "      <th>16374</th>\n",
       "      <td>Trae Young</td>\n",
       "      <td>0.000</td>\n",
       "      <td>0.018373</td>\n",
       "      <td>13.0</td>\n",
       "      <td>9.0</td>\n",
       "      <td>4.0</td>\n",
       "      <td>2022</td>\n",
       "    </tr>\n",
       "    <tr>\n",
       "      <th>7996</th>\n",
       "      <td>James Harden</td>\n",
       "      <td>0.000</td>\n",
       "      <td>0.018049</td>\n",
       "      <td>13.0</td>\n",
       "      <td>10.0</td>\n",
       "      <td>3.0</td>\n",
       "      <td>2022</td>\n",
       "    </tr>\n",
       "  </tbody>\n",
       "</table>\n",
       "</div>"
      ],
      "text/plain": [
       "                      Player  Share  MVP Share Predictions  Rank  \\\n",
       "7807            Nikola Jokić  0.875               0.885087   1.0   \n",
       "16232  Giannis Antetokounmpo  0.595               0.418069   3.0   \n",
       "7997             Joel Embiid  0.706               0.369637   2.0   \n",
       "16109            Luka Dončić  0.146               0.219377   5.0   \n",
       "8067            Devin Booker  0.216               0.086132   4.0   \n",
       "8065              Chris Paul  0.002               0.080245   9.0   \n",
       "8266            Jayson Tatum  0.043               0.046944   6.0   \n",
       "16748              Ja Morant  0.010               0.040069   7.0   \n",
       "16374             Trae Young  0.000               0.018373  13.0   \n",
       "7996            James Harden  0.000               0.018049  13.0   \n",
       "\n",
       "       Predicted Rank  Difference  Year  \n",
       "7807              1.0         0.0  2022  \n",
       "16232             2.0         1.0  2022  \n",
       "7997              3.0        -1.0  2022  \n",
       "16109             4.0         1.0  2022  \n",
       "8067              5.0        -1.0  2022  \n",
       "8065              6.0         3.0  2022  \n",
       "8266              7.0        -1.0  2022  \n",
       "16748             8.0        -1.0  2022  \n",
       "16374             9.0         4.0  2022  \n",
       "7996             10.0         3.0  2022  "
      ]
     },
     "execution_count": 461,
     "metadata": {},
     "output_type": "execute_result"
    }
   ],
   "source": [
    "all_predictions_nn_vf[all_predictions_nn_vf[\"Year\"] == 2022].sort_values(\"Predicted Rank\").head(10)"
   ]
  },
  {
   "cell_type": "code",
   "execution_count": 488,
   "id": "07887761",
   "metadata": {},
   "outputs": [
    {
     "data": {
      "text/html": [
       "<div>\n",
       "<style scoped>\n",
       "    .dataframe tbody tr th:only-of-type {\n",
       "        vertical-align: middle;\n",
       "    }\n",
       "\n",
       "    .dataframe tbody tr th {\n",
       "        vertical-align: top;\n",
       "    }\n",
       "\n",
       "    .dataframe thead th {\n",
       "        text-align: right;\n",
       "    }\n",
       "</style>\n",
       "<table border=\"1\" class=\"dataframe\">\n",
       "  <thead>\n",
       "    <tr style=\"text-align: right;\">\n",
       "      <th></th>\n",
       "      <th>Player</th>\n",
       "      <th>Share</th>\n",
       "      <th>MVP Share Predictions</th>\n",
       "      <th>Rank</th>\n",
       "      <th>Predicted Rank</th>\n",
       "      <th>Difference</th>\n",
       "      <th>Year</th>\n",
       "    </tr>\n",
       "  </thead>\n",
       "  <tbody>\n",
       "    <tr>\n",
       "      <th>18517</th>\n",
       "      <td>Joel Embiid</td>\n",
       "      <td>0.915</td>\n",
       "      <td>0.367770</td>\n",
       "      <td>1.0</td>\n",
       "      <td>2.0</td>\n",
       "      <td>-1.0</td>\n",
       "      <td>2023</td>\n",
       "    </tr>\n",
       "    <tr>\n",
       "      <th>7823</th>\n",
       "      <td>Nikola Jokić</td>\n",
       "      <td>0.674</td>\n",
       "      <td>0.690522</td>\n",
       "      <td>2.0</td>\n",
       "      <td>1.0</td>\n",
       "      <td>1.0</td>\n",
       "      <td>2023</td>\n",
       "    </tr>\n",
       "    <tr>\n",
       "      <th>7315</th>\n",
       "      <td>Giannis Antetokounmpo</td>\n",
       "      <td>0.606</td>\n",
       "      <td>0.210678</td>\n",
       "      <td>3.0</td>\n",
       "      <td>3.0</td>\n",
       "      <td>0.0</td>\n",
       "      <td>2023</td>\n",
       "    </tr>\n",
       "    <tr>\n",
       "      <th>9535</th>\n",
       "      <td>Jayson Tatum</td>\n",
       "      <td>0.280</td>\n",
       "      <td>0.138125</td>\n",
       "      <td>4.0</td>\n",
       "      <td>4.0</td>\n",
       "      <td>0.0</td>\n",
       "      <td>2023</td>\n",
       "    </tr>\n",
       "    <tr>\n",
       "      <th>8336</th>\n",
       "      <td>Shai Gilgeous-Alexander</td>\n",
       "      <td>0.046</td>\n",
       "      <td>0.044135</td>\n",
       "      <td>5.0</td>\n",
       "      <td>7.0</td>\n",
       "      <td>-2.0</td>\n",
       "      <td>2023</td>\n",
       "    </tr>\n",
       "    <tr>\n",
       "      <th>17623</th>\n",
       "      <td>Donovan Mitchell</td>\n",
       "      <td>0.030</td>\n",
       "      <td>0.051468</td>\n",
       "      <td>6.0</td>\n",
       "      <td>6.0</td>\n",
       "      <td>0.0</td>\n",
       "      <td>2023</td>\n",
       "    </tr>\n",
       "    <tr>\n",
       "      <th>10690</th>\n",
       "      <td>Domantas Sabonis</td>\n",
       "      <td>0.027</td>\n",
       "      <td>0.015215</td>\n",
       "      <td>7.0</td>\n",
       "      <td>8.0</td>\n",
       "      <td>-1.0</td>\n",
       "      <td>2023</td>\n",
       "    </tr>\n",
       "    <tr>\n",
       "      <th>7407</th>\n",
       "      <td>Luka Dončić</td>\n",
       "      <td>0.010</td>\n",
       "      <td>0.060247</td>\n",
       "      <td>8.0</td>\n",
       "      <td>5.0</td>\n",
       "      <td>3.0</td>\n",
       "      <td>2023</td>\n",
       "    </tr>\n",
       "    <tr>\n",
       "      <th>12631</th>\n",
       "      <td>Stephen Curry</td>\n",
       "      <td>0.005</td>\n",
       "      <td>0.003489</td>\n",
       "      <td>9.0</td>\n",
       "      <td>15.0</td>\n",
       "      <td>-6.0</td>\n",
       "      <td>2023</td>\n",
       "    </tr>\n",
       "    <tr>\n",
       "      <th>15559</th>\n",
       "      <td>Jimmy Butler</td>\n",
       "      <td>0.003</td>\n",
       "      <td>0.005803</td>\n",
       "      <td>10.0</td>\n",
       "      <td>12.0</td>\n",
       "      <td>-2.0</td>\n",
       "      <td>2023</td>\n",
       "    </tr>\n",
       "  </tbody>\n",
       "</table>\n",
       "</div>"
      ],
      "text/plain": [
       "                        Player  Share  MVP Share Predictions  Rank  \\\n",
       "18517              Joel Embiid  0.915               0.367770   1.0   \n",
       "7823              Nikola Jokić  0.674               0.690522   2.0   \n",
       "7315     Giannis Antetokounmpo  0.606               0.210678   3.0   \n",
       "9535              Jayson Tatum  0.280               0.138125   4.0   \n",
       "8336   Shai Gilgeous-Alexander  0.046               0.044135   5.0   \n",
       "17623         Donovan Mitchell  0.030               0.051468   6.0   \n",
       "10690         Domantas Sabonis  0.027               0.015215   7.0   \n",
       "7407               Luka Dončić  0.010               0.060247   8.0   \n",
       "12631            Stephen Curry  0.005               0.003489   9.0   \n",
       "15559             Jimmy Butler  0.003               0.005803  10.0   \n",
       "\n",
       "       Predicted Rank  Difference  Year  \n",
       "18517             2.0        -1.0  2023  \n",
       "7823              1.0         1.0  2023  \n",
       "7315              3.0         0.0  2023  \n",
       "9535              4.0         0.0  2023  \n",
       "8336              7.0        -2.0  2023  \n",
       "17623             6.0         0.0  2023  \n",
       "10690             8.0        -1.0  2023  \n",
       "7407              5.0         3.0  2023  \n",
       "12631            15.0        -6.0  2023  \n",
       "15559            12.0        -2.0  2023  "
      ]
     },
     "execution_count": 488,
     "metadata": {},
     "output_type": "execute_result"
    }
   ],
   "source": [
    "all_predictions_xgb_vf[all_predictions_xgb_vf[\"Year\"] == 2023].sort_values(\"Rank\").head(10)"
   ]
  },
  {
   "cell_type": "code",
   "execution_count": null,
   "id": "2eaa6d61",
   "metadata": {},
   "outputs": [],
   "source": []
  },
  {
   "cell_type": "markdown",
   "id": "5dbed71d",
   "metadata": {},
   "source": [
    "### Can we make an ensemble to create potentially \"the best prediction\"? Will it improve accuracy?"
   ]
  },
  {
   "cell_type": "code",
   "execution_count": 676,
   "id": "d5112c3f",
   "metadata": {},
   "outputs": [],
   "source": [
    "best_models = [all_predictions_nn, all_predictions_nn_vf, all_predictions_xgb_vf, all_predictions_xgb, all_predictions_rf_votefatigue, all_predictions_rf]"
   ]
  },
  {
   "cell_type": "code",
   "execution_count": 677,
   "id": "148d874f",
   "metadata": {},
   "outputs": [],
   "source": [
    "# Code to combine models for a holistic prediction for a single year's MVP race\n",
    "def ensemble_predictions_single_year(model_predictions, year, num_candidates):\n",
    "    mvp_dict = {} # make dictionary of candidates with key being their name and their value being their MVP Share Prediction\n",
    "    for model in model_predictions: # going through each model\n",
    "        top_predicted = model[model[\"Year\"] == year].sort_values(\"Predicted Rank\").head(num_candidates)\n",
    "        for index, row in top_predicted.iterrows(): #iterating through each model's rows\n",
    "            player, predicted_share = row[\"Player\"], row[\"MVP Share Predictions\"]\n",
    "            if (player in mvp_dict):\n",
    "                mvp_dict[player] += predicted_share\n",
    "            else:\n",
    "                mvp_dict[player] = predicted_share\n",
    "    \n",
    "    # Now that we have the dictionary, we can append this data to the actual rank for that year\n",
    "    ensemble_df = mvp_df[[\"Player\", \"Share\", \"Year\"]]\n",
    "    ensemble_df = ensemble_df[(ensemble_df[\"Year\"] == year) & ensemble_df[\"Player\"].isin(mvp_dict.keys())]\n",
    "    filtered_df = ensemble_df.copy(deep=True)\n",
    "    filtered_df.loc[:, \"MVP Share Predictions\"] = 0\n",
    "    \n",
    "    for player, share in mvp_dict.items():\n",
    "        player_row = filtered_df[filtered_df[\"Player\"] == player].index.values[0]\n",
    "        filtered_df.loc[player_row, \"MVP Share Predictions\"] = share\n",
    "    \n",
    "    # Now that we have assigned our predictions we can use our previous function to convert it to rankings\n",
    "    converted_df = convert_to_ranks(filtered_df, \"Share\", \"MVP Share Predictions\")\n",
    "    with_differences_df = difference_in_rank(converted_df)\n",
    "    with_differences_df = with_differences_df[[\"Player\", \"Share\", \"MVP Share Predictions\", \"Rank\", \"Predicted Rank\", \"Difference\", \"Year\"]]\n",
    "    \n",
    "    return with_differences_df"
   ]
  },
  {
   "cell_type": "markdown",
   "id": "e7227df0",
   "metadata": {},
   "source": [
    "#### Now, time to do all the metrics on this ensemble model"
   ]
  },
  {
   "cell_type": "code",
   "execution_count": 678,
   "id": "da5856b3",
   "metadata": {},
   "outputs": [
    {
     "name": "stdout",
     "output_type": "stream",
     "text": [
      "CPU times: user 304 ms, sys: 11.3 ms, total: 315 ms\n",
      "Wall time: 329 ms\n"
     ]
    }
   ],
   "source": [
    "%%time\n",
    "\"\"\"Need to do 'backtesting' for the ensemble as well\"\"\"\n",
    "mse_ar_en = []\n",
    "apk_ar_en = []\n",
    "predictions_en = []\n",
    "for year in quant_years:\n",
    "    ensemble_year_df = ensemble_predictions_single_year(best_models, year, 15)\n",
    "    mse_ar_en.append(get_mse_top_n(ensemble_year_df))\n",
    "    apk_ar_en.append(get_apk_n(ensemble_year_df, 5))\n",
    "    predictions_en.append(ensemble_year_df)\n",
    "\n",
    "avg_mse_en, avg_apk_en, all_predictions_en = (sum(mse_ar_en) / len(mse_ar_en)), (sum(apk_ar_en) / len(apk_ar_en)), pd.concat(predictions_en)"
   ]
  },
  {
   "cell_type": "code",
   "execution_count": null,
   "id": "b4d63a26",
   "metadata": {},
   "outputs": [],
   "source": [
    "# good: 31, 24, 23\n",
    "# bad: 29, 20, 17\n",
    "apk_ar_en"
   ]
  },
  {
   "cell_type": "code",
   "execution_count": 730,
   "id": "8d7b2585",
   "metadata": {},
   "outputs": [
    {
     "data": {
      "text/plain": [
       "(2.5, 5.5)"
      ]
     },
     "execution_count": 730,
     "metadata": {},
     "output_type": "execute_result"
    }
   ],
   "source": [
    "ensemble_calc = np.sum(0 + 1 + 1 + 2 + 1 + 1 + 1 + 1 + 16 + 1) / 10\n",
    "bball_ref_calc = np.sum(0 + 0 + 0 + 4 + 1 + 1 + 4 + 25 + 16 + 4) / 10\n",
    "ensemble_calc, bball_ref_calc"
   ]
  },
  {
   "cell_type": "markdown",
   "id": "2f945ae8",
   "metadata": {},
   "source": [
    "##  Saving models so we can work on them and look at them after"
   ]
  },
  {
   "cell_type": "code",
   "execution_count": 733,
   "id": "a7fe6bc5",
   "metadata": {},
   "outputs": [
    {
     "data": {
      "text/plain": [
       "['joblib_RF_Model.pkl']"
      ]
     },
     "execution_count": 733,
     "metadata": {},
     "output_type": "execute_result"
    }
   ],
   "source": [
    "# Save RF Model to file in the current working directory\n",
    "\n",
    "joblib_file_rf = \"joblib_RF_Model.pkl\"  \n",
    "joblib.dump(rf, joblib_file_rf)\n",
    "# This is with voter fatigue as well which has the lowest MSE and the highest APK"
   ]
  },
  {
   "cell_type": "code",
   "execution_count": 734,
   "id": "a2097430",
   "metadata": {},
   "outputs": [
    {
     "data": {
      "text/plain": [
       "['joblib_RF_Naive_Model.pkl']"
      ]
     },
     "execution_count": 734,
     "metadata": {},
     "output_type": "execute_result"
    }
   ],
   "source": [
    "joblib_file_rf_naive = \"joblib_RF_Naive_Model.pkl\"  \n",
    "joblib.dump(rf_naive, joblib_file_rf_naive)"
   ]
  },
  {
   "cell_type": "code",
   "execution_count": 735,
   "id": "7219877c",
   "metadata": {},
   "outputs": [
    {
     "data": {
      "text/plain": [
       "['joblib_RF_Normalized_Model.pkl']"
      ]
     },
     "execution_count": 735,
     "metadata": {},
     "output_type": "execute_result"
    }
   ],
   "source": [
    "joblib_file_rf_normalized = \"joblib_RF_Normalized_Model.pkl\"  \n",
    "joblib.dump(rf_naive, joblib_file_rf_normalized)"
   ]
  },
  {
   "cell_type": "code",
   "execution_count": 736,
   "id": "f101832c",
   "metadata": {},
   "outputs": [],
   "source": [
    "filepath = 'rf_session_7-11.pkl'\n",
    "dill.dump_session(filepath) # Save the session"
   ]
  },
  {
   "cell_type": "code",
   "execution_count": 83,
   "id": "3d04d0fc",
   "metadata": {},
   "outputs": [
    {
     "data": {
      "text/html": [
       "<style>#sk-container-id-1 {color: black;background-color: white;}#sk-container-id-1 pre{padding: 0;}#sk-container-id-1 div.sk-toggleable {background-color: white;}#sk-container-id-1 label.sk-toggleable__label {cursor: pointer;display: block;width: 100%;margin-bottom: 0;padding: 0.3em;box-sizing: border-box;text-align: center;}#sk-container-id-1 label.sk-toggleable__label-arrow:before {content: \"▸\";float: left;margin-right: 0.25em;color: #696969;}#sk-container-id-1 label.sk-toggleable__label-arrow:hover:before {color: black;}#sk-container-id-1 div.sk-estimator:hover label.sk-toggleable__label-arrow:before {color: black;}#sk-container-id-1 div.sk-toggleable__content {max-height: 0;max-width: 0;overflow: hidden;text-align: left;background-color: #f0f8ff;}#sk-container-id-1 div.sk-toggleable__content pre {margin: 0.2em;color: black;border-radius: 0.25em;background-color: #f0f8ff;}#sk-container-id-1 input.sk-toggleable__control:checked~div.sk-toggleable__content {max-height: 200px;max-width: 100%;overflow: auto;}#sk-container-id-1 input.sk-toggleable__control:checked~label.sk-toggleable__label-arrow:before {content: \"▾\";}#sk-container-id-1 div.sk-estimator input.sk-toggleable__control:checked~label.sk-toggleable__label {background-color: #d4ebff;}#sk-container-id-1 div.sk-label input.sk-toggleable__control:checked~label.sk-toggleable__label {background-color: #d4ebff;}#sk-container-id-1 input.sk-hidden--visually {border: 0;clip: rect(1px 1px 1px 1px);clip: rect(1px, 1px, 1px, 1px);height: 1px;margin: -1px;overflow: hidden;padding: 0;position: absolute;width: 1px;}#sk-container-id-1 div.sk-estimator {font-family: monospace;background-color: #f0f8ff;border: 1px dotted black;border-radius: 0.25em;box-sizing: border-box;margin-bottom: 0.5em;}#sk-container-id-1 div.sk-estimator:hover {background-color: #d4ebff;}#sk-container-id-1 div.sk-parallel-item::after {content: \"\";width: 100%;border-bottom: 1px solid gray;flex-grow: 1;}#sk-container-id-1 div.sk-label:hover label.sk-toggleable__label {background-color: #d4ebff;}#sk-container-id-1 div.sk-serial::before {content: \"\";position: absolute;border-left: 1px solid gray;box-sizing: border-box;top: 0;bottom: 0;left: 50%;z-index: 0;}#sk-container-id-1 div.sk-serial {display: flex;flex-direction: column;align-items: center;background-color: white;padding-right: 0.2em;padding-left: 0.2em;position: relative;}#sk-container-id-1 div.sk-item {position: relative;z-index: 1;}#sk-container-id-1 div.sk-parallel {display: flex;align-items: stretch;justify-content: center;background-color: white;position: relative;}#sk-container-id-1 div.sk-item::before, #sk-container-id-1 div.sk-parallel-item::before {content: \"\";position: absolute;border-left: 1px solid gray;box-sizing: border-box;top: 0;bottom: 0;left: 50%;z-index: -1;}#sk-container-id-1 div.sk-parallel-item {display: flex;flex-direction: column;z-index: 1;position: relative;background-color: white;}#sk-container-id-1 div.sk-parallel-item:first-child::after {align-self: flex-end;width: 50%;}#sk-container-id-1 div.sk-parallel-item:last-child::after {align-self: flex-start;width: 50%;}#sk-container-id-1 div.sk-parallel-item:only-child::after {width: 0;}#sk-container-id-1 div.sk-dashed-wrapped {border: 1px dashed gray;margin: 0 0.4em 0.5em 0.4em;box-sizing: border-box;padding-bottom: 0.4em;background-color: white;}#sk-container-id-1 div.sk-label label {font-family: monospace;font-weight: bold;display: inline-block;line-height: 1.2em;}#sk-container-id-1 div.sk-label-container {text-align: center;}#sk-container-id-1 div.sk-container {/* jupyter's `normalize.less` sets `[hidden] { display: none; }` but bootstrap.min.css set `[hidden] { display: none !important; }` so we also need the `!important` here to be able to override the default hidden behavior on the sphinx rendered scikit-learn.org. See: https://github.com/scikit-learn/scikit-learn/issues/21755 */display: inline-block !important;position: relative;}#sk-container-id-1 div.sk-text-repr-fallback {display: none;}</style><div id=\"sk-container-id-1\" class=\"sk-top-container\"><div class=\"sk-text-repr-fallback\"><pre>RandomForestRegressor(min_samples_split=5, random_state=42)</pre><b>In a Jupyter environment, please rerun this cell to show the HTML representation or trust the notebook. <br />On GitHub, the HTML representation is unable to render, please try loading this page with nbviewer.org.</b></div><div class=\"sk-container\" hidden><div class=\"sk-item\"><div class=\"sk-estimator sk-toggleable\"><input class=\"sk-toggleable__control sk-hidden--visually\" id=\"sk-estimator-id-1\" type=\"checkbox\" checked><label for=\"sk-estimator-id-1\" class=\"sk-toggleable__label sk-toggleable__label-arrow\">RandomForestRegressor</label><div class=\"sk-toggleable__content\"><pre>RandomForestRegressor(min_samples_split=5, random_state=42)</pre></div></div></div></div></div>"
      ],
      "text/plain": [
       "RandomForestRegressor(min_samples_split=5, random_state=42)"
      ]
     },
     "execution_count": 83,
     "metadata": {},
     "output_type": "execute_result"
    }
   ],
   "source": [
    "rf"
   ]
  },
  {
   "cell_type": "code",
   "execution_count": 381,
   "id": "8d16b509",
   "metadata": {},
   "outputs": [
    {
     "data": {
      "text/html": [
       "<div>\n",
       "<style scoped>\n",
       "    .dataframe tbody tr th:only-of-type {\n",
       "        vertical-align: middle;\n",
       "    }\n",
       "\n",
       "    .dataframe tbody tr th {\n",
       "        vertical-align: top;\n",
       "    }\n",
       "\n",
       "    .dataframe thead th {\n",
       "        text-align: right;\n",
       "    }\n",
       "</style>\n",
       "<table border=\"1\" class=\"dataframe\">\n",
       "  <thead>\n",
       "    <tr style=\"text-align: right;\">\n",
       "      <th></th>\n",
       "      <th>Player</th>\n",
       "      <th>Pos</th>\n",
       "      <th>Age</th>\n",
       "      <th>G</th>\n",
       "      <th>GS</th>\n",
       "      <th>MP</th>\n",
       "      <th>FG</th>\n",
       "      <th>FGA</th>\n",
       "      <th>FG%</th>\n",
       "      <th>3P</th>\n",
       "      <th>3PA</th>\n",
       "      <th>3P%</th>\n",
       "      <th>2P</th>\n",
       "      <th>2PA</th>\n",
       "      <th>2P%</th>\n",
       "      <th>eFG%</th>\n",
       "      <th>FT</th>\n",
       "      <th>FTA</th>\n",
       "      <th>FT%</th>\n",
       "      <th>ORB</th>\n",
       "      <th>DRB</th>\n",
       "      <th>TRB</th>\n",
       "      <th>AST</th>\n",
       "      <th>STL</th>\n",
       "      <th>BLK</th>\n",
       "      <th>TOV</th>\n",
       "      <th>PF</th>\n",
       "      <th>PTS</th>\n",
       "      <th>Year</th>\n",
       "      <th>PER</th>\n",
       "      <th>TS%</th>\n",
       "      <th>3PAr</th>\n",
       "      <th>FTr</th>\n",
       "      <th>ORB%</th>\n",
       "      <th>DRB%</th>\n",
       "      <th>TRB%</th>\n",
       "      <th>AST%</th>\n",
       "      <th>STL%</th>\n",
       "      <th>BLK%</th>\n",
       "      <th>TOV%</th>\n",
       "      <th>USG%</th>\n",
       "      <th>OWS</th>\n",
       "      <th>DWS</th>\n",
       "      <th>WS</th>\n",
       "      <th>WS/48</th>\n",
       "      <th>OBPM</th>\n",
       "      <th>DBPM</th>\n",
       "      <th>BPM</th>\n",
       "      <th>VORP</th>\n",
       "      <th>Pts Won</th>\n",
       "      <th>Pts Max</th>\n",
       "      <th>Share</th>\n",
       "      <th>Team</th>\n",
       "      <th>W</th>\n",
       "      <th>L</th>\n",
       "      <th>W/L%</th>\n",
       "      <th>GB</th>\n",
       "      <th>PS/G</th>\n",
       "      <th>PA/G</th>\n",
       "      <th>SRS</th>\n",
       "    </tr>\n",
       "  </thead>\n",
       "  <tbody>\n",
       "    <tr>\n",
       "      <th>5238</th>\n",
       "      <td>Dudley Bradley</td>\n",
       "      <td>SG</td>\n",
       "      <td>22</td>\n",
       "      <td>82</td>\n",
       "      <td>31</td>\n",
       "      <td>24.7</td>\n",
       "      <td>3.4</td>\n",
       "      <td>7.4</td>\n",
       "      <td>0.452</td>\n",
       "      <td>0.0</td>\n",
       "      <td>0.1</td>\n",
       "      <td>0.400</td>\n",
       "      <td>3.3</td>\n",
       "      <td>7.4</td>\n",
       "      <td>0.452</td>\n",
       "      <td>0.453</td>\n",
       "      <td>1.7</td>\n",
       "      <td>2.1</td>\n",
       "      <td>0.782</td>\n",
       "      <td>0.8</td>\n",
       "      <td>1.9</td>\n",
       "      <td>2.7</td>\n",
       "      <td>3.1</td>\n",
       "      <td>2.6</td>\n",
       "      <td>0.6</td>\n",
       "      <td>2.0</td>\n",
       "      <td>2.4</td>\n",
       "      <td>8.4</td>\n",
       "      <td>1980</td>\n",
       "      <td>13.5</td>\n",
       "      <td>0.502</td>\n",
       "      <td>0.008</td>\n",
       "      <td>0.286</td>\n",
       "      <td>3.4</td>\n",
       "      <td>8.1</td>\n",
       "      <td>5.7</td>\n",
       "      <td>15.9</td>\n",
       "      <td>4.8</td>\n",
       "      <td>1.3</td>\n",
       "      <td>19.5</td>\n",
       "      <td>16.3</td>\n",
       "      <td>0.2</td>\n",
       "      <td>2.9</td>\n",
       "      <td>3.1</td>\n",
       "      <td>0.073</td>\n",
       "      <td>-2.0</td>\n",
       "      <td>3.0</td>\n",
       "      <td>1.0</td>\n",
       "      <td>1.5</td>\n",
       "      <td>0.0</td>\n",
       "      <td>0.0</td>\n",
       "      <td>0.000</td>\n",
       "      <td>Indiana Pacers</td>\n",
       "      <td>37</td>\n",
       "      <td>45</td>\n",
       "      <td>0.451</td>\n",
       "      <td>13.0</td>\n",
       "      <td>111.2</td>\n",
       "      <td>111.9</td>\n",
       "      <td>-0.54</td>\n",
       "    </tr>\n",
       "    <tr>\n",
       "      <th>6829</th>\n",
       "      <td>Micheal Williams</td>\n",
       "      <td>PG</td>\n",
       "      <td>25</td>\n",
       "      <td>79</td>\n",
       "      <td>68</td>\n",
       "      <td>34.8</td>\n",
       "      <td>5.1</td>\n",
       "      <td>10.4</td>\n",
       "      <td>0.490</td>\n",
       "      <td>0.1</td>\n",
       "      <td>0.4</td>\n",
       "      <td>0.242</td>\n",
       "      <td>5.0</td>\n",
       "      <td>10.0</td>\n",
       "      <td>0.501</td>\n",
       "      <td>0.495</td>\n",
       "      <td>4.7</td>\n",
       "      <td>5.4</td>\n",
       "      <td>0.871</td>\n",
       "      <td>0.9</td>\n",
       "      <td>2.6</td>\n",
       "      <td>3.6</td>\n",
       "      <td>8.2</td>\n",
       "      <td>2.9</td>\n",
       "      <td>0.3</td>\n",
       "      <td>3.0</td>\n",
       "      <td>3.3</td>\n",
       "      <td>15.0</td>\n",
       "      <td>1992</td>\n",
       "      <td>18.4</td>\n",
       "      <td>0.587</td>\n",
       "      <td>0.040</td>\n",
       "      <td>0.518</td>\n",
       "      <td>3.1</td>\n",
       "      <td>8.0</td>\n",
       "      <td>5.7</td>\n",
       "      <td>32.2</td>\n",
       "      <td>4.1</td>\n",
       "      <td>0.5</td>\n",
       "      <td>19.2</td>\n",
       "      <td>19.1</td>\n",
       "      <td>5.8</td>\n",
       "      <td>3.2</td>\n",
       "      <td>9.0</td>\n",
       "      <td>0.156</td>\n",
       "      <td>1.9</td>\n",
       "      <td>1.8</td>\n",
       "      <td>3.7</td>\n",
       "      <td>3.9</td>\n",
       "      <td>0.0</td>\n",
       "      <td>0.0</td>\n",
       "      <td>0.000</td>\n",
       "      <td>Indiana Pacers</td>\n",
       "      <td>40</td>\n",
       "      <td>42</td>\n",
       "      <td>0.488</td>\n",
       "      <td>27.0</td>\n",
       "      <td>112.2</td>\n",
       "      <td>110.3</td>\n",
       "      <td>1.85</td>\n",
       "    </tr>\n",
       "    <tr>\n",
       "      <th>9190</th>\n",
       "      <td>Metta World Peace</td>\n",
       "      <td>SF</td>\n",
       "      <td>22</td>\n",
       "      <td>55</td>\n",
       "      <td>50</td>\n",
       "      <td>29.9</td>\n",
       "      <td>4.9</td>\n",
       "      <td>11.6</td>\n",
       "      <td>0.423</td>\n",
       "      <td>1.0</td>\n",
       "      <td>3.1</td>\n",
       "      <td>0.312</td>\n",
       "      <td>3.9</td>\n",
       "      <td>8.5</td>\n",
       "      <td>0.464</td>\n",
       "      <td>0.465</td>\n",
       "      <td>2.5</td>\n",
       "      <td>3.7</td>\n",
       "      <td>0.667</td>\n",
       "      <td>1.3</td>\n",
       "      <td>3.6</td>\n",
       "      <td>4.9</td>\n",
       "      <td>2.3</td>\n",
       "      <td>2.6</td>\n",
       "      <td>0.7</td>\n",
       "      <td>2.1</td>\n",
       "      <td>3.9</td>\n",
       "      <td>13.2</td>\n",
       "      <td>2002</td>\n",
       "      <td>15.8</td>\n",
       "      <td>0.501</td>\n",
       "      <td>0.267</td>\n",
       "      <td>0.321</td>\n",
       "      <td>5.1</td>\n",
       "      <td>13.8</td>\n",
       "      <td>9.5</td>\n",
       "      <td>14.1</td>\n",
       "      <td>4.5</td>\n",
       "      <td>1.7</td>\n",
       "      <td>14.0</td>\n",
       "      <td>23.5</td>\n",
       "      <td>0.0</td>\n",
       "      <td>2.7</td>\n",
       "      <td>2.7</td>\n",
       "      <td>0.079</td>\n",
       "      <td>-0.4</td>\n",
       "      <td>3.0</td>\n",
       "      <td>2.6</td>\n",
       "      <td>1.9</td>\n",
       "      <td>0.0</td>\n",
       "      <td>0.0</td>\n",
       "      <td>0.000</td>\n",
       "      <td>Indiana Pacers</td>\n",
       "      <td>42</td>\n",
       "      <td>40</td>\n",
       "      <td>0.512</td>\n",
       "      <td>8.0</td>\n",
       "      <td>96.8</td>\n",
       "      <td>96.5</td>\n",
       "      <td>-0.07</td>\n",
       "    </tr>\n",
       "    <tr>\n",
       "      <th>9727</th>\n",
       "      <td>Victor Oladipo</td>\n",
       "      <td>SG</td>\n",
       "      <td>25</td>\n",
       "      <td>75</td>\n",
       "      <td>75</td>\n",
       "      <td>34.0</td>\n",
       "      <td>8.5</td>\n",
       "      <td>17.9</td>\n",
       "      <td>0.477</td>\n",
       "      <td>2.1</td>\n",
       "      <td>5.8</td>\n",
       "      <td>0.371</td>\n",
       "      <td>6.4</td>\n",
       "      <td>12.1</td>\n",
       "      <td>0.528</td>\n",
       "      <td>0.537</td>\n",
       "      <td>3.9</td>\n",
       "      <td>4.9</td>\n",
       "      <td>0.799</td>\n",
       "      <td>0.6</td>\n",
       "      <td>4.6</td>\n",
       "      <td>5.2</td>\n",
       "      <td>4.3</td>\n",
       "      <td>2.4</td>\n",
       "      <td>0.8</td>\n",
       "      <td>2.9</td>\n",
       "      <td>2.3</td>\n",
       "      <td>23.1</td>\n",
       "      <td>2018</td>\n",
       "      <td>23.1</td>\n",
       "      <td>0.577</td>\n",
       "      <td>0.323</td>\n",
       "      <td>0.274</td>\n",
       "      <td>2.1</td>\n",
       "      <td>15.1</td>\n",
       "      <td>8.6</td>\n",
       "      <td>21.2</td>\n",
       "      <td>3.5</td>\n",
       "      <td>2.0</td>\n",
       "      <td>12.7</td>\n",
       "      <td>30.1</td>\n",
       "      <td>4.3</td>\n",
       "      <td>4.0</td>\n",
       "      <td>8.2</td>\n",
       "      <td>0.155</td>\n",
       "      <td>4.1</td>\n",
       "      <td>1.7</td>\n",
       "      <td>5.8</td>\n",
       "      <td>5.0</td>\n",
       "      <td>2.0</td>\n",
       "      <td>1010.0</td>\n",
       "      <td>0.002</td>\n",
       "      <td>Indiana Pacers</td>\n",
       "      <td>48</td>\n",
       "      <td>34</td>\n",
       "      <td>0.585</td>\n",
       "      <td>2.0</td>\n",
       "      <td>105.6</td>\n",
       "      <td>104.2</td>\n",
       "      <td>1.18</td>\n",
       "    </tr>\n",
       "  </tbody>\n",
       "</table>\n",
       "</div>"
      ],
      "text/plain": [
       "                 Player Pos  Age   G  GS    MP   FG   FGA    FG%   3P  3PA  \\\n",
       "5238     Dudley Bradley  SG   22  82  31  24.7  3.4   7.4  0.452  0.0  0.1   \n",
       "6829   Micheal Williams  PG   25  79  68  34.8  5.1  10.4  0.490  0.1  0.4   \n",
       "9190  Metta World Peace  SF   22  55  50  29.9  4.9  11.6  0.423  1.0  3.1   \n",
       "9727     Victor Oladipo  SG   25  75  75  34.0  8.5  17.9  0.477  2.1  5.8   \n",
       "\n",
       "        3P%   2P   2PA    2P%   eFG%   FT  FTA    FT%  ORB  DRB  TRB  AST  \\\n",
       "5238  0.400  3.3   7.4  0.452  0.453  1.7  2.1  0.782  0.8  1.9  2.7  3.1   \n",
       "6829  0.242  5.0  10.0  0.501  0.495  4.7  5.4  0.871  0.9  2.6  3.6  8.2   \n",
       "9190  0.312  3.9   8.5  0.464  0.465  2.5  3.7  0.667  1.3  3.6  4.9  2.3   \n",
       "9727  0.371  6.4  12.1  0.528  0.537  3.9  4.9  0.799  0.6  4.6  5.2  4.3   \n",
       "\n",
       "      STL  BLK  TOV   PF   PTS  Year   PER    TS%   3PAr    FTr  ORB%  DRB%  \\\n",
       "5238  2.6  0.6  2.0  2.4   8.4  1980  13.5  0.502  0.008  0.286   3.4   8.1   \n",
       "6829  2.9  0.3  3.0  3.3  15.0  1992  18.4  0.587  0.040  0.518   3.1   8.0   \n",
       "9190  2.6  0.7  2.1  3.9  13.2  2002  15.8  0.501  0.267  0.321   5.1  13.8   \n",
       "9727  2.4  0.8  2.9  2.3  23.1  2018  23.1  0.577  0.323  0.274   2.1  15.1   \n",
       "\n",
       "      TRB%  AST%  STL%  BLK%  TOV%  USG%  OWS  DWS   WS  WS/48  OBPM  DBPM  \\\n",
       "5238   5.7  15.9   4.8   1.3  19.5  16.3  0.2  2.9  3.1  0.073  -2.0   3.0   \n",
       "6829   5.7  32.2   4.1   0.5  19.2  19.1  5.8  3.2  9.0  0.156   1.9   1.8   \n",
       "9190   9.5  14.1   4.5   1.7  14.0  23.5  0.0  2.7  2.7  0.079  -0.4   3.0   \n",
       "9727   8.6  21.2   3.5   2.0  12.7  30.1  4.3  4.0  8.2  0.155   4.1   1.7   \n",
       "\n",
       "      BPM  VORP  Pts Won  Pts Max  Share            Team   W   L   W/L%    GB  \\\n",
       "5238  1.0   1.5      0.0      0.0  0.000  Indiana Pacers  37  45  0.451  13.0   \n",
       "6829  3.7   3.9      0.0      0.0  0.000  Indiana Pacers  40  42  0.488  27.0   \n",
       "9190  2.6   1.9      0.0      0.0  0.000  Indiana Pacers  42  40  0.512   8.0   \n",
       "9727  5.8   5.0      2.0   1010.0  0.002  Indiana Pacers  48  34  0.585   2.0   \n",
       "\n",
       "       PS/G   PA/G   SRS  \n",
       "5238  111.2  111.9 -0.54  \n",
       "6829  112.2  110.3  1.85  \n",
       "9190   96.8   96.5 -0.07  \n",
       "9727  105.6  104.2  1.18  "
      ]
     },
     "execution_count": 381,
     "metadata": {},
     "output_type": "execute_result"
    }
   ],
   "source": [
    "mvp_df[(mvp_df[\"STL\"] > 2.3) & (mvp_df[\"Team\"] == \"Indiana Pacers\")]"
   ]
  },
  {
   "cell_type": "code",
   "execution_count": null,
   "id": "4ba1d0c2",
   "metadata": {},
   "outputs": [],
   "source": []
  },
  {
   "cell_type": "code",
   "execution_count": null,
   "id": "ddd03f38",
   "metadata": {},
   "outputs": [],
   "source": []
  }
 ],
 "metadata": {
  "kernelspec": {
   "display_name": "Python 3 (ipykernel)",
   "language": "python",
   "name": "python3"
  },
  "language_info": {
   "codemirror_mode": {
    "name": "ipython",
    "version": 3
   },
   "file_extension": ".py",
   "mimetype": "text/x-python",
   "name": "python",
   "nbconvert_exporter": "python",
   "pygments_lexer": "ipython3",
   "version": "3.10.9"
  }
 },
 "nbformat": 4,
 "nbformat_minor": 5
}
