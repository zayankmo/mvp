{
 "cells": [
  {
   "cell_type": "code",
   "execution_count": 1,
   "id": "ceefac8d",
   "metadata": {},
   "outputs": [],
   "source": [
    "import dill                            \n",
    "filepath = 'rf_session_7-7.pkl'\n",
    "dill.load_session(filepath) # Save the session"
   ]
  },
  {
   "cell_type": "code",
   "execution_count": 2,
   "id": "d1ac2e09",
   "metadata": {},
   "outputs": [
    {
     "data": {
      "text/plain": [
       "(62.338461538461544, 69.35384615384616, 53.02564102564103, 236.84358974358975)"
      ]
     },
     "execution_count": 2,
     "metadata": {},
     "output_type": "execute_result"
    }
   ],
   "source": [
    "avg_mse_rf, avg_mse_rf_n, avg_mse_rf_votefatigue, avg_mse"
   ]
  },
  {
   "cell_type": "code",
   "execution_count": null,
   "id": "a2c173c6",
   "metadata": {},
   "outputs": [],
   "source": []
  }
 ],
 "metadata": {
  "kernelspec": {
   "display_name": "Python 3 (ipykernel)",
   "language": "python",
   "name": "python3"
  },
  "language_info": {
   "codemirror_mode": {
    "name": "ipython",
    "version": 3
   },
   "file_extension": ".py",
   "mimetype": "text/x-python",
   "name": "python",
   "nbconvert_exporter": "python",
   "pygments_lexer": "ipython3",
   "version": "3.10.9"
  }
 },
 "nbformat": 4,
 "nbformat_minor": 5
}
